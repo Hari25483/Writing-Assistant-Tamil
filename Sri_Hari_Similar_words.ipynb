{
  "cells": [
    {
      "cell_type": "markdown",
      "metadata": {
        "id": "view-in-github",
        "colab_type": "text"
      },
      "source": [
        "<a href=\"https://colab.research.google.com/github/Hari25483/Writing-Assistant-Tamil/blob/main/Sri_Hari_Similar_words.ipynb\" target=\"_parent\"><img src=\"https://colab.research.google.com/assets/colab-badge.svg\" alt=\"Open In Colab\"/></a>"
      ]
    },
    {
      "cell_type": "markdown",
      "source": [
        "### Approach 1\n"
      ],
      "metadata": {
        "id": "5cb17R6csfjg"
      }
    },
    {
      "cell_type": "code",
      "execution_count": null,
      "metadata": {
        "colab": {
          "base_uri": "https://localhost:8080/"
        },
        "id": "7VYDnApPXsYz",
        "outputId": "334c1b34-2920-44c4-8608-3056955c056e"
      },
      "outputs": [
        {
          "output_type": "stream",
          "name": "stderr",
          "text": [
            "[nltk_data] Downloading package punkt to /root/nltk_data...\n",
            "[nltk_data]   Unzipping tokenizers/punkt.zip.\n"
          ]
        }
      ],
      "source": [
        "import bs4 as bs\n",
        "import urllib.request\n",
        "import re\n",
        "import nltk\n",
        "nltk.download('punkt')\n",
        "from nltk import word_tokenize"
      ]
    },
    {
      "cell_type": "code",
      "execution_count": null,
      "metadata": {
        "id": "Q51Lp_5cX65S"
      },
      "outputs": [],
      "source": [
        "scrapped_data = urllib.request.urlopen('https://ta.wikipedia.org/wiki/%E0%AE%9A%E0%AE%BF%E0%AE%99%E0%AF%8D%E0%AE%95%E0%AE%AA%E0%AF%8D%E0%AE%AA%E0%AF%82%E0%AE%B0%E0%AF%8D')\n",
        "article = scrapped_data .read()\n",
        "\n",
        "parsed_article = bs.BeautifulSoup(article,'lxml')\n",
        "\n",
        "paragraphs = parsed_article.find_all('p')\n",
        "\n",
        "# article_text = \"\"\n",
        "\n",
        "for p in paragraphs:\n",
        "    article_text += p.text"
      ]
    },
    {
      "cell_type": "code",
      "execution_count": null,
      "metadata": {
        "id": "jS3LerysTcnk"
      },
      "outputs": [],
      "source": [
        "with open('quotes.txt', 'w', encoding='utf-8') as f:\n",
        "    f.write(article_text)"
      ]
    },
    {
      "cell_type": "code",
      "execution_count": null,
      "metadata": {
        "colab": {
          "base_uri": "https://localhost:8080/",
          "height": 240
        },
        "id": "WsYnbpIGwRu5",
        "outputId": "33d6ad72-ebc4-4573-bba5-803d62c35fd1"
      },
      "outputs": [
        {
          "output_type": "error",
          "ename": "FileNotFoundError",
          "evalue": "ignored",
          "traceback": [
            "\u001b[0;31m---------------------------------------------------------------------------\u001b[0m",
            "\u001b[0;31mFileNotFoundError\u001b[0m                         Traceback (most recent call last)",
            "\u001b[0;32m<ipython-input-4-2774750d98f4>\u001b[0m in \u001b[0;36m<module>\u001b[0;34m\u001b[0m\n\u001b[1;32m      1\u001b[0m \u001b[0mword\u001b[0m\u001b[0;34m=\u001b[0m \u001b[0;34m[\u001b[0m\u001b[0;34m]\u001b[0m\u001b[0;34m\u001b[0m\u001b[0;34m\u001b[0m\u001b[0m\n\u001b[0;32m----> 2\u001b[0;31m \u001b[0;32mwith\u001b[0m \u001b[0mopen\u001b[0m\u001b[0;34m(\u001b[0m\u001b[0;34m'/content/ponniayan.txt'\u001b[0m\u001b[0;34m,\u001b[0m \u001b[0;34m'r'\u001b[0m\u001b[0;34m,\u001b[0m\u001b[0mencoding\u001b[0m\u001b[0;34m=\u001b[0m\u001b[0;34m\"utf8\"\u001b[0m\u001b[0;34m)\u001b[0m \u001b[0;32mas\u001b[0m \u001b[0mf\u001b[0m\u001b[0;34m:\u001b[0m\u001b[0;34m\u001b[0m\u001b[0;34m\u001b[0m\u001b[0m\n\u001b[0m\u001b[1;32m      3\u001b[0m     \u001b[0mfile_name_data1\u001b[0m \u001b[0;34m=\u001b[0m \u001b[0mf\u001b[0m\u001b[0;34m.\u001b[0m\u001b[0mread\u001b[0m\u001b[0;34m(\u001b[0m\u001b[0;34m)\u001b[0m\u001b[0;34m\u001b[0m\u001b[0;34m\u001b[0m\u001b[0m\n\u001b[1;32m      4\u001b[0m     \u001b[0;31m# file_name_data=file_name_data.lower()\u001b[0m\u001b[0;34m\u001b[0m\u001b[0;34m\u001b[0m\u001b[0;34m\u001b[0m\u001b[0m\n\u001b[1;32m      5\u001b[0m \u001b[0;32mimport\u001b[0m \u001b[0mre\u001b[0m\u001b[0;34m\u001b[0m\u001b[0;34m\u001b[0m\u001b[0m\n",
            "\u001b[0;31mFileNotFoundError\u001b[0m: [Errno 2] No such file or directory: '/content/ponniayan.txt'"
          ]
        }
      ],
      "source": [
        "word= []\n",
        "with open('/content/ponniayan.txt', 'r',encoding=\"utf8\") as f:\n",
        "    file_name_data1 = f.read()\n",
        "    # file_name_data=file_name_data.lower()\n",
        "import re\n",
        "# print(file_name_data1)\n",
        "# file_name_data = re.sub(r'[^\\w\\s]', '', file_name_data1)\n",
        "\n",
        "file_name_data1 =file_name_data1.replace('\\n', '').replace('\\r', '').replace('\\ufeff', '').replace('“','').replace('”','').replace('.','').replace(',','').replace('[','').replace(']','')  #new line, carriage return, unicode character --> replace by space\n",
        "\n",
        "\n",
        "word=word_tokenize(file_name_data1)\n",
        "\n",
        "file = open(\"/content/stopwords_tamil\", \"r\", encoding = \"utf8\")\n",
        "tamil_stopwords=[]\n",
        "for line in file:\n",
        "  line=line.replace('\\n', '')\n",
        "  tamil_stopwords.append(line)\n",
        "\n",
        "print(len(word))\n",
        "for element in tamil_stopwords:\n",
        "    if element in word:\n",
        "          # print(element)\n",
        "          word.remove(element)\n",
        "\n",
        "print(len(word))\n",
        "\n",
        "# stop_words = set(stopwords.words('english'))\n",
        "\n",
        "# filtered_sentence = [w for w in word if not w.lower() in stop_words]\n",
        "  \n",
        "filtered_sentence = []\n",
        "  \n",
        "for w in word:\n",
        "    if w not in tamil_stopwords:\n",
        "        filtered_sentence.append(w)\n",
        "  \n",
        "print(word)\n",
        "print(len(filtered_sentence))"
      ]
    },
    {
      "cell_type": "code",
      "source": [
        "with open('/content/ponniayan.txt', 'r',encoding=\"utf8\") as f:\n",
        "    file_name_data1 = f.read()\n",
        "    # file_name_data=file_name_data.lo"
      ],
      "metadata": {
        "id": "Af9b7bSAruHG"
      },
      "execution_count": null,
      "outputs": []
    },
    {
      "cell_type": "code",
      "source": [
        "print(file_name_data1)"
      ],
      "metadata": {
        "colab": {
          "base_uri": "https://localhost:8080/"
        },
        "id": "zgHLtRgv--KA",
        "outputId": "9d0f2067-1459-4613-d052-461743eb4ad0"
      },
      "execution_count": null,
      "outputs": [
        {
          "output_type": "stream",
          "name": "stderr",
          "text": [
            "IOPub data rate exceeded.\n",
            "The notebook server will temporarily stop sending output\n",
            "to the client in order to avoid crashing it.\n",
            "To change this limit, set the config variable\n",
            "`--NotebookApp.iopub_data_rate_limit`.\n",
            "\n",
            "Current values:\n",
            "NotebookApp.iopub_data_rate_limit=1000000.0 (bytes/sec)\n",
            "NotebookApp.rate_limit_window=3.0 (secs)\n",
            "\n"
          ]
        }
      ]
    },
    {
      "cell_type": "code",
      "execution_count": null,
      "metadata": {
        "id": "bCyr_-eeYEWx"
      },
      "outputs": [],
      "source": [
        "try:\n",
        "    import string\n",
        "    from nltk.corpus import stopwords\n",
        "    import nltk\n",
        "except Exception as e:\n",
        "    print(e)\n",
        "\n",
        "\n",
        "class PreProcessText(object):\n",
        "\n",
        "    def __init__(self):\n",
        "        pass\n",
        "\n",
        "    def __remove_punctuation(self, text):\n",
        "        \"\"\"\n",
        "        Takes a String\n",
        "        return : Return a String\n",
        "        \"\"\"\n",
        "        message = []\n",
        "        for x in text:\n",
        "            if x in string.punctuation:\n",
        "                pass\n",
        "            else:\n",
        "                message.append(x)\n",
        "        message = ''.join(message)\n",
        "\n",
        "        return message\n",
        "\n",
        "    def __remove_stopwords(self, text):\n",
        "        \"\"\"\n",
        "        Takes a String\n",
        "        return List\n",
        "        \"\"\"\n",
        "        words= []\n",
        "        for x in text.split():\n",
        "\n",
        "            if x.lower() in stopwords.words('english'):\n",
        "                pass\n",
        "            else:\n",
        "                words.append(x)\n",
        "        return words\n",
        "\n",
        "\n",
        "    def token_words(self,text=''):\n",
        "        \"\"\"\n",
        "        Takes String\n",
        "        Return Token also called  list of words that is used to\n",
        "        Train the Model\n",
        "        \"\"\"\n",
        "        message = self.__remove_punctuation(text)\n",
        "        words = self.__remove_stopwords(message)\n",
        "        return words"
      ]
    },
    {
      "cell_type": "code",
      "execution_count": null,
      "metadata": {
        "colab": {
          "base_uri": "https://localhost:8080/"
        },
        "id": "DgCavRX4YEZ2",
        "outputId": "f15a91c8-5ac6-4bef-f8e7-14b38a0e590e"
      },
      "outputs": [
        {
          "output_type": "stream",
          "name": "stderr",
          "text": [
            "[nltk_data] Downloading package stopwords to /root/nltk_data...\n",
            "[nltk_data]   Unzipping corpora/stopwords.zip.\n"
          ]
        },
        {
          "output_type": "stream",
          "name": "stdout",
          "text": [
            "Downloaded Stop words ...... \n"
          ]
        }
      ],
      "source": [
        "import nltk\n",
        "flag = nltk.download(\"stopwords\")\n",
        "\n",
        "if (flag == \"False\" or flag == False):\n",
        "    print(\"Failed to Download Stop Words\")\n",
        "else:\n",
        "    print(\"Downloaded Stop words ...... \")\n",
        "    helper = PreProcessText()\n",
        "    #words = helper.token_words(text=txt)\n",
        "    words = helper.token_words(text=file_name_data1)\n",
        "    "
      ]
    },
    {
      "cell_type": "code",
      "execution_count": null,
      "metadata": {
        "colab": {
          "base_uri": "https://localhost:8080/"
        },
        "id": "-cRY7P2iZXUp",
        "outputId": "83b1b832-2e03-4131-dc3d-2cb3f7b8d415"
      },
      "outputs": [
        {
          "output_type": "execute_result",
          "data": {
            "text/plain": [
              "406785"
            ]
          },
          "metadata": {},
          "execution_count": 12
        }
      ],
      "source": [
        "len(words)"
      ]
    },
    {
      "cell_type": "code",
      "execution_count": null,
      "metadata": {
        "id": "yOCConvQYJyr"
      },
      "outputs": [],
      "source": [
        "from gensim.models import Word2Vec"
      ]
    },
    {
      "cell_type": "code",
      "execution_count": null,
      "metadata": {
        "colab": {
          "base_uri": "https://localhost:8080/"
        },
        "id": "bD_VcywgYL1q",
        "outputId": "d9189970-6b2e-47de-d323-26b1b6112128"
      },
      "outputs": [
        {
          "output_type": "stream",
          "name": "stderr",
          "text": [
            "WARNING:gensim.models.base_any2vec:under 10 jobs per worker: consider setting a smaller `batch_words' for smoother alpha decay\n"
          ]
        }
      ],
      "source": [
        "#model = Word2Vec([words], min_count=1)\n",
        "model = Word2Vec([words], size=100, window=5, min_count=1, workers=4)"
      ]
    },
    {
      "cell_type": "code",
      "execution_count": null,
      "metadata": {
        "id": "ms49UtKGhNqY"
      },
      "outputs": [],
      "source": []
    },
    {
      "cell_type": "markdown",
      "metadata": {
        "id": "-r4tL48ghNwz"
      },
      "source": []
    },
    {
      "cell_type": "code",
      "execution_count": null,
      "metadata": {
        "colab": {
          "base_uri": "https://localhost:8080/"
        },
        "id": "_trc3oeuYOTN",
        "outputId": "8d0662c0-7a55-47c0-e80b-abf1942fa578"
      },
      "outputs": [
        {
          "output_type": "execute_result",
          "data": {
            "text/plain": [
              "[('பதவியைத்', 0.44175291061401367),\n",
              " ('கொண்டதைச்', 0.4399120807647705),\n",
              " ('இறுக்கு', 0.3880229592323303),\n",
              " ('அம்பை', 0.383890837430954),\n",
              " ('கண்ணாடியிலும்', 0.378947913646698),\n",
              " ('விடுமே…', 0.37726205587387085),\n",
              " ('படையார்', 0.37282508611679077),\n",
              " ('வருவதற்காகவே', 0.36514392495155334),\n",
              " ('கொண்டேயிருக்கையில்', 0.36248260736465454),\n",
              " ('தெய்வமெனப்', 0.35419225692749023)]"
            ]
          },
          "metadata": {},
          "execution_count": 20
        }
      ],
      "source": [
        "vocabulary = model.wv.vocab\n",
        "sim_words = model.wv.most_similar('ஏரிக்கரை')\n",
        "sim_words"
      ]
    },
    {
      "cell_type": "code",
      "execution_count": null,
      "metadata": {
        "colab": {
          "base_uri": "https://localhost:8080/"
        },
        "id": "Q5nFbQrKYXcH",
        "outputId": "6ba64032-8c00-44e3-ab69-3b52679d2f61"
      },
      "outputs": [
        {
          "name": "stderr",
          "output_type": "stream",
          "text": [
            "/usr/local/lib/python3.7/dist-packages/ipykernel_launcher.py:1: DeprecationWarning: Call to deprecated `__getitem__` (Method will be removed in 4.0.0, use self.wv.__getitem__() instead).\n",
            "  \"\"\"Entry point for launching an IPython kernel.\n"
          ]
        }
      ],
      "source": []
    },
    {
      "cell_type": "code",
      "execution_count": null,
      "metadata": {
        "colab": {
          "base_uri": "https://localhost:8080/"
        },
        "id": "czQxShbZi3Xx",
        "outputId": "9a6f9b59-661b-4438-f607-266d30017aa3"
      },
      "outputs": [
        {
          "name": "stdout",
          "output_type": "stream",
          "text": [
            "கணினி\n"
          ]
        }
      ],
      "source": [
        "# - *- coding: utf- 8 - *-\n",
        "from textblob import TextBlob\n",
        "word10=TextBlob(\"computer\")\n",
        "z= word10.translate (from_lang='en', to ='ta')\n",
        "print(z)"
      ]
    },
    {
      "cell_type": "code",
      "execution_count": null,
      "metadata": {
        "colab": {
          "base_uri": "https://localhost:8080/"
        },
        "id": "bNhNJwJSahFA",
        "outputId": "2aace08c-82d3-4ff5-b4be-743eb6822483"
      },
      "outputs": [
        {
          "name": "stderr",
          "output_type": "stream",
          "text": [
            "[nltk_data] Downloading package wordnet to /root/nltk_data...\n",
            "[nltk_data]   Package wordnet is already up-to-date!\n",
            "[nltk_data] Downloading package omw-1.4 to /root/nltk_data...\n"
          ]
        },
        {
          "name": "stdout",
          "output_type": "stream",
          "text": [
            "Failure\n",
            "தோல்வியுற்ற நபர்\n",
            "தோல்வி\n",
            "திவால்நிலை\n",
            "தோல்வியுற்றவர்\n"
          ]
        }
      ],
      "source": [
        "import nltk\n",
        "nltk.download('wordnet')\n",
        "# !pip install translate\n",
        "from translate import Translator\n",
        "nltk.download('omw-1.4')\n",
        "from nltk.corpus import wordnet\n",
        "syn=wordnet.synsets('Computer')\n",
        "# print(syn[0].definition())\n",
        "\n",
        "word=\"தோல்வி\"\n",
        "word10=TextBlob(word)\n",
        "english_word= word10.translate (from_lang='ta', to ='en')\n",
        "print(english_word)\n",
        "\n",
        "lst=[]\n",
        "for syn in wordnet.synsets(english_word):\n",
        "  for lemma in syn.lemmas():\n",
        "    # print(lemma.name())\n",
        "    result = lemma.name().replace(\"_\", \" \")\n",
        "    result1 = result.replace(\"-\", \" \")\n",
        "    lst.append(result1)\n",
        "# print(lst)\n",
        "\n",
        "lst_translation=[]\n",
        "for i in lst:\n",
        "    try:\n",
        "      word10=TextBlob(i)\n",
        "      z= word10.translate (from_lang='en', to ='ta')\n",
        "    except:\n",
        "      continue\n",
        "    # print(i+ \" -\"+str(z))\n",
        "    lst_translation.append(z)\n",
        "res = [*set(lst_translation)]\n",
        "for i in res:\n",
        "  print(str(i))\n",
        "    \n",
        "    # if \"_\" in i:\n",
        "    #   continue\n",
        "    # else:\n",
        "    #   try:\n",
        "    #     translator= Translator(to_lang=\"Tamil\")\n",
        "    #     translation = translator.translate(i)\n",
        "    #     print(translation)\n",
        "    #   except:\n",
        "    #     continue"
      ]
    },
    {
      "cell_type": "code",
      "execution_count": null,
      "metadata": {
        "colab": {
          "base_uri": "https://localhost:8080/"
        },
        "id": "orbnhuWJyK1I",
        "outputId": "3ac36db4-243d-4011-8122-cfa6f6a9463f"
      },
      "outputs": [
        {
          "output_type": "stream",
          "name": "stderr",
          "text": [
            "[nltk_data] Downloading package punkt to /root/nltk_data...\n",
            "[nltk_data]   Package punkt is already up-to-date!\n",
            "[nltk_data] Downloading package stopwords to /root/nltk_data...\n",
            "[nltk_data]   Package stopwords is already up-to-date!\n"
          ]
        },
        {
          "output_type": "stream",
          "name": "stdout",
          "text": [
            "Input: இந்தியாவின் \n",
            "\n",
            "\n",
            "Similar sentences: \n"
          ]
        }
      ],
      "source": [
        "# # !git clone https://github.com/facebookresearch/fastText.git\n",
        "# # !cd fastText\n",
        "# # !pip install fastText\n",
        "# # import fasttext.util\n",
        "# fasttext.util.download_model('ta', if_exists='ignore')  # English\n",
        "# model = fasttext.load_model('cc.en.300.bin')\n",
        "\n",
        "import nltk'\n",
        "nltk.download('punkt')\n",
        "# from pyfasttext import FastText\n",
        "# model = FastText('model.bin')\n",
        "# model.nearest_neighbors('dog', k=2000)\n",
        "\n",
        "\n",
        "from nltk.stem import PorterStemmer\n",
        "from nltk.tokenize import word_tokenize, sent_tokenize\n",
        "import nltk\n",
        "from nltk.corpus import stopwords\n",
        "\n",
        "\n",
        "nltk.download('stopwords')\n",
        "ps = PorterStemmer()\n",
        "f = open('/content/quotes.txt')\n",
        "a = sent_tokenize(f.read())\n",
        "\n",
        "# removal of stopwords\n",
        "stop_words = list(stopwords.words('english'))\n",
        "\n",
        "# removal of punctuation signs\n",
        "punc = '''!()-[]{};:'\"\\, <>./?@#$%^&*_~'''\n",
        "s = [(word_tokenize(a[i])) for i in range(len(a))]\n",
        "outer_1 = []\n",
        "\n",
        "for i in range(len(s)):\n",
        "\tinner_1 = []\n",
        "\t\n",
        "\tfor j in range(len(s[i])):\n",
        "\t\t\n",
        "\t\tif s[i][j] not in (punc or stop_words):\n",
        "\t\t\ts[i][j] = ps.stem(s[i][j])\n",
        "\t\t\t\n",
        "\t\t\tif s[i][j] not in stop_words:\n",
        "\t\t\t\tinner_1.append(s[i][j].lower())\n",
        "\t\n",
        "\touter_1.append(set(inner_1))\n",
        "rvector = outer_1[0]\n",
        "\n",
        "for i in range(1, len(s)):\n",
        "\trvector = rvector.union(outer_1[i])\n",
        "outer = []\n",
        "\n",
        "for i in range(len(outer_1)):\n",
        "\tinner = []\n",
        "\t\n",
        "\tfor w in rvector:\n",
        "\t\t\n",
        "\t\tif w in outer_1[i]:\n",
        "\t\t\tinner.append(1)\n",
        "\t\t\n",
        "\t\telse:\n",
        "\t\t\tinner.append(0)\n",
        "\touter.append(inner)\n",
        "comparison = input(\"Input: \")\n",
        "\n",
        "\n",
        "check = (word_tokenize(comparison))\n",
        "check = [ps.stem(check[i]).lower() for i in range(len(check))]\n",
        "\n",
        "\n",
        "check1 = []\n",
        "for w in rvector:\n",
        "\tif w in check:\n",
        "\t\tcheck1.append(1) # create a vector\n",
        "\telse:\n",
        "\t\tcheck1.append(0)\n",
        "\n",
        "ds = []\n",
        "\n",
        "for j in range(len(outer)):\n",
        "\tsimilarity_index = 0\n",
        "\tc = 0\n",
        "\t\n",
        "\tif check1 == outer[j]:\n",
        "\t\tds.append(0)\n",
        "\telse:\n",
        "\t\tfor i in range(len(rvector)):\n",
        "\n",
        "\t\t\tc += check1[i]*outer[j][i]\n",
        "\n",
        "\t\tsimilarity_index += c\n",
        "\t\tds.append(similarity_index)\n",
        "\n",
        "\n",
        "ds\n",
        "maximum = max(ds)\n",
        "print()\n",
        "print()\n",
        "print(\"Similar sentences: \")\n",
        "for i in range(len(ds)):\n",
        "  if ds[i] == maximum:\n",
        "    print(a[i])\n",
        "  break\n"
      ]
    },
    {
      "cell_type": "code",
      "execution_count": null,
      "metadata": {
        "colab": {
          "base_uri": "https://localhost:8080/"
        },
        "id": "v5KblUULRcBt",
        "outputId": "069349b1-13af-48b2-f334-17660f36dd04"
      },
      "outputs": [
        {
          "name": "stdout",
          "output_type": "stream",
          "text": [
            "1.0\n"
          ]
        },
        {
          "name": "stderr",
          "output_type": "stream",
          "text": [
            "[nltk_data] Downloading package wordnet to /root/nltk_data...\n",
            "[nltk_data]   Package wordnet is already up-to-date!\n",
            "[nltk_data] Downloading package omw-1.4 to /root/nltk_data...\n",
            "[nltk_data]   Package omw-1.4 is already up-to-date!\n"
          ]
        }
      ],
      "source": [
        "import nltk\n",
        "nltk.download('wordnet')\n",
        "nltk.download('omw-1.4')\n",
        "from nltk.corpus import wordnet as wn\n",
        "from itertools import product\n",
        "\n",
        "wordx, wordy = \"cat\",\"dog\"\n",
        "sem1, sem2 = wn.synsets(wordx), wn.synsets(wordy)\n",
        "\n",
        "maxscore = 0\n",
        "for i,j in list(product(*[sem1,sem2])):\n",
        "  score = i.wup_similarity(j) # Wu-Palmer Similarity\n",
        "  maxscore = score if maxscore < score else maxscore\n",
        "print(score)"
      ]
    },
    {
      "cell_type": "code",
      "execution_count": null,
      "metadata": {
        "colab": {
          "base_uri": "https://localhost:8080/"
        },
        "id": "x4CUSIdCTfB2",
        "outputId": "77a37bed-84dd-4014-efdf-8509a764bd22"
      },
      "outputs": [
        {
          "name": "stdout",
          "output_type": "stream",
          "text": [
            "22.22222222222222\n"
          ]
        }
      ],
      "source": [
        "import difflib\n",
        "\n",
        "a = 'ராஜா'\n",
        "b = 'அரசன்'\n",
        "\n",
        "seq = difflib.SequenceMatcher(None,a,b)\n",
        "d = seq.ratio()*100\n",
        "print(d) \n",
        "### OUTPUT: 87.323943"
      ]
    },
    {
      "cell_type": "markdown",
      "metadata": {
        "id": "djMzWuVsFOKj"
      },
      "source": [
        "\n",
        "### Approach 3"
      ]
    },
    {
      "cell_type": "code",
      "execution_count": null,
      "metadata": {
        "id": "Q5RHYZcTFJL0"
      },
      "outputs": [],
      "source": [
        "!pip3 install sent2vec\n"
      ]
    },
    {
      "cell_type": "code",
      "execution_count": null,
      "metadata": {
        "colab": {
          "base_uri": "https://localhost:8080/",
          "height": 340,
          "referenced_widgets": [
            "431ed821ac5e480ba6e7bd9b80291d14",
            "36dec568def744c385b30a01fdfb4764",
            "62f38540a60d4af19c0750580f9eb9cc",
            "08462c9b9e8d4f6d95872d3f824d9c15",
            "130403e0340944ec978b6006f62ab4dd",
            "1a20507af3ba451f88cddaa74805d7c6",
            "9345c7cb06ff4f83a0090cbc5c332751",
            "5198d6f17bd5460aa63758b222ebf8cc",
            "8ae9c30d37df4a3b86860aac621e0086",
            "5f23471e7d4444a7bdfe55d02e746db5",
            "cff8b5a2ab5d4022ad1b7c11552cb0fe",
            "0fc4042b802a43fd96748a6e8d729293",
            "c34196fc88a54c4bb46c9434c0c5afd1",
            "6eefc53749d14a19899b7d81002ad849",
            "b812b7a8becf45bca66c6d673cb5f64c",
            "0792edaa4a08494794e6a862faf7af9d",
            "1e834040cd3c461fb2ebb570aa53031d",
            "fd71ddbc1b65471292ae85505714fb7a",
            "f57bcf528b404b75bbebe4c5711b026b",
            "6f7bfa77ed294cd38297ed65ef731343",
            "e3fcaf92f20443e2812494408fdcacb8",
            "b06ddb1d7d81461989b3284c081a9ef4",
            "487078fedc4f4058bf1ded48cf2a91ed",
            "ce18b53ea34a425d8710e66a5052bbe5",
            "a3510f834b2c4cbf9c3320f77c651e49",
            "92dbe833bf0a45ad9a65b2ef22e070b0",
            "8d2c1ecaaf644004bc86034ce47ad87f",
            "e5e624bda2a747259dd9e6f4b7c04fec",
            "6a0dba7539e74289a8d41e1e1b50d56d",
            "e0aadd6d553146199ff9f224f39347c4",
            "7291fa0ab4d442ddb7b78fc909fdecac",
            "e8bc88cf61c4445daf7cb1b7cdd70832",
            "b26f587928734f54b21fff39cbc68d41",
            "6e02052c7d0243a7919686072877e45f",
            "2c4ada6cc8c843d18c284690a4774763",
            "e822a57ff1d4484c950bae3f5301dd5f",
            "99d32e8ba3624820a6603986256db204",
            "cf2330c6eca84a69ada37d38d7d3b746",
            "d0f87cdf03624f509dbe9b988d7668fb",
            "78368e00646c4bc4ac95353472503916",
            "470c4e5af6cd452386cc1e10a7559d6c",
            "47f608990d424c719e24d5d0c20fcc08",
            "fd8c7fe5a1404959b50fb8e1b4f8da44",
            "1c6094cb84f145b3a243af6fc41c3189",
            "bd85a45b166f47ddb44e7968a4b72bb8",
            "55dcb885f1394ef890ede5d5b28725dc",
            "60be815b649f4626b740200596536a4b",
            "fa53b4dee70b45668133bfce2262e3dd",
            "86d5fa81c5d749adb8f47a41673a68d0",
            "c58a6cf0c6454c07b26eb050623958b3",
            "0d9f9d9a3aa740fd92c50298be529022",
            "bf90197b47f24c328dcff7f086ebe288",
            "64a39d0762ab41ceb842cd7dd69e2165",
            "31a5715ff5e84c479b58c11f6b6ecd06",
            "d3c6323627874a619ec8f92e9590a55d"
          ]
        },
        "id": "v60gGLDkFNST",
        "outputId": "fb9a32c4-f68f-403d-aa67-6532fec9eee5"
      },
      "outputs": [
        {
          "output_type": "stream",
          "name": "stderr",
          "text": [
            "The cache for model files in Transformers v4.22.0 has been updated. Migrating your old cache. This is a one-time only operation. You can interrupt this and resume the migration later on by calling `transformers.utils.move_cache()`.\n"
          ]
        },
        {
          "output_type": "stream",
          "name": "stdout",
          "text": [
            "Moving 0 files to the new cache system\n"
          ]
        },
        {
          "output_type": "display_data",
          "data": {
            "text/plain": [
              "0it [00:00, ?it/s]"
            ],
            "application/vnd.jupyter.widget-view+json": {
              "version_major": 2,
              "version_minor": 0,
              "model_id": "431ed821ac5e480ba6e7bd9b80291d14"
            }
          },
          "metadata": {}
        },
        {
          "output_type": "stream",
          "name": "stdout",
          "text": [
            "Initializing Bert distilbert-base-uncased\n",
            "Vectorization done on cuda\n"
          ]
        },
        {
          "output_type": "display_data",
          "data": {
            "text/plain": [
              "Downloading:   0%|          | 0.00/232k [00:00<?, ?B/s]"
            ],
            "application/vnd.jupyter.widget-view+json": {
              "version_major": 2,
              "version_minor": 0,
              "model_id": "0fc4042b802a43fd96748a6e8d729293"
            }
          },
          "metadata": {}
        },
        {
          "output_type": "display_data",
          "data": {
            "text/plain": [
              "Downloading:   0%|          | 0.00/28.0 [00:00<?, ?B/s]"
            ],
            "application/vnd.jupyter.widget-view+json": {
              "version_major": 2,
              "version_minor": 0,
              "model_id": "487078fedc4f4058bf1ded48cf2a91ed"
            }
          },
          "metadata": {}
        },
        {
          "output_type": "display_data",
          "data": {
            "text/plain": [
              "Downloading:   0%|          | 0.00/483 [00:00<?, ?B/s]"
            ],
            "application/vnd.jupyter.widget-view+json": {
              "version_major": 2,
              "version_minor": 0,
              "model_id": "6e02052c7d0243a7919686072877e45f"
            }
          },
          "metadata": {}
        },
        {
          "output_type": "display_data",
          "data": {
            "text/plain": [
              "Downloading:   0%|          | 0.00/268M [00:00<?, ?B/s]"
            ],
            "application/vnd.jupyter.widget-view+json": {
              "version_major": 2,
              "version_minor": 0,
              "model_id": "bd85a45b166f47ddb44e7968a4b72bb8"
            }
          },
          "metadata": {}
        },
        {
          "output_type": "stream",
          "name": "stderr",
          "text": [
            "Some weights of the model checkpoint at distilbert-base-uncased were not used when initializing DistilBertModel: ['vocab_layer_norm.bias', 'vocab_transform.bias', 'vocab_projector.weight', 'vocab_transform.weight', 'vocab_projector.bias', 'vocab_layer_norm.weight']\n",
            "- This IS expected if you are initializing DistilBertModel from the checkpoint of a model trained on another task or with another architecture (e.g. initializing a BertForSequenceClassification model from a BertForPreTraining model).\n",
            "- This IS NOT expected if you are initializing DistilBertModel from the checkpoint of a model that you expect to be exactly identical (initializing a BertForSequenceClassification model from a BertForSequenceClassification model).\n"
          ]
        },
        {
          "output_type": "stream",
          "name": "stdout",
          "text": [
            "dist_1: 0, dist_2: 0.28436970710754395\n"
          ]
        }
      ],
      "source": [
        "from scipy import spatial\n",
        "from sent2vec.vectorizer import Vectorizer\n",
        "\n",
        "\n",
        "sentences = [\n",
        "    \"ராஜா\",\n",
        "    \"அரசன்\",\n",
        "    \"We can interchangeably use embedding, encoding, or vectorizing.\",\n",
        "]\n",
        "\n",
        "vectorizer = Vectorizer()\n",
        "vectorizer.run(sentences)\n",
        "vectors_bert = vectorizer.vectors\n",
        "\n",
        "dist_1 = spatial.distance.cosine(vectors_bert[0], vectors_bert[1])\n",
        "dist_2 = spatial.distance.cosine(vectors_bert[0], vectors_bert[2])\n",
        "print('dist_1: {0}, dist_2: {1}'.format(dist_1, dist_2))\n",
        "# dist_1: 0.043, dist_2: 0.192"
      ]
    },
    {
      "cell_type": "code",
      "execution_count": null,
      "metadata": {
        "colab": {
          "base_uri": "https://localhost:8080/"
        },
        "id": "T2qEk-t6F4Ya",
        "outputId": "0cfc721d-aa62-41ce-91c4-1c442d9cb742"
      },
      "outputs": [
        {
          "output_type": "stream",
          "name": "stderr",
          "text": [
            "[nltk_data] Downloading package punkt to /root/nltk_data...\n",
            "[nltk_data]   Unzipping tokenizers/punkt.zip.\n"
          ]
        },
        {
          "output_type": "stream",
          "name": "stdout",
          "text": [
            "Looking in indexes: https://pypi.org/simple, https://us-python.pkg.dev/colab-wheels/public/simple/\n",
            "Collecting indic-nlp-library\n",
            "  Downloading indic_nlp_library-0.81-py3-none-any.whl (40 kB)\n",
            "\u001b[K     |████████████████████████████████| 40 kB 4.1 MB/s \n",
            "\u001b[?25hRequirement already satisfied: pandas in /usr/local/lib/python3.7/dist-packages (from indic-nlp-library) (1.3.5)\n",
            "Collecting sphinx-argparse\n",
            "  Downloading sphinx_argparse-0.3.1-py2.py3-none-any.whl (12 kB)\n",
            "Collecting morfessor\n",
            "  Downloading Morfessor-2.0.6-py3-none-any.whl (35 kB)\n",
            "Collecting sphinx-rtd-theme\n",
            "  Downloading sphinx_rtd_theme-1.0.0-py2.py3-none-any.whl (2.8 MB)\n",
            "\u001b[K     |████████████████████████████████| 2.8 MB 15.8 MB/s \n",
            "\u001b[?25hRequirement already satisfied: numpy in /usr/local/lib/python3.7/dist-packages (from indic-nlp-library) (1.21.6)\n",
            "Requirement already satisfied: python-dateutil>=2.7.3 in /usr/local/lib/python3.7/dist-packages (from pandas->indic-nlp-library) (2.8.2)\n",
            "Requirement already satisfied: pytz>=2017.3 in /usr/local/lib/python3.7/dist-packages (from pandas->indic-nlp-library) (2022.2.1)\n",
            "Requirement already satisfied: six>=1.5 in /usr/local/lib/python3.7/dist-packages (from python-dateutil>=2.7.3->pandas->indic-nlp-library) (1.15.0)\n",
            "Requirement already satisfied: sphinx>=1.2.0 in /usr/local/lib/python3.7/dist-packages (from sphinx-argparse->indic-nlp-library) (1.8.6)\n",
            "Requirement already satisfied: Pygments>=2.0 in /usr/local/lib/python3.7/dist-packages (from sphinx>=1.2.0->sphinx-argparse->indic-nlp-library) (2.6.1)\n",
            "Requirement already satisfied: babel!=2.0,>=1.3 in /usr/local/lib/python3.7/dist-packages (from sphinx>=1.2.0->sphinx-argparse->indic-nlp-library) (2.10.3)\n",
            "Requirement already satisfied: alabaster<0.8,>=0.7 in /usr/local/lib/python3.7/dist-packages (from sphinx>=1.2.0->sphinx-argparse->indic-nlp-library) (0.7.12)\n",
            "Requirement already satisfied: packaging in /usr/local/lib/python3.7/dist-packages (from sphinx>=1.2.0->sphinx-argparse->indic-nlp-library) (21.3)\n",
            "Requirement already satisfied: docutils<0.18,>=0.11 in /usr/local/lib/python3.7/dist-packages (from sphinx>=1.2.0->sphinx-argparse->indic-nlp-library) (0.17.1)\n",
            "Requirement already satisfied: Jinja2>=2.3 in /usr/local/lib/python3.7/dist-packages (from sphinx>=1.2.0->sphinx-argparse->indic-nlp-library) (2.11.3)\n",
            "Requirement already satisfied: setuptools in /usr/local/lib/python3.7/dist-packages (from sphinx>=1.2.0->sphinx-argparse->indic-nlp-library) (57.4.0)\n",
            "Requirement already satisfied: snowballstemmer>=1.1 in /usr/local/lib/python3.7/dist-packages (from sphinx>=1.2.0->sphinx-argparse->indic-nlp-library) (2.2.0)\n",
            "Requirement already satisfied: imagesize in /usr/local/lib/python3.7/dist-packages (from sphinx>=1.2.0->sphinx-argparse->indic-nlp-library) (1.4.1)\n",
            "Requirement already satisfied: requests>=2.0.0 in /usr/local/lib/python3.7/dist-packages (from sphinx>=1.2.0->sphinx-argparse->indic-nlp-library) (2.23.0)\n",
            "Requirement already satisfied: sphinxcontrib-websupport in /usr/local/lib/python3.7/dist-packages (from sphinx>=1.2.0->sphinx-argparse->indic-nlp-library) (1.2.4)\n",
            "Requirement already satisfied: MarkupSafe>=0.23 in /usr/local/lib/python3.7/dist-packages (from Jinja2>=2.3->sphinx>=1.2.0->sphinx-argparse->indic-nlp-library) (2.0.1)\n",
            "Requirement already satisfied: urllib3!=1.25.0,!=1.25.1,<1.26,>=1.21.1 in /usr/local/lib/python3.7/dist-packages (from requests>=2.0.0->sphinx>=1.2.0->sphinx-argparse->indic-nlp-library) (1.24.3)\n",
            "Requirement already satisfied: chardet<4,>=3.0.2 in /usr/local/lib/python3.7/dist-packages (from requests>=2.0.0->sphinx>=1.2.0->sphinx-argparse->indic-nlp-library) (3.0.4)\n",
            "Requirement already satisfied: idna<3,>=2.5 in /usr/local/lib/python3.7/dist-packages (from requests>=2.0.0->sphinx>=1.2.0->sphinx-argparse->indic-nlp-library) (2.10)\n",
            "Requirement already satisfied: certifi>=2017.4.17 in /usr/local/lib/python3.7/dist-packages (from requests>=2.0.0->sphinx>=1.2.0->sphinx-argparse->indic-nlp-library) (2022.6.15)\n",
            "Requirement already satisfied: pyparsing!=3.0.5,>=2.0.2 in /usr/local/lib/python3.7/dist-packages (from packaging->sphinx>=1.2.0->sphinx-argparse->indic-nlp-library) (3.0.9)\n",
            "Requirement already satisfied: sphinxcontrib-serializinghtml in /usr/local/lib/python3.7/dist-packages (from sphinxcontrib-websupport->sphinx>=1.2.0->sphinx-argparse->indic-nlp-library) (1.1.5)\n",
            "Installing collected packages: sphinx-rtd-theme, sphinx-argparse, morfessor, indic-nlp-library\n",
            "Successfully installed indic-nlp-library-0.81 morfessor-2.0.6 sphinx-argparse-0.3.1 sphinx-rtd-theme-1.0.0\n"
          ]
        }
      ],
      "source": [
        "import nltk\n",
        "nltk.download('punkt')\n",
        "from gensim.models.doc2vec import Doc2Vec, TaggedDocument\n",
        "from nltk.tokenize import word_tokenize\n",
        "from nltk.tokenize import sent_tokenize\n",
        "!pip install indic-nlp-library\n",
        "\n",
        "from indicnlp.tokenize import sentence_tokenize\n"
      ]
    },
    {
      "cell_type": "code",
      "execution_count": null,
      "metadata": {
        "id": "dyPoyDTHF7h9"
      },
      "outputs": [],
      "source": [
        "data = [\"ராஜா\",\n",
        "    \"அரசன்\",\n",
        "        \"நீங்கள் ஆங்கிலம்?\",\n",
        "        \"உங்களை சந்தித்ததில் மகிழ்ச்சி.\",\n",
        "        \"உங்களை சந்தித்ததில் \"]\n",
        "\n",
        "tagged_data = [TaggedDocument(words=word_tokenize(_d.lower()), tags=[str(i)]) for i, _d in enumerate(data)]"
      ]
    },
    {
      "cell_type": "code",
      "execution_count": null,
      "metadata": {
        "colab": {
          "base_uri": "https://localhost:8080/"
        },
        "id": "NJ1kYHh-ISvp",
        "outputId": "33df7cfb-cec7-4c93-804b-f4f8ef6d1e33"
      },
      "outputs": [
        {
          "output_type": "stream",
          "name": "stdout",
          "text": [
            "['இந்திய வரலாறு (  ) என்பது இந்தியத் துணைக்கண்டத்தில் வரலாற்றுக் காலம் முன்பு வாழ்ந்த மக்கள், அவர்தம் சமுதாயம், சிந்து சமவெளி நாகரிகம், இந்தோ-ஆரியப் பண்பாடு உள்ளடக்கிய வேதகால நாகரிகம்[1] தொடங்கி இன்றுவரை உள்ள காலம் அடங்கும்.', 'மேலும் பல கலாச்சாரங்களின் சாரமாகவும் பண்பாடுகளை உள்வாங்கியும் பிறந்த இந்து சமயம், அதன் வளர்ச்சி குறித்தும் சிரமணா இயக்கத்தின் வளர்ச்சி, சிரவுத்தா பலிகளின் வீழ்ச்சி, சைனம், பௌத்தம், சைவம், வைணவம் மற்றும் சக்தி வழிபாடு இவைகளின் வளர்ச்சி, தாக்கம்,[2][3] மேலும் இப்பகுதியில் இரண்டாயிரம் ஆண்டுகளாக வாழ்ந்த அரச பரம்பரை, பேரரசுகளின் தோற்றம், தாக்கம், இடைகாலத்தில் தோன்றிய இந்து மற்றும் முகலாய அரச பரம்பரைகள் குறித்த தகவல்கள், பிற்காலத்தில் வந்த ஐரோப்பிய வணிகர்கள், அதன் தொடர்ச்சியாக அமைந்த ஆங்கிலேய அரசு, அதன் தொடர்ச்சியாக எழுந்த விடுதலை இயக்கம், அதன் பின் நாடு பிரிவினை அடைந்து இந்தியக் குடியரசு பிறந்த வரை தகவல்கள் உள்ளிட்டவை அடங்கும்.', '[4]\\nசுமார் 75,000 ஆண்டுகளுக்கு முன்பு இந்திய துணைக்கண்டத்தில் இன்றைய மனிதர்களின் உடற்கூறியல் வடிவத்தை ஒத்த மனிதர்களோ அல்லது 5,00,000 ஆண்டுகளுக்கு முன்பு இருந்த தற்கால மனிதனின் முன்னோடிகளோ வாழ்ந்து  வந்ததற்கான சான்றுகள் பதிவு செய்யப்பட்டுள்ளன.', '[5] கிமு 3,200 முதல் கிமு 1,300 வரை இந்தியாவில் செழிப்பாக விளங்கிய சிந்துவெளி நாகரிகம்தான் தெற்கு ஆசியாவில் [6] தோன்றிய முதல் நாகரிகம் ஆகும்.', 'தொழில் நுட்பத்திலும், புதுமையிலும் ஒரு தலை சிறந்த மற்றும் நகர்ப்புற வாழ்க்கையில் தனித் தன்மை வாய்ந்த நாகரிகம் பயன்பாட்டில் இருந்த காரப்பா காலம்[7] கிமு 2,600 முதல் கிமு 1,900 வரை தொடர்ந்தது.', 'கிமு இரண்டாவது ஆயிரமாண்டு துவக்கத்தில் இது மறைய, இதன் தொடர்ச்சியாக இரும்புக்கால வேதிய நாகரிகம் சிந்து-கங்கைச் சமவெளியில் தோன்றி வளர்ந்தது.', 'இக்காலத்தில் தான் மகாசனப்பாடங்கள் என்னும் பல அரசாட்சிமுறைகளும் தோன்றி வளர்ந்தன.', 'கிமு 5-ஆம் நூற்றாண்டு முதல் கி.', 'மு 6-ஆம் நூற்றாண்டு வாக்கில் இது போன்ற ஓர் அரச வம்சத்தில் தான் மகதர்கள், மகாவீரர் கௌதம புத்தர் போன்றோர் தோன்றி ’’சிராமனிய’’ தத்துவத்தைப் பரப்பி வந்தனர்.', 'கிமு 4 ஆம் நூற்றாண்டு மற்றும் கிமு 3 ஆம் நூற்றாண்டுகளில் துணைக்கண்டத்தின் பெரும் பகுதி மவுரியப் பேரரசின் கீழ் கொண்டுவரப்பட்டது.', 'இக்கால கட்டத்தில் வடநாட்டில் பிரகிருதி மற்றும் பாளி மொழி இலக்கியங்களும், தெற்கில் சங்க இலக்கியங்களும் வளர்ச்சியடைந்தன. [8][9]. தென்னிந்தியாவில் எடுக்கப்பட்ட ஊட்டுச்சு எக்கு[10][11][12] எனும் ஒரு வகை இரும்பு இக்காலத்தில் வெளிநாடுகளுக்கு ஏற்றுமதி செய்யப்பட்டது.', 'அடுத்த 1,500 ஆண்டுகள் இந்தியாவின் பல பகுதிகள் பல அரசர்களால் ஆளப்பட்டிருந்தாலும், இக்காலத்தில் குப்தர் ஆண்ட காலம் தனிச் சிறப்பு வாய்ந்ததாக அமைந்தது.', 'இந்து சமயமும், கலை, கலாச்சாரம் போன்றவையும் புத்தாக்கம் பெற்று மறுமலர்ச்சியடைந்து விளங்கியதால், இந்தியாவின் பொற்காலம் என குப்தர்களின் காலம்  வர்ணிக்கப்படுகிறது.', 'இக்காலத்தில் இந்திய நாகரிகம், கலை, கலாச்சாரம், பண்பாடு, குறிப்பாக இந்து சமயம் மற்றும் பௌத்தம் முதலியன ஆசியா முழுவதும் பரவின.', 'கிமு 77-ஆம் ஆண்டு வாக்கில் தென்னிந்திய அரசுகள் உரோமப் பேரரசுடன் தொடர்பு வைத்திருந்தன.', 'இந்திய கலாச்சாரத்தின் தாக்கமும், வீச்சமும் தென்கிழக்காசியாவின் பல இடங்களில் பரவின.', 'இதன் காரணமாக பல இந்திய வம்சாவளி அரசுகள்[13][14] இப்பகுதியில் அமைந்தன.', 'பாலி, இராசிட்ரகூடம், குருசார பிராதிகார பேரரசு ஆகியவற்றிடையே கன்னோசி அரசை மையப்படுத்தி  நடந்த மும்முனைப் போட்டி கிபி 7-ஆம் நூற்றாண்டிற்கும் 11-ஆம் நூற்றாண்டிற்கும் இடைப்பட்ட காலத்தில் நடந்த முக்கியமான நிகழ்வாகும்.', 'இப்போராட்டம் இரண்டு நூற்றாண்டுகளாகத் தொடர்ந்தது.', 'தென்னிந்தியா அப்பொழுது, சாளுக்கியர், சோழர், பல்லவர், சேரர்,  பாண்டியர் மற்றும் மேலைச் சாளுக்கியர்களால் ஆளப்பட்டு வந்தது.', 'கிபி 7-ஆம் நூற்றாண்டில் முகமதிய மதம் தோன்றி ஓர் அரசியல் சக்தியாகவும் உருவெடுத்தது.', 'அதன் சுவடுகள் இந்தியத் துணைக்கண்டத்தின் மேற்குப்பகுதியான இன்றைய பாக்கித்தானத்திலும் அறியப்பட்டது.', '[15] சோழர்கள் தென்னிந்தியா முழுவதும் வெற்றி பெற்று  கிபி 11-ஆம் நூற்றாண்டில் [16][17] தெற்காசியாவில் இலங்கை, மாலத்தீவு, வங்காளம்[18] உட்படப் பல பகுதிகளில் கால் பதித்தனர்.', 'இடைக்காலத்தின் ஆரம்பத்தில் இந்தியக் கணிதவியல், அரேபிய உலகின் வானியல் மற்றும் கணிதவியலின் மீதும் தாக்கத்தை எற்படுத்தின.', 'அப்பொழுதுதான் இந்திய எண்களும் அங்கு அறிமுகப்படுத்தப்பட்டன.', '[18]\\nபல பேரரசுகளும் இராச்சியங்களும் இந்தப் பகுதியை ஆட்சி செய்ததின் மூலம் இந்தப் பகுதியின் பண்பாடு மேலும் வளர்ச்சி பெற்றது.', 'கிமு 543  பாரசீகத்தின் அகாமனிசியப் பேரரசு [19] முதல் கிமு 326 அலெக்சாண்டேர் தி கிரேட்[20] வரையில் நீடித்தது.', 'பாக்திரியாவைச் சார்ந்த டெமெட்ரியஸால் உருவாக்கப்பட்ட இந்தோ கிரேக்க நாடு, காந்தாரம் மற்றும் பஞ்சாப் போன்ற இடங்களைத் தன்னுள் கொண்டிருந்தது.', 'கிமு 184-ஆம் ஆண்டில் நிலவிய இந்த ராஜ்ஜியம் மெனாண்டர் காலத்தில் தனது உச்சத்தை அடைந்தது.', 'இதே சமயத்தில் பண்பாட்டிலும், வாணிபத்திலும் சிறந்து விளங்கிய கிரேக்க-புத்த காலமும் எழுச்சி அடைந்தது.', 'கிபி 77-ல் கேரளா, ரோம சாம்ராஜ்ஜியத்துடன் கடல் சார்ந்த வணிகப் பிணைப்புகள் கொண்டிருந்தது.', 'கிபி 712-ல், அரபு நாட்டைச் சேர்ந்த படைத்தலைவர் முகம்மது பின் காசிமின் வருகையால் இந்தத் துணைக்கண்டத்தில் இஸ்லாமிய ஆட்சி துவங்கியது.', 'இவர், சிந்து, முல்டான், தெற்கு பஞ்சாப் பகுதிகளைக் கைப்பற்றினார்[21].', 'இதுவே மத்திய ஆசியப் பகுதியிலிருந்து பல படையெடுப்புகளை கிபி 10-ஆம் நூற்றாண்டிலிருந்து 15-ஆம் நூற்றாண்டுவரை இந்தியத் துணைக் கண்டம் சந்தித்து இஸ்லாமிய ராஜ்ஜியமாகக் காரணமாக இருந்தது.', 'இவற்றுள் கஜினி முகமது, கோரி முகமது, தில்லி சுல்தான்கள், முகலாய சாம்ராஜ்ஜியங்கள் புகழ் பெற்றவை.', 'துணைக் கண்டத்தின் பெரும்பாலான மேற்குப் பகுதிகளில் முகலாய சாம்ராஜ்ஜியம் பரவி இருந்தது.', 'முகலாயர்கள் இந்தியாவுக்குள் மத்தியக் கிழக்கு ஓவியங்களையும், கட்டிடக் கலையையும் கொண்டு வந்தனர்.', 'முகலாயர்களுடன் விஜயநகரப் பேரரசு, மராத்தியப் பேரரசு, இராசபுத்திர ராஜ்ஜியங்கள் போன்ற பல இந்து ராஜ்ஜியங்களும், மேற்கு மற்றும் தென்னிந்தியப் பகுதிகளில் தழைத்தெழுந்தன.', 'முகலாய சாம்ராஜ்ஜியம், அவுரங்கசீப்பிற்குப் பின் 18-ஆம் நூற்றாண்டில், தானாகவே வலுவை இழந்தது.', 'இதனால் ஆப்கன்கள், பலோசியர்கள், சீக்கியர்கள், மராத்தியர்கள் வட மேற்குத் துணைக்கண்டப் பகுதிக்குள் எளிதே நுழைந்தனர்.', 'இவர்கள், தெற்கு ஆசியாவை ஆங்கிலேயர்களின் கிழக்கிந்திய நிறுவனம்  தன் வசம் ஈர்க்கும் வரை ஆட்சி புரிந்தனர்.', '[22]\\n18-ஆம் நூற்றாண்டிலிருந்து அடுத்த நூற்றாண்டு வரை ஆங்கிலேயர்களின் கிழக்கிந்திய நிறுவனம் படிப்படியாக இந்தியாவை தன் கட்டுப்பாட்டுக்குள் கொண்டு வந்தது.', 'இந்த நிறுவனத்தின் ஆட்சியில் கிடைத்த  அதிருப்தி, 1857-ஆம் ஆண்டு  முதல் இந்திய சுதந்திரப் போருக்கு காரணமாக அமைந்தது.', 'இதனால் ஆங்கிலேய அரசு  இந்தியாவைத் தனது நேரடி ஆட்சிக்குள் கொண்டு வந்தது.', 'இந்தக் கால கட்டத்தில் இந்தியா சமுதாயத்தின் வளர்ச்சியையும் பொருளாதாரத்தின் குலைவையும் கண்டது.', '20-ஆம் நூற்றாண்டின் முதல் பாதியில், நாடெங்கிலும் இந்திய தேசிய காங்கிரஸின் மூலம் துவக்கப் பட்ட சுதந்திரப் போராட்டம் காட்டுத் தீயைப் போல் பரவியது.', 'இந்த போராட்டத்தில் முஸ்லிம் லீகும், தன்னை இணைத்துக் கொண்டது.', 'இந்தத் துணைக் கண்டம் 1947ல், இந்தியா, பாகிஸ்தான் என்று இரு ஆளும் பகுதிகளாகப் பிரிக்கப்பட்ட பின்னர் ஆங்கிலேய ஆட்சியிடமிருந்து தன் சுதந்திரத்தைப் பெற்றது.', 'இந்திய வரலாற்றை எழுத வேண்டிய தேவை, ஆங்கிலேயர் இந்தியாவை ஆளத்துவங்கிய, 18-ஆம் நூற்றாண்டில் தான் அறியப்பட்டது.', 'இந்தியாவை ஆள்வதற்கு இந்தியர்களின் வாழ்க்கை முறை, பழக்கவழக்கங்கள் மற்றும் சட்டங்கள்  முதலியவற்றை தெரிந்துகொள்ளவேண்டிய கட்டாயம் இருந்தன.', 'அதுவே ஆங்கிலேயர்களை இதில் கவனம் செலுத்தத் தூண்டியது.', '[23] இதற்கு ஏதுவாக சர் வில்லியம் ஜோன்ஸ் 1784-ஆம் ஆண்டு வங்காள ஆசியக் கழகத்தை நிறுவினார்.', '[24] கீழை நாடுகளில் வசிக்கும் மக்கள், அவர்தம் வாழ்க்கை முறையைக் குறித்த தகவல்கள், மற்றும் ஆராய்ச்சி செய்து புரிந்துகொள்வது, ஆவணப்படுத்துவது இதன் நோக்கமாகும்.', 'சார்லஸ் வில்கின்ஸ், . . கோல்புரூக், .', ' . வில்சன் (1786–1860) முதலியோர் பெரும் பங்காற்றினர்.', 'மேக்ஸ் முல்லர் உட்பட பல ஐரோப்பிய அறிஞர் பெருமக்கள் சமக்கிருதம் கற்று வேதங்களில் புலமை பெற்றனர்.', 'இந்திய நாகரிகத்தையும், பண்பாட்டையும் புரிந்துகொள்வதற்கும், இந்திய வரலாறு பின்பு சரித்திர ஆசிரியர்களால் எழுதப்படுவதற்கும் இவர்களது எழுத்து உதவியாக இருந்துவந்துள்ளது.', 'இதைப்போல கிருத்துவ மத குருமார்களும், தங்கள் மதத்தைப் பரப்புவதற்காக, இந்திய நாகரீகத்தையும், பண்பாட்டையும் நன்கு அறிந்து, கிறித்துவ மதம் இதைவிட மேம்பாடானது என்று கூறி பரப்புரையில் ஈடுபட்டனர்.', 'இவர்களின் எண்ணமும் எழுத்தும் கூட ஒருதலைப்பட்சமாக இந்திய வரலாறு எழுதப்பட்டதற்கு காரணமாக அமைந்தது என்று கருதுவோரும் உண்டு.', 'ஜான் ஸ்டூவர்ட் எழுதிய பிரித்தானிய இந்தியாவின் வரலாறு (   ) என்னும் நூல் 1817-ஆம் ஆண்டு வெளியிடப்பட்டது.', 'இந்தியர்களின் பண்பாட்டையும், நாகரீகத்தையும் காட்டுமிராண்டித்தனமானது, காரண காரியங்களுக்கு எதிர்மறையானது என்று இந்நூல் வலியுறுத்தியது.', 'ஆங்கில அதிகாரிகள் இந்தியா வருவதற்கு முன் பயிற்சியின் போது இந்நூலை ஒரு பாடமாகவே கற்று வந்தனர்.', 'இந்நூல் இந்தியர்கள் குறித்த ஒரு மோசமான மனப்பான்மையை அவர்கள் உள்ளத்தில் ஏற்படுத்தியது. வி. ஏ. சிமித் என்னும் ஆங்கில அதிகாரி, இது போன்று வந்தவர்தான்.', 'இவர் ஆக்ஸ்போர்டு இந்திய வரலாறு (    ) என்னும் நூலை எழுதினார்.', 'ஆனால் ஸ்டூவர்ட் மில் போன்று அல்லாமல் இந்தியர்களைக் குறித்து வின்சென்ட் சிமித் அவ்வளவு மோசமான எண்ணம் கொண்டிருக்கவில்லை.', 'இருந்தாலும் இந்தியர்கள் ஆளத்தெரியாதவர்கள் என விவரிக்கிறார்.', 'இதுபோன்று ஆங்கிலச் சரித்திர ஆசிரியர்கள் ஒருதலைப்பட்சமாக இந்திய வரலாற்றை எழுதுவதற்கு இந்தியச் சரித்திர ஆசிரியர்கள் எதிர்ப்புத் தெரிவித்தனர்.', 'இந்திய அரசுமுறை குறித்தும் அதன் மேன்மை குறித்தும் பலவாறு விளக்கிவந்தனர்.', 'இவைகளின் தாக்கமாக ஆங்கிலச் சரித்திர ஆசிரியர்கள் பெரும்பாலும் பேரரசர்கள், பரம்பரையாக ஆட்சி செய்வது போன்றவற்றையே எழுதிவந்தனர்.', 'அரசர் தவிர வேறு எந்தவிதமான பயனுள்ள அரசியல், சமூக அமைப்புகளைப்பற்றியும் இவர்கள் எவ்விதக் குறிப்பும் கருத்தும் தெரிவிக்கவில்லை.', 'மேலும் இந்திய மக்கள் சோம்பேறித்தனமான பிற்போக்கு வாழ்க்கை வாழ்கிறார்கள் என்றும் ஆழமான எண்ணங்களைத் தம் மனதில் கொண்டே வரலாறை எழுதினர்.', '[25] பாகுபாடற்ற அணுகுமுறையுடன் இந்திய வரலாறு இவர்களால் பார்க்கப்படவில்லை என்னும் கருத்தும் உள்ளது.', 'பிற்காலத்தில் இந்திய வரலாறு அதன் உண்மையான பரிமாணத்துடன் எழுதப்படவேண்டும் என பல அறிஞர்கள் விரும்பி, அவ்வாறு எழுதப்பட்டும் வந்துள்ளது.', '[26]\\nஹோமோ எரெக்டஸின் தனிமைப்படுத்தப்பட்ட மிச்சங்கள் மத்திய இந்தியப் பகுதியில் உள்ள நர்மதா சமவெளியில் கண்டெடுக்கப்பட்டன.', 'இது பனி உறைந்திந்திருந்த மத்திய பிளைச்டோசீன் காலத்திலேயே அதாவது 200,000 இலிருந்து 500,000 ஆண்டுகளுக்கு நடுவே பரிணாமம் அடைந்த உயிரினங்கள் வாழ்ந்தன என்பதை உறுதிப்படுத்துகின்றது.', '[27][28]\\nஆனால், இந்து மகா சமுத்திரக் கரையோரம் இருந்த ஆப்பிரிக்க இடப்பெயர்ப்பின் அடையாளங்கள் சுவடே இல்லாமல் இருப்பதால் அவை தொலைந்ததாகவே கருதப்படுகின்றறன.', '25,000 த்திலிருந்து 30,000 ஆண்டு காலம் வரை மத்தியக் கற்காலம் இந்த துணைக் கண்டத்தில் நீடித்திருந்தது.', 'இன்னும் விரிவான குடியேற்றங்கள் இந்தத் துணைக் கண்டத்தில் பனியுரை காலத்தின் இறுதிக் கட்டங்களில் அதாவது ஏறத்தாழ 12,000 ஆண்டுகளுக்கு முன்னர் இருந்தன என்று யூகிக்கப் படுகிறது.', 'நிச்சயமாகச் சொல்லக்கூடிய நிலையான குடியேற்றங்கள் 9000 ஆண்டுகளுக்கு முன்னர் இருந்ததாக ஆதாரங்கள் இருக்கின்றன.', 'இந்த ஆதாரங்கள் தற்கால மத்தியப் பிரதேசத்தில், பீம்பேட்கா பாறை வாழிடங்கள்  என்ற இடத்திலிருந்து கண்டெடுக்கப்பட்டன.', 'பாகிஸ்தானில் உள்ள தற்கால பலுசிஸ்தானில் இருந்த மெஹெர்கர் கண்டுபிடிப்புகள் தென்னாசியாவில், புதிய கற்காலத்தின் ஆரம்ப காலப் பண்பாட்டைக் குறிக்கின்றன.', 'இது சுமார் கிமு 7000 ஆண்டுக்குமுன் இருந்தது என்று கணக்கிடப்படுகிறது.', 'இந்தப் புதிய கற்காலம் இருந்தது என்பதற்கான தடையங்கள் காம்பத் வளைகுடாவில் மூழ்கி இருந்தாலும், அதனையும் கண்டு பிடித்துள்ளனர்.', 'கதிரியக்கக்கரிமக் காலக்கணிப்பு இதனை கி.', 'மு 7500 ஆண்டு என்று கணக்கிட்டுள்ளது.', '[29] புதிய கற்காலம் முடிவுக்கு வரும் காலத்தில் இருந்த பண்பாடு கி. மு. 6000 – 2000 ஆண்டுகளில் இந்து சமவெளி நாகரிகத்தில் இருந்ததாகவும், தென்னிந்தியாவில் கிமு 2800 – 1200 ஆண்டுகளில் இருந்ததாகவும் நிச்சயப்படுத்தப்பட்டுள்ளது.', 'துணைக் கண்டத்தின் இந்த பகுதியில் இரண்டு மில்லியன் ஆண்டுக்லங்களாக மக்கள் வசித்து வருகின்றனர்.', 'இது தற்காலப் பாகிஸ்தான் பகுதியில் உள்ளது.', '[30][31] இந்தப் பகுதியின் பழைமையான வரலாறு, இப்பகுதி தென்னாசியாவின் மிகப் பழைமையான குடியேற்றங்களையும்[32],[33][34]\\nதென்னாசியாவில் ஆரம்பகாலங்களில் கண்டு பிடிக்கப்பட்ட தொல்பொருள் இடங்களில் பழைய கற்காலத்தில் சொவன் நதிக்கரையோரம் இருந்த ஹோமொனிட் புரயிடமும் ஒன்று.', '[35] கிராம வாசிப்பு வாழ்க்கையை மேர்கர்ஹில் உள்ள புதிய கற்காலத்தின் புரயிடங்கள் காட்டுகின்றன.', '[36] சிந்து சமவெளி நாகரிகம்[37] போல வளர்ச்சியடைந்த நகர வாழ்க்கையைக் காட்டும் நாகரிகங்கள் மொகேன்ஜதாரோ, லோத்தல், ஹரப்பா, காளிபங்கான், தோலாவிரா  போன்ற இடங்களில் இருந்ததற்கான அடையாளங்களும் இருக்கின்றன.', '[38]\\nசிந்து சமவெளி நாகரிகத்தின் ஆரம்பகாலங்களில், கிமு 3300-ஆம் ஆண்டில் வெண்கலக் காலம் இந்தியத் துணைக் கண்டத்தில் துவங்கியது.', 'இது சிந்து நதி மற்றும் அதன் கிளைகளை ஆதாரமாகக் கொண்டிடிருந்தது.', 'மேலும் கக்கர்-ஹக்ரா சமவெளி,[33] கங்கா-யமுனா, டோப்,[39] குஜராத்,[40] மற்றும் மேற்கு ஆப்கனிஸ்தான்பகுதிகளிலும் இது தழைத்து இருந்தது. . [41]\\nஇந்த நாகரிகம் பெரும்பாலும் இன்றைய இந்தியாவைச்சேர்ந்த (குஜராத், ஹரியானா, பஞ்சாப் ராஜஸ்தான் பகுதிகளிலும்) மற்றும் இன்றையப் பாகிஸ்தானைச் சேர்ந்த (சிந்து, பஞ்சாப், பலோசிஸ்தான் பகுதிகளில்) நிறைந்திருந்தது.', 'வரலாற்றைச் சார்ந்து பார்க்கும் பொது பண்டைய இந்தியா, மெசொப்பொத்தேமியா, பண்டைய எகிப்து போல உலகிலேயே பழமை வாய்ந்த நகர நாகரிகத்தைக் கொண்டிருந்தது.', 'சிந்து நதி சமவெளியில் வாழ்ந்த மக்கள் ஹரப்பர்கள் என்று அழைக்கப்படுகின்றனர்.', 'அவர்கள் உலோகத்தைக்கொண்டு பலவற்றையும் தயாரிக்க புதுப் புது முறைகளைக் கண்டறிந்தனர்.', 'மேலும், அவர்கள் செம்பு, வெண்கலம், ஈயம், தகரம் போன்றவற்றையும் உற்பத்தி செய்தனர்\\nகி. மு. 2600 – 1900 ஆண்டுகளை செழிப்பாக இருந்த சிந்து சமவெளி நாகரிகம் இந்த துணை கண்டத்தில், நகர வாழ்க்கை நாகரிகத்தின் ஆரம்பத்தை குறிக்கிறது.', 'இன்றைய இந்தியாவில் உள்ள காளிபங்கான், லோத்தல், ராகி கர்கி, தோலாவிரா, போன்ற நகரங்களும், இன்றைய பாகிஸ்தானிலுள்ள ஹரப்பா, கநேரிவாலா, மொகேஞ்சதாரோ போன்ற நகரங்களும் பழமைவாய்ந்த நாகரிகம் கொண்டிருந்த நகரங்களாக இருக்கின்றன.', 'இந்த நாகரிகத்தில் நகரங்கள் செங்கற்களால் கட்டப்பட்டிருந்தன; சாலையோரங்களில் கழிவுகுழாய் அமைப்புகளும் பல மாடிக்கட்டிடங்களும் இந்த நகரங்களில் இருந்தன.', 'வேதங்களில் சிந்து நதி ’ஸிந்து’ ’இந்து’ என்று இரண்டு விதங்களில் குறிப்பிடப்பட்டது.', 'பாரசீகர்கள் இதனை ’ஹிந்து’ என்று மாற்றியபின்னர் கிரேக்கர்கள் ’இன்டஸ்’ என்று மாற்றினர்.', 'இதிலிருந்தே இந்தியா, இந்தியன் என்ற சொற்கள் இந்தியர்களால் உருவாக்கப்பட்டன.', '[42] வேதங்கள் கி.', 'மு 5000 ஆண்டுகளுக்கு முன்னரும் இன்றிருப்பது போலவே இருந்ததென்று பண்டித பாலகங்காதர திலகர் நிருபித்திருக்கிறார்.', '[43]\\nஇந்தோ ஆரியப் பண்பாடும், வேத சமஸ்கிருதத்தின் மூலம் வாய் வழியே கூறப்பட்ட, இந்து மதத்தினருக்கு புனிதமான வேதங்களும் வேத காலத்தின் வேராக அமைந்திருந்தது.', 'பண்டைய எகிப்து,  மெசொப்பொத்தேமியாவில் கண்டெடுக்கப்பட்ட ஆப்பெழுத்துகளை  அடுத்து, இந்த வேதங்கள் மிகப்பழமை வாய்ந்தவை.', 'இந்த வேதகாலம் கி.', 'மு 1700 முதல் 500 வரை நீடித்திருந்தது.', 'இது இந்து மதத்திற்கு பலமான அடித்தளத்தை இட்டுக் கொடுத்ததுடன் இந்தியாவின் சமூகத்தின் பண்பாட்டிற்கும் பல நல்வித்துக்களை இட்டது.', 'பெரும்பாலாக கங்கைக் கரையோர சமவெளிகளில் வாழ்ந்த ஆரியர்கள் மேற்கிந்தியாவில் வேத நாகரிகம் பரவ காரணமாக இருந்தனர்.', 'ஆர்யா(ā, ) என்று தங்களை அழைத்துக்கொண்ட இந்தோ- ஆர்யர்களின் குடிப்பெயர்ப்பினால் ஏற்பட்டது இந்த காலம்.', 'டாசியஸ் என்று அவர்களுக்கு முன் இந்த பகுதியில் குடியிருந்தவர்களின் நாகரிகத்தை விட இவர்களது நாகரிகம் செம்மையாக இருந்தது.', 'ஆரியர்களின் பூர்விகம் பெரும் சர்ச்சைக்குள்ளான ஒரு விஷயமாகும்.', 'ஒரு சிலர் அவர்கள் மத்திய ஆசியப் பகுதியிலிருந்து மையம் கொண்டிருந்தார்கள் என்றும் மற்றும் ஒரு சிலர் அவர்கள் ஏற்கனவேயே இந்தியாவில் இந்து சமவெளி நாகரிகத்திக்கு முன்னரே குடியிருந்தனர் என்றும் கூறுகின்றனர்.', 'இதற்கு அவர்கள் ரிக் வேதத்தில் கூறப்பட்டுள்ள ஒரு சில வாக்கியங்களையும் ஆதாரமாகக் கொண்டு பேசுகின்றனர்.', 'இந்தியாவுக்கு வெளியே என்ற  கோட்பாடு, ஆரியர்கள் இந்தியாவிலிருந்து மத்திய ஆசியாவுக்கும், ஐரோப்பாவிற்கும் சென்றார்கள் என்று குறிப்பிடுகிறது.', '19 ஆம் நூற்றாண்டின் பின் பகுதியில் வந்த ஆரிய படையெடுப்புகள் கோட்பாடுகளை மாற்றி அறிஞர்கள், ஆராய்ச்சிகள் செய்து நம்பக்கூடிய கோட்பாடுகளை கொண்டுவந்துள்ளனர்.', 'ஹரப்பர்களின் புறக்கணிக்கப்பட்ட அந்த பழைய வேத கால சமுதாயத்தில்  குருக்கள் இனத்தவர் மிகுந்து இருந்தனர்.', '[44]ரிக் வேதகட்டத்திற்கு பிறகு ஆரிய சமுதாயத்திற்கு வேளாண்மையிலும் ஈடுபாடு இருந்தது.', 'நான்கு வர்ண பேதங்களையும் அது பின்பற்றியது.', 'இந்து மதத்தின் ஆதாரமாக இருக்கும் வேதத்தை தவிர உபநிடதஙகள், இராமாயணம், மகாபாரதமும் கூட இந்த காலத்தில் தான் எழுதப்பட்டன.', '[45] தோல் பொருள் கண்டுபிடிப்புகள் இந்த இன்டோ-ஆர்யர்களின் வசிப்பு மஞ்சள் களிமண் வர்ணத்தை கொண்ட பானைகள் உறுதிப்படுத்துகின்றன.', '[46]\\n[47] வட இந்தியப் பகுதிகள் கருப்பு மற்றும் சிவப்பு மட்பாண்டப் பண்பாடு – (கிமு 1450 - கிமு 1200), சாம்பல் வண்ண ஓவியம் தீட்டப்பட்ட மட்பாண்டப் பண்பாடுகள் (கிமு 1200  -  கிமு.', '600) கொண்டிருந்தது.', 'மேலும், கிமு.', '1000 ஆண்டில் எழுதப்பட்ட அதர்வண வேதம் இரும்புக் காலத்தின் ஆரம்பத்தைக் குறிக்கிறது.', 'இது இரும்பை கருப்பு உலோகம் என்று குறிப்பிட்டுśā , இரும்பு காலத்தை பற்றி கூறிய முதல் இந்திய எழுத்து வடிவம் என்ற பெருமையையும் சேர்த்துக்கொண்டது.', 'இந்த வர்ணம் பூசிய சாம்பல் நிற பாத்திர நாகரிகம் மேற்கிந்தியாவில் கி. மு. 1100 முதல்  கிமு 600 வரை நீடித்திருந்தது.', '[46] இந்த காலத்தின் இறுதி பகுதியில் ஒரு குல அமைப்பின் மூலம், மகாஜனபதங்கள் என்ற இராச்சியங்களின் எழுச்சியைப் பார்க்க முடியும்.', 'வேதா காலத்தின் இறுதிக் காலகட்டத்தில் இந்திய துணை கண்டத்தில் நிறைய சிறு ராஜ்ஜியங்களும், நகர மண்டலங்களும் வரத் துவங்கின என்று பல இந்து, புத்த, சமண மத இலக்கியங்கள் குறிப்பிடுகின்றன. கி. மு. 600 ஆம் ஆண்டில், பதினாறு முடியாட்சிகளும் மற்றும் மகாஜனபதங்கள் என்று அழைக்கப்பட்ட குடியரசும் தோன்றியன.', 'இந்த மகாஜனபதத்தில்  அங்கம், கோசலை, காசி, மகதம், வஜ்ஜி, மல்லம், சேதி, வத்சம், குரு,பாஞ்சாலம், மத்சம், சூரசேனம், அஸ்மகம், அவந்தி, காந்தாரம், காம்போஜம் இருந்தன.', 'இந்த ஜனபதங்கள் சிந்து-கங்கைச் சமவெளியில் இன்றைய ஆப்கனிஸ்தானிலிருந்து, வட இந்தியா மற்றும் மத்திய இந்தியா  வரை பரவி இருந்தன.', 'இந்தியாவை நகரப்படுத்தி பார்த்ததில் இந்து சமவெளி நாகரிகத்துக்கு பிறகு வேத காலமே அடுத்த இடத்தை பிடிக்கிறது.', 'ஆரம்பகால இலக்கியங்களில் குறிப்பிடப்பட்ட பல குலங்கள் துணைக்கண்டத்தின் இந்த பகுதியில் காணப்பட்டன.', 'இதில் சில அரசர்கள் வழி வழியாய் வந்தனர், மேலும் சிலர் அமைச்சரவையால் தேர்ந்தெடுக்கப் பட்டனர்.', 'படித்தவர் சமஸ்க்ருதத்தில் பேசுகையில், மேற்கிந்தியாவின் பொது மக்கள் பிரக்ரித்தி மற்றும் பாலி மொழியில் பேசினார். கி. மு. 500/400 ல்,சித்தார்த்த கவுத்தமர் காலத்திலேயே இந்த பதினாறு ராஜியங்களும் ஒன்று கூடி நான்கு பெரும் அரசுகளாக உருமாறின.', 'அவை வட்சா,அவந்தி,கோசலா,மகதா ஆகும்.', '[48]\\nஇந்து மதப்படி செய்த சடங்குகள் எளிதானவையாக இல்லாததால் குரு குலத்தை சேர்ந்தவர்கள் அவற்றை செய்தனர்.', 'தத்துவங்களைப் புகட்டும் உபநிசதங்கள் பிற்கால வேத காலத்திலும் மகாஜனப்பதங்களின் ஆரம்ப காலத்திலும் எழுதப்பட்டதாகக் கருதப்படுகிறது.', '(அதாவது கி. மு. 600 இலிருந்து 400 வரை).', 'இந்திய தத்துவங்களில் தனது ஆதிக்கத்தை கொண்டிருந்த உபநிடதங்கள், பௌத்தம் மற்றும் சமண மதங்களும் வித்திட்டது.', 'இது சிந்தனைக்கான பொற்காலமாகக் கருதப்பட்டது. கி. மு 537 ல், கௌதம புத்தர் போதி நிலையை அடைந்து ஞானம் பெற்றவராகக் கருதப்பட்டதால் அவர் புத்தர் என்று அழைக்கப்பட்டார்.', 'அதே சமயத்தில் சமண சமயத்தின்  24 வது தீர்த்தங்கரரான) மகாவீரர் புத்த மதத்தை போல் இருந்த மற்றும் ஒரு சமயத்தை கோட்படுத்தினார்.', 'அதை மக்கள் சமண மதம் என்று அழைத்தனர்.', '[49] வேதங்களிலும் ஒரு சில தீர்த்தங்கர்களை பற்றிய குறிப்புடன் ஸ்ரமண இயக்கத்தின் முனிகளின் ஒழுங்கமைவு பற்றியும் குறிப்பிடப்பட்டுள்ளது.', '[50] புத்தரின் பிரச்சாரங்கள் மற்றும் சமண மதத்தின் கோட்பாடுகள் துறவறம் பற்றி பிரக்ரிதி மொழி கொண்டு மக்களிடம் கொண்டு சேர்த்தன.', 'இந்து மதத்துடனும், ஆன்மீக கோட்பாடுகளுடனும் தொடர்பு கொண்டிருந்த இந்த இரு சமயங்களும், சைவ உணவமைப்பு பற்றியும், விலங்குகளிடத்தில் கருணைகாட்டுதல் பற்றியும், அஹிம்சா வழி பற்றியும் கூறுகின்றன.', 'சமண மதம் இந்தியாவுக்குள் இருக்கையில் புத்த மதத்தின் துறவியர்கள் நாடு கடந்து சென்று மத்திய ஆசியா, கிழக்கு ஆசியா, திபெத், இலங்கை மற்றும் தென் கிழக்கு ஆசியாப் பகுதிகளில் புத்த மதத்தைப் பரப்பினர்.', 'இந்திய துணைகண்டத்தின் பெரும்பாலான வட மேற்கு பகுதிகள் (தற்பொழுதைய கிழக்கு ஆப்கனிஸ்தான் மற்றும் பாகிஸ்தான்) பெர்சிய அகய்மேனிட் சம்ராஜ்ஜியாதின் போது டாரியஸ் தி கிரேட் ஆட்சிக்கு உட்பட்டு இருந்தன. (கி. மு. 520 ல்).', 'அதற்கு பிறகும் இரண்டு நூற்றாண்டுகளுக்கு அதே சாம்ராஜ்ஜியம் நிலைத்து இருந்தது.', '[51] கி. மு. 326 ல்\\nஅலேக்சாண்டேர் ஆசியா மைனரை கைப்பற்றினார்.', 'அத்துடன் அகைமேனிட் சாம்ராஜ்ஜியத்தின் ஆட்சி இந்திய துணைகண்டத்தின் வட மேற்கு பகுதிகளில் ஒரு முடிவுக்கு வந்தது.', 'அலேக்சாண்டேர் புரு மன்னனை ஹைடாச்பெஸ் போர்களத்தில் (இன்றைய பாகிஸ்தானின் ஜீலத்திற்கு அருகே) வீழ்த்தி பஞ்சாபை கைப்பற்றினார்.', '[52] பின்னர் அவர் கிழக்கு திசையில் சென்று நந்தர்கள் சாம்ராஜ்ஜியம், மகத நாடு மற்றும் வங்காளத்தின் கங்காரிடை சாம்ராஜ்ஜியத்தை ஒடுக்கினார்.', 'அவரது படைகள் மேலும் பலத்த இந்திய படைகளை காலத்தில் சந்திக்க பயந்து போரை ஹைபாசிஸ் (இன்றைய பீஅஸ்) என்ற இடத்தில் கங்கை நதி கரையோரம் புறக்கணித்தது.', 'அலேக்சாண்டேர் தனது தளபதி கொயினசுடன் பேசிய பிறகு, திரும்பி செல்ல முடிவெடுத்தார்.', 'இந்த பெர்சிய மற்றும் கிரேக்க படையெடுப்புகள் இந்திய நாகரிகத்தின் மீது தாக்கத்தை ஏற்படுத்தின.', 'பெர்சிய நாட்டின் அரசியல் அமைப்புகள், இந்த துணை கண்டத்தில் மவுரியா சாம்ராஜ்ஜியத்தில் தென்பட்டன.', 'காந்தார( இன்றைய கிழக்கு ஆப்கனிஸ்தான் மற்றும் வட மேற்கு பாகிஸ்தான் பகுதிகள்) என்னும் இடம் இந்திய, பெர்சிய, மத்திய ஆசிய மற்றும் கிரேக்க பண்பாடுகளின் உறைவிடமாக திகழ்ந்தது.', 'இது கிரேக்க புத்த மதம் போற கலவையான பண்பாடுகளை உருவாக்கிற்று.', 'இந்த வகையான மகாயான புத்த மதம் கி. மு. 5 ஆம் நூற்றாண்டு வரை நீடித்திருந்தது.', 'பண்டைய இந்தியாவை மவுரிய சாம்ராஜ்ஜியம் கிமு 322 முதல் கிமு 185 முடிய மவுரிய அரச மரபால் ஆட்சி செய்யப்பட்டது.', 'அது அரசியல் மற்றும் போர் சார்ந்தவற்றில் மிகவும் வலிமை மிக்கதாகவும், புவியியலில் பரந்தும் இருந்தது.', 'சந்திர குப்தா மவுரியரால் துவங்கப்பட்ட இந்த மவுரிய சாம்ராஜ்ஜியம் பேரரசர் அசோகரின் காலத்தில் தழைத்தோங்கியது.', 'இந்த சாம்ராஜ்ஜியம் மேற்கு பகுதியில் இமாலயத்திலிருந்து கிழக்கு பகுதியில் அஸ்ஸாம் வரை பரந்திருந்தது.', 'வடக்கு பகுதியில் அது பாகிஸ்தானையும் தாண்டி சென்று, பலோசிச்தானையும் (இப்போதைய ஆப்கனிஸ்தானின் எறாத்து மாகாணம் மற்றும் கந்தகார் மாகாணங்களை தன்னுள் அடக்கியது.', 'சந்திர குப்தா மவுரியாவும் பிந்துசாராவும் மத்திய மற்றும் தென் இந்திய பகுதிகளைக் கைப்பற்றி இருந்தாலும், கண்டறியாத பல குலத்தினர் குடியிருந்த, பெரும் பகுதியான கலிங்கத்தை பேரரசர் அசோகர் வென்றார்.', 'இந்த மத்திய காலம் பண்பாடு வளர்ச்சிக்கு பெயர் போன ஒன்றாகும்.', 'சதவாகனர்கள் அல்லது ஆந்திரா என்று அழைக்கப்பட்டவர்கள் மத்திய மற்று தென்னிந்திய பகுதிகளை கி. மு. 230 ல் ஆட்சி செய்தனர்.', 'சதவாகன சாம்ராஜ்ஜியத்தில் ஆறாவுதாக வந்த சதகர்ணி மன்னர் மேற்கிந்தியாவின் சுங்க சாம்ராஜ்ஜியத்தை வீழ்த்திய பெருமையைப் பெற்றவர் ஆவார்.', 'கௌதமிபுத்ர சதகர்ணி  இந்த சாம்ராஜ்ஜியத்தின் மற்றும் ஒரு மேலார்ந்த மன்னர் ஆவார்.', 'இமாலய பகுதியிலிருந்த குலிந்தப் பேரரசு கி . மு. இரண்டாம் நூற்றாண்டிலிருந்து  மூன்றாம் நூற்றாண்டு வரை நிலைத்து இருந்தது.', ' கி. மு. முதல் நூற்றாண்டின் பாதியில்  நடு ஆசியாவிலிருந்து வந்த குஷானர்கள் வட மேற்கு இந்தியப் பகுதி மீது படை எடுத்தனர்.', 'அவர்களது ராஜ்ஜியம் பெஷாவரிலிருந்து, மத்திய கங்கை பகுதியிலிருந்து மற்றும் வங்காள விரிகுடா வரை இருந்தது.', 'அது பண்டைய பாக்திரியா  (மேற்கு ஆப்கனிஸ்தான் பகுதி) மற்றும் தென் தஜகிச்தானத்தையும் தன்னுள் கொண்டிருந்தது.', 'வடக்கு மற்றும் மத்திய இந்திய பகுதியை ஆண்ட சகர்கள், வடக்கு சத்திரப்பதிகளாக கருதப்பட்டனர்.', 'கிபி 35- முதல் 405 வரை இவர்கள் இந்தோ சிதியர்களை அடுத்தும், மேற்கு பகுதியை ஆண்ட குஷானர்களின் மற்றும் தெற்கு பகுதியை ஆண்ட சாதவாகனர்களின் சமகாலத்திலும் வாழ்ந்தனர்.', 'மேலும் பாண்டிய ராஜ்ஜியம், சோழ ராஜ்ஜியம், சேர ராஜ்ஜியம், கதம்ப ராஜ்ஜியம்,  பல்லவ ராஜ்ஜியம், சாளுக்கிய ராஜ்ஜியம் போன்ற பல சாம்ராஜ்ஜியங்களை, தென்னிந்தியாவில் பல கால கட்டங்களில் கொண்டிருந்தது.', 'பல தென்னிந்திய ராஜ்ஜியங்கள் தங்களது எல்லையை கடலுக்கு வெளியேவும் எடுத்து சென்றனர்.', 'இது தென் கிழக்கு ஆசியா வரை இருந்தது.', 'இந்த ராஜ்ஜியங்கள் தங்களுக்குள்ளேயும் , மத்திய மாநிலங்களுடன் ஆட்சிக்காக ஏராளமான போர்கள் இட்டன.', 'களப்பிரர் எனும் புத்த ராஜ்ஜியம் தற்காலிகமாக சோழ, சேர பாண்டிய ராஜ்ஜியங்களை தன கட்டுப்பாட்டுக்குள் வைத்திருந்தது.', 'இந்தோ-கிரேக்கர்கள், இந்தோ-பார்த்தியர்கள், இந்தோ சசானியர்கள் போன்ற கலப்பு பண்பாடுகள் வட மேற்கு இந்திய துனைகண்டத்தில் செழித்தது.', '[[கிரேக்க பாக்திரியா பேரரசு|இந்தோ-பாக்திரியா பேரரசர் டெமெத்ரியஸ் கிமு 180-இல் இந்தியா மீது படையெடுத்த போது வடமேற்கு இந்தியாவில் கிரேக்கப் பண்பாடு கலகக்கத் துவங்கியது.', 'இது இரண்டு நூற்றாண்டுகளுக்கு நீடித்து இருந்தாலும் இதனை ஆண்ட கிரேக்க மன்னர்கள் (ஏறத்தாழ முப்பது ஆண்டுகள்) ஒருவரோடு ஒருவர் போரிட்டுக் கொண்டே இருந்தனர்.', 'நடு ஆசியாவிலும், ஐரோப்பியாவிலும் வாழ்ந்த பண்டைய சிதியர்கள் எனும் சகர்கள் பண்பாட்டின் ஒரு கிளை தான் இந்தோ சிதியர்கள் பண்பாடு ஆகும்.', 'இந்த சிதியர்கள் தெற்கு சைபீரியாவிலிருந்து, பாக்திரியா, சோக்தியானா, பாக்ராம், காஷ்மீர், காந்தாரம்  வழியாக இந்தியா வந்து சேர்ந்தனர்.', 'இவர்களது ராஜ்ஜியம் மத்தியகாலத்தின் இரண்டாம் நூற்றாண்டிலிருந்து முதல் நூற்றாண்டு வரை நீடித்து இருந்தது.', 'பாரசீகத்தை ஆண்ட பகலவரிகளின் ஒரு கிளையினரான இந்தோ-பார்த்தியர்கள் தற்காலத்து ஆப்கனிஸ்தான் மற்றும் மேற்கு பாகிஸ்தான் பகுதிகளையும் கந்தாராப் பகுதியின்பிறகால குசானப் பேரரசின்  குசுலா கட்பிசஸ் போன்ற குறுநில மன்னர்களிடமிருந்து போரிட்டுப் பெற்றனர்.', 'பாரசீகத்தின் சாசானியர்கள், குப்தப் பேரரசு இருந்த  காலத்தில் வாழ்ந்தனர்.', 'இவர்கள் தற்கால பாகிஸ்தானில் ஆட்சி செய்ததை நாம் அங்கு இருக்கு பாரசீகப் பண்பாட்டின் மூலம் தெளிவு படுத்திக் கொள்ளலாம்.', 'இதுவே  இந்தோ சசானியர்கள் கலாச்சாரத்தின் பிறப்பிடம் எனவும் கூறலாம்.', 'இந்தியாவுடன் ரோமானியர்கள் தங்கள் வணிகத்தை கிபி முதல் நூற்றாண்டு முதல் ஆரம்பித்தனர்.', 'இது  உரோமைப் பேரரசர் அகஸ்ட்டஸ், பன்டைய எகிப்தை ஆண்ட தாலமி வம்சத்தினரை வென்ற பின்னரே  நடந்தது.', 'இந்தியாவின் மத்திய ராஜ்ஜியங்கள், ரோமை மிகப்பெரிய பங்காளியாகக் கொண்டிருந்தது.', 'சைசியசின் எக்ஸொடஸ் கி. மு. 130 ல் இந்த வணிகத்தை ஆரம்பித்து வைத்தார், என்று ஸ்ட்ராபோ குறிப்பிடுகிறார்.', ' (. 5.12.[53]) அகஸ்டஸ்காலகட்டங்களில் ஆண்டுக்கு ஒருகாபால் என்ற கணக்கில், மயோஸ் ஹார்மொசிலிருந்து இந்தியாவரை கப்பல் போக்குவரத்து இருந்தது.', 'இங்கு ஏராளமாக தங்கம் வாணிகத்துக்காக உபயோகிக்கப்பட்டது.', 'பின்னர் இதே தங்கத்தை குசானர்களும் உருக்கி தங்களது காசுகளை அச்சடிக்க உபயோகித்துக்கொண்டனர்.', 'இதனை மூத்த பிளினி என்ற வரலாற்று ஆசிரியர் குற்றம் சாற்றி கூறியுள்ளார் ( .', '101)\\nஇந்த வணிகப் பாதைகளும் துறைமுகங்களும் கிபி முதல் நூற்றாண்டில் விவரிக்கப்பட்டுள்ளது.', 'இந்த விவரங்கள் எரித்திரியக் கடலின் பெரிப்ளசு கையேடுகள் மூலம் அறிய முடிகிறது.', '4 ஆம் மற்றும் 5 ஆம் நூற்றாண்டுகளில் குப்த பேரரசு வட இந்தியாவை ஒன்றுபடுத்தியது.', 'குப்தர்களின் காலத்தை இந்து மதத்தின் மறுமலர்ச்சி பொற்காலமாகக் கருதப்பட்ட இந்த காலத்தில் இந்து பண்பாடு, அறிவியல் அரசியல் அமைப்புகள் வளர்ச்சி அடைந்தன.', 'இந்த பேரரசில் மிகவும் பிரபலமானவர்கள்:முதலாம் சந்திரகுப்தர், சமுத்திரகுப்தர் மற்றும்  இரண்டாம் சந்திரகுப்தர் மற்றும் முதலாம் குமாரகுப்தர் காலத்தில் பழமைவாய்ந்த புராணங்கள்  எழுதப்பட்டது என்றும் கூறுவர்.', 'மத்திய ஆசியாவிலிருந்து வந்த ஹூணர்களின் படையெடுப்பின் காரணமாக இந்த குப்த சாம்ராஜ்ஜியம் முடிவுக்கு வந்தது.', '6 ஆம் நூற்றாண்டில், இந்த பேரரசின் முடிவுக்கு பின்னர் இந்தியாவில் மேலும் பல குறுநில மன்ன்னர்கள் ஆண்டனர்.', 'இந்த அரசு உருக்குலைந்த பின்னரும் குப்த குலத்தை சேர்ந்த ஒரு சிலர் மகத நாட்டை ஆட்சி செய்தனர்.', 'இறுதியாக இந்த குலத்தை வென்றவர் ஹர்ஷவர்தனர் .', 'இவர் தனது ராஜ்ஜியத்தை 7 ஆம் நூற்றாண்டின் பாதியில் துவக்கினார்.', 'ஹெப்தலைட்டுகள் குழுவை சார்ந்த வெள்ளை நிற ஹூணர்கள், 5 ஆம் நூற்றாண்டின் முதல் பாதியில், ஆப்கனிஸ்தானில் உள்ள பாமியான் என்ற தலைநகரை கொண்டு ஆட்சிசெய்தனர்.', 'இவர்கள் குப்தர்கள் சாம்ராஜ்ஜியம் குலைய காரணமாக இருந்ததால் இவர்களே பொற்காலத்தின் முடிவுக்கும் கரணம் என்கின்றனர் வரலாற்று ஆய்வாளர்கள்.', 'என்ன இருந்தாலும் இந்த சர்ச்சைகள் தென்னிந்திய பகுதியையும், டெக்கான் பகுதியையும் எள் அளவும் பாதிக்கவில்லை.', 'இந்தியாவின் தனிச்சிறப்புடைய காலம் மேற்கு பகுதிகளில், குப்தர்களின் காலத்தில் துவங்கியது, மேலும் இது ஹர்சப் பேரரசர் ஹர்ஷவர்தனர்வின் காலத்திலும் (7 ஆம் நூற்றாண்டு) தொடர்ந்தது.', 'பின்னர் சிறு சிறு அரசுகளான கூர்ஜர-பிரதிகாரப் பேரரசு (கி.', 'பி 650–1036), பாலப் பேரரசு(கிபி 750–1174), இராஷ்டிரகூடர் (கிபி 753–982), பரமாரப் பேரரசு(கிபி 800–1327), உத்பால வம்சம் (கிபி 855– 1003), தேவகிரி யாதவப் பேரரசு (கிபி 850 – 1334), காமரூப பால அரசமரபு கிபி 900 – 1100) சோலாங்கிப் பேரரசு (கிபி 950 – 1300), மேலைச் சாளுக்கியர் (கிபி 973 – 1189), சந்தேலர்கள் (கிபி 954 – 1315), லெகரா பேரரசு (கிபி 1003–1320), போசளப் பேரரசு (கிபி 1040–1346), சென் பேரரசு (கிபி 1070–1230), கீழைக் கங்கர் (கிபி 1078–1434), காக்கத்தியர்கள் (கிபி 1083–1323), காலச்சூரி பேரரசு (கிபி 1130–1184), [[தேவா பேரரசு (11-12 நூற்றாண்டு) பின்னர் வட இந்தியா மற்றும் வடமேற்கு இந்தியா மற்றும் கிழக்கு இந்தியாவின் பெரும்பகுதிகளை தில்லி சுல்தானகம் (கிபி 1206–1526) ஆண்ட காலத்தில் இந்துக்களின் அகோம் பேரரசு (கிபி 1228–1826),  ரெட்டிப் பேரரசு (கிபி 1325–1448), விஜயநகரப் பேரரசு (கிபி 1336–1646), கஜபதி பேரரசு (கிபி 1434–1541) மற்றும் சியா இசுலாமியர்களின் தக்காணத்து சுல்தானகங்கள் (கிபி 1490–1596) ஆண்டனர்.', 'இந்தியாவின் தற்கால தமிழ்நாடு மற்றும் கேரளாப் பகுதிகளை தவிர்த்து இந்தியத் துணைக் கண்டம் முழுவதும் முகலாயப் பேரரசு (1526–1858) ஆண்ட காலத்தில் தென்னிந்தியாவின் மகாராட்டிரத்தில் மராட்டியப் பேரரசு (1674–1820) ஆண்டது.', 'தற்கால தமிழ்நாட்டிலும், கேரளாவிலும் சேரர் , சோழர் மற்றும் பாண்டியர்களின் ஆட்சி நடைபெற்றது.', 'இந்த காலத்தில் இந்தியாவின் மிக சிறந்த கலைகள் தலையெடுத்தன.', 'இதில் தனிச்சிறப்புடைய வளர்ச்சி காணப்பட்டது.', 'ஆன்மீகம் மற்றும் இந்து, புத்த, மற்றும் சமண மதங்களின் தத்துவ அமைப்புகள் வளர்ச்சியடைந்தன.', '7 ஆம் நூற்றாண்டில் வட இந்தியாவின் பெரும்பகுதிகளை கன்னோசி மன்னன் ஹர்சவர்தனர் ஒன்று படுத்தினார்.', 'இது குப்தர்களுக்கு பின்னர் நடந்தது.', 'ஹர்ஷாவின் மறைவுக்கு பின்னர் இந்த ராஜ்ஜியமும் குலைந்தது.', 'கிபி 7 லிருந்து 9 ஆம் நூற்றாண்டு வரை ஆட்சிக்காக மேற்கிந்தியாவில் மூன்று அரச மரபுகள் போட்டியிட்டுக் கொண்டனர்.', 'அவர்கள், மாலுவாவின் பிரதிஹாரா (பின்னாளில் கனவுஜ்), வங்காளத்தின் பாலர்கள், மற்றும்டெக்கான் பகுதியின் ராஷ்டிரகூடர்கள் ஆவர்.', 'பலார்கிடமிருந்து பின்னாட்களில் சேனா ராஜ்ஜியம் ஆட்சியை கைப்பற்றியது.', 'அதே சமையத்தில் ப்ரதிஹாரா ராஜ்ஜியம் சிறு சிறு ராஜ்ஜியங்களாக மாறியது.', 'அதன் பின்னர் வந்த ராஜபுதர்கள் இந்தியாவில் தங்கள் ஆட்சியை  வெள்ளையரிடமிருந்து இந்தியா சுதந்திரம் பெரும் நாள் வரை சரிவர செய்தனர்.', 'நாம் அறிந்த வரை ராஜபுத ராஜ்ஜியம் முதல் முதலில் ( 6 ஆம் நூற்றாண்டு) ராஜஸ்தானில் தான் இருந்தது.', 'அதற்கும் பிறகு சிறு சிறு ராஜபுத ராஜ்ஜியங்கள் மேற்கிந்தியாவை ஆண்டன.', 'சவுதான் குலத்தை சேர்ந்த ப்ரித்வி ராஜ் சவுதான் என்கின்ற ராஜபுதர்,இஸ்லாமிய சுல்தான்களை எதிர்த்து வீரத்துடன் போரிட்டார்.', 'கிழக்கு ஆப்கனிஸ்தானை, மேற்கு பாகிஸ்தானை மற்றும் காஸ்மீரை மத்திய 7 ஆம் நூற்றாண்டிலிருந்து பதினோராம் நூற்றாண்டின் ஆரம்ப காலம் வரை சாகி அரச மரபு ஆட்சி புரிந்தது.', 'ஹர்ஷாவுடன் ஒற்றுமை எண்ணம் மேற்கிந்தியாவில் மறைந்தாலும், இந்த கொள்கை அப்படியே தென் பகுதிக்கு மாறியது.', '550 – 750 சாலுக்கிய சாம்ராஜ்ஜியம் மத்திய மற்றும் தென்னிந்தியாவை கர்நாடகாவிலுள்ள பதாமியிலிருந்து ஆண்டது.', 'அதே கர்நாடகாவிலுள்ள  கல்யாணியிலிருந்து 970-1190 ஆட்சி புரிந்தது.', 'சமகாலத்தில் வாழ்ந்தவர்கள் என்றால் நாம் காஞ்சியின் பல்லவர்களை நினைவு கூறலாம்.', 'சாளுக்கிய சாம்ராஜ்ஜியத்தின் முடிவுக்கு பின்னர் அவர்களது எதிரிகளான ஹலேபிடின் ஹோய்சாளர்கள், வாரங்களின்காகடியர்கள், தேவகிரியின் சூனா யாதவர்கள்மற்றும்கலசூரி என்ற தென் கிளையை சேர்ந்தவர்கள், பன்னிரண்டாம் நூற்றாண்டின் பாதியில் சாளுக்கிய ராஜ்ஜியத்தை தங்களுக்குள் பகிர்ந்து கொண்டனர்.', 'பின்னர் வந்த காலங்களில் தமிழ் நாட்டின் மேற்கு பகுதியில் சோழ ராஜ்ஜியமும் கேரளாவில் சேர ராஜ்ஜியமும் எழுந்தன.', '1343 ல் இந்த ராஜ்ஜியங்களின் முடிவு விஜயநகரத்தின் எழுச்சிக்கு வழி வகுத்தது.', 'இந்த தென்னிந்தியா ராஜ்ஜியங்கள் தங்களது ஆட்சிகளை கடல் தாண்டி தென் கிழக்கு ஆசியாவில் இந்தோனேசியா வரை கொண்டிருந்தனர்.', 'தென்னிந்தியாவில் இருந்த துறைமுகங்கள் இந்து மகா சமுத்திரத்தில் நடந்த வாணிகத்தில் தங்களை ஈடுபடுத்தியிருந்தன.', 'இந்த வாணிகம் வடக்கு பகுதியில் ரோமர்களிருந்து கிழக்கு பகுதியில் தென் கிழக்கு ஆசியா வரை நடைபெற்றது.', '[54][55] பதினான்காம் நூற்றாண்டில் டில்லி சுல்தான்களின் வருகை வரை தாய்மொழிகளில் இருந்த இலக்கியங்களும், கட்டிடக் கலையும் செழிப்பாக இருந்தன.', 'இந்து மதத்தை பின்பற்றிய விஜயநகர அரச மரபு (பாமினி ராஜ்ஜியம்) இஸ்லாமிய ஆட்சியருடன் விரோதம் கொண்டது.', 'இந்த இரு அமைப்புகளுக்கு நடுவே நடந்த கருத்து வேறுபாடுகள் ஒன்றன் மேல் மற்றொன்று தீராத பாதிப்பை ஏற்படுத்தியுள்ளது.', 'டில்லியிலிருந்து ஆட்சி செய்த சுல்தான்களால் விஜயநகரம் தனது வலுவை இழந்தது.', 'இந்தியாவின் தொல்பொருள் ஆரய்ச்சியாளர்கள் இந்தியாவின் 55,000000 கல்செதுக்கங்களில், 55 சதவிகிதமான கல்வெட்டுகள் தமிழில் உள்ளன என்றும் 60 சதவிகிதம் தமிழ்நாட்டில் உள்ளன என்றும் கண்டறிந்துள்ளனர்.', '[56]\\nஇந்தியாவின் வட தோழமை நாடான பெர்சியாவின் மீது ஆரபியர்கள் படையெடுத்த போது, நாகரிகத்தையும், வைர சுரங்கங்களையும், வெளிநாட்டு வாணிகத்திலும் செழித்தோங்கிய இந்தியாவையும் அவர்கள் கண்ணிட்டனர்.', 'ஒரு சிறிய காலத்திற்கு போராட்டங்கள் இருந்தாலும் மேற்கிந்தியாவை இஸ்லாமிய சுல்தான்கள் கைப்பற்றினர்.', 'நாளடைவில் மேற்கு துணை கண்டத்தையும் தங்களது வசம் கொண்டுவந்தனர்.', 'ஆனால் துருக்கியரின் படையெடுப்புக்கு முன்னர் இஸ்லாமியர்கள் இந்திய கடலோர பகுதிகளுடன் வாணிகம் கொண்டிருந்தனர்.', 'முக்கியமாக சொல்ல வேண்டும் என்றால் அவர்கள் இந்து மகா சமுத்திரம் வழி அராபியாவிலிருந்து கேரளா வந்தனர்.', 'இதனால் ஆபிரகாமிய மத்திய கிழக்கு மதம் எழுந்தது.', 'இது தென்னிந்தியாவில் புனிதமாகக் கருதப்பட்ட இந்து தருமங்களிலிருந்து வேறு பட்டிருந்தது.', 'பின்பு பாமினி சுல்தான்களும் டெக்கான் சுல்தான்களும் தென்னிந்தியாவில் செழிப்புடன் இருந்தனர்.', '12 மற்றும் 13 ஆம் நூறாண்டுகளில் துருக்கியர்கள் மற்றும் பாஷ்டுன்கள் ராஜபுதர்களின் கைகளில் இருந்த மேற்கிந்தியாவின் மீது படையெடுத்து டில்லி சுல்தான்களாக மாறினர்.', '[57] அதன் பிறகு வந்த டில்லியை சார்ந்த அடிமை அரச மரபுமேற்கிந்தியாவின் பெரும்பகுதியை குப்தர்கள் போலவே கைப்பற்றியது.', 'அனால்கில்ஜி அரச மரபுமத்திய இந்தியாவில் கைப்பற்றி இருந்தாலும் அவர்களால் இந்த பக்டுதியை ஒன்று படுத்தி கட்டிக் காக்க இயலவில்லை.', 'இந்திய கலாச்சாரத்தில் மறுமலர்ச்சியை ஏற்படுத்தியது இந்த சுல்தானியம்.', 'இந்த இந்திய இஸ்லாமிய கலாசாரங்களின் கலப்பு கட்டிடக் கலை, இசை, மதம்.', 'உடைகளில் அழியாத மாற்றங்களை ஏற்படுத்தியுள்ளது.', 'நாடோடி இனம் அல்லது முகாம் என்ற பொருளை கொண்ட உருது மொழி (துருக்கிய மொழியில்) டில்லி சுல்தான்கள் காலில் பிறந்தது.', 'இது சமஸ்க்ருத பிரகிருத்தி பெர்சியா, துருக்கி, அரபு மொழியுடன் கலந்ததால் ஏற்பட்டது.', 'டில்லி சுல்தானியும் பெண் ஆட்சியாளரை நியமித்த ஒரு சில ராஜ்ஜியன்களுள் ஒன்று.', 'இது ரசியா சுல்தானை ஆட்சியில் அமர்த்தியது. (1236–1240). 1398 ஆண்டில் துருக்க மங்கோலிய அரசர் தைமூர் டில்லியை சார்ந்த துக்ளக் அரச மரப மன்னரான சுல்தான் நசீருதீன் முஹம்மதின் ஆட்சியை பிடிக்க முனைப்புடன் செயல் பட்டார்.', '[58] சுல்தான் டிசம்பர் 17, 1398 அன்று தோல்வியுற்றார்.', 'தைமூர் டில்லியை அடைந்த பின் அதனை கொள்ளையடித்து, அழித்து, துயரமான நிலையில் விட்டுச் சென்றார்.', '1526 ல் தைமூரிலிருந்து தைமூர் மற்றும் செங்கிஸ்கான் வம்சவழி வந்த பபூர், கைபர் பாசின் வழி வந்து முகலாய சாம்ராஜ்ஜியத்தை அமைத்தார்.', 'இது இரு நூறு ஆண்டுகளுக்கு நீடித்து இருந்தது.', '[59] 1600 களில் முகலாய அரச மரபு இந்திய துணைகண்டத்தின் முக்காவாசி பகுதிகளை ஆண்டு கொண்டிருந்தது.', '1707 க்கு பிறகு அது தன வல்லாண்மையை இழக்கத் துவங்கியது.', 'அது 1857 இந்திய சுதந்திரப் போர் அல்லது 1857 இந்திய புரட்சி காரணமாக முற்றிலும் தொலைந்து போனது.', 'இந்த காலம் இந்திய வரலாற்றில் ஏராளமான மாற்றங்களை ஏற்படுத்தியது.', 'இந்து மக்கள் முகலாய பேரரசர்களால் ஆட்சி செய்யப்பட்ட காலம் இது.', 'பெரும்பாலான இஸ்லாமிய மன்னர்கள் இந்து மதத்தையும் அதனது கலாச்சாரத்தையும் ஆதரித்தனர்.', 'பபுரின் பேரரான அக்பர் இந்துக்களுடன் நல்லுறவை ஏற்படுத்த முனைப்பட்டார்.', 'ஆயினும் பின்னர் வந்த அவுரங்கசீப் போன்ற மன்னர்கள் இஸ்லாமிய ஆதிக்கத்தை திணித்தனர்.', 'இதனால் பல கோவில்கள் அழிக்கப்பட்டன.', 'இஸ்லாமியர்கள் அல்லாதவர்கள் பெரும் வரிகளைக் கட்டினர்.', 'மவுரிய சாம்ராஜ்ஜியத்தைப்போல பரந்த எல்லைப்பரப்பை கொண்டிருந்த முகலாய சாம்ராஜ்ஜியம் வலுவை இழந்தவுடன் அதனை ஈடுகட்ட சிறு சிறு ராஜ்ஜியங்கள் வரத் துவங்கின.', 'செல்வசெழிப்புடன் இருந்த அரச மரபாக முகலாய சாம்ராஜ்ஜியம் திகழ்ந்தது.', '1739 ல்,நதேர் ஷா முகலாய படையை கர்னல் போரில் வீழ்த்தினார்.', 'இந்த வெற்றியை தொடர்ந்து நதேர் ஷா தில்லியைக் கைப்பற்றி அதனுள் இருந்த செல்வத்தை தன்பால் எடுத்துச் சென்றார்.', 'அதில் மயில் சிம்மாசனமும் ஒன்றாகும்.', '[60]\\nமுகலாய காலத்தில் உச்சக் கட்டத்தில் முகலாய சாம்ராஜ்ஜியத்தின் அரசியல் அமைப்புகள் மிகவும் வலிமையாக இருந்தன, அதன் பின்னர் வலுவிழந்த இந்த முகலாயர்களை வீழ்த்த மராத்திய ராஜ்ஜியங்கள் வீரியம் கொண்டன.', 'முகலாயர்கள் இந்திய கலாச்சாரத்துடன் ஒன்று கூடி செயல்பட்டதே அவர்கள் நீண்ட காலம் ஆட்சி புரிந்ததன் ரகசியமாகும்.', 'இந்த ரகசியத்தை டில்லியின் சுல்தான்கள் அறியாததால் அவர்கள் வெகு விரைவில் ஆட்சியை இழந்தனர்.', 'இந்த கொள்கையை பெரிதும் மதித்து செயல் பட்டவர் பேரரசர் அக்பர் ஆவார்.', 'சமண மதம் தழைத்து இருந்த அந்த காலத்தில் அக்பர் அமரி என்ற ஒன்றை அமல் படுத்தினார்.', 'இந்து விலங்குகளை கொல்லக்கூடாது என்ற சட்டமாகும்.', 'அவர் ஜசியா என்ற வரியை ரத்து செய்தார் (முஸ்லிம் அல்லாதவர்களுக்கு).', 'முகல்லாய மன்னர்கள் இந்திய மன்னர்களுடன் ஒப்பந்தங்கள் செய்து கொண்டனர், இந்திய ராணிகளை மணந்து கொண்டனர், அவர்கள் தங்களது துருக்கிய பெர்சிய கலாச்சாரத்தை இந்திய முறைகளுடன் இணைத்து இந்தோ-சாராசெனிக் கட்டிடக் கலையை உண்டாக்கினார்கள்.', 'இந்த வழி முறையை மறந்த நிலையிலும், இஸ்லாமிய ஆதிக்கமும், மக்களை கொடுமைப்படுத்துதலும் ஒன்று சேர்ந்து அவுரங்கசீபின் காலத்திக்கு பிறகு இந்த சாம்ராஜ்ஜியம் வலு இழக்க காரணமாக இருந்தது.', 'அவுரங்கசீப் மற்ற அரசர்களைப் போல் அல்லாது பொதுமக்கள் பெரிதும் விரும்பாத பல கொள்கைகளை கையாண்டார்.', 'முகலாயர்களுக்கு பிறகு அவர்களது இடத்தை மராத்தியர் பிடித்தனர்.', 'இதே சமயத்தில் ஐரோப்பியர்களின் நடவடிக்கைகளுக்கும் இந்தியாவில் அதிகரித்தது.', 'சிவாஜி துவக்கிய மராத்திய அரசு அவர் காலத்தில் மிகவும் வலிமையாக இருந்தது.', '18 ஆம் நூற்றாண்டுகளில் பேஷ்வாவின் ஆட்சியில் தன்னை மராத்திய ராஜ்ஜியமாக மாற்றியமைத்துக் கொண்டது.', '1760 ல், இந்த சாம்ராஜ்ஜியம் இந்திய துணைகண்டம் முழுவதிலும் தனது கொடியை நாட்டி இருந்தது.', 'இந்த மராத்திய விரிவாக்கம் அஹ்மது ஷா அப்டாலி தலைமையின் கீழ்வந்த ஆப்கனிய படையால், மூன்றாம் பானிபெட் போரின் மூலம் தடுக்கப்பட்டது. (1761). கடைசி பெஷ்வாவாகிய பாஜி ராவ் , ஆங்கிலேயரால் மூன்றாம் ஆங்கிலேய மராத்திய போரில் வீழ்த்தப்பட்டார்.', 'மைசூர் தென்னிந்தியாவில் ஒரு சிற்றரசாகும்.', 'இது கி. பி. 1400 ல் வாடியார் அரசு மரபினரால் துவக்கப்பட்டது.', 'வாடியர்களின் ஆட்சி ஹைதர் அலியாலும் அவரது மகன் திப்பு சுல்தானாலும் ஒரு முடிவுக்கு வந்தது.', 'ஆங்கிலேய-மைசூர்ப் போர்கள் மூலம் ஐதர் அலி மற்றும் திப்பு சுல்தான் ஒடுக்கப்பட்டு, மைசூர் அரசு ஆங்கிலேயருக்கு கப்பம் கட்டும் சுதேசி சமஸ்தானமாக மாறியது. ஈடுப. ஹைதராபாத் 1591 ல், கோல்கொண்டாவை சேர்ந்த குதுப் ஸாஹியால் ஆக்கப்பட்டது.', 'ஒரு சிறிய ஆசிப் ஜாவின் கீழ் நடந்த முகலாய ஆட்சிக்கு பிறகு மீண்டும் ஹைடிராபாதை சேர்ந்த நிசாம் அழ மலக் 1724 ல் ஆட்சியைப் பிடித்தார்.', '1724 இலிருந்து 1948 வரை ஹைதராபாத் நிஜாம் வம்சாவளியினத்தினரால் ஹைதிராபாத் ஆட்சி செய்யப்பட்டது.', 'ஆங்கிலேய தென் இந்தியாவில் மைசூரும், ஹைதிராபாதும் மன்னராட்சி செய்த நாடுகளாக மாறின.', 'சீக்கிய மதத்தினை சேர்ந்த ஒரு சிலரால் உண்டான பஞ்சாபிய ராஜ்ஜியம் அரசியல் நல்லபடியாக பஞ்சாபை ஆட்சிசெய்தது.', 'இந்தப் பகுதி ஆங்கிலேயரால் கைப்பற்றப்பட்ட இறுதிப் பகுதிகளில் ஒன்று.', 'ஆங்கிலேய-சீக்கியப் போர்கள்  சீக்கிய ராஜ்ஜியத்தின் உருக்குலைவுக்கு வழி வகுத்தது.', '18 ஆம் நூற்றாண்டில் கோர்கா, ஷா மற்றும் ரானா ஆட்சியாளர்களால் நேபாளம் உருவாக்கப்பட்டது.', 'அவர்கள், தங்களை பாதுகாத்துக் கொண்டதுடன் ஒற்றுமையாகவும் வாழ்ந்தனர்.', 'பண்டைய தமிழகத்தை ஆட்சிபுரிந்த 3 பேரரசுகளில் சேர பேரரசு ஒன்றாகும்.', 'தற்போதைய கேரளாவின் பெரும்பான்மையான பகுதிகள்,தமிழ்நாட்டின் சில பகுதிகளையும் கொண்ட பகுதி சேர பேரரசு ஆகும்.', 'முக்கிய துறைமுகம் முசிறி ஆகும்.', 'முதல் நூற்றாண்டில் தமிழகத்திலிருந்து முசிறி துறைமுகம் வழியாக உரோமை நாட்டுடன் வணிக தொடர்பு சிறப்பாக நடந்ததாக மார்க்கோ போலோ தனது நூலில் குறிப்பிட்டுள்ளார்.', 'சோழ பேரரசில் குறிப்பிட தக்க அரசர்களில் முக்கியமானவர்கள் இருவர், 1. ராஜராஜ சோழன் , 2. ராஜேந்திர சோழன் .', 'இவர்களுடைய ஆட்சி காலத்தில் சோழ பேரரசு பறந்து விரிந்து காணப்பட்டது .', 'சோழர்கள் பழந்தமிழ்நாட்டை ஆண்ட மூவேந்தர்களுள் ஒரு குலத்தவராவர்.', 'மற்ற இரு குலங்கள் சேரர்களும் பாண்டியர்களும் ஆவர்.', 'சோழர் என்னும் பெயர் எவ்வாறு வழங்கத்தொடங்கியது என்பது தெரியவில்லை, சேரர், பாண்டியர் என்ற பெயர்களைப் போன்று சோழர் என்பது பண்டைக் காலந்தொட்டே ஆட்சி செய்து வரும் குடும்பம் அல்லது குலத்தின் பெயராகும் என்று பரிமேலழகர் என்னும் புலவரால் கருதப்பட்டது.', 'சேர, சோழ, பாண்டியர் ஆகிய மூவரும் சகோதரர்களே என்று கூறப்பட்டாலும் இது மரபு வழிச்செய்தியே தவிர வரலாற்று ஆதாரமற்றது.', 'இது எவ்வாறாயினும் சோழ அரச மரபின் மன்னர்களது ஆட்சியின் கீழ் இருந்த பகுதிகளும், மக்களும் பண்டைக்காலம் முதலே இப்பெயராலேயே குறிப்பிடப்பட்டு வந்துள்ளனர்.', 'சோழர் குலம் வளம் பொருந்திய காவிரி ஆற்றுப் படுகைப் பகுதியிலேயே தோற்றம் பெற்றது.', 'வாஸ்கோ ட காமா 1498 ல் கடல் வழியே இந்தியாவுக்கு வழி கண்டு பிடித்தார்.', 'இதனால் இந்திய ஐரோப்பிய வாணிகம் வளர்ச்சியடைந்தது.', '[61] போர்ட்யுகல் மக்கள் கோவா, டியூ, டாமன் மற்றும் பாம்பேவில் தங்களது வாணிக முகாம்களை அமைத்தனர்.', 'இவர்களையடுத்து டச், ஆங்கிலேயர்கள் வாணிக முகாம்களை சூரத்தின் வடக்கு கரையோரத்தில் நிறுவினர்.', '[62] 1619 ல் பிரெஞ்சு காரர்களும் அவர்களை பின் தொடர்ந்தனர்.', 'உள்ளுக்குளே நடந்த போர்களும், குழப்பங்களும் ஐரோப்பியர் தேடிக்கொண்டிருந்த நுழைவு வாயிலாக அமைந்தன.', 'இதன் மூலம் அவர்கள் அரசியல் ஆதிக்கத்தையும் செலுத்த ஆரம்பித்தனர்.', 'மற்ற எல்லா ஐரோப்பியா நாடுகளும் தங்களது வசம் இருந்த பகுதிகளை ஆங்கிலேயரிடம் நாளடைவில், அதாவது இந்த ஒரே நூற்றாண்டில் இழந்தனர்.', 'இதற்கு விதிவிலக்காக பிரெஞ்சு நாட்டவர்களின் பாண்டிசெரி, சந்தேர்நாகூர் மற்றும் டச்சின் ட்ராவனகொர் துறைமுகமும், மற்றும் போர்ட்யுகல் நாட்டினரின் கோவா, டாமன், டியூ இருந்தன.', 'ஆங்கிலேய கிழக்கிந்திய நிறுவனம் முகலாய பேரரசர் ஜெஹாங்கிரின் அனுமதிப் பெற்ற பிறகு இந்தியாவுடன் 1617 ல், வணிகம் கொள்ள ஆரம்பித்தது[63] நாளடைவில் அவர்களது ஆதிக்கத்தினால் சட்டப்படி (டி-சூரே ) இருந்த முகலாய பேரரசர் பருக் சியார் அவர்ர்களுக்கு தஸ்டக்குகள்  அல்லது வரியில்லாமல் வங்காளத்தில், 1717 ல், வாணிகம் செய்ய அனுமதி வழங்கினார்.', '[64] வங்காள மாகாணத்தை தனது வம்சாவளியின் (டி-பாக்டோ ) மூலம் ஆண்ட, வங்காளத்தின் நவாப் சிராஜ் உத் தௌலா ஆங்கிலேயரரின் இந்த முயர்ச்சிக்கு எதிர்ப்பு தெரிவித்தார்.', 'இது 1757 ல் பிளாசே போருக்கு வழி வகுத்தது.', 'இதில் இராபர்ட் கிளைவின் தலைமையில் சென்ற கிழக்கிந்திய நிறுவனத்தின் படை நவாபை வீழ்த்தியது.', 'நிலங்களை அரசியல் நோக்குடன் ஆங்கிலேயர்கள் ஆக்கிரமித்ததில் இதுவே முதல் முறை.', 'இந்த நிறுவனம் கிளைவை முதல் வங்காள ஆளுநராக 1757 ல் நியமித்தது.', '[65] 1764 ல் பக்சார் போருக்கு பின்னர் வங்காளத்தை ஆட்சி செய்ய முகலாய பேரரசர் ஷா அலாம்  இடமிருந்து அனுமதிப்பெற்றது.', 'இதுவே இந்தியா முழுதும் ஆங்கிலேயரின் ஆட்சிக்குள் வர முதல் படியாக இருந்தது.', '3}[113]\\nவங்காளத்தின் வணிகத்தை தான் மட்டுமே கையாண்டது பிரித்தானிய கிழக்கிந்திய நிறுவனம்.', 'அவர்கள் ஒரு புது நில வரியை அறிமுகப்படுத்தியது.', 'பெர்மனென்ட் செட்டில்மென்ட் என்ற இதன் வழியாக நிலங்கள் பியூடல் முறையில் கையாளப்பட்டன.', '(வங்காளத்தின் ஜமீன்தாரை பார்க்க) 1850 முடிவகளில் கிழக்கிந்திய நிறுவனம் இந்திய துணைகண்டத்தின் பெரும்பாலான பகுதிகளை (இன்றைய பாகிஸ்தான் மற்றும் வங்காள தேசம்) தன் கட்டுப்பாட்டுக்குள் கொண்டு வந்தது.', 'அவர்கள் பிரித்து ஆள் என்ற கொள்கையை தீவிரமாகப் பயன்படுத்தினர்.', 'அரசர்களால் கட்டுபடுத்தப்பட்ட மாநிலங்களுக்கும், சமுக மற்றும் மத சார்ந்த குழுக்களுக்கும் இருந்த பகைமையை இவர்கள் மிகவும் அறிவு பூர்வமாகப் பயன்படுத்திக் கொண்டனர்.', '[[|ஆங்கிலேயரின் கம்பெனி ஆட்சியின் பொழுது, அரசாங்கத்தின் சொல்லப்படாத கொள்கைகளால்இந்தியாவில் பஞ்சங்கள் உருவாகின.', 'மிக கொடுமையான பயங்கர பஞ்சம் (கிரேட் பாமின் ஆப் 1876–78), 6.1 மில்லியனிலிருந்து 10.3 மில்லியன் மக்கள் வரை கொன்றது [66].', 'அதனை தொடர்ந்த 1899–1900  இந்திய பஞ்சம், 1.25 இலிருந்து 10 மில்லியன் மக்கள் வரை இறந்தனர்.', '[66] மூன்றாம் பிளக் பாண்டமிக் தனது ஆதீனத்தை சீனாவில் கொண்டிருந்தது.', 'மத்திய 19 ஆம் நூற்றாண்டில் துவங்கிய அது\\nகண்டங்கள் முழுதும் அல்லது இந்தியாவில் மட்டும் 10 மில்லியன் மக்களை கொன்றது.', '[67] இந்த பஞ்சங்களும் வியாதிகளும் அதிகரித்த போதிலும் இந்திய துணைகண்டத்தின் மக்கள் தொகை 1750 ல் 125 மில்லியனாக இருந்து,1941 ல் 389 மில்லியனாக மாறியது 1941.[68]\\nபிரித்தானிய கிழக்கிந்திய நிறுவனத்தை எதிர்த்து நடந்த முதல் இயக்கம் 1857 இந்திய கலகம் என்ற பெயர் பெற்றது.', 'இதனை இந்திய விடுதலையின் முதல் போர் என்றும் அழைப்பர்.', 'ஒரு வருடத்துக்கு பிறகு, மிகுந்த நடவடிக்கைகள் எடுத்த பிறகுதான் இந்த கழகத்தை ஆங்கிலேயர்களால் கட்டுப்படுத்த முடிந்தது.', 'இந்த கலகத்திற்கு மானசீக தளபதியாக விளங்கிய முகாலாய பேரரசர் பகதூர் ஷா சபர் பர்மாவுக்கு நாடு கடத்தப்பட்டார்.', 'இதனால் முகலாய வம்சாவளியே ஒழிக்கப்பட்டது.', 'இதன் காரணமாக இந்திய கம்பெனி ஆட்சிப் பொறுப்பை தன்னிடம் ஆங்கிலேய முடியாட்சி மாற்றி கொண்டது.', 'இது இந்தியாவில் ஒரு குடியேற்ற நாடாகவே பார்த்து.', 'இது நிறுவனத்தின் கீழ் இருந்த நிலங்களை வெளிப்படையாகவும் மற்ற நிலங்களை அரசர்கள் ஆண்ட நாடுகள் என்ற போர்வை கீழ் மறை முகமாகவும் ஆட்சி செய்தது.', 'ஆங்கிலேயரிடமிருந்து ஆகஸ்ட் 1947 ல் விடுதலைப்பெற்ற இந்தியாவில் மொத்தம் 565 அரசர்களால் ஆளப்பட்ட நாடுகள் இருந்தன.', '[69]\\nபிரிடிஷ் வைஸ்ராய்க்கு அறிவுரை கூற இந்திய கவுன்சிலர்கள் நியமிக்கப்பட்டனர்.', 'இதுவே இந்திய சுதந்திரத்துக்கும் வடக்கு முறை குடியரசுக்கும் முதல் படியாக இருந்தது.', '[70] மாநிலவாரியான கவுன்சில்களில் நியமிக்கப்பட்டதன மூலம் கவுன்சிலர்கள் சட்டம் இயற்றுகிற கவுன்சில்களிலும் தங்களை அதிகமாக ஈடுபடுத்திக் கொண்டனர்.', '[71] 1920 இலிருந்து மோகன்தாசு கரம்சந்த் காந்தி போன்ற தலைவர்கள் ஆங்கிலேயருக்கு எதிரான மக்கள் இயக்கங்களை துவக்கி பாடுபட்டனர்.', 'ஆங்கிலேயரை எதிர்த்து படைகளை சேர்த்தார் சுபாஷ் சந்திர போஸ் என்ற மாபெரும் சுதந்திரப் போராட்டத் தலைவர்.', 'பகத் சிங் என்ற மற்றும் ஒரு சுதந்திரப் போராட்டத் தலைவர் இந்திய சுதந்திரப் போராட்டத்தில் புரட்சிகள் ஏற்படுத்த காரணமாக இருந்தார்.', 'அவர் ஷகீத் பகத் சிங் என்று அழைக்கபடுகிறார்.', 'ஷகீத் என்றால் கொள்கைவாதி என்று பொருள்.', 'முதல் விடுதலை போராட்ட  வீரர் கட்டலங்குளம் வீரன் அழகுமுத்து கோன் வரியைக் கட்ட மறுத்து ஆங்கிலேய தளபதியான கான்சாகிப் எதிர்த்து போரிட்டு அரசாங்கத்துக்கு எதிராக குரல் கொடுத்தார்.', 'அவர் சிந்திய ரத்தமே இந்திய விடுதலை போராட்டதிற்கு வித்திட்டது.', 'சுதந்திர போராட்ட வீரரில் வீரபாண்டிய கட்டபொம்மனும் ஒருவர்.', 'ஆங்கிலேயருக்கு எதிரான இந்தியா சுதந்திரத்துக்கான புரட்சி இயக்கத்தின்  செயல்பாடுகளும் இந்தியத் துணைக்கண்டத்தில் நடைபெற்றன.', 'இந்த இயக்கங்கள் அனைத்தும் 1947 ல் இந்தியா சுதந்திரம் பெற உறுதுணையாக இருந்தன.', 'ஆங்கில அரசு முகமதிய ஆட்சியையும் அது ஏற்படுத்திய அழிவுகளையும் முனைந்து பயின்று இந்து முஸ்லீம்களுக்கிடையேயான பிரச்சனைகளை முக்கியத்துவப்படுத்திக் காட்டுவதன் மூலம் இஸ்லாமிற்கு எதிரான அமைதியான கிறித்துவக் கொள்கையாக தனது காலனீய ஆட்சியைக் காட்ட முயன்றது என வரலாற்று ஆய்வாளர்கள் கருதுகின்றனர்.', 'மதத்தைத் தவிர பல காரணிகள் ஆட்சியைத் தீர்மானித்ததால், ஆராயும் வரலாற்றறிஞர்கள் ’இந்து ஆட்சி’, ’முகமதிய ஆட்சி’ என்று குறிப்பிடும் முறையை ஏற்பதில்லை.', '[72]\\nஇந்த விதத்தில் இந்திய விடுதலை இயக்கம் நடந்த அதே சமயத்திலேயே இந்துக்களுக்கும் முஸ்லிம்களுக்கும் நடுவே பிரச்சனைகளும் வளர்த்தெடுக்கப்பட்டன.', '1915 ல் மோகன்தாஸ் கரம்சந்து காந்தி இருதரப்பினருக்கும் இடையே ஒற்றுமையைக் கொண்டுவர பாடுபட்டார்.', 'ஆங்கிலேயர்கள் \"இந்தியாவை விட்டு வெளியேறிவிடுவோம்\", என்று வாக்களித்தனர்.', 'இந்தியாவின் அனைத்து பகுதிகளும் 1947 ல் சுதந்திரம் பெற்றன.', 'பிரித்தானிய இந்தியாவை பாகிஸ்தான் மற்றும் இந்தியா என பிரிக்கப்பட்டது.', 'இந்தியப் பிரிவினைக்குப் பின், பஞ்சாப் மற்றும் வங்காளத்தின் பிரிவினைக்கு முன்னர் மற்றும் ஒரு கலவரம் இந்துக்களுக்கும், சீக்கியருக்கும், முஸ்லிம்களுக்கும் இடையே மூண்டது.', 'இது இந்தியாவின் பெரும்பகுதிகளில் அதாவது பஞ்சாப், வங்காளம் மற்றும் டில்லியில் நடந்தது.', 'இதில் கிட்டத்தட்ட 500,000 மக்கள் இறந்தனர்.', '[73] இதே சமயத்தில் வரலாறே ஆச்சரியப்படும் அளவிற்கு ஒரு மிகப்பெரிய மக்கள் குடியேற்றம் நடந்தது.', 'இதில் 12 மில்லியன் இந்துக்கள், சீக்கியர்கள், இஸ்லாமியர்கள் புதிதாய் உருவான இந்தியா மற்றும் பாகிஸ்தானுக்கு இடம் பெயர்ந்தனர்.', '}\\n15 ஆகஸ்ட் 1947அன்று இந்திய விடுதலைக்குப் பின் பிரதம அமைச்சர் ஜவகர்லால் நேரு தலைமையில் முதல் இந்திய அரசு உருவானது.', '26 சனவரி 1950இல்  இந்திய அரசியலமைப்புச் சட்டம் உருவான அதே நாளில் இந்தியா குடியரசு நாடானது.', '1951-1952ஆம் ஆண்டில் இந்திய நாடாளுமன்ற முதல் பொதுத் தேர்தல் நடைபெற்றது.', 'வல்லபாய் படேலின் பெரு முயற்சியால் 562 மன்னராட்சி நாடுகள் இந்தியாவுடன் இணைக்கப்பட்டது.', '1960ஆம் ஆண்டில் இந்திய மாநிலங்கள் மொழிவாரி மாநிலங்களாக மாற்றி அமைக்கப்பட்டது.', 'இந்திய விடுதலைப் பின்னர் ஜனவரி 30, 1948 ஆம் தேதி இந்தியாவின் தேசப்பிதா காந்தியடிகள் சுட்டுக் கொல்லப்பட்டார்.', 'தமிழ் ( ) தமிழர்களினதும் தமிழ் பேசும் பலரின் தாய்மொழி ஆகும்.', 'தமிழ், உலகின் உள்ள முதன்மையான மொழிகளில் ஒன்றும் செம்மொழியும் ஆகும்.', 'இந்தியா, இலங்கை, மலேசியா, சிங்கப்பூர்  ஆகிய நாடுகளில் அதிக அளவிலும், ஐக்கிய அரபு அமீரகம், தென்னாப்பிரிக்கா, மொரிசியசு, பிசி, இரீயூனியன், திரினிடாடு போன்ற நாடுகளில் சிறிய அளவிலும் தமிழ் பேசப்படுகிறது.', '1997-ஆம் ஆண்டுப் புள்ளி விவரப்படி உலகம் முழுவதிலும் 8 கோடி (80 மில்லியன்) மக்களால் பேசப்படும் தமிழ்,[13] ஒரு மொழியைத் தாய்மொழியாகக் கொண்டு பேசும் மக்களின் எண்ணிக்கை அடிப்படையில் பதினெட்டாவது இடத்தில் உள்ளது.', '[14] இணையத்தில் அதிகம் பயன்படுத்தப்படும் இந்திய மொழிகளில் தமிழ் முதன்மையாக உள்ளதாக 2017-ஆம் ஆண்டு நடைபெற்ற கூகுள் கணக்கெடுப்பில் தெரிய வந்தது.', '[15]\\nஇரண்டாயிரத்து ஐந்நூறு ஆண்டுகளுக்கும் மேல் பழமை வாய்ந்த இலக்கிய மரபைக் கொண்டுள்ள தமிழ் மொழி, தற்போது வழக்கில் இருக்கும் ஒரு சில செம்மொழிகளில் இதுவும் ஒன்றாகும்.', '[16][17] மேலும் கவனமாகப் பழைய அமைப்புக்களைக் காக்கும் மரபினாலும் பழங்கால இலக்கிய நடை கூட மக்களால் புரிந்து கொள்ளும் நிலையில் உள்ளது.', 'எடுத்துக்காட்டாக, பள்ளிக் குழந்தைகள் சிறுவயதில் கற்கும் அகர வரிசையான ஆத்திசூடி 1,000 ஆண்டுகளுக்கு முன்னர் இயற்றப்பட்டது.', 'திருக்குறள் ஏறத்தாழ 2,000 ஆண்டுகளுக்கு முன் இயற்றப்பட்டது.', 'தமிழ், இந்தியா உட்பட இலங்கை, சிங்கப்பூரில் பேசப்படும் மொழிகளில் ஒன்று.', 'மிக நீண்ட இலக்கிய, இலக்கண மரபுகளைக் கொண்டது.', 'தமிழ் இலக்கியங்களில் சில 2500 ஆண்டுகளுக்கு மேல் பழமையானவை.', 'கண்டெடுக்கப்பட்டுள்ள தமிழ் ஆக்கங்கள் கிறித்துவுக்கு முன் 400-ஆம் ஆண்டைச் சேர்ந்த பிராமி எழுத்துகளில் எழுதப்பெற்றவைகளாகும்.', '[18] இந்தியாவில் கிடைத்துள்ள ஏறத்தாழ 1,00,000 (ஒரு லட்சம்) கல்வெட்டுகளில் தொல்லெழுத்துப் பதிவுகளில் 60,000 (அறுபதாயிரம்)-இற்கும் அதிகமானவை தமிழகத்தில் கிடைத்துள்ளன.', 'இதில் ஏறத்தாழ 95 விழுக்காடு தமிழில் உள்ளன; மற்ற மொழிகள் அனைத்தும் ஐந்து விழுக்காட்டுக்கும் குறைவான கல்வெட்டுகளையே கொண்டுள்ளன.', '[19] பனையோலைகளில் எழுதப்பட்டு (திரும்பத் திரும்பப் படியெடுப்பதன் (பிரதி பண்ணுவது) மூலம்)  வாய்மொழி மூலம் வழி வழியாகப் பாதுகாக்கப்பட்டு வந்ததால், மிகப் பழைய ஆக்கங்களின் காலங்களைக் கணிப்பது மிகவும் கடினமாக உள்ளது.', 'எனினும் மொழியியல் உட்சான்றுகள், மிகப் பழைய ஆக்கங்கள் கி. மு. 4-ஆம் நூற்றாண்டுக்கும் கி.', ' பி. 3-ஆம் நூற்றாண்டுக்கும் இடைப்பட்ட காலத்தில் இயற்றப்பட்டிருக்கலாம் எனக் காட்டுகின்றன.', 'இன்று கிடைக்கக்கூடிய மிகப் பழைய ஆக்கம் தொல்காப்பியம் ஆகும்.', 'இது பண்டைக்காலத் தமிழின் இலக்கணத்தை விளக்கும் ஒரு நூலாகும்.', 'இதன் சில பகுதிகள் கி. மு. 400-ஆம் ஆண்டு காலத்தில் எழுதப்பட்டதாகக் கருதப்படுகின்றது.', '2005-இல் அகழ்ந்தெடுக்கப்பட்ட சான்றுகள், தமிழ் எழுத்து மொழியைக் கி. மு. 600-ஆம் ஆண்டிற்கும் முன் தள்ளியுள்ளன.', '[20] பண்டைத் தமிழில் எழுதப்பட்ட குறிப்பிடத்தக்க காப்பியம், கி.', 'மு 200 முதல் கி.', 'பி 200 காலப்பகுதியைச் சேர்ந்த சிலப்பதிகாரம் ஆகும்.', 'தமிழறிஞர்களும் மொழியியலாளர்களும் தமிழ் இலக்கியத்தினதும் தமிழ் மொழியினதும் வரலாற்றை ஐந்து காலப்பகுதிகளாக வகைப்படுத்தியுள்ளனர்.', 'இவை:\\nபக்தி இலக்கிய காலத்திலும் மையக் காலத்திலும் பெருமளவு வடமொழிச் சொற்கள் தமிழில் கலந்துவிட்டன.', 'பிற்காலத்தில் பரிதிமாற் கலைஞர், மறைமலை அடிகள் முதலான தூய்மைவாதிகள் இவற்றைத் தமிழிலிருந்து நீக்க உழைத்தனர்.', 'இவ்வியக்கம் தனித்தமிழ் இயக்கம் என அழைக்கப்பட்டது.', 'இதன் விளைவாக முறையான ஆவணங்களிலும் மேடைப் பேச்சுகளிலும் அறிவியல் எழுத்துகளிலும் வடமொழிக் கலப்பில்லாத் தமிழ், பயன்பட வழியேற்பட்டது. கி. பி. 800-இற்கும் 1000-இற்கும் இடைப்பட்ட காலப்பகுதியில், மலையாளம் ஒரு தனி மொழியாக உருவானதாக நம்பப்படுகின்றது.', 'தமிழ், திராவிட மொழிக் குடும்பத்தைச் சேர்ந்த ஒரு மொழியாகும்.', 'இக்குடும்பத்தில், இருளா, கைக்காடி, பெட்டக் குறும்பா, சோலகா மற்றும் யெருகுலா என்னும் மொழிகள் அடங்கும்.', 'தமிழ் மொழிக் குடும்பம்:\\nதமிழ் நாட்டை எல்லையாகக் கொண்டுள்ள, கேரள மாநில மக்களால் பேசப்படும் மலையாளம், சொற்கள், வசன அமைப்பு ஆகிய அம்சங்களில் தமிழை நெருக்கமாக ஒத்துள்ள ஒரு மொழியாகும்.', 'ஏறத்தாழ ஒன்பதாம் நூற்றாண்டுவரை தமிழும், மலையாளமும் ஒரே மொழியின் இரு வட்டார வழக்குகளாகவே இருந்து வந்தன.', 'இரு பகுதியினருமே இம்மொழியினைத் தமிழ் எனவே வழங்கி வந்துள்ளனர்.', 'மலையாளத்துக்கும் தமிழுக்கும் இடையிலான வேறுபாடுகள் சில, வரலாற்றுக்கு முந்திய காலம் தொட்டே கிழக்குத் தமிழ் வழக்கிற்கும் மேற்குத் தமிழ் வழக்கிற்குமிடையே பிரிவு ஏற்படத் தொடங்கியதைக் காட்டுவதாக அமைகின்ற போதும், தெளிவாக இரண்டு தனி மொழிகளாகப் பிரிந்தது 13-ஆம் 14-ஆம் நூற்றாண்டுக் காலப் பகுதியிலேயே ஆகும்.', '[21]\\nசௌத்துவருத்து என்பவர் தமிழ் என்பதன் ஆறு தம்-மிழ் என்று பிரித்துக் காட்டி \"தனது மொழி\" என்று பொருள்படும் என்று தெரிவிக்கிறார்.', '[22] காமெல் சுவெலிபில் என்ற செக்கு மொழியியலாளர், தம்-இழ் என்பது \"தன்னிலிருந்து மலர்ந்து வரும் ஒலி\" என்ற பொருள் தரவல்லது என்கிறார்.', 'மாறாக,  < - < *- < *- என்ற கிளவியாக்கம் நடந்திருக்கலாமென்றும், அதனால் இது \"சரியான (தகுந்த) (பேச்சு) முறை\" என்ற பொருளிலிலிருந்து தொடங்கியிருக்கலாம் என்றும் கூறியிருக்கிறார்.', '[23]\\nதமிழ், தென் இந்திய மாநிலமான தமிழ் நாட்டின் பெரும்பான்மையினரதும் இலங்கையின் வடக்குக் கிழக்குப் பகுதிகளில் வாழும் மக்களதும் முதன் மொழியாகும்.', 'தமிழ், மேற்படி நாடுகளின் பிற பகுதிகளிலும் குறிப்பாக, இந்திய மாநிலங்களான கருநாடகம், கேரளம் மற்றும் மகாராட்டிரத்திலும், இலங்கையில் கொழும்பிலும் மத்திய மலை நாட்டுப் பகுதிகளிலும் முசுலிம்கள் வாழும் பகுதிகளிலும் வழங்கி வருகின்றது\\nதமிழ் மக்கள், 19-ஆம் நூற்றாண்டிலும் 20-ஆம் நூற்றாண்டின் ஆரம்பத்திலும் ஒப்பந்தக் கூலிகளாகவும் கீழ்நிலை அரசப் பணியாளர்களாகவும் இந்தியா, இலங்கை போன்ற நாடுகளிலிருந்து பிரித்தானியப் பேரரசின் பல பகுதிகளுக்கும் அனுப்பப்பட்டனர்.', 'அவ்வாறு, அவர்கள் சென்ற இடங்களில் தமிழ் பேசும் சமுதாயங்கள் உருவாகின.', 'இவர்களின் வழிவந்தவர்கள் இன்று சிங்கப்பூர், மலேசியா, மொரீசியசு போன்ற நாடுகளில் குறிப்பிடத்தக்க குடித்தொகை கொண்டவர்களாக வாழ்ந்து வருகின்றார்கள்.', 'தென்னாப்பிரிக்கா, கயானா, பிசி, சுரினாம், திரினிடாடு, உடொபாகோ போன்ற நாடுகளிலும் பலர் பூர்வீகத் தமிழராக இருந்தும், அந்நாடுகளில் அவர்கள் தமிழ் மொழியைப் பேசுவதில்லை.', 'மிக அண்மைக்காலங்களில், பெரும்பாலும் இலங்கையின் இன முரண்பாடுகள் காரணமாக அகதிகளாக அங்கிருந்து இடம் பெயர்ந்தவர்களும் ஓரளவு பொருளாதாரக் காரணங்களுக்காக இடம் பெயர்ந்தவர்களுமாகப் பல தமிழர்கள் ஆத்திரேலியாவிலும் கனடாவிலும் ஐக்கிய அமெரிக்காவிலும்  பெரும்பாலான ஐரோப்பிய நாடுகளிலும் வாழ்ந்து வருகின்றார்கள்.', 'தற்போது இவர்களில் பழைய தலைமுறையைச் சேர்ந்தவர்கள் தமிழ் மொழியை ஓர் உயிர்ப்புள்ள மொழியாக வழங்கி வந்தபோதிலும் இளைய தலைமுறையினர் பலர் தமிழ் மொழியைப் பயன்படுத்த இயலாதவர்களாகவும் ஆர்வமற்றவர்களாகவும் வளர்ந்து வருவதைக் கவனிக்க முடிகின்றது.', 'தமிழ் இந்திய மாநிலமான, தமிழ்நாட்டின் ஆட்சி மொழியாகும்.', 'அத்துடன் இந்திய அரசியலமைப்பின், எட்டாவது பட்டியலில் குறிப்பிடப்பட்டுள்ள 22 மொழிகளுள் ஒன்றாகவும் உள்ளது.', 'இலங்கையில் மூன்று ஆட்சி மொழிகளுள் தமிழும் ஒன்று.', 'இந்தியாவில் தமிழ்நாடு மாநிலத்திலும் புதுச்சேரி ஒன்றியப் பகுதியிலும் தமிழ் அரச அலுவல் மொழியாக இருக்கிறது.', 'சிங்கப்பூரிலும் நான்கு ஆட்சி மொழிகளுள் தமிழும் ஒன்று.', 'தென்னாப்பிரிக்காவிலும் தமிழுக்கு அரசியலமைப்பு அங்கீகாரம் உள்ளது.', 'மலேசியாவிலும் முதல் நான்கு ஆட்சி மொழிகளில் தமிழும் இடம்பெற்றுள்ளது.', 'மலேசியாவில் தொடக்க இடைநிலைப்பள்ளிகளில் தமிழ் கற்பிக்கப்படுகிறது.', 'நாடு முழுவதும் 523 தமிழ்த் தொடக்கப்பள்ளிகள் அரசுப் பள்ளிகளாக இயங்குகின்றன.', 'இந்தியாவிலும் வெளி நாடுகளிலும் உள்ள பல தமிழ் அமைப்புகளினதும் அறிஞர்களினதும் நீண்ட கால முயற்சிகளைத் தொடர்ந்து [24]  இந்திய அரசினால் தமிழ் ஒரு செம்மொழியாக அங்கீகரிக்கப்பட்டுள்ளது.', 'இவ்வாறு அங்கீகாரம் பெற்றுள்ள முதல் இந்திய மொழி தமிழாகும்.', 'இந்திய நாடாளுமன்றத்தின் இரு அவைகளினதும் கூட்டுக் கூட்டமொன்றின்போது, 2004 சூன் 6 ஆம் நாள் அப்போதைய இந்திய குடியரசுத்தலைவர் அப்துல் கலாம் இதனை அறிவித்தார்.', '[25] குடியரசுத் தலைவரின் பேச்சின்-கூற்று 41 யும்,  இந்திய அமைச்சரவையின் முறையான அங்கீகாரம்] தொடர்பான பிபிசி செய்தியையும் காண்க.', '[26] தமிழ் செம்மொழியாக அறிவித்த அரசாணையை அக்டோபர் 12 2004 இல் வெளியிட்டது இந்திய அரசு [27] [28]\\nதமிழ், அதன் பல் வேறுபட்ட வட்டார வழக்குகளுக்கு மேலதிகமாக, இலக்கியங்களில் பயன்படும் முறையான செந்தமிழ், கொடுந்தமிழ் என வழங்கப்படும் பேச்சுத் தமிழுக்கும் இடையே தெளிவான இருவடிவத் தன்மை () காணப்படுகின்றது.', 'இங்கே கொடுந்தமிழ் என்பது அனைத்து வட்டாரப் பேச்சுத் தமிழ் வழக்குகளையும் பொதுவாகக் குறிக்கும் ஒரு சொற் பயன்பாடு ஆகும்.', 'இந்த இருவடிவத் தன்மை பண்டைக் காலம் முதலே தமிழில் இருந்து வருவதைக் கோவில் கல்வெட்டுகளிற் காணப்படும் தமிழ், சமகால இலக்கியத் தமிழினின்றும் குறிப்பிடத்தக்க அளவு வேறுபட்டுக் காணப்படுவதினின்றும் அறிந்துகொள்ள முடியும்.', 'இவ்வாறு, செந்தமிழ், எந்த வட்டார மொழி வழக்கையும் சாராது இருப்பதனால் எழுத்துத் தமிழ், தமிழ் வழங்கும் பல்வேறு பகுதிகளிலும் ஒன்றாகவே இருப்பதைக் காணலாம்.', 'தற்காலத்தில் எழுதுவதற்கும் மேடைப் பேச்சுக்கும் செந்தமிழே பொதுவாகப் பயன்படுத்தப்படுகின்றது.', 'எடுத்துக்காட்டாகச் செந்தமிழ், பாட நூல்களுக்குரிய மொழியாகவும் பெருமளவுக்கு இலக்கிய மொழியாகவும் மேடைப் பேச்சுகளுக்கும், விவாதங்களுக்கும் உரிய மொழியாகவும் விளங்கிவருகிறது.', 'அண்மைக் காலங்களில், மரபு வழியில், செந்தமிழுக்குரிய துறைகளாக இருந்து வந்த பகுதிகளிலும் கொடுந்தமிழ்ப் பயன்பாடு அதிகரித்து வருவதைக் காணமுடிகின்றது.', 'பெரும்பாலான தற்காலத் திரைப்படங்கள், மேடை நாடகம் மற்றும் தொலைக் காட்சி, வானொலி முதலியவற்றில் இடம்பெறும் மக்களுக்கான பொழுதுபோக்கு அம்சங்கள் பலவற்றிலும் கொடுந்தமிழ் பயன்படுத்தப்படுவதைக் காணலாம்.', 'பல அரசியல்வாதிகளும் மக்களுக்கு நெருக்கமாகத் தங்களைக் காட்டிக் கொள்ளும் நோக்கில் தங்கள் மேடைப் பேச்சுக்களிலும் கொடுந்தமிழைப் பயன்படுத்தி வருகின்றனர்.', 'பல ஐரோப்பிய மொழிகளில் காணப்படுவதற்கு மாறாக, தமிழில், அதன் வரலாற்றின் பெரும் பகுதியிலும், ஒரு பொதுவான பேச்சுமொழி இருந்ததில்லை.', 'தற்காலத்தில் அதிகரித்த கொடுந்தமிழ்ப் பயன்பாடு, அதிகாரபூர்வமற்ற முறையில் பொதுப் பேச்சுத் தமிழ் வழக்குகள் தோன்றுவதற்குக் காரணமாகவுள்ளது.', 'இந்தியாவில் பொதுக் கொடுந்தமிழ், \"படித்த, பிராமணரல்லாதவர்\\'களின் பேச்சுவழக்கை அடிப்படையாகக் கொண்டுள்ளது\" (, 1998).', 'எனினும் குறிப்பிடத்தக்க அளவுக்குத் தஞ்சாவூர் மற்றும் மதுரைப் பேச்சு வழக்குகளில் செல்வாக்கு உள்ளது.', 'இலங்கையில், அதிக மக்கள் தொகையைக் கொண்ட யாழ்ப்பாணப் பேச்சு வழக்கையே பெரும்பாலான வெளியார் இலங்கைத் தமிழ்ப் பேச்சு வழக்காக இனங்கண்டு கொள்கின்றனர்.', 'இருப்பினும் இலங்கையின் கிழக்குப்பகுதியில் குறிப்பாக மட்டக்களப்புப் பேச்சுத் தமிழ் யாழ்ப்பாணப் பேச்சு வழக்கிலிருந்து வேறுபட்டு வடமொழிக்கலப்புக் குறைந்து மிகப்பழைய விளிப்புப் பெயர்களையும் அசைச்சொற்களையும் கொண்டு காணப்படுகிறது.', '[29]\\nதமிழில் வட்டாரமொழி வழக்குகள், பெரும்பாலும் சொற்களை ஒலிப்பதில் மாறுபடுகின்றன.', 'மற்றும் பல வேறு பழைய செந்தமிழ்ச் சொற்களினின்றும் பிறந்தவையாகும்.', 'எடுத்துக்காட்டாக, \"இங்கே\" என்ற சொல் கன்னியாகுமரி மாவட்டத்தில் பரவலாக \"இஞ்ச\" என்றும் தஞ்சாவூர் பகுதிகளில் \"இங்க\" என்றும் யாழ்ப்பாணம் (இலங்கை) பகுதிகளில் \"இங்கை\" என்றும் வழங்கப்படுகின்றது.', 'ஆயினும் திருநெல்வேலி பகுதிகளில் \"இங்கனெ\" என்றும் இராமநாதபுரம் பகுதிகளில் \"இங்குட்டு\" / \"இங்கிட்டு\" என்றும் வழங்கும் சொற்கள் \"இங்கே\" என்ற சொல்லில் கிளைத்தவை அல்லாமல் வேறு செந்தமிழ்ச் சொற்களினின்றும் பிறந்தவையாகும்.', 'இங்கனெ என்பது \"இங்கணே\"/\"இங்கனே\" என்பதன் மாற்றமும் \"இங்குட்டு\"/\"இங்கிட்டு\" என்பது \"இங்கட்டு\" என்னும் செம்மொழிச்சொல்லின் மாற்றமும் ஆகும்.', '\"கண்\" என்னும் சொல்லின் பொருள் இடம் ஆகும்.', 'சான்றாகச் சென்னைத் தமிழகராதி: \", ; இடம்.', 'ஈர்ங்கண்மா ஞாலம் (குறள், 1058)\".', 'கட்டு என்னும் சொல்லும் கண் என்பதோடு து-விகுதி சேர்ந்து வழங்கும் சொல்லாகும்.', 'கொங்குநாட்டார் இன்றும் \"அக்கட்டாலே போய் உட்கார்\" என்று சொல்வதைக் கேட்கலாம்.', '\"இங்கன்\" அல்லது \"ஈங்கன்\" என்பதும் பழைய இலக்கியங்களில் காண்பவை (சென்னைப் பல்கலைக் கழகத் தமிழகராதி காண்க).', 'இஃது ஒரே சொல் பலவாறு சிதைந்ததாகக் கருதும் கோட்பாட்டைத் திருத்த உதவும்; மேலும் வட்டாரவழக்குகள் பழைய இலக்கியச்சொற்கள் உண்மையிலேயே பேச்சில் வழங்குவதற்கு நல்ல சான்றாகவும் இருப்பதைக் காட்டும்.', 'பெரும்பாலான வட்டார மொழி வழக்குகளின் சொல் அகராதியில் குறிப்பிடத்தக்க மாற்றம் இல்லை என்றாலும், சில வழக்குகள் பெரிதும் மாறுபடுகின்றன.', 'இலங்கையில் பேசப்படும் தமிழின் சில சொற்கள், தமிழகத்தில் அன்றாட வழக்கில் பயன்படுத்தப் படுவதில்லை.', '\"பாலக்காட்டு ஐயர்\" தமிழில் பல மலையாள சொற்கள் கலந்திருக்கும்.', 'சில இடங்களில் மலையாள வாக்கிய அமைப்பும் காணப்படும்.', 'இறுதியாக, ஹெப்பார் மற்றும் மாண்டியம் வட்டாரங்களில் பதினோறாம் நூற்றாண்டில் புலம் பெயர்ந்த வைணவ கோட்பாட்டைப் பின்பற்றும் ஐயங்கார் தமிழர்களால் பேசப்படும் தமிழில் வைணவ பரிபாசையின் எச்சம் காணப்படுகிறது.', 'தமிழ் மொழி வழக்குகள் வட்டார அடிப்படையில் மட்டுமல்லாது சாதி அடிப்படையிலும் வேறுபடும்.', 'பல சாதிகளுக்கெனத் தனியான பேச்சு வழக்குகள் இருந்து வந்தன.', 'தற்போது சாதி மறுப்பு இயக்கங்களின் விளைவாக இவ்வேறுபாடுகள் மறைந்து வந்தாலும், ஒருவரின் பேச்சு வழக்கை வைத்து அவரின் சாதியைச் சில வேளைகளில் கணிக்க முடிகிறது.', 'எத்னொலோக் () என்ற மொழிகள்பற்றிய பதிப்பு நிறுவனம், தமிழில் 22 வட்டார வழக்குகள் இருப்பதாகத் தெரிவிக்கிறது.', 'அவையாவன ஆதி திராவிடர், ஐயர், ஐயங்கார், அரவா, பருகண்டி, கசுவா, கொங்கர், கொரவா, கொர்சி, மதராஸி, பரிகலா, பாட்டு பாஷை, இலங்கை தமிழ், மலேயா தமிழ், பர்மா தமிழ், தென்னாப்பிரிக்க தமிழ், திகளு, அரிஜன், சங்கேதி, ஹெப்பார், மதுரை, திருநெல்வேலி.', 'கொங்கு மற்றும் குமரி ஆவன வேறு சில தெரிந்த வட்டார வழக்குகள்.', 'புவியியல் தொடர்பான வட்டார வழக்குகள் ஒருபுறமிருக்க, சமுதாய அடைப்படையிலும் பல்வேறு மட்டங்களில் தமிழ் மொழிப் பயன்பாட்டில் வேறுபாடுகளைக் கவனிக்கலாம்.', 'புதிய வழக்காக, தொலைக்காட்சி முதலான தொடர்புச் சாதனங்களும் இன்று பெருமளவுக்கு ஆங்கிலம் கலந்த தமிழைத் தமிழ் மக்கள் மத்தியில் புழக்கத்துக்கு விட்டுள்ளன.', 'மேனாட்டுக் கல்வி மற்றும் அறிவியல் வளர்ச்சி தொடர்பில் புதிய சொல்லாக்கம், கலைச்சொல்லாக்கம் முதலிய அம்சங்களில் ஒருங்கிணைவு அற்ற முயற்சிகள் வேறுபட்ட மொழி வழக்குகளை உருவாக்கியுள்ளன.', 'முக்கியமாக, இலக்கியம் மற்றும் அது போன்ற பண்பாட்டு மற்றும் மரபுவழிப் பயன்பாடுகளுக்கு அப்பால், கல்வி, அறிவியல், நிருவாகம் மற்றும் இன்னோரன்ன நவீனத் துறைகளிலும் தமிழைப் பயன்படுத்திவரும் தமிழ்நாடு, இலங்கை போன்ற நாடுகளில் உருவாக்கப்படும் ஆயிரக்கணக்கான தமிழ்ச் சொற்கள், ஒரு பகுதியினர் பயன்படுத்தும் தமிழை இன்னொரு பகுதித் தமிழர் புரிந்து கொள்ளமுடியாத அளவுக்கு வேறுபாடுள்ள மொழி வழக்குகள் உருவாகக் காரணமாக உள்ளன.', 'தமிழ் எழுத்து முறைமை ஒலிப்பியல் அடிப்படையிலானது; குறுக்கம், அளபெடை, மற்றும் புணர்ச்சி நெறிகளுக்கு உட்பட்டே எழுத்துகள் ஒலிக்கப்படுகின்றன.', 'தற்போதைய தமிழ், எழுத்துமுறை தமிழ் பிராமியிலிருந்து தோன்றியது ஆகும்.', 'தமிழ் பிராமி காலப்போக்கில் வட்டெழுத்தாக உருமாறியது.', 'ஆறாம் நூற்றாண்டிலிருந்து பத்தாம் நூற்றாண்டு வரையிலான காலத்தில் \"வட்டெழுத்து\" முறை உருவானது.', 'ஓலைச்சுவடிகளிலும் கல்லிலும் செதுக்குவதற்கேற்ப இருந்தது.', 'வட்டெழுத்தில் சமஸ்கிருத ஒலிகள் குறிக்கப்பட முடியாது என்பதால் சமஸ்கிருத ஒலிகளை எழுதும் பொருட்டு சில கிரந்த எழுத்துமுறை கிரந்த எழுத்துகளைப் பயன்படுத்தினர்.', 'இவ்வெழுத்துகளைப் பயன்படுத்துவதற்கு மாறாகத் தொல்காப்பியம் கூறியபடி அச்சொற்களைத் தமிழ்படுத்த வேண்டும் என்றும் ஒரு கருத்து நிலவுகிறது.', 'பின்னர், வீரமாமுனிவரின் அறிவுரைப்படி இரட்டைக் கொம்பு போன்ற மாற்றங்கள் செய்யப்பட்டன.', 'இராமச்சந்திரன் ஆட்சியில் அச்சில் ஏற்றுவதை எளிமைப்படுத்தும் வகையில் ஈ. வெ. இராமசாமியால் பரிந்துரைக்கப்பட்ட ஆகார மற்றும் ஐகார உயிர்மெய் எழுத்துகளில் சீர்திருத்தம் செய்யப்பட்டது.', 'எனினும் ஈ. வெ. இராமசாமி – அதில், உகர சீர்திருத்தம் செயல்படுத்தப்படவில்லை.', 'கிரந்த எழுத்துகள் தென்னிந்தியாவில், குறிப்பாகத் தமிழ் நாட்டில் சமஸ்கிருத மொழியை எழுதப் பயன்பட்ட வரி வடிவங்களாகும்.', 'இருபதாம் நூற்றாண்டில் தேவநாகரி எழுத்துகள் பிரபலமடைந்ததாலும் தமிழ்நாட்டில் திராவிட இயக்கம் சமற்கிருதம் மீது பொதுவாகச் செய்த தாக்கத்தாலும் கிரந்த எழுத்துகளின் பயன்பாடு பெருமளவு குறைந்து விட்டது.', 'தமிழில் மணிப்பிரவாள எழுத்து நடை செல்வாக்கு செலுத்தியபொழுது கிரந்த எழுத்துகள் பரவலாகப் பயன்படுத்தப்பட்டது.', 'இன்று, மணிப்பிரவாள எழுத்து நடை மறைந்தாலும், \"ஜ\", \"ஷ\", \"ஸ\", \"ஹ\",\"க்ஷ\" போன்ற கிரந்த எழுத்துகள் ஆங்கிலச் சொற்களையும் அறிவியல் சொற்களையும் வடமொழிச் சொற்களையும் பிறமொழிச் சொற்களையும் குறிக்கப் பயன்படுத்தப்படுகின்றன.', 'வார்ப்புரு:தமிழ் கிரந்த எழுத்துகள்\\nமுதன்மைக் கட்டுரை: தமிழ் ஒலிப்புமுறை\\nதமிழில் 12 உயிரெழுத்துகளும், 18 மெய்யெழுத்துகளும் உள்ளன.', 'ஒவ்வொரு உயிரெழுத்தும் 18 மெய்யெழுத்துகளோடும் சேர்வதால் 216 உயிர்மெய்யெழுத்துகள் பிறக்கின்றன.', 'இவற்றோடு ஆய்த எழுத்தும் சேர்த்து தமிழ் எழுத்துகள் மொத்தம் 247 (உயிரெழுத்துகள் – 12, மெய்யெழுத்துகள் – 18, உயிர்மெய்யெழுத்துகள் – 216, ஆய்த எழுத்து – 1) ஆகும்.', 'உயிரெழுத்துகளில் குறுகிய ஓசையுடைய எழுத்துகளான அ, இ, உ, எ, ஒ ஆகிய எழுத்துகள் குற்றெழுத்துகள் (குறில்) எனவும், நீண்ட ஓசையுடைய எழுத்துகளான ஆ, ஈ, ஊ, ஏ, ஐ, ஓ, ஔ ஆகிய எழுத்துகள் நெட்டெழுத்துகள் (நெடில்) எனவும் வழங்கப்படும்.', 'குறிலெழுத்துகள் ஒவ்வொன்றையும் ஒரு மாத்திரை நேரத்திலும் நெட்டெழுத்துகள் ஒவ்வொன்றையும் இரண்டு மாத்திரை நேரத்திலும் ஒலிக்க வேண்டும்.', 'மெய்யெழுத்துகளில் வன்மையான ஓசையுடைய எழுத்துகள் வல்லினம் என்றும், மென்மையான ஓசையுடைய எழுத்துகள் மெல்லினம் என்றும், இவை இரண்டிற்கும் இடைப்பட்ட ஓசையுடைய எழுத்துகள் இடையினம் என்றும் வழங்கப்படும்.', 'மெய்யெழுத்துகள் ஒவ்வொன்றும் அரை மாத்திரை நேரத்தில் ஒலிக்கப்படும்\\nகீழேயுள்ள அட்டவணையில் தமிழ் மெய்யெழுத்துகள், அனைத்துலக ஒலிப்பெழுத்துகளுடனும், ஒலிப்பு வகைகளுடனும் தரப்பட்டுள்ளன.', 'ஃ – மூன்று புள்ளிகளாக எழுத்தப்படும் ஆய்த எழுத்திற்கு அஃகேனம், தனிநிலை, புள்ளி, ஒற்று என்னும் வேறு பெயர்களும் உண்டு.', 'இவ்வெழுத்தானது தனக்கு முன்னர் ஒரு குறில் எழுத்தையும் பின்னர் ஒரு வல்லின உயிர்மெய் எழுத்தையும் பெற்றே உச்சரிக்கப்படும். எடுத்துக்காட்டு. பழந்தமிழில் பரவலாக ஆய்த எழுத்து பயன்படுத்தப்பட்டாலும் தற்காலத்தில் ஆய்த எழுத்தின் பயன்பாடு அரிதே.', 'சில நேரங்களில் பகரத்துடன் சேர்த்து (ஃப) ஆங்கில எழுத்தான -ஐக் குறிக்கப் பயன்படுத்தப்படுகின்றது.', 'ஆய்த எழுத்து ஒரு சார்பெழுத்தாகும்.', 'தொல்காப்பியத்தின்படி சார்பெழுத்து மொழிக்கு முதலிலும், இறுதியிலும், தனித்தும் வராது.', 'பெரும்பாலான இந்திய மொழிகளைப் போலன்றி தமிழில் மூச்சைக்கொண்டு ஒலிக்கும் () மெய்யெழுத்துகள் கிடையாது.', 'பேச்சில் வழங்கிவரினும் தமிழ் எழுத்து மிடற்றொலிகளையும் ( ) பிற ஒலிகளையும் வேறுபடுத்துவதில்லை.', 'மிடற்றொலிகளும் அவற்றின் இனமான பிற ஒலிகளும் தமிழில் வகையொலிகள் () அல்ல.', 'தமிழர் பொதுவாக இவ்வேறுபாட்டை உணர்ந்திருக்கின்றனர்.', 'மேலும், தொல்காப்பியத்தில் ஓர் எழுத்தை எப்பொழுது மிடற்றிலிருந்து ஒலிக்க வேண்டும் என்பது பற்றிய வரைமுறை விளக்கப்பட்டுள்ளது.', 'எடுத்துக்காட்டாக, \"க\" எனும் மெய்யொலி மிடறு நீங்கிய நிலையில் () \"\" ஒலியுடன் சொல்லின் முதலில் வரும்பொழுதும் (உ: கல்), பிற இடங்களில் ஒற்றிரட்டித்து () வரும்பொழுதும் (உ: அக்கா), அமைகிறது.', '\"க\" என்பது  மிடற்றொலியாக () \"\" ஒலியுடன், தொல்காப்பிய விதிப்படி சொல்லின் முதலில் வராது, சொல்லின் உள்ளே வரும்: (உ: பூங்கா) தன் இன மூக்கொலியை () அடுத்து வரும்.', 'சொல்லின் முதலில் சகரம் எவ்வாறு ஒலிக்கப்பட வேண்டும் என்ற நெறியைத் தவிர பிற நெறிமுறைகள் செந்தமிழில் பொதுவாகப் பின்பற்றப்படுகின்றன.', 'கொடுந்தமிழ் அல்லது வழக்குத்தமிழில் ஒவ்வொரு வட்டாரத்திற்கும் ஏற்ப ஒலிப்புமுறை வேறுபடுகிறது.', 'தென்வட்டார வழக்குகளிலும் இலங்கை வழக்குகளிலும் இம்முறை பெரும்பாலும், ஆனால் முழுமையாக அல்லாமல், பின்பற்றப்படுகிறது.', 'வடபகுதி வட்டார வழக்குகளில் ஒலிப்பெயர்வு ஏற்பட்டு ஒலிப்புநெறிகளில் மாற்றங்கள் ஏற்பட்டுள்ளன.', 'இவைதவிர, சமஸ்கிருதம் மற்றும் பிற வடமொழிகளிலிருந்து பெறப்பட்ட சொற்கள் தமிழில் பெரிதும் உள்ளபடியே பயன்படுத்தப்படுகின்றன.', 'தமிழ் எழுத்தில் ஏன் மிடற்றொலி மற்றும் பிறவொலி வேறுபாடுகள் இல்லையென்ற கேள்விக்கு ஒலிப்பியலாளர்கள் நடுவே ஒருமித்த கருத்து இல்லை.', 'ஒரு சாரார் தமிழ் மொழியில் கூட்டுமெய்களும் மிடற்றினின்று ஒலிக்கும் வல்லெழுத்துகளோ அடிப்படையில் இருந்ததில்லையென்றும், சொற்புணர்ச்சி மற்றும் குறுக்கத்தினால் மட்டுமே இவ்வொலிகள் ஏற்படுகின்றன என்று குறிப்பிடுகின்றனர்.', 'அதனால், இந்திய ஐரோப்பிய மொழிக்குடும்பத்தைச் சேர்ந்த மொழிகள் மற்றும் பிற திராவிட மொழிகளைப் போலன்றி தமிழில் இவ்வொலிகளுக்கெனத் தனியெழுத்துகள் தேவைப்படவில்லை என்று கருதுகின்றனர்.', 'இக்கருத்திலிருந்து மாறுபட்டு மிடற்றொலிகள் அவற்றையொத்த பிற ஒலிகளின் வகையொலிகளாகவே தமிழில் இருந்துள்ளன என்றும் அதனாலேயே அவற்றிற்கெனத் தனியாக எழுத்துக்குறிகள் இல்லையெனவும் ஒரு கருத்தைச் சிலர் முன்வைக்கின்றனர்.', 'குறுக்கம் என்பது சில ஒலிப்பியல் கூறுகள் சில குறிப்பிட்ட ஒலிகளையடுத்து வரும்பொழுது தத்தம் இயல்பான ஒலி அளவுகளிலிருந்து குறைந்து ஒலித்தலைக் குறிக்கும்.', 'அவை பின்வருவன.', 'தற்காலத்தில் தமிழில் பெரும்பாலும் அனைத்துலக எண் குறியீடுகளே பயன்பாட்டில் உள்ளனவாயினும் சில பத்தாண்டுகளுக்கு முன்வரை தனியான எண் குறியீடுகள் பயன்பட்டுவந்தன.', 'ஒன்று தொடக்கம் ஒன்பது வரையான எண்களுக்கு மட்டுமன்றி, பத்து, நூறு, ஆயிரம் ஆகியவற்றுக்கும் தனிக் குறியீடுகள் இருந்தன.', \"தமிழில் '0' என்று எண் வடிவம் இல்லை.\", 'இலக்கண அடிப்படையில் தமிழ் ஒரு ஒட்டுநிலை மொழியாகும்.', 'தமிழில், பெயர் வகை, எண், வேற்றுமை, காலம், போன்றவற்றை விளக்கச் சொற்களுடன் பின்னொட்டுகள் சேர்க்கப்படுகின்றன.', 'தமிழின் பொதுவான கருவி மொழியியல் () சொற்களும் கலைச் சொற்களும் தமிழாகவே உள்ளன.', 'தமிழ் இலக்கணம் பெருவாரியாகத் தொல்காப்பியத்தில் விவரிக்கப்பட்டுள்ளது.', 'தற்கால தமிழ் இலக்கணம் பெரும்பாலும் நன்னூலைத் தழுவியமைந்துள்ளது.', 'பதிமூன்றாம் நூற்றாண்டில் எழுதப்பட்ட நன்னூலில் தொல்காப்பிய நெறிமுறைகள் தெளிவுபடுத்தப்பட்டுள்ளன.', 'தமிழ்ச் சொற்கள் வேர்ச் சொற்களை அடிப்படையாகக் கொண்டவை.', 'இவற்றுக்கு ஒன்று அல்லது பல ஒட்டுகளைச் சேர்ப்பதன் மூலம் புதிய சொற்கள் உருவாக்கப்படுகின்றன.', 'இம்மொழியில் பெரும்பாலான ஒட்டுகள் பின்னொட்டுகளாகும்.', 'பின்னொட்டுகள் சொற்களின் இலக்கண வகையில் மாற்றங்களை உண்டாக்குகின்றன அல்லது அவற்றில் பொருளை மாற்றுகின்றன.', 'இவை சொற்களுக்கு இடம், எண், பால், காலம் போன்றவற்றை உணர்த்தும் பொருள்களையும் கொடுக்கின்றன.', 'இவ்வாறு சொற்களுக்கு ஒட்டுகளைச் சேர்ப்பதில் எவ்வித எண்ணிக்கைக் கட்டுப்பாடும் கிடையாது.', 'இதனால் தமிழில் பல ஒட்டுகளைக் கொண்ட நீளமான சொற்கள் இருப்பதைக் காணலாம்.', 'தமிழில் பெயர்ச் சொற்கள் இரண்டு திணைகளாகப் பிரிக்கப்பட்டுள்ளன.', 'அவை உயர்திணை, அஃறிணை என்பவை.', 'உயர்திணை கடவுளர், மனிதர் என்பவர்களைக் குறிக்கும் சொற்களை உள்ளடக்குகின்றன.', 'ஏனைய உயிரினங்களையும் பொருட்களையும் குறிக்கும் சொற்கள் அஃறிணைக்குள் அடங்குகின்றன.', 'உயர்திணை- ஆண்பால், பெண்பால், பலர்பாலென மூன்று பால்களாகவும், அஃறிணை- ஒன்றன்பால், பலவின் பாலென இரண்டு பால்களாகவும் வகுக்கப்பட்டுள்ளன.', 'உயர்திணையுள் அடங்கும் ஆண்பால், பெண்பால் என்பன ஒருமைப் பொருளைச் சுட்டுகின்றன.', 'பலர்பால் பன்மைப் பொருளைச் சுட்டுவது மட்டுமன்றி மதிப்புக் கொடுப்பதற்காக ஒருமையாகவும் பயன்படுவதுண்டு.', 'தமிழில் வேற்றுமைகள் எட்டுவகைகளாகப் பிரிக்கப்பட்டுள்ளன.', 'இவை முதலாம் வேற்றுமை, இரண்டாம் வேற்றுமை, மூன்றாம் வேற்றுமை, நான்காம் வேற்றுமை, ஐந்தாம் வேற்றுமை, ஆறாம் வேற்றுமை, ஏழாம் வேற்றுமை, எட்டாம் வேற்றுமையெனப் பெயரிடப்பட்டு உள்ளன.', 'இப்பகுப்பு சமஸ்கிருத இலக்கண அடிப்படையிலானது என்றும் இதனால் செயற்கையானது என்றும் தற்கால மொழியியலாளர் சிலர் கூறுகின்றனர்.', 'தமிழை உலக மொழிகளில் ஒன்றாகக் கொண்டு மொழியியல் கண் கொண்டு நோக்குவது தமிழியல்.', 'தமிழின் இயல்பினைத் தொல்காப்பியம் நமக்குப் புலப்படுத்துகிறது.', 'அஃது இன்றைய மொழியியலாளரின் எண்ண ஓட்டத்தைப் பெருமளவில் ஒத்துள்ளது.', 'தமிழ், சொல்வளம் நிறைந்த மொழி.', 'நவீனத் தமிழ்மொழி பழந்தமிழ் மொழியில் பயன்படுத்தப்பட்ட பெரும்பாலான சொற்களை இன்னும் பயன்படுத்துகின்றது.', 'இதனால் சற்று பயிற்சியுடன் பழந்தமிழ் இலக்கியங்களை ஒரு தமிழர் படித்து அறிய முடியும்.', 'திருக்குறள் போன்ற சிறந்த பழந்தமிழ் படைப்புகள் தமிழர்களால் சிறப்பாகக் கற்கப்படுவதற்கு இத்தொடர்ச்சியான சொற்பயன்பாடு உதவுகின்றது.', 'பிறமொழிச் சொற்கள் மட்டுப்படுத்தப்பட்டு இருப்பது தமிழ் மொழியின் தொடர்ச்சிக்கும் தனித்துவத்திற்கும் அவசியம், ஆகையால் தமிழ் அடிச்சொற்களிலிருந்து உருவாக்கப்படும் சொற்களைப் பயன்படுத்துவதே நன்று என்பது பல தமிழ் ஆர்வலர்களின் கருத்து ஆகும்.', 'தமிழ் மொழியில் அறிவியலைப் படைக்கக் கலைச்சொல்லாக்கம் இன்றியமையாததாகும்.', 'இது தமிழ் மொழியில் தொடர்ச்சியாக மேற்கொள்ளப்படும் ஒரு செயல்பாடுதான்.', 'இக்காலத்தில் தமிழக இலங்கை அரசுகளின் பல்கலைக் கழகங்கள் ஊடாகவும் தமிழ்த் தன்னார்வலர்களாலும் இப்பணி தொடர்கின்றது.', 'தமிழ் மொழி ஆய்வுக்கும் வளர்ச்சிக்கும் இந்திய அரசும், தமிழ்நாடு அரசும் சில அமைப்புகளை நிறுவிச் செயல்படுத்தி வருகின்றன.', 'அரசு அமைப்பு தவிர சில தனியார் அமைப்புகளும் செயல்பட்டு வருகின்றன.', 'தமிழ்ப் பற்று என்பது ஒருவருக்கு தமிழ் மொழி, இலக்கியம், பண்பாடு, நாகரிகம் போன்றவற்றோடு இருக்கும் ஒரு பற்று ஆகும்.', 'நாட்டுப் பற்று, சமயப் பற்றுப் போன்று இஃது ஓர் உணர்வு, அரசியல், கொள்கை கலந்த ஒரு நிலைப்பாடு ஆகும்.', 'தமிழ்ப் பற்று தமிழ் அடையாளத்தினது, தமிழர் அரசியலின் ஒரு முக்கிய அடையாளமாகவும் உள்ளது.', '\"உடல் மண்ணுக்கு, உயிர் தமிழுக்கு\" போன்ற முழக்கங்கள் ஊடாகவும் கவிதைகள் ஊடாகவும் செயற்பாடுகள் ஊடாகவும் இயக்கங்கள் ஊடாகவும் தமிழ்ப் பற்று வெளிப்படுப்படுத்தப்படுகிறது.', 'இந்தி\\nஅசாமியம்\\xa0• \\nஆங்கிலம் \\xa0• \\nஇந்தி\\xa0• \\nஉருது\\xa0• \\nஒரியம்\\xa0•  \\nகன்னடம்\\xa0•  \\nகசுமீரியம்\\xa0•  \\nகுசராத்தியம்\\xa0•  \\nகொங்கணியம்\\xa0•  \\nசந்தாளியம்\\xa0• \\nசமசுகிருதம் \\xa0•  \\nசிந்தி\\xa0•  \\nதமிழ்\\xa0•  \\nதெலுங்கு\\xa0•  \\nநேபாளியம்\\xa0•  \\nபஞ்சாபியம்\\xa0•  \\nபோடோயம்\\xa0•  \\nமணிப்புரியம்\\xa0•  \\nமராத்தி\\xa0•  \\nமலையாளம்\\xa0•  \\nதமிழ் ( ) தமிழர்களினதும் தமிழ் பேசும் பலரின் தாய்மொழி ஆகும்.', 'தமிழ், உலகின் உள்ள முதன்மையான மொழிகளில் ஒன்றும் செம்மொழியும் ஆகும்.', 'இந்தியா, இலங்கை, மலேசியா, சிங்கப்பூர்  ஆகிய நாடுகளில் அதிக அளவிலும், ஐக்கிய அரபு அமீரகம், தென்னாப்பிரிக்கா, மொரிசியசு, பிசி, இரீயூனியன், திரினிடாடு போன்ற நாடுகளில் சிறிய அளவிலும் தமிழ் பேசப்படுகிறது.', '1997-ஆம் ஆண்டுப் புள்ளி விவரப்படி உலகம் முழுவதிலும் 8 கோடி (80 மில்லியன்) மக்களால் பேசப்படும் தமிழ்,[13] ஒரு மொழியைத் தாய்மொழியாகக் கொண்டு பேசும் மக்களின் எண்ணிக்கை அடிப்படையில் பதினெட்டாவது இடத்தில் உள்ளது.', '[14] இணையத்தில் அதிகம் பயன்படுத்தப்படும் இந்திய மொழிகளில் தமிழ் முதன்மையாக உள்ளதாக 2017-ஆம் ஆண்டு நடைபெற்ற கூகுள் கணக்கெடுப்பில் தெரிய வந்தது.', '[15]\\nஇரண்டாயிரத்து ஐந்நூறு ஆண்டுகளுக்கும் மேல் பழமை வாய்ந்த இலக்கிய மரபைக் கொண்டுள்ள தமிழ் மொழி, தற்போது வழக்கில் இருக்கும் ஒரு சில செம்மொழிகளில் இதுவும் ஒன்றாகும்.', '[16][17] மேலும் கவனமாகப் பழைய அமைப்புக்களைக் காக்கும் மரபினாலும் பழங்கால இலக்கிய நடை கூட மக்களால் புரிந்து கொள்ளும் நிலையில் உள்ளது.', 'எடுத்துக்காட்டாக, பள்ளிக் குழந்தைகள் சிறுவயதில் கற்கும் அகர வரிசையான ஆத்திசூடி 1,000 ஆண்டுகளுக்கு முன்னர் இயற்றப்பட்டது.', 'திருக்குறள் ஏறத்தாழ 2,000 ஆண்டுகளுக்கு முன் இயற்றப்பட்டது.', 'தமிழ், இந்தியா உட்பட இலங்கை, சிங்கப்பூரில் பேசப்படும் மொழிகளில் ஒன்று.', 'மிக நீண்ட இலக்கிய, இலக்கண மரபுகளைக் கொண்டது.', 'தமிழ் இலக்கியங்களில் சில 2500 ஆண்டுகளுக்கு மேல் பழமையானவை.', 'கண்டெடுக்கப்பட்டுள்ள தமிழ் ஆக்கங்கள் கிறித்துவுக்கு முன் 400-ஆம் ஆண்டைச் சேர்ந்த பிராமி எழுத்துகளில் எழுதப்பெற்றவைகளாகும்.', '[18] இந்தியாவில் கிடைத்துள்ள ஏறத்தாழ 1,00,000 (ஒரு லட்சம்) கல்வெட்டுகளில் தொல்லெழுத்துப் பதிவுகளில் 60,000 (அறுபதாயிரம்)-இற்கும் அதிகமானவை தமிழகத்தில் கிடைத்துள்ளன.', 'இதில் ஏறத்தாழ 95 விழுக்காடு தமிழில் உள்ளன; மற்ற மொழிகள் அனைத்தும் ஐந்து விழுக்காட்டுக்கும் குறைவான கல்வெட்டுகளையே கொண்டுள்ளன.', '[19] பனையோலைகளில் எழுதப்பட்டு (திரும்பத் திரும்பப் படியெடுப்பதன் (பிரதி பண்ணுவது) மூலம்)  வாய்மொழி மூலம் வழி வழியாகப் பாதுகாக்கப்பட்டு வந்ததால், மிகப் பழைய ஆக்கங்களின் காலங்களைக் கணிப்பது மிகவும் கடினமாக உள்ளது.', 'எனினும் மொழியியல் உட்சான்றுகள், மிகப் பழைய ஆக்கங்கள் கி. மு. 4-ஆம் நூற்றாண்டுக்கும் கி.', ' பி. 3-ஆம் நூற்றாண்டுக்கும் இடைப்பட்ட காலத்தில் இயற்றப்பட்டிருக்கலாம் எனக் காட்டுகின்றன.', 'இன்று கிடைக்கக்கூடிய மிகப் பழைய ஆக்கம் தொல்காப்பியம் ஆகும்.', 'இது பண்டைக்காலத் தமிழின் இலக்கணத்தை விளக்கும் ஒரு நூலாகும்.', 'இதன் சில பகுதிகள் கி. மு. 400-ஆம் ஆண்டு காலத்தில் எழுதப்பட்டதாகக் கருதப்படுகின்றது.', '2005-இல் அகழ்ந்தெடுக்கப்பட்ட சான்றுகள், தமிழ் எழுத்து மொழியைக் கி. மு. 600-ஆம் ஆண்டிற்கும் முன் தள்ளியுள்ளன.', '[20] பண்டைத் தமிழில் எழுதப்பட்ட குறிப்பிடத்தக்க காப்பியம், கி.', 'மு 200 முதல் கி.', 'பி 200 காலப்பகுதியைச் சேர்ந்த சிலப்பதிகாரம் ஆகும்.', 'தமிழறிஞர்களும் மொழியியலாளர்களும் தமிழ் இலக்கியத்தினதும் தமிழ் மொழியினதும் வரலாற்றை ஐந்து காலப்பகுதிகளாக வகைப்படுத்தியுள்ளனர்.', 'இவை:\\nபக்தி இலக்கிய காலத்திலும் மையக் காலத்திலும் பெருமளவு வடமொழிச் சொற்கள் தமிழில் கலந்துவிட்டன.', 'பிற்காலத்தில் பரிதிமாற் கலைஞர், மறைமலை அடிகள் முதலான தூய்மைவாதிகள் இவற்றைத் தமிழிலிருந்து நீக்க உழைத்தனர்.', 'இவ்வியக்கம் தனித்தமிழ் இயக்கம் என அழைக்கப்பட்டது.', 'இதன் விளைவாக முறையான ஆவணங்களிலும் மேடைப் பேச்சுகளிலும் அறிவியல் எழுத்துகளிலும் வடமொழிக் கலப்பில்லாத் தமிழ், பயன்பட வழியேற்பட்டது. கி. பி. 800-இற்கும் 1000-இற்கும் இடைப்பட்ட காலப்பகுதியில், மலையாளம் ஒரு தனி மொழியாக உருவானதாக நம்பப்படுகின்றது.', 'தமிழ், திராவிட மொழிக் குடும்பத்தைச் சேர்ந்த ஒரு மொழியாகும்.', 'இக்குடும்பத்தில், இருளா, கைக்காடி, பெட்டக் குறும்பா, சோலகா மற்றும் யெருகுலா என்னும் மொழிகள் அடங்கும்.', 'தமிழ் மொழிக் குடும்பம்:\\nதமிழ் நாட்டை எல்லையாகக் கொண்டுள்ள, கேரள மாநில மக்களால் பேசப்படும் மலையாளம், சொற்கள், வசன அமைப்பு ஆகிய அம்சங்களில் தமிழை நெருக்கமாக ஒத்துள்ள ஒரு மொழியாகும்.', 'ஏறத்தாழ ஒன்பதாம் நூற்றாண்டுவரை தமிழும், மலையாளமும் ஒரே மொழியின் இரு வட்டார வழக்குகளாகவே இருந்து வந்தன.', 'இரு பகுதியினருமே இம்மொழியினைத் தமிழ் எனவே வழங்கி வந்துள்ளனர்.', 'மலையாளத்துக்கும் தமிழுக்கும் இடையிலான வேறுபாடுகள் சில, வரலாற்றுக்கு முந்திய காலம் தொட்டே கிழக்குத் தமிழ் வழக்கிற்கும் மேற்குத் தமிழ் வழக்கிற்குமிடையே பிரிவு ஏற்படத் தொடங்கியதைக் காட்டுவதாக அமைகின்ற போதும், தெளிவாக இரண்டு தனி மொழிகளாகப் பிரிந்தது 13-ஆம் 14-ஆம் நூற்றாண்டுக் காலப் பகுதியிலேயே ஆகும்.', '[21]\\nசௌத்துவருத்து என்பவர் தமிழ் என்பதன் ஆறு தம்-மிழ் என்று பிரித்துக் காட்டி \"தனது மொழி\" என்று பொருள்படும் என்று தெரிவிக்கிறார்.', '[22] காமெல் சுவெலிபில் என்ற செக்கு மொழியியலாளர், தம்-இழ் என்பது \"தன்னிலிருந்து மலர்ந்து வரும் ஒலி\" என்ற பொருள் தரவல்லது என்கிறார்.', 'மாறாக,  < - < *- < *- என்ற கிளவியாக்கம் நடந்திருக்கலாமென்றும், அதனால் இது \"சரியான (தகுந்த) (பேச்சு) முறை\" என்ற பொருளிலிலிருந்து தொடங்கியிருக்கலாம் என்றும் கூறியிருக்கிறார்.', '[23]\\nதமிழ், தென் இந்திய மாநிலமான தமிழ் நாட்டின் பெரும்பான்மையினரதும் இலங்கையின் வடக்குக் கிழக்குப் பகுதிகளில் வாழும் மக்களதும் முதன் மொழியாகும்.', 'தமிழ், மேற்படி நாடுகளின் பிற பகுதிகளிலும் குறிப்பாக, இந்திய மாநிலங்களான கருநாடகம், கேரளம் மற்றும் மகாராட்டிரத்திலும், இலங்கையில் கொழும்பிலும் மத்திய மலை நாட்டுப் பகுதிகளிலும் முசுலிம்கள் வாழும் பகுதிகளிலும் வழங்கி வருகின்றது\\nதமிழ் மக்கள், 19-ஆம் நூற்றாண்டிலும் 20-ஆம் நூற்றாண்டின் ஆரம்பத்திலும் ஒப்பந்தக் கூலிகளாகவும் கீழ்நிலை அரசப் பணியாளர்களாகவும் இந்தியா, இலங்கை போன்ற நாடுகளிலிருந்து பிரித்தானியப் பேரரசின் பல பகுதிகளுக்கும் அனுப்பப்பட்டனர்.', 'அவ்வாறு, அவர்கள் சென்ற இடங்களில் தமிழ் பேசும் சமுதாயங்கள் உருவாகின.', 'இவர்களின் வழிவந்தவர்கள் இன்று சிங்கப்பூர், மலேசியா, மொரீசியசு போன்ற நாடுகளில் குறிப்பிடத்தக்க குடித்தொகை கொண்டவர்களாக வாழ்ந்து வருகின்றார்கள்.', 'தென்னாப்பிரிக்கா, கயானா, பிசி, சுரினாம், திரினிடாடு, உடொபாகோ போன்ற நாடுகளிலும் பலர் பூர்வீகத் தமிழராக இருந்தும், அந்நாடுகளில் அவர்கள் தமிழ் மொழியைப் பேசுவதில்லை.', 'மிக அண்மைக்காலங்களில், பெரும்பாலும் இலங்கையின் இன முரண்பாடுகள் காரணமாக அகதிகளாக அங்கிருந்து இடம் பெயர்ந்தவர்களும் ஓரளவு பொருளாதாரக் காரணங்களுக்காக இடம் பெயர்ந்தவர்களுமாகப் பல தமிழர்கள் ஆத்திரேலியாவிலும் கனடாவிலும் ஐக்கிய அமெரிக்காவிலும்  பெரும்பாலான ஐரோப்பிய நாடுகளிலும் வாழ்ந்து வருகின்றார்கள்.', 'தற்போது இவர்களில் பழைய தலைமுறையைச் சேர்ந்தவர்கள் தமிழ் மொழியை ஓர் உயிர்ப்புள்ள மொழியாக வழங்கி வந்தபோதிலும் இளைய தலைமுறையினர் பலர் தமிழ் மொழியைப் பயன்படுத்த இயலாதவர்களாகவும் ஆர்வமற்றவர்களாகவும் வளர்ந்து வருவதைக் கவனிக்க முடிகின்றது.', 'தமிழ் இந்திய மாநிலமான, தமிழ்நாட்டின் ஆட்சி மொழியாகும்.', 'அத்துடன் இந்திய அரசியலமைப்பின், எட்டாவது பட்டியலில் குறிப்பிடப்பட்டுள்ள 22 மொழிகளுள் ஒன்றாகவும் உள்ளது.', 'இலங்கையில் மூன்று ஆட்சி மொழிகளுள் தமிழும் ஒன்று.', 'இந்தியாவில் தமிழ்நாடு மாநிலத்திலும் புதுச்சேரி ஒன்றியப் பகுதியிலும் தமிழ் அரச அலுவல் மொழியாக இருக்கிறது.', 'சிங்கப்பூரிலும் நான்கு ஆட்சி மொழிகளுள் தமிழும் ஒன்று.', 'தென்னாப்பிரிக்காவிலும் தமிழுக்கு அரசியலமைப்பு அங்கீகாரம் உள்ளது.', 'மலேசியாவிலும் முதல் நான்கு ஆட்சி மொழிகளில் தமிழும் இடம்பெற்றுள்ளது.', 'மலேசியாவில் தொடக்க இடைநிலைப்பள்ளிகளில் தமிழ் கற்பிக்கப்படுகிறது.', 'நாடு முழுவதும் 523 தமிழ்த் தொடக்கப்பள்ளிகள் அரசுப் பள்ளிகளாக இயங்குகின்றன.', 'இந்தியாவிலும் வெளி நாடுகளிலும் உள்ள பல தமிழ் அமைப்புகளினதும் அறிஞர்களினதும் நீண்ட கால முயற்சிகளைத் தொடர்ந்து [24]  இந்திய அரசினால் தமிழ் ஒரு செம்மொழியாக அங்கீகரிக்கப்பட்டுள்ளது.', 'இவ்வாறு அங்கீகாரம் பெற்றுள்ள முதல் இந்திய மொழி தமிழாகும்.', 'இந்திய நாடாளுமன்றத்தின் இரு அவைகளினதும் கூட்டுக் கூட்டமொன்றின்போது, 2004 சூன் 6 ஆம் நாள் அப்போதைய இந்திய குடியரசுத்தலைவர் அப்துல் கலாம் இதனை அறிவித்தார்.', '[25] குடியரசுத் தலைவரின் பேச்சின்-கூற்று 41 யும்,  இந்திய அமைச்சரவையின் முறையான அங்கீகாரம்] தொடர்பான பிபிசி செய்தியையும் காண்க.', '[26] தமிழ் செம்மொழியாக அறிவித்த அரசாணையை அக்டோபர் 12 2004 இல் வெளியிட்டது இந்திய அரசு [27] [28]\\nதமிழ், அதன் பல் வேறுபட்ட வட்டார வழக்குகளுக்கு மேலதிகமாக, இலக்கியங்களில் பயன்படும் முறையான செந்தமிழ், கொடுந்தமிழ் என வழங்கப்படும் பேச்சுத் தமிழுக்கும் இடையே தெளிவான இருவடிவத் தன்மை () காணப்படுகின்றது.', 'இங்கே கொடுந்தமிழ் என்பது அனைத்து வட்டாரப் பேச்சுத் தமிழ் வழக்குகளையும் பொதுவாகக் குறிக்கும் ஒரு சொற் பயன்பாடு ஆகும்.', 'இந்த இருவடிவத் தன்மை பண்டைக் காலம் முதலே தமிழில் இருந்து வருவதைக் கோவில் கல்வெட்டுகளிற் காணப்படும் தமிழ், சமகால இலக்கியத் தமிழினின்றும் குறிப்பிடத்தக்க அளவு வேறுபட்டுக் காணப்படுவதினின்றும் அறிந்துகொள்ள முடியும்.', 'இவ்வாறு, செந்தமிழ், எந்த வட்டார மொழி வழக்கையும் சாராது இருப்பதனால் எழுத்துத் தமிழ், தமிழ் வழங்கும் பல்வேறு பகுதிகளிலும் ஒன்றாகவே இருப்பதைக் காணலாம்.', 'தற்காலத்தில் எழுதுவதற்கும் மேடைப் பேச்சுக்கும் செந்தமிழே பொதுவாகப் பயன்படுத்தப்படுகின்றது.', 'எடுத்துக்காட்டாகச் செந்தமிழ், பாட நூல்களுக்குரிய மொழியாகவும் பெருமளவுக்கு இலக்கிய மொழியாகவும் மேடைப் பேச்சுகளுக்கும், விவாதங்களுக்கும் உரிய மொழியாகவும் விளங்கிவருகிறது.', 'அண்மைக் காலங்களில், மரபு வழியில், செந்தமிழுக்குரிய துறைகளாக இருந்து வந்த பகுதிகளிலும் கொடுந்தமிழ்ப் பயன்பாடு அதிகரித்து வருவதைக் காணமுடிகின்றது.', 'பெரும்பாலான தற்காலத் திரைப்படங்கள், மேடை நாடகம் மற்றும் தொலைக் காட்சி, வானொலி முதலியவற்றில் இடம்பெறும் மக்களுக்கான பொழுதுபோக்கு அம்சங்கள் பலவற்றிலும் கொடுந்தமிழ் பயன்படுத்தப்படுவதைக் காணலாம்.', 'பல அரசியல்வாதிகளும் மக்களுக்கு நெருக்கமாகத் தங்களைக் காட்டிக் கொள்ளும் நோக்கில் தங்கள் மேடைப் பேச்சுக்களிலும் கொடுந்தமிழைப் பயன்படுத்தி வருகின்றனர்.', 'பல ஐரோப்பிய மொழிகளில் காணப்படுவதற்கு மாறாக, தமிழில், அதன் வரலாற்றின் பெரும் பகுதியிலும், ஒரு பொதுவான பேச்சுமொழி இருந்ததில்லை.', 'தற்காலத்தில் அதிகரித்த கொடுந்தமிழ்ப் பயன்பாடு, அதிகாரபூர்வமற்ற முறையில் பொதுப் பேச்சுத் தமிழ் வழக்குகள் தோன்றுவதற்குக் காரணமாகவுள்ளது.', 'இந்தியாவில் பொதுக் கொடுந்தமிழ், \"படித்த, பிராமணரல்லாதவர்\\'களின் பேச்சுவழக்கை அடிப்படையாகக் கொண்டுள்ளது\" (, 1998).', 'எனினும் குறிப்பிடத்தக்க அளவுக்குத் தஞ்சாவூர் மற்றும் மதுரைப் பேச்சு வழக்குகளில் செல்வாக்கு உள்ளது.', 'இலங்கையில், அதிக மக்கள் தொகையைக் கொண்ட யாழ்ப்பாணப் பேச்சு வழக்கையே பெரும்பாலான வெளியார் இலங்கைத் தமிழ்ப் பேச்சு வழக்காக இனங்கண்டு கொள்கின்றனர்.', 'இருப்பினும் இலங்கையின் கிழக்குப்பகுதியில் குறிப்பாக மட்டக்களப்புப் பேச்சுத் தமிழ் யாழ்ப்பாணப் பேச்சு வழக்கிலிருந்து வேறுபட்டு வடமொழிக்கலப்புக் குறைந்து மிகப்பழைய விளிப்புப் பெயர்களையும் அசைச்சொற்களையும் கொண்டு காணப்படுகிறது.', '[29]\\nதமிழில் வட்டாரமொழி வழக்குகள், பெரும்பாலும் சொற்களை ஒலிப்பதில் மாறுபடுகின்றன.', 'மற்றும் பல வேறு பழைய செந்தமிழ்ச் சொற்களினின்றும் பிறந்தவையாகும்.', 'எடுத்துக்காட்டாக, \"இங்கே\" என்ற சொல் கன்னியாகுமரி மாவட்டத்தில் பரவலாக \"இஞ்ச\" என்றும் தஞ்சாவூர் பகுதிகளில் \"இங்க\" என்றும் யாழ்ப்பாணம் (இலங்கை) பகுதிகளில் \"இங்கை\" என்றும் வழங்கப்படுகின்றது.', 'ஆயினும் திருநெல்வேலி பகுதிகளில் \"இங்கனெ\" என்றும் இராமநாதபுரம் பகுதிகளில் \"இங்குட்டு\" / \"இங்கிட்டு\" என்றும் வழங்கும் சொற்கள் \"இங்கே\" என்ற சொல்லில் கிளைத்தவை அல்லாமல் வேறு செந்தமிழ்ச் சொற்களினின்றும் பிறந்தவையாகும்.', 'இங்கனெ என்பது \"இங்கணே\"/\"இங்கனே\" என்பதன் மாற்றமும் \"இங்குட்டு\"/\"இங்கிட்டு\" என்பது \"இங்கட்டு\" என்னும் செம்மொழிச்சொல்லின் மாற்றமும் ஆகும்.', '\"கண்\" என்னும் சொல்லின் பொருள் இடம் ஆகும்.', 'சான்றாகச் சென்னைத் தமிழகராதி: \", ; இடம்.', 'ஈர்ங்கண்மா ஞாலம் (குறள், 1058)\".', 'கட்டு என்னும் சொல்லும் கண் என்பதோடு து-விகுதி சேர்ந்து வழங்கும் சொல்லாகும்.', 'கொங்குநாட்டார் இன்றும் \"அக்கட்டாலே போய் உட்கார்\" என்று சொல்வதைக் கேட்கலாம்.', '\"இங்கன்\" அல்லது \"ஈங்கன்\" என்பதும் பழைய இலக்கியங்களில் காண்பவை (சென்னைப் பல்கலைக் கழகத் தமிழகராதி காண்க).', 'இஃது ஒரே சொல் பலவாறு சிதைந்ததாகக் கருதும் கோட்பாட்டைத் திருத்த உதவும்; மேலும் வட்டாரவழக்குகள் பழைய இலக்கியச்சொற்கள் உண்மையிலேயே பேச்சில் வழங்குவதற்கு நல்ல சான்றாகவும் இருப்பதைக் காட்டும்.', 'பெரும்பாலான வட்டார மொழி வழக்குகளின் சொல் அகராதியில் குறிப்பிடத்தக்க மாற்றம் இல்லை என்றாலும், சில வழக்குகள் பெரிதும் மாறுபடுகின்றன.', 'இலங்கையில் பேசப்படும் தமிழின் சில சொற்கள், தமிழகத்தில் அன்றாட வழக்கில் பயன்படுத்தப் படுவதில்லை.', '\"பாலக்காட்டு ஐயர்\" தமிழில் பல மலையாள சொற்கள் கலந்திருக்கும்.', 'சில இடங்களில் மலையாள வாக்கிய அமைப்பும் காணப்படும்.', 'இறுதியாக, ஹெப்பார் மற்றும் மாண்டியம் வட்டாரங்களில் பதினோறாம் நூற்றாண்டில் புலம் பெயர்ந்த வைணவ கோட்பாட்டைப் பின்பற்றும் ஐயங்கார் தமிழர்களால் பேசப்படும் தமிழில் வைணவ பரிபாசையின் எச்சம் காணப்படுகிறது.', 'தமிழ் மொழி வழக்குகள் வட்டார அடிப்படையில் மட்டுமல்லாது சாதி அடிப்படையிலும் வேறுபடும்.', 'பல சாதிகளுக்கெனத் தனியான பேச்சு வழக்குகள் இருந்து வந்தன.', 'தற்போது சாதி மறுப்பு இயக்கங்களின் விளைவாக இவ்வேறுபாடுகள் மறைந்து வந்தாலும், ஒருவரின் பேச்சு வழக்கை வைத்து அவரின் சாதியைச் சில வேளைகளில் கணிக்க முடிகிறது.', 'எத்னொலோக் () என்ற மொழிகள்பற்றிய பதிப்பு நிறுவனம், தமிழில் 22 வட்டார வழக்குகள் இருப்பதாகத் தெரிவிக்கிறது.', 'அவையாவன ஆதி திராவிடர், ஐயர், ஐயங்கார், அரவா, பருகண்டி, கசுவா, கொங்கர், கொரவா, கொர்சி, மதராஸி, பரிகலா, பாட்டு பாஷை, இலங்கை தமிழ், மலேயா தமிழ், பர்மா தமிழ், தென்னாப்பிரிக்க தமிழ், திகளு, அரிஜன், சங்கேதி, ஹெப்பார், மதுரை, திருநெல்வேலி.', 'கொங்கு மற்றும் குமரி ஆவன வேறு சில தெரிந்த வட்டார வழக்குகள்.', 'புவியியல் தொடர்பான வட்டார வழக்குகள் ஒருபுறமிருக்க, சமுதாய அடைப்படையிலும் பல்வேறு மட்டங்களில் தமிழ் மொழிப் பயன்பாட்டில் வேறுபாடுகளைக் கவனிக்கலாம்.', 'புதிய வழக்காக, தொலைக்காட்சி முதலான தொடர்புச் சாதனங்களும் இன்று பெருமளவுக்கு ஆங்கிலம் கலந்த தமிழைத் தமிழ் மக்கள் மத்தியில் புழக்கத்துக்கு விட்டுள்ளன.', 'மேனாட்டுக் கல்வி மற்றும் அறிவியல் வளர்ச்சி தொடர்பில் புதிய சொல்லாக்கம், கலைச்சொல்லாக்கம் முதலிய அம்சங்களில் ஒருங்கிணைவு அற்ற முயற்சிகள் வேறுபட்ட மொழி வழக்குகளை உருவாக்கியுள்ளன.', 'முக்கியமாக, இலக்கியம் மற்றும் அது போன்ற பண்பாட்டு மற்றும் மரபுவழிப் பயன்பாடுகளுக்கு அப்பால், கல்வி, அறிவியல், நிருவாகம் மற்றும் இன்னோரன்ன நவீனத் துறைகளிலும் தமிழைப் பயன்படுத்திவரும் தமிழ்நாடு, இலங்கை போன்ற நாடுகளில் உருவாக்கப்படும் ஆயிரக்கணக்கான தமிழ்ச் சொற்கள், ஒரு பகுதியினர் பயன்படுத்தும் தமிழை இன்னொரு பகுதித் தமிழர் புரிந்து கொள்ளமுடியாத அளவுக்கு வேறுபாடுள்ள மொழி வழக்குகள் உருவாகக் காரணமாக உள்ளன.', 'தமிழ் எழுத்து முறைமை ஒலிப்பியல் அடிப்படையிலானது; குறுக்கம், அளபெடை, மற்றும் புணர்ச்சி நெறிகளுக்கு உட்பட்டே எழுத்துகள் ஒலிக்கப்படுகின்றன.', 'தற்போதைய தமிழ், எழுத்துமுறை தமிழ் பிராமியிலிருந்து தோன்றியது ஆகும்.', 'தமிழ் பிராமி காலப்போக்கில் வட்டெழுத்தாக உருமாறியது.', 'ஆறாம் நூற்றாண்டிலிருந்து பத்தாம் நூற்றாண்டு வரையிலான காலத்தில் \"வட்டெழுத்து\" முறை உருவானது.', 'ஓலைச்சுவடிகளிலும் கல்லிலும் செதுக்குவதற்கேற்ப இருந்தது.', 'வட்டெழுத்தில் சமஸ்கிருத ஒலிகள் குறிக்கப்பட முடியாது என்பதால் சமஸ்கிருத ஒலிகளை எழுதும் பொருட்டு சில கிரந்த எழுத்துமுறை கிரந்த எழுத்துகளைப் பயன்படுத்தினர்.', 'இவ்வெழுத்துகளைப் பயன்படுத்துவதற்கு மாறாகத் தொல்காப்பியம் கூறியபடி அச்சொற்களைத் தமிழ்படுத்த வேண்டும் என்றும் ஒரு கருத்து நிலவுகிறது.', 'பின்னர், வீரமாமுனிவரின் அறிவுரைப்படி இரட்டைக் கொம்பு போன்ற மாற்றங்கள் செய்யப்பட்டன.', 'இராமச்சந்திரன் ஆட்சியில் அச்சில் ஏற்றுவதை எளிமைப்படுத்தும் வகையில் ஈ. வெ. இராமசாமியால் பரிந்துரைக்கப்பட்ட ஆகார மற்றும் ஐகார உயிர்மெய் எழுத்துகளில் சீர்திருத்தம் செய்யப்பட்டது.', 'எனினும் ஈ. வெ. இராமசாமி – அதில், உகர சீர்திருத்தம் செயல்படுத்தப்படவில்லை.', 'கிரந்த எழுத்துகள் தென்னிந்தியாவில், குறிப்பாகத் தமிழ் நாட்டில் சமஸ்கிருத மொழியை எழுதப் பயன்பட்ட வரி வடிவங்களாகும்.', 'இருபதாம் நூற்றாண்டில் தேவநாகரி எழுத்துகள் பிரபலமடைந்ததாலும் தமிழ்நாட்டில் திராவிட இயக்கம் சமற்கிருதம் மீது பொதுவாகச் செய்த தாக்கத்தாலும் கிரந்த எழுத்துகளின் பயன்பாடு பெருமளவு குறைந்து விட்டது.', 'தமிழில் மணிப்பிரவாள எழுத்து நடை செல்வாக்கு செலுத்தியபொழுது கிரந்த எழுத்துகள் பரவலாகப் பயன்படுத்தப்பட்டது.', 'இன்று, மணிப்பிரவாள எழுத்து நடை மறைந்தாலும், \"ஜ\", \"ஷ\", \"ஸ\", \"ஹ\",\"க்ஷ\" போன்ற கிரந்த எழுத்துகள் ஆங்கிலச் சொற்களையும் அறிவியல் சொற்களையும் வடமொழிச் சொற்களையும் பிறமொழிச் சொற்களையும் குறிக்கப் பயன்படுத்தப்படுகின்றன.', 'வார்ப்புரு:தமிழ் கிரந்த எழுத்துகள்\\nமுதன்மைக் கட்டுரை: தமிழ் ஒலிப்புமுறை\\nதமிழில் 12 உயிரெழுத்துகளும், 18 மெய்யெழுத்துகளும் உள்ளன.', 'ஒவ்வொரு உயிரெழுத்தும் 18 மெய்யெழுத்துகளோடும் சேர்வதால் 216 உயிர்மெய்யெழுத்துகள் பிறக்கின்றன.', 'இவற்றோடு ஆய்த எழுத்தும் சேர்த்து தமிழ் எழுத்துகள் மொத்தம் 247 (உயிரெழுத்துகள் – 12, மெய்யெழுத்துகள் – 18, உயிர்மெய்யெழுத்துகள் – 216, ஆய்த எழுத்து – 1) ஆகும்.', 'உயிரெழுத்துகளில் குறுகிய ஓசையுடைய எழுத்துகளான அ, இ, உ, எ, ஒ ஆகிய எழுத்துகள் குற்றெழுத்துகள் (குறில்) எனவும், நீண்ட ஓசையுடைய எழுத்துகளான ஆ, ஈ, ஊ, ஏ, ஐ, ஓ, ஔ ஆகிய எழுத்துகள் நெட்டெழுத்துகள் (நெடில்) எனவும் வழங்கப்படும்.', 'குறிலெழுத்துகள் ஒவ்வொன்றையும் ஒரு மாத்திரை நேரத்திலும் நெட்டெழுத்துகள் ஒவ்வொன்றையும் இரண்டு மாத்திரை நேரத்திலும் ஒலிக்க வேண்டும்.', 'மெய்யெழுத்துகளில் வன்மையான ஓசையுடைய எழுத்துகள் வல்லினம் என்றும், மென்மையான ஓசையுடைய எழுத்துகள் மெல்லினம் என்றும், இவை இரண்டிற்கும் இடைப்பட்ட ஓசையுடைய எழுத்துகள் இடையினம் என்றும் வழங்கப்படும்.', 'மெய்யெழுத்துகள் ஒவ்வொன்றும் அரை மாத்திரை நேரத்தில் ஒலிக்கப்படும்\\nகீழேயுள்ள அட்டவணையில் தமிழ் மெய்யெழுத்துகள், அனைத்துலக ஒலிப்பெழுத்துகளுடனும், ஒலிப்பு வகைகளுடனும் தரப்பட்டுள்ளன.', 'ஃ – மூன்று புள்ளிகளாக எழுத்தப்படும் ஆய்த எழுத்திற்கு அஃகேனம், தனிநிலை, புள்ளி, ஒற்று என்னும் வேறு பெயர்களும் உண்டு.', 'இவ்வெழுத்தானது தனக்கு முன்னர் ஒரு குறில் எழுத்தையும் பின்னர் ஒரு வல்லின உயிர்மெய் எழுத்தையும் பெற்றே உச்சரிக்கப்படும். எடுத்துக்காட்டு. பழந்தமிழில் பரவலாக ஆய்த எழுத்து பயன்படுத்தப்பட்டாலும் தற்காலத்தில் ஆய்த எழுத்தின் பயன்பாடு அரிதே.', 'சில நேரங்களில் பகரத்துடன் சேர்த்து (ஃப) ஆங்கில எழுத்தான -ஐக் குறிக்கப் பயன்படுத்தப்படுகின்றது.', 'ஆய்த எழுத்து ஒரு சார்பெழுத்தாகும்.', 'தொல்காப்பியத்தின்படி சார்பெழுத்து மொழிக்கு முதலிலும், இறுதியிலும், தனித்தும் வராது.', 'பெரும்பாலான இந்திய மொழிகளைப் போலன்றி தமிழில் மூச்சைக்கொண்டு ஒலிக்கும் () மெய்யெழுத்துகள் கிடையாது.', 'பேச்சில் வழங்கிவரினும் தமிழ் எழுத்து மிடற்றொலிகளையும் ( ) பிற ஒலிகளையும் வேறுபடுத்துவதில்லை.', 'மிடற்றொலிகளும் அவற்றின் இனமான பிற ஒலிகளும் தமிழில் வகையொலிகள் () அல்ல.', 'தமிழர் பொதுவாக இவ்வேறுபாட்டை உணர்ந்திருக்கின்றனர்.', 'மேலும், தொல்காப்பியத்தில் ஓர் எழுத்தை எப்பொழுது மிடற்றிலிருந்து ஒலிக்க வேண்டும் என்பது பற்றிய வரைமுறை விளக்கப்பட்டுள்ளது.', 'எடுத்துக்காட்டாக, \"க\" எனும் மெய்யொலி மிடறு நீங்கிய நிலையில் () \"\" ஒலியுடன் சொல்லின் முதலில் வரும்பொழுதும் (உ: கல்), பிற இடங்களில் ஒற்றிரட்டித்து () வரும்பொழுதும் (உ: அக்கா), அமைகிறது.', '\"க\" என்பது  மிடற்றொலியாக () \"\" ஒலியுடன், தொல்காப்பிய விதிப்படி சொல்லின் முதலில் வராது, சொல்லின் உள்ளே வரும்: (உ: பூங்கா) தன் இன மூக்கொலியை () அடுத்து வரும்.', 'சொல்லின் முதலில் சகரம் எவ்வாறு ஒலிக்கப்பட வேண்டும் என்ற நெறியைத் தவிர பிற நெறிமுறைகள் செந்தமிழில் பொதுவாகப் பின்பற்றப்படுகின்றன.', 'கொடுந்தமிழ் அல்லது வழக்குத்தமிழில் ஒவ்வொரு வட்டாரத்திற்கும் ஏற்ப ஒலிப்புமுறை வேறுபடுகிறது.', 'தென்வட்டார வழக்குகளிலும் இலங்கை வழக்குகளிலும் இம்முறை பெரும்பாலும், ஆனால் முழுமையாக அல்லாமல், பின்பற்றப்படுகிறது.', 'வடபகுதி வட்டார வழக்குகளில் ஒலிப்பெயர்வு ஏற்பட்டு ஒலிப்புநெறிகளில் மாற்றங்கள் ஏற்பட்டுள்ளன.', 'இவைதவிர, சமஸ்கிருதம் மற்றும் பிற வடமொழிகளிலிருந்து பெறப்பட்ட சொற்கள் தமிழில் பெரிதும் உள்ளபடியே பயன்படுத்தப்படுகின்றன.', 'தமிழ் எழுத்தில் ஏன் மிடற்றொலி மற்றும் பிறவொலி வேறுபாடுகள் இல்லையென்ற கேள்விக்கு ஒலிப்பியலாளர்கள் நடுவே ஒருமித்த கருத்து இல்லை.', 'ஒரு சாரார் தமிழ் மொழியில் கூட்டுமெய்களும் மிடற்றினின்று ஒலிக்கும் வல்லெழுத்துகளோ அடிப்படையில் இருந்ததில்லையென்றும், சொற்புணர்ச்சி மற்றும் குறுக்கத்தினால் மட்டுமே இவ்வொலிகள் ஏற்படுகின்றன என்று குறிப்பிடுகின்றனர்.', 'அதனால், இந்திய ஐரோப்பிய மொழிக்குடும்பத்தைச் சேர்ந்த மொழிகள் மற்றும் பிற திராவிட மொழிகளைப் போலன்றி தமிழில் இவ்வொலிகளுக்கெனத் தனியெழுத்துகள் தேவைப்படவில்லை என்று கருதுகின்றனர்.', 'இக்கருத்திலிருந்து மாறுபட்டு மிடற்றொலிகள் அவற்றையொத்த பிற ஒலிகளின் வகையொலிகளாகவே தமிழில் இருந்துள்ளன என்றும் அதனாலேயே அவற்றிற்கெனத் தனியாக எழுத்துக்குறிகள் இல்லையெனவும் ஒரு கருத்தைச் சிலர் முன்வைக்கின்றனர்.', 'குறுக்கம் என்பது சில ஒலிப்பியல் கூறுகள் சில குறிப்பிட்ட ஒலிகளையடுத்து வரும்பொழுது தத்தம் இயல்பான ஒலி அளவுகளிலிருந்து குறைந்து ஒலித்தலைக் குறிக்கும்.', 'அவை பின்வருவன.', 'தற்காலத்தில் தமிழில் பெரும்பாலும் அனைத்துலக எண் குறியீடுகளே பயன்பாட்டில் உள்ளனவாயினும் சில பத்தாண்டுகளுக்கு முன்வரை தனியான எண் குறியீடுகள் பயன்பட்டுவந்தன.', 'ஒன்று தொடக்கம் ஒன்பது வரையான எண்களுக்கு மட்டுமன்றி, பத்து, நூறு, ஆயிரம் ஆகியவற்றுக்கும் தனிக் குறியீடுகள் இருந்தன.', \"தமிழில் '0' என்று எண் வடிவம் இல்லை.\", 'இலக்கண அடிப்படையில் தமிழ் ஒரு ஒட்டுநிலை மொழியாகும்.', 'தமிழில், பெயர் வகை, எண், வேற்றுமை, காலம், போன்றவற்றை விளக்கச் சொற்களுடன் பின்னொட்டுகள் சேர்க்கப்படுகின்றன.', 'தமிழின் பொதுவான கருவி மொழியியல் () சொற்களும் கலைச் சொற்களும் தமிழாகவே உள்ளன.', 'தமிழ் இலக்கணம் பெருவாரியாகத் தொல்காப்பியத்தில் விவரிக்கப்பட்டுள்ளது.', 'தற்கால தமிழ் இலக்கணம் பெரும்பாலும் நன்னூலைத் தழுவியமைந்துள்ளது.', 'பதிமூன்றாம் நூற்றாண்டில் எழுதப்பட்ட நன்னூலில் தொல்காப்பிய நெறிமுறைகள் தெளிவுபடுத்தப்பட்டுள்ளன.', 'தமிழ்ச் சொற்கள் வேர்ச் சொற்களை அடிப்படையாகக் கொண்டவை.', 'இவற்றுக்கு ஒன்று அல்லது பல ஒட்டுகளைச் சேர்ப்பதன் மூலம் புதிய சொற்கள் உருவாக்கப்படுகின்றன.', 'இம்மொழியில் பெரும்பாலான ஒட்டுகள் பின்னொட்டுகளாகும்.', 'பின்னொட்டுகள் சொற்களின் இலக்கண வகையில் மாற்றங்களை உண்டாக்குகின்றன அல்லது அவற்றில் பொருளை மாற்றுகின்றன.', 'இவை சொற்களுக்கு இடம், எண், பால், காலம் போன்றவற்றை உணர்த்தும் பொருள்களையும் கொடுக்கின்றன.', 'இவ்வாறு சொற்களுக்கு ஒட்டுகளைச் சேர்ப்பதில் எவ்வித எண்ணிக்கைக் கட்டுப்பாடும் கிடையாது.', 'இதனால் தமிழில் பல ஒட்டுகளைக் கொண்ட நீளமான சொற்கள் இருப்பதைக் காணலாம்.', 'தமிழில் பெயர்ச் சொற்கள் இரண்டு திணைகளாகப் பிரிக்கப்பட்டுள்ளன.', 'அவை உயர்திணை, அஃறிணை என்பவை.', 'உயர்திணை கடவுளர், மனிதர் என்பவர்களைக் குறிக்கும் சொற்களை உள்ளடக்குகின்றன.', 'ஏனைய உயிரினங்களையும் பொருட்களையும் குறிக்கும் சொற்கள் அஃறிணைக்குள் அடங்குகின்றன.', 'உயர்திணை- ஆண்பால், பெண்பால், பலர்பாலென மூன்று பால்களாகவும், அஃறிணை- ஒன்றன்பால், பலவின் பாலென இரண்டு பால்களாகவும் வகுக்கப்பட்டுள்ளன.', 'உயர்திணையுள் அடங்கும் ஆண்பால், பெண்பால் என்பன ஒருமைப் பொருளைச் சுட்டுகின்றன.', 'பலர்பால் பன்மைப் பொருளைச் சுட்டுவது மட்டுமன்றி மதிப்புக் கொடுப்பதற்காக ஒருமையாகவும் பயன்படுவதுண்டு.', 'தமிழில் வேற்றுமைகள் எட்டுவகைகளாகப் பிரிக்கப்பட்டுள்ளன.', 'இவை முதலாம் வேற்றுமை, இரண்டாம் வேற்றுமை, மூன்றாம் வேற்றுமை, நான்காம் வேற்றுமை, ஐந்தாம் வேற்றுமை, ஆறாம் வேற்றுமை, ஏழாம் வேற்றுமை, எட்டாம் வேற்றுமையெனப் பெயரிடப்பட்டு உள்ளன.', 'இப்பகுப்பு சமஸ்கிருத இலக்கண அடிப்படையிலானது என்றும் இதனால் செயற்கையானது என்றும் தற்கால மொழியியலாளர் சிலர் கூறுகின்றனர்.', 'தமிழை உலக மொழிகளில் ஒன்றாகக் கொண்டு மொழியியல் கண் கொண்டு நோக்குவது தமிழியல்.', 'தமிழின் இயல்பினைத் தொல்காப்பியம் நமக்குப் புலப்படுத்துகிறது.', 'அஃது இன்றைய மொழியியலாளரின் எண்ண ஓட்டத்தைப் பெருமளவில் ஒத்துள்ளது.', 'தமிழ், சொல்வளம் நிறைந்த மொழி.', 'நவீனத் தமிழ்மொழி பழந்தமிழ் மொழியில் பயன்படுத்தப்பட்ட பெரும்பாலான சொற்களை இன்னும் பயன்படுத்துகின்றது.', 'இதனால் சற்று பயிற்சியுடன் பழந்தமிழ் இலக்கியங்களை ஒரு தமிழர் படித்து அறிய முடியும்.', 'திருக்குறள் போன்ற சிறந்த பழந்தமிழ் படைப்புகள் தமிழர்களால் சிறப்பாகக் கற்கப்படுவதற்கு இத்தொடர்ச்சியான சொற்பயன்பாடு உதவுகின்றது.', 'பிறமொழிச் சொற்கள் மட்டுப்படுத்தப்பட்டு இருப்பது தமிழ் மொழியின் தொடர்ச்சிக்கும் தனித்துவத்திற்கும் அவசியம், ஆகையால் தமிழ் அடிச்சொற்களிலிருந்து உருவாக்கப்படும் சொற்களைப் பயன்படுத்துவதே நன்று என்பது பல தமிழ் ஆர்வலர்களின் கருத்து ஆகும்.', 'தமிழ் மொழியில் அறிவியலைப் படைக்கக் கலைச்சொல்லாக்கம் இன்றியமையாததாகும்.', 'இது தமிழ் மொழியில் தொடர்ச்சியாக மேற்கொள்ளப்படும் ஒரு செயல்பாடுதான்.', 'இக்காலத்தில் தமிழக இலங்கை அரசுகளின் பல்கலைக் கழகங்கள் ஊடாகவும் தமிழ்த் தன்னார்வலர்களாலும் இப்பணி தொடர்கின்றது.', 'தமிழ் மொழி ஆய்வுக்கும் வளர்ச்சிக்கும் இந்திய அரசும், தமிழ்நாடு அரசும் சில அமைப்புகளை நிறுவிச் செயல்படுத்தி வருகின்றன.', 'அரசு அமைப்பு தவிர சில தனியார் அமைப்புகளும் செயல்பட்டு வருகின்றன.', 'தமிழ்ப் பற்று என்பது ஒருவருக்கு தமிழ் மொழி, இலக்கியம், பண்பாடு, நாகரிகம் போன்றவற்றோடு இருக்கும் ஒரு பற்று ஆகும்.', 'நாட்டுப் பற்று, சமயப் பற்றுப் போன்று இஃது ஓர் உணர்வு, அரசியல், கொள்கை கலந்த ஒரு நிலைப்பாடு ஆகும்.', 'தமிழ்ப் பற்று தமிழ் அடையாளத்தினது, தமிழர் அரசியலின் ஒரு முக்கிய அடையாளமாகவும் உள்ளது.', '\"உடல் மண்ணுக்கு, உயிர் தமிழுக்கு\" போன்ற முழக்கங்கள் ஊடாகவும் கவிதைகள் ஊடாகவும் செயற்பாடுகள் ஊடாகவும் இயக்கங்கள் ஊடாகவும் தமிழ்ப் பற்று வெளிப்படுப்படுத்தப்படுகிறது.', 'இந்தி\\nஅசாமியம்\\xa0• \\nஆங்கிலம் \\xa0• \\nஇந்தி\\xa0• \\nஉருது\\xa0• \\nஒரியம்\\xa0•  \\nகன்னடம்\\xa0•  \\nகசுமீரியம்\\xa0•  \\nகுசராத்தியம்\\xa0•  \\nகொங்கணியம்\\xa0•  \\nசந்தாளியம்\\xa0• \\nசமசுகிருதம் \\xa0•  \\nசிந்தி\\xa0•  \\nதமிழ்\\xa0•  \\nதெலுங்கு\\xa0•  \\nநேபாளியம்\\xa0•  \\nபஞ்சாபியம்\\xa0•  \\nபோடோயம்\\xa0•  \\nமணிப்புரியம்\\xa0•  \\nமராத்தி\\xa0•  \\nமலையாளம்\\xa0•  \\nஇலங்கை (ஒலிப்பு\\xa0(உதவி·தகவல்)) ( , சிங்களம்: ශ්\\u200dරී ලංකා, சிறிலங்கா) இந்தியத் துணைக்கண்டத்தின் தென்கீழ் கரைக்கு அப்பால் இந்தியப் பெருங்கடலில் ஏறத்தாழ 20 மில்லியன் மக்கள் வாழும் ஒரு தீவு நாடு ஆகும்.', 'இதன் தற்போதைய அதிகாரபூர்வ பெயர் இலங்கை சனநாயக சோசலிசக் குடியரசு[5] ஆகும்.', '1972 க்கு முன் உலகம் முழுவதும் சிலோன் () என்ற பெயரால் அறியப்பட்டு வந்தது.', 'இலங்கையின் ஆவணப்படுத்தப்பட்ட வரலாறு மூவாயிரம் ஆண்டுகளைக் கொண்டது.', '[6] இதன் புவியியல் அமைவு மற்றும் ஆழமான திருகோணமலை  துறைமுகம் என்பன புராதன பட்டுப் பாதை காலந்தொட்டு[7] இரண்டாம் உலக யுத்தம் வரை தந்திரோபாய முக்கியத்துவத்தை வழங்கியுள்ளது.', '[8] இலங்கை பல சமய, பல இன, பல மொழிகள் பேசுவோரின் தாயகமாகவுள்ளது.', '[9] இது சிங்களவர், இலங்கைத் தமிழர், இலங்கைச் சோனகர், இந்திய வம்சாவளித் தமிழர், பறங்கியர், இலங்கை மலாயர், இலங்கை ஆப்பிரிக்கர் மற்றும் பூர்வீகக் குடிகளான வேடுவர் ஆகியோரின் தாயகமாகும்.', '[10] இலங்கை வளமான பௌத்த மரபுரிமையைக் கொண்டு, முதலாவது பௌத்த படைப்புக்களை இத்தீவில் உருவாக்கியது.', '[11] இந்நாட்டின் தற்கால வரலாறு மூன்று தசாப்த கால ஈழப் போரில் அகப்பட்டு[12] மே 2009 இல் இராணுவ ரீதியிலான வெற்றியுடன் முடிவுக்கு வந்துள்ளது.', '[13]\\nஇலங்கை அதிபர் முறைமூலம் குடியரசு மற்றும் ஒற்றையாட்சி அரசால் ஆளப்படும் நாடாகும்.', 'கொழும்பு குடியேற்றவாத ஆட்சிக்காலம் முதலே இலங்கையின் தலைநகராக இருந்து வந்துள்ளது.', '1977 ஆம் ஆண்டில், இலங்கையின் நிர்வாகத் தலைநகராக அண்மையில் உள்ள சிறீ ஜெயவர்த்தனபுர கோட்டையை ஆக்கும் பொருட்டு, புதிய நாடாளுமன்றக் கட்டிடம் அங்கே கட்டப்பட்டு, கொழும்பு நகரில் உள்ள சிறீ ஜெயவர்த்தனபுர கோட்டை தலைநகராக அமைந்துள்ளது.', 'இலங்கை தேயிலை, கோப்பி, இரத்தினம், தெங்கு, இறப்பர், கருவா ஆகியவற்றை உற்பத்தி செய்கின்றது.', '[14]\\nஇலங்கை \"இந்து சமுத்திரத்தின் முத்து\" என அதன் இயற்கை அழகினால் அழைக்கப்படுவதுண்டு.', 'மேலும், இது \"புன்னகைக்கும் மக்களின் தேசம்\" எனவும் அறியப்படுவதுண்டு.', '[15] இத்தீவு வெப்பமண்டலக் காடுகளையும் உயர் உயிரியற் பல்வகைமை கொண்ட பல்வேறுவகையான இயற்கை அமைப்பினைக் கொண்டது.', 'இந்நாடு பன்னாட்டுத் தொடர்பில் நீண்ட வரலாற்றைக் கொண்டது.', 'இது சார்க் ஆரம்ப உறுப்பினரும், ஐக்கிய நாடுகள் அவை, பொதுநலவாய நாடுகள், ஜி77, கூட்டுசேரா இயக்கம் ஆகியவற்றின் உறுப்பினரும் ஆகும்.', 'இது ஒன்றே தென்னாசியாவில் \"உயர்\" மனித வளர்ச்சிச் சுட்டெண் கொண்ட நாடாகும்.', '[4]\\nஇலங்கையின் முக்கிய நகரங்களாகக் கண்டி, காலி, குருநாகல், அநுராதபுரம்,  யாழ்ப்பாணம், நுவரேலியா, திருகோணமலை, மட்டக்களப்பு என்பவை காணப்படுகின்றன.', 'முற்காலத்தில் இலங்கை, இலங்காபுரி, லங்கா, நாகதீபம், தர்மதீபம், லங்காதுவீபம் (வழங்கிய வடமொழியில்), சின்மோன்டு, சேலான், தப்ரபேன் (கிரேக்கர்களால்), செரெண்டிப் (அராபியர்களால்), சேரன்தீவு உட்பட மற்றும் பல பெயர்களால் அழைக்கப்பட்ட இத்தீவு, பின்னர் குடியேற்றவாத காலம் தொடக்கம் 1972 ஆம் ஆண்டில் இலங்கை ஒரு குடியரசாக அறிவிக்கப்படும் வரை சிலோன் என்று அழைக்கப்பட்டது.', '(தற்காலத்திலும் சிலசமயங்களில் சிலோன் என்பது பயன்படுத்தப் படுகிறது).', 'அதன் அமைவின் காரணமாக \"இந்து சமுத்திரத்தின் நித்திலம்\" என்ற புகழும் இதற்கு உண்டு.', 'இலங்கையின் வரலாற்றுக்கு முற்பட்ட காலமானது இற்றைக்கு 125.000 வருடங்களுக்கு முற்பட்டதாகும்.', 'மேலும் 500.000 வருடங்களுக்கு முற்பட்ட சான்றுகளும் காணப்படுகின்றன.', '[17] இக்காலப்பகுதி பழங்கற்காலம், இடைக்கற்காலம் மற்றும் முன் இரும்புக்காலம் ஆகியனவாகப் பிரிக்கப்பட்டுள்ளது.', 'இலங்கையில் கண்டுபிடிக்கப்பட்டுள்ள பழங்கற்கால மனிதக் குடியிருப்புக்களில் 37,000 வருடங்கள் பழமையான பாகியன்கல (இது சீனப் பயணியும் பௌத்தத் துறவியுமான பாகியன் நினைவாகப் பெயரிடப்பட்டது.', '),[18] பட்டதொம்பலேன (28,500 வருடங்களுக்கு முன்)[19] மற்றும் பெலிலென (12.000 வருடங்களுக்கு முன்) ஆகியவை மிகவும் முக்கியத்துவம் மிக்கவை.', 'இக்குகைகளில் கண்டுபிடிக்கப்பட்ட, நவீன மனிதனையொத்த பலாங்கொடை மனிதனின் எச்சங்கள்[20] இவர்கள் விவசாயத்தில் ஈடுபட்டமையையும் விளையாட்டுக்களுக்காக நாய்களைப் பழக்கி வந்துள்ளமையையும் அறியத் தருகின்றன.', '[21]\\nஇத்தீவினைப் பற்றிய முதலாவது எழுத்துமூல ஆவணத்தைத் தமிழகக் காவியமான கம்ப இராமாயணத்தில் காணமுடிகிறது.', 'இதில், செல்வத்தின் கடவுளான குபேரனுக்காக விசுவகர்மா என்ற தேவ சிற்பியால் உருவாக்கப்பட்ட லங்கா என்ற ராச்சியத்தைப் பற்றிய தகவல்கள் காணப்படுகின்றன.', '[22] மேலும் குபேரன் தனது சகோதரனான இராவணன் என்ற அசுரனால் வெற்றி கொள்ளப்பட்டதாகவும் இராவணனிடம் பறக்கும் புட்பக விமானம் இருந்ததாகவும் இது குறிப்பிடுகிறது.', '[23] இன்றைய நகரான வாரியப்பொல எனும் இடமே இராவணனது விமான ஓடுபாதையாக இருந்திருக்கலாமென நம்பப்படுகிறது.', '[24]\\nஇலங்கையின் தொடக்ககால குடியேறிகள் இன்றைய இலங்கையில் வாழும் வேடர்கள் எனும் ஆதிக்குடிகளின் மூதாதையர்களாக இருக்கலாம்.', '[25] இவர்களது சனத்தொகை தற்போது அண்ணளவாக 2,500 ஆகும்.', 'ஐரிய வரலாற்றாய்வாளரான ஜேம்ஸ் எமர்சன் தெனன்ட் என்பவர், இலங்கையின் தென்பகுதி நகரான காலியே பண்டைய துறைமுக நகரான தர்சீசுவாக இருக்கலாமெனக் கருதுகிறார்.', 'இங்கிருந்தே சாலமோன் மன்னன் யானைத் தந்தங்களையும் மயில்களையும் ஏனைய பெறுமதி மிக்க பொருட்களையும் பெற்றுக்கொண்டான் எனப்படுகிறது.', 'பாளி மொழியில் எழுதப்பட்ட நூலான மகாவம்சத்தின் படி, இலங்கையின் ஆதிக் குடிகள் இயக்கரும் நாகரும் ஆவர்.', 'ஆயினும் சிங்களவரின் வரலாறு கிமு 543இல் விசயனின் வருகையுடன் தொடங்குகிறது.', 'விசயன் என்பவன் மேற்கு வங்காளத்தின் ரார் பகுதியின் தென்மேற்குப் பகுதியிலிருந்து வந்தவனாவான்.', 'இவன் தனது 700 தோழர்களுடன் எட்டுக் கப்பல்களில் 860 கடல் மைல் தூரம் பயணித்து இலங்கையை அடைந்தான்.', '[26] இவன் மன்னாருக்கு அருகே தம்பபன்னி எனும் அரசை உருவாக்கினான்.', 'தீபவம்சம், மகாவம்சம், சூளவம்சம் மற்றும் ராசாவலிய போன்ற நூல்களில் குறிப்பிடப்படும் சுமார் 189 மன்னர்களில் முதலாமவனாவான்.', 'இலங்கையின் அரசு வரலாறு கிமு 543 இலிருந்து கிபி 1815 வரையிலான 2359 வருட கால அளவைக் கொண்டது.', '[27] 1815ல் இது பிரித்தானியப் பேரரசின் ஆட்சியின் கீழ் வந்தது.', 'கிமு 380இல் பண்டுகாபயன் ஆட்சியின் போது இலங்கை அரசு அனுராதபுரத்துக்கு நகர்ந்தது.', 'அன்றிலிருந்து சுமார் 1400 ஆண்டுகளுக்கு நாட்டின் தலைநகராக அனுராதபுரம் விளங்கியது.', '[28] பண்டைய இலங்கையர் குளங்கள், தாகபைகள் மற்றும் மாளிகைகள் போன்ற கட்டுமானங்களை அமைப்பதில் சிறந்து விளங்கினர்.', '[29] தேவநம்பிய தீசன் ஆட்சிக்காலத்தில் இந்தியாவிலிருந்து பௌத்த சமயத்தின் வருகையால் இலங்கையின் சமூகக் கட்டமைப்பு பாரிய மாற்றமடைந்தது.', 'கிமு 250ல்,[30] மௌரியப் பேரரசர் அசோகனின் புதல்வனான மகிந்த தேரர் (சமக்கிருதம்: महेन्द्र; மகேந்திர) பௌத்த சமயத்தைப் பரப்பும் நோக்குடன் மிகிந்தலைக்கு வந்தார்.', '[31] இவரது முயற்சியால் தேவநம்பியதீசன் பௌத்த சமயத்தைத் தழுவியதோடு ஏனைய சிங்கள மக்களும் பௌத்தத்தைத் தழுவிக்கொண்டனர்.', '[32] இலங்கையில் தொடர்ந்து வந்த அரசுகள் பெரும் எண்ணிக்கையிலான பௌத்தப் பள்ளீகளையும் மடாலயங்களையும் பராமரித்ததோடு தென்கிழக்காசியாவின் ஏனைய நாடுகளுக்குப் பௌத்தம் பரவவும் உதவி புரிந்தன.', 'இலங்கைப் பிக்குகள், பிற்பாடு முகமது கில்சியால் அழிக்கப்பட்ட இந்தியாவின் புகழ்பெற்ற பண்டைய பௌத்தப் பல்கலைக்கழகமான நாலந்தாப் பல்கலைக்கழகத்தில் கல்வி பயின்றனர்.', 'நாலந்தாவின் பல ஆக்கங்கள் இலங்கையின் மடாலயங்களில் இன்றும் பாதுகாத்து வைக்கப்பட்டுள்ளன.', '[33] கிமு 245ல், பிக்குணி சங்கமித்தை போதிமரக் கிளையுடன் வந்தடைந்தார்.', 'இக்கிளை, கௌதம புத்தர் ஞானம் பெற்ற போதி மரத்தின் பகுதியாகக் கருதப்படுகிறது.', '[34] இதுவே உலகில் மனிதரால் நடப்பட்ட முதல் மரமாகக் (வரலாற்றாதாரங்களின் படி) கருதப்படுகிறது (போதிவம்சம்)[35].', 'சூரதீச மன்னனின் காலத்தில் இலங்கை மீது முதல் வெளிநாட்டுப் படையெடுப்பு நிகழ்ந்தது.', 'தென்னிந்தியாவிலிருந்து வந்த குதிரை வணிகர்களான சேனன் மற்றும் குத்திகன் ஆகியோர் சூரதீசனைத் தோற்கடித்து ஆட்சியைக் கைப்பற்றிக் கொண்டனர்.', '[32] கிமு 205ல் சோழ மன்னனான எல்லாளன் இலங்கையைக் கைப்பற்றிக் கொண்டான்.', 'இவன் அசேலனைத் தோற்கடித்து 44 ஆண்டுகள் ஆட்சி புரிந்தான்.', 'விசிதபுர போரில் துட்டகைமுனு எல்லாளனைத் தோற்கடித்தான்.', 'இவன் தென் பகுதி அரசான உறுகுணையின் அரசனான கவந்தீசனின் மூத்த மகனாவான்.', 'துட்டகைமுனு இலங்கையின் இரண்டாவது தாதுகோபமான ருவன்வெலிசாயவையும் லோவமகாபாயவையும் அமைத்தான்.', '[36] இலங்கை அரசு அதன் இரண்டாயிரத்து ஐந்நூறு ஆண்டு கால வரலாற்றில் அதன் தென்னாசிய அயல் அரசுகளான சோழ, பாண்டிய, சேர, பல்லவ அரசுகளால் குறைந்தது எட்டு முறை ஆக்கிரமிக்கப்பட்டுள்ளது.', 'இவ் ஆக்கிரமிப்பாளர்கள் அனைவரும் தொடர்ச்சியாக விரட்டியடிக்கப்பட்டுள்ளனர்.', '[37] மேலும் கலிங்க நாடு (இன்றைய ஒடிசா) மற்றும் மலாயத் தீபகற்பம் ஆகியவற்றிலிருந்தும் படையெடுப்புகள் நிகழ்ந்துள்ளன.', 'தாதுசேனன் ஆட்சியின்போது கலா வாவி மற்றும் அவுக்கண புத்தர் சிலை என்பன அமைக்கப்பட்டன.', '[38]\\nஆசியாவின் முதல் பெண் ஆட்சியாளரைக் கொண்ட நாடு இலங்கை ஆகும்.', 'கிமு 47-42 காலப்பகுதியில் அரசி அனுலா இலங்கையை ஆட்சிபுரிந்துள்ளாள்.', '[39] இலங்கை மன்னர்கள் சிகிரியா போன்ற குறிப்பிடத்தக்க கட்டுமானத் திட்டங்களை முன்னெடுத்துள்ளனர்.', '\"வானில் அமைந்த கோட்டை\" என வர்ணிக்கப்படும் சிகிரியா கிபி 477இலிருந்து 495வரை ஆண்ட முதலாம் காசியப்பனால் கட்டப்பட்டது.', 'சிகிரியாக் கோட்டை பாரிய மதிற்சுவர்கள் மற்றும் அகழிகளால் சூழப்பட்டது.', 'இப் பாதுகாப்பு அரணுக்குள் பூந்தோட்டங்கள், குளங்கள், மண்டபங்கள், மாளிகைகள் மற்றும் ஏனைய கட்டடங்கள் என்பன காணப்பட்டன.', '1600 ஆண்டுகாலப் பழமை வாய்ந்த சிகிரியா ஓவியங்கள் பண்டைய இலங்கையின் கலைச் சிறப்பை வெளிக்காட்டுகின்றன.', '[40][41]  இது உலகின் பண்டைக்கால நகரத் திட்டமிடலின் ஒரு உதாரணமாகக் காணப்படுகிறது.', '[42] இது இலங்கையில் உள்ள ஏழு உலக மரபுரிமைக் களங்களில் ஒன்றாக யுனெசுக்கோவினால் அறிவிக்கப்பட்டுள்ளது.', '[43] இவை தவிர, கோடைகாலத்துக்கென மாரிகால நீரைச் சேமித்து வைக்கக்கூடிய பாரிய நீர்த்தேக்கங்கள் மற்றும் நீர் காவும் வாய்க்கால்கள் என்பனவும் குறிப்பிடத்தக்க கட்டடக்கலைச் சிறப்புக்களாகும்.', 'இவற்றுள் சில வாய்க்கால்கள் மைலுக்கு ஒரு அங்குலம் என்ற நுட்பமான சாய்வையுடையனவாக உள்ளன.', 'அணைக்குள் இருக்கும் கலிங்கல் தொட்டி எனப்படும் தனித்துவம் மிக்க அமைப்பு துல்லியமான கணித அறிவுடனான தொழில்நுட்பச் சிறப்புடையதாகும்.', 'இது அணைக்கட்டின் மீதான அழுத்தத்தை குறைவாகப் பேணியவாறே நீரை வெளியேற்ற உதவுகிறது.', '[44] பண்டைய இலங்கை உலகிலேயே முதலாவது மருத்துவமனையைக் கொண்டது.', 'இது 4ம் நூற்றாண்டில் மிகிந்தலையில் நிறுவப்பட்டது.', '[45] மேலும் இது பண்டைய உலகில் கறுவா ஏற்றுமதியில் முதன்மை பெற்றிருந்தது.', 'ரோமப் பேரரசு உள்ளிட்ட ஐரோப்பிய நாகரிகங்களுடன் இது நெருங்கிய தொடர்பைப் பேணியது.', 'உதாரணமாக, பாதிகாபய மன்னன் (கிமு 22 – கிபி 7) ரோமுக்கு ஒரு தூதுக்குழுவை அனுப்பி அங்கிருந்து செம்பவளங்களை வரவழைத்து அதனை உபயோகித்து ருவன்வெலிசாய மீது அலங்காரப் பந்தலை இட்டான்.', 'மேலும், இலங்கையின் ஆண் நாட்டியக்காரர்கள் கலிகுலாவின் கொலையைக் கண்ட சாட்சிகளாக இருந்துள்ளனர்.', 'கிளியோபாட்ரா தனது மகனான சீசரியனை மறைத்து வைப்பதற்காக அவனை இலங்கைக்கு அனுப்பினாள்.', '[46][47] கிபி 429ல் பிக்குணி தேவசாரா மற்றும் பத்து பிக்குணிகள் இலங்கையிலிருந்து சீனாவுக்குச் சென்று அங்கு பிக்குணி சாசனத்தை நிறுவினர்.', '[48]\\nஇலங்கையின் மத்தியகாலம் அனுராதபுர அரசின் வீழ்ச்சியுடன் ஆரம்பிக்கிறது.', 'கிபி 993ல், சோழப் பேரரசன் ராசராசசோழனின் படையெடுப்பினால் அப்போதைய இலங்கையின் ஆட்சியாளனான ஐந்தாம் மகிந்தன் நாட்டின் தென் பகுதிக்குத் தப்பியோடினான்.', '[49] இச்சந்தர்ப்பத்தைப் பயன்படுத்திக்கொண்டு முதலாம் ராசராசனின் மகனான முதலாம் ராசேந்திரன் கிபி 1017ல் பாரிய படையெடுப்பை மேற்கொண்டான்.', 'ஐந்தாம் மகிந்தன் சிறைப்பிடிக்கப்பட்டு சோழ தேசத்துக்குக்\\xa0கொண்டுசெல்லப்பட்டான்.', 'சோழர்கள் அனுராதபுரத்தைக் கைப்பற்றிக் கொண்டனர்.', '[49] தொடர்ந்து அவர்கள் தலைநகரை பொலன்னறுவைக்கு மாற்றிக்கொண்டனர்.', '[50] இச்சம்பவம் இலங்கையின் இருபெரும் வம்சங்களான மோரிய மற்றும் லம்பகண்ண வம்சங்களின் முடிவைக் குறித்தது.', 'பதினேழு வருடப் பெரும் போராட்டத்துக்குப் பின் 1070ல் முதலாம் விசயபாகு சோழர்களை இலங்கையிலிருந்து விரட்டியதோடு, ஒரு நூற்றாண்டுக்குப்பின் முதன்முறையாக இலங்கை ஒன்றிணைக்கப்பட்டது.', '[51][52] இவனது வேண்டுகோளின் பேரில் பர்மாவிலிருந்து இலங்கை வந்த பிக்குகள் சோழர் ஆட்சியில் இலங்கையிலிருந்து இல்லாதொழிந்த பௌத்த சமயத்தை மீளுருவாக்கினர்.', '[53] மத்திய காலத்தில் இலங்கை உறுகுணை, பிகிதி, மாய எனும் மூன்று நாடுகளாகப் பிளவுற்றது.', '[54]\\nஇலங்கையின் நீர்ப்பாசனத்துறை மகா பராக்கிரமபாகுவின் ஆட்சியின்கீழ் (கிபி 1153–1186) பரந்தளவில் விரிவாக்கம் செய்யப்பட்டது.', '[55] இக்காலப்பகுதியில் இலங்கை மிகவும் பலம்பொருந்திய நாடாக விளங்கியது.', '[56][57] இலங்கையின் வரலாற்றில் இருந்த மன்னர்களிலேயே அதிக குளங்களைக் கட்டியவன் முதலாம் பராக்கிரமபாகு ஆவான்.', 'மேலும், இவன் 165 அணைகள், 3910 கால்வாய்கள், 163 நீர்த்தேக்கங்கள், மற்றும் 2376 சிறு குளங்கள் ஆகியவற்றைப் புனரமைத்தான்.', '[58] இவன் கட்டிய பராக்கிரம சமுத்திரமே மிகவும் புகழ்பெற்றது.', '[59] இது மத்திய கால இலங்கையின் மிகப்பாரிய நீர்ப்பாசனத் திட்டமாக விளங்கியது.', 'பராக்கிரமபாகுவின் ஆட்சியில் இரு முக்கிய படையெடுப்புகளை மேற்கொண்டான்.', 'அவை, தென்னிந்தியாவில் நடந்த பாண்டிய வாரிசுரிமைப் போரும், இலங்கைக்கு ஏற்படுத்தப்பட்ட அவமானத்துக்குப் பழிவாங்கும் வகையில், மியன்மாருக்கு எதிரான போரும் ஆகும்.', '[60]\\nஇவனது ஆட்சியின்பின், இலங்கையின் பலம் குன்றத்தொடங்கியது.', 'கிபி 1215இல், கலிங்கத்திலிருந்து 100 கப்பல்களில் 690 கடல் மைல் தாண்டி 24000 படையினருடன் வந்த கலிங்க மாகன், பொலன்னறுவை அரசை ஆக்கிரமித்து அதனைக் கைப்பற்றிக்கொண்டான்.', 'இவன் யாழ்ப்பாண அரசைத் தோற்றுவித்தவனாகக் கருதப்படுகிறான்.', '[58] முன்னைய ஆக்கிரமிப்பாளர்கள் போலல்லாது, இவன் பண்டைய அனுராதபுர மற்றும் பொலன்னறுவை அரசுகளில் காணப்பட்ட அனைத்து வளங்களையும் சூறையாடியதோடு அவை மீண்டும் தலையெடுக்க முடியாத வகையில் அவற்றை அழித்தான்.', '[61] இவனது ஆட்சியின் முதன்மை நோக்கங்களாக, இந்நாட்டிலிருந்து இயலுமானவரை செல்வங்களைக் கொள்ளயடிப்பதும், ராசரட்டயின் பண்பாடுகளைக் குழப்பியடிப்பதுமே காணப்பட்டன.', 'இவனது ஆட்சியின் கொடுரத்திலிருந்து தப்பிப்பதற்காக, பெரும்பாலான சிங்கள மக்கள் நாட்டின் தெற்கு, மேற்கு மற்றும் மலையகப் பகுதிகளுக்கு குடிபெயர்ந்தனர்.', 'இலங்கை கலிங்க மாகனின் ஆக்கிரமிப்பிலிருந்து மீளெழவில்லை.', 'இவனது ஆக்கிரமிப்புக்கு எதிர்ப்பு வழங்கிய மூன்றாம் விசயபாகு, தம்பதெனிய அரசை நிறுவினான்.', 'இக்காலப்பகுதியில், வடக்கில் யாழ்ப்பாண அரசு உருவானது.', '[62][63] யாழ்ப்பாண அரசு தெற்கின் எந்தவொரு அரசுக்கும் அடிபணியாதபோதும், 1450ல் ஆறாம் பராக்கிரமபாகுவின் வளர்ப்பு மகனான செண்பகப் பெருமாள் (சபுமல் இளவரசன்) யாழ்ப்பாணம் மீது படையெடுத்தான்.', '[64] இவன் கிபி 1450 இலிருந்து 1467 வரை வடபகுதியை ஆட்சி புரிந்தான்.', '[65] 1215 முதல் அடுத்த மூன்று நூற்றாண்டுகளுக்கு நாட்டின் தென் மற்றும் மத்திய பகுதி அரசுகள் தம்பதெனிய, யாப்பகூவ, கம்பளை, ரைகம, கோட்டை,[66] சீதாவாக்கை இறுதியாக கண்டி என நகர்ந்தது.', 'இலங்கையின் முன் நவீனகாலப் பகுதி, 1505இல் போர்த்துக்கீசப் போர்வீரனும் நாடுகாண்பயணியுமான லோரன்சோ டி அல்மெய்டாவின் வருகையுடன் துவங்குகிறது.', 'இவன் பிரான்சிசுகோ டி அல்மெய்டாவின் மகனாவான்.', '[67] 1517ல், போர்த்துக்கீசர் துறைமுக நகரான கொழும்பில் ஒரு கோட்டையைக் கட்டியதோடு கரையோரப் பகுதிகளை தமது அதிகாரத்தின்கீழ் கொண்டுவந்தனர்.', 'போர்த்துக்கீசருடனான பல தசாப்த கால போரையடுத்து 1592ல், முதலாம் விமலதர்மசூரியன் தனது அரசை உள்நாட்டு நகரான கண்டிக்கு மாற்றினான்.', 'கண்டி தாக்குதல்களிலிருந்து பாதுகாப்பாக இருக்கச் சிறந்த இடம் என அவன் கருதினான்.', '[68] 1619ல், போர்த்துக்கீசரின் தாக்குதல்களை எதிர்கொள்ள முடியாது யாழ்ப்பாண அரசு அடிபணிந்தது.', '[69]\\nஇரண்டாம் ராசசிங்கனின் ஆட்சியின் போது டச்சு நாடுகாண் பயணிகள் இலங்கை வந்தனர்.', '1638ல், கரையோரப்பகுதிகளை ஆண்டுவந்த போர்த்துக்கீசரை விரட்டுமுகமாக, டச்சுக் கிழக்கிந்தியக் கம்பனியுடன் மன்னன் ஒப்பந்தம் செய்துகொண்டான்.', '[70] அதன் பின்னர் நிகழ்ந்த டச்சு-போர்த்துக்கீசப் போரில் டச்சுக்காரர் வெற்றிபெற்றதோடு 1656ல் டச்சுக்காரர் கொழும்பையும் கைப்பற்றிக் கொண்டனர்.', 'டச்சுக்காரர் தாம் கைப்பற்றிய பகுதிகளை மன்னனிடம் ஒப்படைக்கவில்லை.', 'இதன்மூலம் 1638ல் செய்யப்பட்ட ஒப்பந்தம் மீறப்பட்டது.', 'இவர்களின் வழிவந்தோர் பறங்கியர் எனும் அடையாளத்துடன் இலங்கையின் சமூகத்துடன் இணைந்து கொண்டனர்.', '[71] இலங்கையின் இறுதிச் சுயாதீன அரசாக கண்டி அரசு விளங்கியது.', '[72] 1595ல், சிங்களவரின் பண்பாட்டு அடையாளமாகவும் சமய மற்றும் அரச அதிகாரத்தை மன்னன் ஒருவனுக்கு வழங்குவதுமான புனித தந்த தாதுவை முதலாம் விமலதர்மசூரியன் கண்டிக்குக் கொண்டுவந்து அதனை வைத்து தலதா மாளிகையைக் கட்டினான்.', '[72] ஐரோப்பியருடனான போர் நிகழ்ந்துகொண்டிருந்தபோதிலும் கண்டியரசு வீழ்ச்சியடையவில்லை.', '1739ல் வீரநரேந்திரசிங்கனின் மரணத்தையடுத்து அடுத்த வாரிசு பற்றிய சிக்கல் எழுந்தது.', 'இவன் தெலுங்கு பேசும் நாயக்கர் மரபின் இளவரசியொருத்தியைத் திருமணம் செய்திருந்தான்.', 'அவளுக்கு குழந்தையும் பிறக்கவில்லை.', '[72] நரேந்திரசிங்கனுக்கும் அவனது சிங்களப் பணிப்பெண்ணொருத்திக்கும் பிறந்த மகனான \"உனம்புவே பண்டார\" என்பானுக்கு அரசுரிமை இருந்தபோதிலும், வெலிவிட்ட சரணங்கர பிக்குவின் ஆதரவுடன் நரேந்திரசிங்கனின் மனைவியின் சகோதரனுக்கு அரசுரிமை கிடைத்தது.', '[73] ஓராண்டின்பின், புதிய மன்னன் சிறீ விசயராசசிங்கன் எனும் பெயருடன் பதவியேற்றான்.', 'நாயக்கர் வம்ச மன்னர்கள் டச்சுக்காரரின் ஆதிக்கப் பகுதிகள் மீது பல்வேறு தாக்குதல்களை மேற்கொண்டபோதிலும் அவற்றில் எதுவும் வெற்றியளிக்கவில்லை.', '[74]\\nநெப்போலியப் போர்களின்போது, பிரான்சியர் நெதர்லாந்தைக் கைப்பற்றிக் கொண்டனர்.', 'இதனால், இலங்கை பிரான்சியரிடம் வீழ்ந்துவிடுமோ எனப் பயந்த பிரித்தானியா 1796இல், சிறிய எதிர்த் தாக்குதல்களுக்கு மத்தியில் நாட்டின் கரையோரப்பகுதிகளைக் (இப்பகுதியை அவர்கள் சிலோன் என அழைத்தனர்). கைப்பற்றியது. [75] இரண்டாண்டுகளுக்குப் பின், 1798ல், மூன்றாவது நாயக்க மன்னனான ராசாதிராசசிங்கன் காய்ச்சல் காரணமாக இறந்தான்.', 'இவனது இறப்பின்பின், ராசாதிராசசிங்கனின் மைத்துனனான பதினெட்டு வயதுடைய கண்ணுசாமி முடிசூட்டப்பட்டான்.', '[76] சிறீ விக்கிரமராசசிங்கன் எனும் பெயரை ஏற்றுக்கொண்ட இவ் இளம் மன்னன், 1803ல் பிரித்தானியரின் ஆக்கிரமிப்பை எதிர்கொண்டு அதனை வெற்றிகரமாக முறியடித்தான்.', 'ஏமியன் ஒப்பந்தப்படி அன்றிலிருந்து நாட்டின் கரையோரப்பகுதி முழுவதும் பிரித்தானியக் கிழக்கிந்தியக் கம்பனியின் ஆட்சிக்குட்பட்டது.', 'ஆயினும், இரண்டாம் கண்டியப் போரில் கண்டியை வெற்றி கொண்ட ஆங்கிலேயர், பெப்ரவரி 14, 1815ல் முழு இலங்கையையும் தமது ஆட்சியின் கீழ் கொண்டுவந்தனர்.', '[76] இலங்கையின் இறுதி மன்னனான சிறீ விக்கிரமராசசிங்கன் இந்தியாவுக்கு நாடுகடத்தப்பட்டான்.', '[77] கண்டிய ஒப்பந்தம் மூலம் முழு நாடும் அதிகாரபூர்வமாக பிரித்தானியப் பேரரசின் ஆட்சிக்குட்பட்டது.', '1818ல் இலங்கையரால் பிரித்தானிய ஆட்சிக்கெதிராக நடத்தப்பட்ட ஊவா கலகம் ஆளுநர் ரொபேர்ட் பிறவுன்றிக்கினால் அடக்கப்பட்டது.', '[78]\\nஇலங்கையின் நவீனகாலம், 1833இல் ஏற்பட்ட கோல்புறூக்-கமரன் சீர்திருத்தத்துடன் ஆரம்பிக்கிறது.', '[79] இதன் மூலம் நாட்டில் பயனோக்கு சார் தாராண்மைவாத அரசியல் பண்பாடு தோற்றுவிக்கப்பட்டதுடன் கண்டிய மற்றும் கரையோர மாகாணங்களை இணைத்து ஒரே அரசாங்கமும் உருவாக்கப்பட்டது.', '[79] ஒரு நிறைவேற்றுச் சபையும் சட்டவாக்கச் சபையும் உருவாக்கப்பட்டன.', 'இவையே பிரதிநிதித்துவ அரசியலுக்கு அடித்தளமிட்டன.', 'இக்காலப்பகுதியில், சோதனை அடிப்படையிலான கோப்பிப் பயிர்ச்செய்கை வெற்றி பெற்றது.', 'விரைவில், கோப்பி நாட்டின் முதன்மை ஏற்றுமதிப் பொருளாகியது.', '1847 பொருளாதார நெருக்கடி காரணமாக கோப்பியின் விலையில் வீழ்ச்சி ஏற்பட்டமையால், நாட்டின் பொருளாதாரம் வீழ்ச்சி கண்டது.', 'இதனால் ஆளுநர் துப்பாக்கிகள், நாய்கள், கடைகள், படகுகள் மற்றும் பலவற்றின் மீது புதிய வரிகளை விதித்தார்.', 'மேலும், ராசகாரிய முறை மீண்டும் வேறு வடிவில் அறிமுகப்படுத்தப்பட்டது.', 'இதன்படி, மக்கள் ஆறு நாட்களுக்கு சம்பளமின்றி வீதியமைக்கும் பணியில் ஈடுபட வேண்டும் அல்லது அதற்குரிய பணத்தைச் செலுத்த வேண்டும் எனும் புதிய சட்டம் அறிமுகப்படுத்தப்பட்டது.', '[80] இக் கொடிய சட்டங்கள் மக்களை வெறுப்படையச் செய்தமையால் 1848ல் இன்னொரு கலகம் ஏற்பட்டது.', '[81] 1869இல் எமிலியா வசுட்ராட்ரிக்சு எனும் இலை நோய் கோப்பிப் பயிர்களுக்கு ஏற்பட்டது.', 'அடுத்த பதினைந்து வருடங்களில் கோப்பிப் பயிர்ச்செய்கை முற்றாக அழிந்தது.', '[82] பிரித்தானியர் கோப்பிக்கு மாற்றாக தேயிலையைப் பயிரிடத் துவங்கினர்.', 'அடுத்த தசாப்த காலத்தில் இலங்கையில் தேயிலை உற்பத்தி வளர்ச்சியடைந்தது.', '20ம் நூற்றாண்டின் ஆரம்பத்தில் பாரியளவிலான இறப்பர்ப் பயிர்ச்செய்கையும் ஏற்படுத்தப்பட்டது.', '19ஆம் நூற்றாண்டின் இறுதியில், இலங்கை சிவில் சேவை மற்றும் சட்ட, கல்வி மற்றும் மருத்துவச் சேவைகளுக்கு ஆட்களைச் சேர்க்கும் பிரித்தானிய அரசாங்கத்தின் முடிவின் காரணமாக, இலங்கையில் சாதி மற்றும் இனம் கடந்த புதிய கல்விகற்ற சமூக வகுப்பு ஒன்று உருவானது.', '[83] இனத்துவ அடிப்படையிலமைந்த இலங்கைச் சட்டவாக்கக் கழகத்தில் இப் புதிய தலைவர்கள் பல்வேறு இனக் குழுக்களின் பிரதிநிதிகளாக அங்கம் வகித்தனர்.', 'பௌத்த மற்றும் இந்து மீளெழுச்சி, கிறித்தவ மதப்பரப்புக்கு எதிராக செயற்பட்டது.', '[84][85] 20ம் நூற்றாண்டின் முதல் இரு பத்தாண்டுகளிலும் சிங்கள மற்றும் தமிழ் அரசியல் தலைவர்கள் ஒன்றுபட்டுச் செயற்பட்டனர்.', 'எனினும் இவ்வொற்றுமை நிலைக்கவில்லை.', '[86] 1919ல், முக்கிய சிங்கள மற்றும் தமிழ் அரசியல் அமைப்புக்கள் ஒன்றிணைந்து பொன்னம்பலம் அருணாசலம் அவர்களின் த்லைமையின்கீழ், இலங்கைத் தேசிய சங்கத்தை உருவாக்கின.', '[87] இச்சங்கம் அரசியலமைப்பில் திருத்தங்கள் மேற்கொள்ளுமாறு குடியேற்றத் தலைமைக்கு அழுத்தம் கொடுத்தது.', 'எனினும், ஆளுநரால் உருவாக்கப்பட்ட \"கொழும்பு ஆசனத்துக்கு\" உரிய நியமனத்தின் போது ஏற்பட்ட \"இனத்துவப் பிரதிநிதித்துவப்\" பூசல் காரணமாக சிங்களவருக்கும், தமிழருக்குமிடையே முறுகல் நிலை ஏற்பட்டதோடு, 1920களின் நடுப்பகுதியில் இச்சங்கம் நலிவடைந்தது.', '[88] 1931ன் டொனமூர் சீர்திருத்தம், இனரீதியான பிரதிநிதித்துவத்தை ஒழித்து சகலருக்குமான வாக்குரிமையை அறிமுகப்படுத்தியது (சீர்திருத்தத்துக்கு முன் வாக்குரிமை பெற்றோர் சனத்தொகையின் 4%மானோர் மட்டுமே).', 'இம் மாற்றம் தமிழ் அரசியல் தலைமைகளால் கடுமையாக விமர்சிக்கப்பட்டது.', 'மேலும், சட்டவாக்கக் கழகத்துக்கு மாற்றாக புதிதாக உருவாக்கப்பட்ட அரசுக் கழகத்தில் தாம் சிறுபான்மையினராக மாறிவிடுவோம் எனவும் அவர்கள் உணர்ந்து கொண்டனர்.', '[89][90] 1937ல், தமிழ்த் தலைவர் ஜி. ஜி. பொன்னம்பலம் அவர்கள் அரசுக்கழகத்தில் 50-50 பிரதிநிதித்துவத்தைக் (சிங்களவருக்கு 50 %மும் ஏனைய இனக்குழுக்கள் அனைத்துக்கும் 50%மும்) கோரினார்.', 'எனினும் 1944–45ல் அறிமுகப்படுத்தப்பட்ட சோல்பரி சீர்திருத்தத்தில் இக்கோரிக்கை ஏற்றுக்கொள்ளப்படவில்லை.', 'சோல்பரி அரசியலமைப்பு இலங்கைக்கு மேலாட்சி நிலையை அளித்தது.', 'மேலும், பெப்ரவரி 4, 1948ல் இலங்கை விடுதலை அடைந்தது.', '[91] . . சேனநாயக்க இலங்கையின் முதலாவது பிரதமராகப் பொறுப்பேற்றார்.', '[92] முக்கிய தமிழ்த் தலைவர்களான பொன்னம்பலம் மற்றும் அருணாசலம் மகாதேவா போன்றோர் இவரது அமைச்சரவையில் இடம்பெற்றனர்.', '[89][93] பிரித்தானிய அரசுக் கடற்படை 1956 வரை திருகோணமலைத் துறைமுகத்தில் நிலைகொண்டிருந்தது.', 'அரிசிப் பங்கீட்டு முறையை நீக்கியமை காரணமாக நாடுமுழுவதும் ஏற்பட்ட குழப்ப நிலையால் பிரதமர் டட்லி சேனநாயக்க பதவி விலகினார்.', '[94] . . . . பண்டாரநாயக்க 1956ல் பிரதமராகத் தெரிவுசெய்யப்பட்டார்.', 'சிங்களப் பண்பாட்டின் பாதுகாவலன் எனத் தன்னை அறிவித்துக் கொண்ட இவர் மூன்று வருடங்கள் பதவி வகித்தார்.', '[95] இவர் சர்ச்சைக்குரிய சிங்களம் மட்டும் சட்டத்தை அறிமுகப்படுத்தினார்.', 'இதன்மூலம் சிங்கள மொழி நாட்டின் ஒரே ஆட்சி மொழியாக்கப்பட்டது.', '1958ல் பகுதியளவில் மீளமைக்கப்பட்டாலும், இச்சட்டம் தமிழ்ச் சமூகத்தின் அழிவுக்கு வழிவகுப்பதாக அமைந்தது.', 'தமிழர்கள் இச்சட்டத்தை தமது மொழிக்கும் பண்பாட்டுக்கும் ஏற்பட்ட அச்சுறுத்தலாகக் கருதினர்.', '[96][97][98] இச்சட்டத்துக்கு எதிராக இலங்கைத் தமிழரசுக் கட்சி அறவழிப் போராட்டமொன்றை மேற்கொண்டது.', 'இதனால் ஏற்பட்ட இனமுறுகல் நிலையைத் தணிக்கும் முகமாக பண்டாரநாயக்க, தமிழரசுக் கட்சியின் தலைவர் . . . செல்வநாயகம் அவர்களுடன் ஒப்பந்தம் ஒன்றை (பண்டா-செல்வா ஒப்பந்தம்) ஏற்படுத்திக் கொண்டார்.', '[99] எவ்வாறாயினும், இவ்வொப்பந்தத்துக்கு எதிராக பௌத்த பிக்குகளாலும், எதிர்க்கட்சியாலும் மேற்கொள்ளப்பட்ட ஆர்ப்பாட்டங்கள் காரணமாக ஒப்பந்தம் கிழித்தெறியப்பட்டது.', 'அரசின் குடியேற்றத் திட்டங்கள் சிங்கள மற்றும் தமிழ்த் தலைவர்களிடையே கசப்புணர்வு வளரக் காரணமானது.', '[100] 1959ல் கடும்போக்கு பௌத்த பிக்கு ஒருவனால் பண்டாரநாயக்க படுகொலை செய்யப்பட்டார்.', '[101]\\n1960ல் . . . . பண்டாரநாயக்கவின் மனைவியான சிறிமாவோ பண்டாரநாயக்க பிரதமராகப் பதவியேற்றார்.', '1962இல் ஏற்பட்ட கலகத்தையும் வெற்றிகரமாக எதிர்கொண்டார்.', 'இவரது இரண்டாம் பதவிக்காலத்தின்போது அரசு சமவுடமைப் பொருளாதாரக் கொள்கைகளைக் கடைப்பிடித்தது.', 'சோவியத் ஒன்றியம் மற்றும் சீனாவுடன் உறவுகளைப் பலப்படுத்திய அதேவேளை அணிசேராக் கொள்கையையும் கடைப்பிடித்தது.', '1971இல், இலங்கையில் மாக்சியப் புரட்சி ஏற்பட்டது.', 'எனினும், இது உடனடியாக அடக்கப்பட்டது.', '1972ல் மேலாட்சி நிலை ஒழிக்கப்பட்டு நாடு குடியரசானது.', 'நாட்டின் பெயரும் சிறீ லங்கா என மாற்றப்பட்டது.', 'சிறுபான்மையினருக்கெதிரான அடக்குமுறைகளும் சிங்கள மற்றும் தமிழ் அரசியல் தலைவர்களால் தூண்டப்பட்ட இன உணர்ச்சியும் 1970களில் வட பகுதியில் தமிழ்ப் போராட்ட இயக்கங்களின் வளர்ச்சிக்கு வழிகோலின.', '[102] நாட்டின் பின்தங்கிய பிரதேசத்து மாணவர்களுக்கும் பல்கலைக்கழகக் கல்வியை வழங்கும் முகமாக சிறிமாவோ அரசாங்கத்தினால் கொண்டுவரப்பட்ட தரப்படுத்தல் முறையினால்,[103] பல்கலைக்கழகங்களில் திறமைவாய்ந்த தமிழ் மாணவர்களுக்கான வாய்ப்பு பறிக்கப்பட்டது.', 'இது தமிழ் ஆயுதப் போராட்டத்துக்கு உடனடிக் காரணியாக அமைந்தது.', '[104][105] 1975ல் நிகழ்ந்த யாழ்ப்பாண நகரமுதல்வர் அல்பிரட் துரையப்பாவின் படுகொலை திருப்புமுனை வாய்ந்ததாக அமைந்தது.', '[106][107]\\n1977இல் ஐக்கிய முன்னணி அரசாங்கத்தை தோற்கடித்து . . செயவர்த்தன அரசு பதவிக்கு வந்தது.', '[108] செயவர்த்தன புதிய அரசியல் யாப்பை அறிமுகப்படுத்தியதோடு, திறந்த பொருளாதாரம் மற்றும் பிரான்சு அரசுப் பாணியிலான நிறைவேற்றதிகாரம் கொண்ட சனாதிபதி முறையையும் உருவாக்கினார்.', 'இதன்மூலம் தெற்காசியாவிலேயே பொருளாதாரத்தை தாராளமயமாக்கிய முதல் நாடாக இலங்கை தடம்பதித்தது.', '[109] 1983ன் ஆரம்பத்தில், இன முறுகல்களின் விளைவால் இலங்கை அரசுக்கு எதிராக தமிழீழ விடுதலைப் புலிகள் தாக்குதல்களை ஆரம்பித்தனர்.', '1983 யூலை இன ஒடுக்குமுறைகளால் 150.000க்கும் அதிகமான தமிழ்மக்கள் இலங்கையிலிருந்து புலம்பெயர்ந்து வெளிநாடுகளில் தஞ்சம் புகுந்தனர்.', '[110] தவறான வெளிநாட்டுக் கொள்கைகளின் காரணமாக விடுதலைப் புலிகள் ஆயுதம் மற்றும் பயிற்சிபெற்ற இயக்கமாக வளர்ச்சி கண்டது.', '[111][112][113] 1987ல், இந்திய இலங்கை ஒப்பந்தத்தின் மூலம் இந்திய அமைதி காக்கும் படையினர் இலங்கையின் வடபகுதியில் விடுதலைப் புலிகளுக்கு எதிராகத் தாக்குதல்களை மேற்கொண்டனர்.', '[114] இதே ஆண்டில், மக்கள் விடுதலை முன்னணி தென்னிலங்கையில் தனது இரன்டாவது போராட்டத்தை தொடங்கியது.', '[115] இதன் விளைவால் 1990ல் இந்திய அமைதி காக்கும் படையினர் திருப்பி அனுப்பப்பட்டனர்.', '[116] 2002ல், இலங்கை அரசும் தமிழீழ விடுதலைப் புலிகளும் நோர்வேயின் தலைமையில் சமாதான ஒப்பந்தமொன்றில் கைச்சாத்திட்டனர்.', '[98]\\n2004இல் ஏற்பட்ட சுனாமிப் பேரலைகள் இலங்கையில் 35,000க்கும் மேற்பட்டோரைக் காவுகொண்டது.', '[117] 1985 இலிருந்து 2006 வரை, இலங்கை அரசும் தமிழீழ விடுதலைப் புலிகளும் நன்கு சுற்று சமாதானப் பேச்சுவார்த்தைகளில் ஈடுபட்டனராயினும் அவையனைத்தும் தோல்வியிலேயே முடிந்தன.', '2006ல் விடுதலைப் புலிகளும் அரசும் மீண்டும் மோதல்களில் ஈடுபட்டனர்.', 'இலங்கை அரசு 2008ல் உத்தியோகபூர்வமாக சமாதான ஒப்பந்தத்தினை முறித்துக் கொண்டது.', '[98] 2009ல், மகிந்த ராசபக்ச தலைமையிலான இலங்கை ஆயுதப் படைகள் விடுதலைப் புலிகளைத் தோற்கடித்து இலங்கை முழுவதும் இலங்கை அரசின் கட்டுப்பாட்டின் கீழ்க் கொண்டுவந்தது.', '[118][119] 26 வருடகால இனமுறுகலில் 60,000 இலிருந்து 100,000 வரையான மக்கள் கொல்லப்பட்டனர்.', '[120][121]\\nஐநா செயலாளர் பான் கி-மூனால் நியமிக்கப்பட்ட நிபுணர்குழு அறிக்கையின்படி 40.000 தமிழ் மக்கள் இறுதி யுத்தத்தின் போது கொல்லப்பட்டிருக்கலாம்.', 'கொல்லப்பட்ட தமிழ் மக்களின் எண்ணிக்கை இன்றும் சர்ச்சைக்குரியதாக உள்ளதுடன் மேலதிக ஆய்வுகள் தேவைப்படுகின்றன.', '[122] விடுதலைப் புலிகளின் தோல்வியின் பின்னர் இலங்கையின் பெரிய தமிழ் அரசியற் கட்சியான தமிழ்த் தேசியக் கூட்டமைப்பு, தனிநாட்டுக் கோரிக்கையைக் கைவிட்டு கூட்டாட்சி முறைக்கு ஆதரவு தெரிவித்துள்ளது.', '[123][124] இறுதி யுத்தத்தின்போது சுமார் 294,000 மக்கள் அகதிகளாக்கப்பட்டனர்.', '[125][126] மீள்குடியேற்ற அமைச்சின் தகவலின் படி, பெரும்பாலான அகதிகள் தமது இருப்பிடத்துக்கு அனுப்பிவைக்கப்பட்டுள்ளதுடன், டிசம்பர் 2011 அளவில் 6.651 பேர் முகாம்களில் வசிக்கின்றனர்.', '[127] மே 2010ல், சனாதிபதி மகிந்த ராசபக்ச கற்றுக்கொண்ட பாடங்கள் மற்றும் நல்லிணக்க ஆணைக்குழுவை அமைத்து 2002 சமாதான உடன்படிக்கை மற்றும் 2009 விடுதலைப் புலிகளின் தோல்வி ஆகியவற்றுக்கு இடைப்பட்ட காலப்பகுதியில் காணப்பட்ட பிரச்சினைகளை ஆராய முற்பட்டுள்ளார்.', '[128][128][129] இலங்கை 26 வருடகால உள்நாட்டுப் போரிலிருந்து மீண்டு உலகில் மிகவும் விரைவான பொருளாதார வளர்ச்சி கொண்ட நாடுகளில் ஒன்றாக மாறியுள்ளது.', '[130][131]\\nஇலங்கை தெற்காசியாவிலேயே பழமை வாய்ந்த மக்களாட்சி முறையைக் கொண்டுள்ளது.', '[132] 1931ல் டொனமூர் ஆணைக்குழுவினால் உருவாக்கப்பட்ட டொனமூர் அரசியலமைப்பு பொதுத் தேர்தல்களை நடத்தும் முறையை உருவாக்கியதோடு சர்வசன வாக்குரிமையையும் அறிமுகப்படுத்தியது.', '[133] மேற்கு ஐரோப்பாவின் பேரரசுகளுக்கு உட்பட்ட வெள்ளையரல்லாத நாடு ஒன்று சர்வசன வாக்குரிமையையும் உள்நாட்டு விடயங்களைக் கட்டுப்படுத்தும் அதிகாரத்தையும் பெற்றுக்கொண்ட முதலாவது சந்தர்ப்பமாக இது அமைந்தது.', 'சர்வசன வாக்குரிமை முறைக்கு அமைவான முதல் தேர்தல் இலங்கை அரசுக் கழகத்தினை அமைக்கும் முகமாக யூன் 1931ல் நடத்தப்பட்டது.', 'சேர் . . செயதிலக கழகத்தின் தலைவராகத் தேர்ந்தெடுக்கப்பட்டார்.', '[134] 1944ல், புதிய அரசியலமைப்பொன்றை உருவாக்குமுகமாக சோல்பரி ஆணைக்குழு நியமிக்கப்பட்டது.', 'இக்காலப்பகுதியில் . . சேனநாயக்க தலைமையில் அரசியலமைப்பு நடைமுறைகளுக்கமைவாக விடுதலைப் போராட்டம் ஆரம்பிக்கப்பட்டது.', '[135] 1947 நாடாளுமன்றத் தேர்தல்களின் படி சேனநாயக்க பிரதமராக நியமிக்கப்பட்டதோடு அதே வருடத்தில் அரசியலமைப்பும் நடைமுறைக்கு வந்தது.', 'சோல்பரி அரசியலமைப்பின் மூலம் இலங்கைக்கு மேலாட்சி நிலை வழங்கப்பட்டதோடு 1948ல் இலங்கைக்கு விடுதலையும் கிடைத்தது.', '[133]\\nஇலங்கையின் தற்போதைய அரசியல் நிலைமையின்படி, சிறீலங்கா சுதந்திரக் கட்சியின் () வாரிசான மைய இடதுசாரி மற்றும் முற்போக்குவாத ஐக்கிய மக்கள் சுதந்திரக் கூட்டமைப்புக்கும் (), இடது சாரி முதலாளித்துவவாத ஐக்கிய தேசியக் கட்சிக்கும் () இடையிலேயே போட்டி நிலவுகிறது.', '[136] இலங்கையில் பலகட்சி மக்களாட்சி முறை நிலவுகிறது.', 'இதற்கமைய பல சிறிய பௌத்த, சமவுடமை மற்றும் தமிழ்த் தேசியக் கட்சிகள் உள்ளன.', 'யூலை 2011இன் படி, நாட்டில் பதிவுசெய்யப்பட்ட அரசியற் கட்சிகளின் எண்ணிக்கை 67 ஆகும்.', '[137] இவற்றுள் 1935ல் உருவாக்கப்பட்ட லங்கா சமசமாசக் கட்சியே மிகவும் பழைமை வாய்ந்ததாகும்.', '[138] 1946ல் . . சேனநாயக்கவினால் ஆரம்பிக்கப்பட்ட ஐக்கிய தேசியக் கட்சியே அண்மைக்காலம் வரை மிகப்பெரிய தனி அரசியற் கட்சியாக உள்ளது.', '[139] விடுதலை பெற்றதிலிருந்து எல்லாப் நாடாளுமன்றங்களிலும் பிரதிநிதித்துவம் வகித்துள்ள ஒரே அரசியற் குழு இதுவாகும்.', '[139] ஐக்கிய தேசியக் கட்சி அரசில் அமைச்சரவை அமைச்சராகப் பதவிவகித்த . . . . பண்டாரநாயக்கவால் சிறீலங்கா சுதந்திரக் கட்சி உருவாக்கப்பட்டது.', '1951 யூலையில் இவர் ஐக்கிய தேசியக் கட்சியிலிருந்து வெளியேறி இதனை உருவாக்கினார்.', '[140] சிறீலங்கா சுதந்திரக் கட்சி 1956ம் ஆண்டு நாடாளுமன்றத் தேர்தலில் அப்போதைய ஆளுங்கட்சியான ஐக்கிய தேசியக் கட்சியைத் தோற்கடித்து தனது முதல் வெற்றியைப் பதிவு செய்தது.', '[140] யூலை 1960 நாடாளுமன்றத் தேர்தலில் சிறிமாவோ பண்டாரநாயக்க பிரதமராகத் தெரிவுசெய்யப்பட்டதோடு உலகின் முதற் பெண் அரசுத் தலைவர் எனும் பெருமையையும் பெற்றார். [141]\\n. . . . பண்டாரநாயக்கவின் சமகாலத்தவரான தமிழ்த் தேசியவாதியான .', ' . பொன்னம்பலம் 1944ல் அகில இலங்கைத் தமிழ்க் காங்கிரசினை () உருவாக்கினார்.', '[142] 1949ல், பொன்னம்பலம் . . சேனநாயக்கவுக்கு ஒத்துழைப்பு வழங்கியதை எதிர்த்து .', ' . . செல்வநாயகம் தலைமையில் தமிழ்க் காங்கிரசிலிருந்து பிரிந்தோர் இலங்கைத் தமிழரசுக் கட்சியினை () நிறுவினர்.', 'கூட்டாட்சிக் கட்சி என அழைக்கப்பட்ட இக்கட்சி அடுத்த இரு பத்தாண்டுகளில் இலங்கையின் முதன்மைத் தமிழ் அரசியல் கட்சியாக மாற்றம் பெற்றது.', '[143] கூட்டாட்சிக் கட்சி சிங்களவருக்கு எதிரான கொள்கையைக் கடைப்பிடித்தது.', '[144] 1972ல் அரசியலமைப்புச் சீர்திருத்தம் கொண்டுவரப்பட்ட அதேவேளை, அகில இலங்கைத் தமிழ்க் காங்கிரசும் () இலங்கைத் தமிழரசுக் கட்சியும் () இணைந்து தமிழர் ஐக்கிய முன்னணி எனும் பொதுக் கட்சியை உருவாக்கினர்.', '(இது பின்னர் தமிழர் ஐக்கிய விடுதலை முன்னணி எனப்பட்டது.', ') 1970களின் பிற்பாதியில் ஆரம்பித்த தமிழ்ப் போராளிக் குழுக்களின் ஆதிக்கத்தைத் தொடர்ந்து அக்டோபர் 2001ல் தமிழ்த் தேசியக் கூட்டமைப்பு உருவானது.', '[144][145] 1965ல் ரோகண விசயவீரவினால் ஆரம்பிக்கப்பட்ட மாக்சிய-லெனினிய அரசியற் கட்சியான மக்கள் விடுதலை முன்னணி தற்போதைய அரசியல் அரங்கில் மூன்றாவது சக்தியாக உள்ளது.', '[146] இக்கட்சி, ஏனைய பாரம்பரிய இடதுசாரிக் கட்சிகளான லங்கா சமசமாசக் கட்சி மற்றும் பொதுவுடமைக் கட்சி ஆகியவற்றை விட இடதுசாரிக் கொள்கைகளைத் தீவிரமாகக் கடைப்பிடிக்கிறது.', '[144] 1981 உருவாக்கப்பட்ட சிறீலங்கா முசுலிம் காங்கிரசு இலங்கையின் மிகப்பெரிய முசுலிம் அரசியற் கட்சியாகும்.', '[147]\\nஇலங்கை ஒரு மக்களாட்சிக் குடியரசு ஒற்றையாட்சி நாடாகும்.', 'இது அரைச் சனாதிபதி ஆட்சிமுறையைக் கொண்டு சனாதிபதி முறைமையினாலும் நாடாளுமன்ற முறைமையினாலும் ஆட்சிசெய்யப்படுகிறது.', '[150] நாடாளுமன்றம் அரசியலமைப்பின் அடிப்படையில் இயங்குகிறது.', 'அரசியலமைப்பின் பெரும்பாலான மூலங்கள் நாடாளுமன்றத்தின் மூன்றிலிரண்டு பெரும்பான்மை மூலம் திருத்தப்படலாம்.', 'எனினும், மொழி, சமயம் மற்றும் இலங்கையை ஒற்றையாட்சி நாடாகக் குறிப்பிடல் போன்ற சில அடிப்படை மூலங்கள் திருத்தப்படுவதற்கு மூன்றிலிரண்டு பெரும்பான்மை மற்றும் மக்கள் தீர்ப்பு ஆகிய இரண்டும் அவசியமாகும்.', 'ஏனைய மக்களாட்சி அரசுகளைப் போன்றே இலங்கை அரசும் மூன்று கிளைகளைக் கொண்டுள்ளது:\\nநிர்வாகத் தேவைகளுக்காக இலங்கை ஒன்பது மாகாணங்களாகவும்[160] இருபத்தைந்து மாவட்டங்களாகவும் பிரிக்கப்பட்டுள்ளது.', '[161]\\n19 ஆம் நூற்றாண்டிலிருந்து இலங்கையில் மாகாணங்கள் (சிங்களம்: පළාත, ஆங்கில மொழி: ) காணப்பட்டாலும் அவற்றுக்கு சட்ட அங்கீகாரம் இருக்கவில்லை.', 'எனினும், பல பத்தாண்டு கால அதிகாரப்பரவலாக்கல் கோரிக்கைகளைத் தொடர்ந்து, 1987ம் ஆண்டில் ஏற்படுத்தப்பட்ட 1978 அரசியலமைப்புக்கான 13ம் திருத்தம் மூலம் மாகாண சபைகள் உருவாக்கப்பட்டன.', '[162] ஒவ்வொரு மாகாண சபையும் எந்த அமைச்சினாலும் கட்டுப்படுத்தப்படாத சுயாதீன அமைப்பாகும்.', 'இதன் சில செயற்பாடுகள் மைய அரசாங்க அமைச்சுக்கள், திணைக்களங்கள், கூட்டுத் தாபனங்கள் மற்றும் அதிகார சபைகள் என்பவற்றால் கையாளப்படுகின்றன.', '[162] எனினும், காணி மற்றும் காவல் துறைக்கான அதிகாரங்கள் மாகாண சபைக்கு வழங்கப்படவில்லை.', '[163][164] 1989 க்கும் 2006க்கும் இடையில், வடக்கு மற்றும் கிழக்கு மாகாணங்கள் தற்காலிகமாக இணைக்கப்பட்டு வட-கிழக்கு மாகாணமாக ஆக்கப்பட்டது.', '[165] 1987க்கு முன், மாகாணங்களுக்கு உரிய நிர்வாக நடவடிக்கைகள் அனைத்தும் மாவட்ட அடிப்படையிலான நிர்வாகச் சேவையினால் கையாளப்பட்டன.', 'இச்சேவை குடியேற்றக் காலத்திலிருந்து காணப்பட்டு வந்தது.', 'தற்போது ஒவ்வொரு மாகாணமும் தேர்ந்தெடுக்கப்பட்ட மாகாண சபையினால் நிர்வகிக்கப்படுகிறது.', 'இலங்கை 25 மாவட்டங்களாகப் (சிங்களம்: දිස්ත්\\u200dරි\\u200cක්\\u200cක ஒருமை දිස්ත්\\u200dරික්කය ஆங்கில மொழி: ) பிரிக்கப்பட்டுள்ளது.', '[166] ஒவ்வொரு மாவட்டமும் மாவட்டச் செயலகத்தினால் நிர்வகிக்கப்படுகின்றது, மாவட்டங்கள் 256 பிரதேச செயலகங்களாகவும், மேலும் 14.008 கிராம சேவகர் பிரிவுகளாகவும் பிரிக்கப்பட்டுள்ளன.', '[167] மாவட்டங்கள் சிங்களத்தில் திசா என அழைக்கப்படும்.', 'மாவட்டச் செயலாளர் என அழைக்கப்படும் அரசாங்க அதிபரால் மாவட்டம் நிர்வகிக்கப்படும்.', 'இவற்றை விட மூன்று வகையான உள்ளூர் அதிகார மன்றங்கள் காணப்படுகின்றன.', 'அவை, மாநகர சபைகள் (18), நகர சபைகள் (14) மற்றும் பிரதேச சபைகள் (256) என்பனவாகும்.', '[168] உள்ளூர் அதிகார மன்றங்கள், முற்கால கோரளை மற்றும் ரட ஆகிய மானியமுறைப் பிரிவுகள் அடிப்படையில் உருவாக்கப்பட்டன.', 'இவை முன்னர் பிரதேச இறைவரி அதிகாரிப் பிரிவு என அறியப்பட்டன.', '[169] பின்னர் இப்பிரிவு உதவி அரசாங்க அதிபர் பிரிவு என மாற்றப்பட்டது.', 'தற்போது இப்பிரிவு பிரதேச செயலகம் என மாற்றப்பட்டு பிரதேச செயலாளரினால் நிர்வகிக்கப்படுகிறது.', 'கொழும்பு\\n\\nகண்டி\\n\\n\\nகாலி\\n\\nயாழ்ப்பாணம்\\nஇலங்கை, அணிசேரா இயக்கத்தின் உருவாக்க உறுப்பு நாடாகும்.', 'தனது சுதந்திரத்தை உறுதிப்படுத்தும் அதேவேளை, இலங்கை இந்தியாவுடனான தனது உறவுகளையும் வளர்த்துக்கொண்டுள்ளது.', '[171] 1955ல் இலங்கை ஐக்கிய நாடுகள் அவையில் உறுப்புரிமையைப் பெற்றது.', 'இன்று, அது பொதுநலவாயம், தெற்காசிய நாடுகளின் பிராந்தியக் கூட்டமைப்பு, உலக வங்கி, அனைத்துலக நாணய நிதியம், ஆசிய அபிவிருத்தி வங்கி மற்றும் கொழும்புத் திட்டம் போன்ற அமைப்புகளில் இடம்பெற்றுள்ளது.', 'இலங்கையின் விடுதலை முதற்கொண்டு அதனை ஆட்சி புரியும் இரு கட்சிகளில் ஒன்றான ஐக்கிய தேசியக் கட்சி, மரபு ரீதியாக மேற்குலகுடன் சாதகமான தொடர்புகளைப் பேணிவந்துள்ளது.', 'அதேவேளை, இடது சார்புடைய மற்றைய கட்சியான சிறீலங்கா சுதந்திரக் கட்சி கீழைத்தேய நாடுகளுடன் உறவுகளைப் பலப்படுத்தி வந்துள்ளது.', '[171] இலங்கையின் நிதியமைச்சர் ஜே. ஆர். ஜெயவர்த்தன மற்றும் ஆசுதிரேலிய வெளியுறவு அமைச்சர் பேர்சி சுபென்சர் ஆகியோர் இணைந்து 1950ல் கொழும்பில் இடம்பெற்ற பொதுநலவாய வெளியுறவு அமைச்சர்கள் மாநாட்டின் போது கொழும்புத் திட்டத்தை முன்மொழிந்தனர்.', '[172] 1951ல் நடைபெற்ற சான் பிரான்சிசுகோ சமாதான மாநாட்டில், ஏனைய நாடுகள் தயக்கம் காட்டிய போதிலும் இலங்கை சுதந்திர சப்பானுக்காக குரல் கொடுத்தது.', 'மேலும், இரண்டாம் உலகப்போரின் அழிவுகளுக்காக சப்பான் இழப்பீடு செலுத்த வேண்டிய அவசியமில்லை எனவும் அது வாதிட்டது.', 'இழப்பீடு செலுத்தல் சப்பானின் பொருளாதாரத்தைப் பாதிக்குமென அது கருதியது.', '[173] 1949ல் மக்கள் சீனக் குடியரசின் உருவாக்கத்துடன் இலங்கை-சீன உறவுகள் ஆரம்பித்தன.', '1952ல் இருநாடுகளும் முக்கியத்துவமிக்க இறப்பர்-அரிசி உடன்படிக்கையில் கைச்சாத்திட்டன.', '[174] 1955ல் நடைபெற்ற ஆசிய-ஆபிரிக்க மாநாட்டில் இலங்கை முக்கிய பங்கு வகித்தது.', 'இது அணிசேரா இயக்கத்தின் உருவாக்கத்துக்கான முக்கிய படியாக விளங்கியது.', '[175]\\n1956 பண்டாரநாயக்க அரசாங்கம் ஐக்கிய தேசியக் கட்சியால் உருவாக்கப்பட்ட மேற்குலகு சார் கொள்கைகளில் குறிப்பிடத்தக்களவு மாற்றங்களை ஏற்படுத்தியது.', '1959ல் பிடல் காசுரோ தலைமையிலான கியூப அரசை அங்கீகரித்தது.', 'அதன் பின், கியூபாவின் புரட்சித் தலைவரான ஏர்னசுடோ சே குவேரா இலங்கைக்கு வருகை தந்தார்.', '[176] 1964ன் சிறீமா-சாசுதிரி ஒப்பந்தம்[177] மற்றும் 1974ன் சிறீமா  – காந்தி ஒப்பந்தம்[178] என்பன இலங்கை மற்றும் இந்தியத் தலைவர்களிடையே செய்துகொள்ளப்பட்டன.', 'இதன்மூலம், இந்திய வம்சாவழித் தோட்ட்டத்தொழிலாளர்களின் இலங்கைக் குடியுரிமை ரத்து செய்யப்பட்டது.', '1974ல் பாக்கு நீரிணையில் அமைந்துள்ள சிறிய தீவான கச்சதீவு இலங்கைக்கு வழங்கப்பட்டது.', '[179] இக்காலப்பகுதியில், இலங்கை அணிசேராக் கொள்கையில் தீவிரமாகக் காணப்பட்டதுடன் 1976ல் ஐந்தாவது அணிசேரா மாநாடு கொழும்பில் இடம்பெற்றது.', '[180] ஜே. ஆர். ஜெயவர்த்தன ஆட்சியின் போது இலங்கை இந்திய உறவுகளில் முறுகல் நிலை ஏற்பட்டது.', ' . [116][181] இதன் காரணமாக, இலங்கையின் உள்நாட்டுப் போரில் இந்தியா தலையிட்டது.', 'மேலும் 1987ல், இந்திய அமைதி காக்கும் படை இலங்கைக்கு அனுப்பப்பட்டது.', '[182] தற்போது இலங்கை, சீனா,[183] ரசியா[184] மற்றும் பாகிசுதான் ஆகிய நாடுகளுடன் பரந்தளவிலான உறவுகளைப் பேணி வருகிறது.', '[185]\\nஇலங்கை ராணுவம், இலங்கைக் கடற்படை மற்றும் இலங்கை வான்படை ஆகியவற்றை உள்ளடக்கிய இலங்கை ஆயுதப்படை பாதுகாப்பு அமைச்சின் மேற்பார்வையின் கீழ் செயற்படுகிறது.', '[186] இதன் மொத்த ஆளணி அண்ணளவாக 259,000 ஆகும்.', 'மேலும் 36,000 ரிசர்வ் படையினரும் சேவை புரிகின்றனர்.', '[187] இலங்கையில் கட்டாய ராணுவச் சேவை நடைமுறையில் இல்லை.', '[188] துணை ராணுவக் குழுக்களாக விசேட அதிரடிப் படை, ஊர்காவற் படை மற்றும் இலங்கை கரையோரப் பாதுகாப்புப் படை[189][190] என்பன செயற்படுகின்றன.', '1948ல் சுதந்திரம் பெற்றதிலிருந்து, ஆயுதப் படைகளின் முக்க்கிய நோக்கமாக உள்நாட்டுப் பாதுகாப்பே இருந்து வந்துள்ளது.', 'மாக்சிய ராணுவக் குழுவான மக்கள் விடுதலை முன்னணியின் இரண்டு கலகங்கள் மற்றும் விடுதலைப் புலிகளுடனான 30 ஆண்டுகால போர் ஆகியவற்றை அடக்குவதில் முக்கிய பங்காற்றியுள்ளது.', 'கடந்த 30 ஆண்டுகாலமாக ஆயுதப் படைகள் தயார் நிலையிலேயே இருந்து வந்துள்ளன.', '[191][192] இலங்கையின் உள்நாட்டுப்போர் மே 2009ல் ஒரு தீர்க்கமான முடிவை எட்டியது.', '[193] 1960களின் ஆரம்பத்திலிருந்து இலங்கையின் ஆயுதப்படைகள் ஐக்கிய நாடுகளின் அமைதிகாக்கும் பணிகளில் ஈடுபட்டு வந்துள்ளது.', 'இதன் கீழ் சாட், லெபனான், மற்றும் எயிட்டி ஆகிய நாடுகளில் இடம்பெறும் ஐக்கிய நாடுகளின் அமைதிகாக்கும் பணிகளில் நிரந்தரமாக படைகளை நிறுத்தியுள்ளது.', '[194]\\nஇலங்கை இந்தோ-ஆசுதிரேலியத் தட்டின் ஒரு பகுதியான இந்தியப் புவித்தட்டிலேயே அமைந்துள்ளது.', '[195] இது இந்து சமுத்திரத்தில் வங்காள விரிகுடாவுக்குத் தென்மேற்கே, 5° மற்றும் 10° அகலக்கோடுகளுக்கிடையிலும், 79° மற்றும் 82° நெடுங்கோடுகளுக்கிடையிலும் அமைந்துள்ளது.', '[196] இலங்கை இந்திய உபகண்டத்திலிருந்து பாக்கு நீரிணையாலும் மன்னார் வளைகுடாவாலும் பிரிக்கப்பட்டுள்ளது.', 'இந்துப் புராணங்களின்படி, இலங்கைக்கும் இந்திய நிலப்பரப்புக்குமிடையில் ஒரு நிலப்பாலம் காணப்பட்டது.', 'எனினும் தற்போது ஒரு சில சுண்ணக்கற் திட்டுக்களே காணப்படுகின்றன.', '[197] கிபி 1480ம் ஆண்டு வரை இப்பாலம் காணப்பட்டதாகவும், பின்னர் புயற் காற்றினால் கால்வாய் ஆழமாக்கப்பட்டதாகவும் கூறப்படுகிறது.', '[198][199]\\nஇலங்கைத்தீவு தட்டையான கரையோரங்களையும், தென் மத்திய பகுதியில் மலைகளையும் கொண்டுள்ளது.', 'இலங்கையின் உயரமான மலை பீதுருதாலகால ஆகும்.', 'இது கடல் மட்டத்திலிருந்து 2,524 மீட்டர்கள் (8,281\\xa0) உயரமானதாகும்.', 'கடற் காற்றுக் காரணமாக நாட்டின் காலநிலை வெப்பமான அயனக் காலநிலையாக உள்ளது.', 'நாட்டின் மிகக் குறைந்த சராசரி வெப்பநிலை மத்திய மலைநாட்டில் 17\\xa0° (62.6\\xa0°) ஆக காணப்படுகின்றது.', 'இங்கு குளிர்காலத்தில் சிலநாட்களுக்கு பனிப்பொழிவு காணப்படுவதுண்டு.', 'ஏனைய தாழ்நிலப் பகுதிகளில் அதிகபட்ச சராசரி வெப்பநிலை 33\\xa0° (91.4\\xa0°) ஆக உள்ளது.', 'ஆண்டுச் சராசரி வெப்பநிலை 28\\xa0° (82.4\\xa0°) இலிருந்து சுமார் 31\\xa0° (87.8\\xa0°) வரை உள்ளது.', 'பகல் மற்றும் இரவு நேர வெப்பநிலை வித்தியாசம் 14\\xa0° (25.2\\xa0°) இலிருந்து 18\\xa0° (32.4\\xa0°) வரை வேறுபடுகிறது.', '[200]\\nநாட்டின் மழைவீழ்ச்சி இந்து சமுத்திரம் மற்றும் வங்காள விரிகுடாவிலிருந்து வீசும் பருவக் காற்றுக்களில் தங்கியுள்ளது.', 'ஈர வலயப் பகுதிகளும் மத்திய மலைநாட்டின் சில பகுதிகளும் ஒவ்வொரு மாதமும் 2,500 மில்லிமீட்டர்கள் (98.4\\xa0) மழைவீழ்ச்சியைப் பெறுகின்றன.', 'கிழக்கு மற்றும் வடகிழக்குப் பகுதிகள் குறைந்த மழைவீழ்ச்சியைப் பெறுகின்றன.', 'நாட்டின் கிழக்கு, தென்கிழக்கு மற்றும் வடக்குப் பகுதிகளை உள்ளடக்கிய உலர் வலயப் பகுதிகள் ஆண்டு தோறும் 1,200 முதல் 1,900\\xa0 (47 முதல் 75\\xa0) வரையான மழைவீழ்ச்சியைப் பெறுகின்றன.', '[201] வரள் காலநிலையைக் கொண்ட வடமேற்கு மற்றும் தென்கிழக்குப் பகுதிகள் மிகவும் குறைந்த மழைவீழ்ச்சியாக ஆண்டுக்கு 800 முதல் 1,200\\xa0 (31 முதல் 47\\xa0) வரையான மழைவீழ்ச்சியைப் பெறுகின்றன.', 'வழமையாக புயல் காற்றுக்கள் வீசுவதோடு அயன மண்டலச் சூறாவளியும் வீசுவதுண்டு.', 'இதனால் நாட்டின் தென் மேற்கு, வடகிழக்கு மற்றும் கிழக்குப் பகுதிகளில் மழை பொழிகிறது.', 'பொதுவாக ஈரப்பதன் தென்மேற்கு மற்றும் மலைப் பகுதிகளில் அதிகமாகக் காணப்படுவதோடு மழைவீழ்ச்சியிலும் தங்கியுள்ளது.', '[202]\\nஅதிக மழைவீழ்ச்சி காரணமாக வெள்ளப்பெருக்கு ஏற்படுவதுடன் நாட்டின் உட்கட்டமைப்பு, பொது விநியோக வழிகள் மற்றும் நகர்ப்புறப் பொருளாதாரம் என்பன பாதிக்கப்படுகின்றன.', '[203]\\nநாட்டில் 103 நதிகள் உள்ளன.', 'இவற்றுள் 335 கிலோமீட்டர்கள் (208\\xa0) நீளமான மகாவலி கங்கையே மிகவும் நீளமானதாகும்.', '[204] இந் நதிகளினால் உருவாக்கப்பட்ட 10 மீற்றருக்கும் அதிகமான நீர்வீழ்ச்சிகள் 51 காணப்படுகின்றன.', 'இவற்றுள் 263 மீட்டர்கள் (863\\xa0) உயரமான பம்பரகந்த நீர்வீழ்ச்சியே மிகவும் உயரமானதாகும்.', '[205] இலங்கை 1,585\\xa0 நீளமான கரையோரத்தைக் கொண்டுள்ளது.', '[206] இலங்கையின் பொருளாதாரத் தனியுரிமைப் பகுதி நில எல்லையிலிருந்து 200 கடல் மைல் தூரம் வரை உள்ளது.', 'இது நாட்டின் நிலப்பரப்பின் 6.7 மடங்கு பரப்பளவைக் கொண்டுள்ளது.', 'நாட்டின் கடற்கரையும் நீர்ப்பரப்பும் மிகவும் வளம் பொருந்திய கடற் சூழலைக் கொண்டுள்ளது.', 'இங்கு கடலோரப் பவளப் பாறைகளும் கரையோர மற்றும் கழிமுகப் பகுதிக் கடற் புல் படுகைகளும் காணப்படுகின்றன.', '[207] இலங்கையில் 45 கழிமுகங்களும் 40 களப்புகளும் காணப்படுகின்றன.', '[206] 7000 எக்டேயர் பரப்பளவு கொண்ட இலங்கையின் கண்டற் தாவரச் சூழல் தொகுதி 2004 இந்து சமுத்திர சுனாமியின் தாக்கத்தைக் குறைப்பதில் பாரிய பங்களிப்புச் செலுத்தியிருந்தது.', '[208] இலங்கையில் இல்மனைற்று, பெல்சுபார், காரீயம், சிலிக்கா, கயோலின், மைக்கா மற்றும் தொரியம் போன்ற கனிமப் பொருட்கள் செறிந்துள்ளன.', '[209][210] மன்னார் வளைகுடாவில் பெற்றோலியம் மற்றும் இயற்கைவாயு இருப்பு உறுதிசெய்யப்பட்டுள்ளதோடு, அவற்றை பிரித்தெடுக்கும் முயற்சிகளும் நடைபெறுகின்றன.', '[211]\\nஇந்தோமாலய சூழற்தொகுதியினுள் அடங்கும் இலங்கை உலகின் உயிர்ப்பல்வகைமை மிகுந்த 25 இடங்களில் ஒன்றாகும்.', '[213] நாட்டின் பரப்பளவு மிகச் சிறியதாக இருந்தாலும் ஆசியாவிலேயே உயிர்ப்பல்வகைமை அடர்த்தி கூடிய இடமாகக் காணப்படுகிறது.', '[214] இலங்கையின் தாவர மற்றும் விலங்குப் பல்வகைமையை எடுத்து நோக்குகையில், குறிப்பிடத்தக்க அளவில் அதாவது 3.210 பூக்குந் தாவரங்களில் 27\\xa0% மானவையும், பாலூட்டிகளில் 22\\xa0% மானவையும், அருகி வரும் இனங்களாகக் காணப்படுகின்றன.', '[215] இலங்கை 24 வனவிலங்கு சரணாலயங்களைப் பிரகடனப்படுத்தியுள்ளது.', 'இச்சரணாலயங்கள் ஆசிய யானைகள், சிறுத்தைகள், இலங்கைக்கேயுரிய சிறிய தேவாங்கு, மான் வகைகள், ஊதா முக மந்தி, அருகிவரும் இனமான காட்டுப் பன்றி, முள்ளம்பன்றிகள் மற்றும் இந்திய எறும்பு தின்னி போன்ற பல்வேறு உள்நாட்டு விலங்கினங்களின் புகலிடங்களாக விளங்குகின்றன.', '[216]\\nபூக்கும் கருவேல மரங்கள் வரண்ட யாழ்ப்பாணக் குடாநாடெங்கும் காணப்படுகின்றன.', 'வரள்நிலக் காடுகளில் முதிரை, கருங்காலி, நாகமரம், மகோகனி மற்றும் தேக்கு போன்ற பெறுமதி வாய்ந்த மரங்களும் காணப்படுகின்றன.', 'நாட்டின் ஈரவலயத்தில் அயனமண்டல என்றும் பசுமையான மழைக்காடுகள் காணப்படுகின்றன.', 'இங்கு உயர்ந்த மரங்கள், அகன்ற இலையுடைய மரங்கள் மற்றும் அடர்ந்த கொடி வகைகள் போன்றன வளர்கின்றன.', 'அயன அயல் மண்டல என்றும் பசுமையான காடுகள் மிதவெப்ப மண்டலக் காலநிலையைக் கொண்டுள்ளன.', 'இவை உயர்நிலங்களில் காணப்படுகின்றன.', '[217]\\nதென்கிழக்கிலுள்ள யால தேசிய பூங்கா யானை, மான் மற்றும் மயில் ஆகியவற்றின் புகலிடமாக உள்ளது.', 'மிகப்பெரிய தேசியப் பூங்காவான வடமேற்கிலுள்ள வில்பத்து தேசிய பூங்கா கொக்குகள், கூழைக்கடாக்கள், அரிவாள் மூக்கன் மற்றும் துடுப்பு வாயன் போன்ற நீர்ப்பறவைகளின் வாழ்விடமாக உள்ளது.', 'இலங்கையில் நான்கு உயிரியல் காடுகள் உள்ளன.', 'அவை: புந்தல, உருலு, கன்னெலிய-தெடியகல-நகியடெதெனிய மற்றும் சிங்கராச காடுகளாகும்.', '[218] இவற்றுள் சிங்கராசக் காடு இலங்கை நீலச் செவ்வலகன் மற்றும் செம்முகப் பூங்குயில் போன்ற 26 அருகிவரும் பறவைகள் மற்றும் 20 மழைக்காட்டு விலங்குகளின் புகலிடமாக விளங்குகிறது.', 'சிங்கராச காட்டின் தாவரப் பல்வகைமை மிகவும் உயர்வாக உள்ளது.', 'இங்கு காணப்படும் 211 மரங்கள் மற்றும் படர்கொடிகளில் 139 (66\\xa0%) அருகிவரும் இனங்களாகும்.', 'மரங்கள், புதர்கள், மூலிகைச் செடிகள் என்பவற்றை உள்ளடக்கிய இதன் தாவரவியல் அடர்த்தி எக்டேயருக்கு 240.000 தாவரங்களாகும்.', 'மின்னேரிய பூங்கா மின்னேரிய குளத்துக்கு அருகில் அமைந்துள்ளது.', 'இக்குளம் மீன்னேரியக் காட்டில் வாழும் யானைகளின் நீர்த்தேவையைப் பூர்த்தி செய்கிறது.', 'கோடை காலங்களில் (ஆகத்திலிருந்து அக்டோபர் வரை) அருகாமையிலுள்ள ஏனைய நீர்நிலைகள் வற்றிப்போவதால் மின்னேரியக் குளத்துக்கு யானைகளின் வருகை அதிகரித்துக் காணப்படும்.', 'இப்பூங்கா அயன மண்டல மழைக் காடுகள், மூங்கில் காடுகள், மலைப் புல்நிலங்கள் (பத்தன) மற்றும் புல்நிலங்கள் (தலாவ) போன்றவற்றையும் உள்ளடக்கியுள்ளது.', '[219]\\nஇலங்கை 250 பறவைகளின் தாயகமாக உள்ளது.', 'இது குமண உள்ளிட்ட பல இடங்களைப் பறவைகள் சரணாலயமாகப் பிரகடனப்படுத்தியுள்ளது.', '[220] 1970கள் மற்றூம் 1980களில் இலங்கையின் வடக்குப் பகுதியில் முன்னெடுக்கப்பட்ட மகாவலி அபிவிருத்தித் திட்டத்தின்போது, அரசாங்கம் 1,900\\xa02 (730\\xa0\\xa0) மொத்தப் பரப்பளவு கொண்ட நான்கு இடங்களை தேசியப் பூங்காக்களாக உருவாக்கியது.', 'எவ்வாறாயினும் 1920ல் 49%மாக இருந்த நாட்டின் காட்டு நிலப்பரப்பு 2009ல் சுமார் 24%மாகக் குறைந்தது.', '[221][222]\\nமுதன்மைக் கட்டுரை: இலங்கையின் பொருளாதாரம்\\nபுராதன காலந்தொட்டே நவரத்தினங்கள், யானைத் தந்தம், முத்துகள் போன்ற பொருட்களுக்குப் புகழ்பெற்ற இலங்கை, குடியேற்ற காலத்தில் கறுவா, தேயிலை, இறப்பர், தென்னை போன்ற வர்த்தக பயிர்களுக்குப் பெயர்பெற்று விளங்கியது.', 'இலங்கைக்கு 1948யில் சுதந்திரம் கிடைத்த பின்னர், முதலாளித்துவ பொருளாதாரத்தை ஆரம்பத்தில் சிறிது காலமே பின்பற்றியபோதிலும் அது ஆசியாவிலே மிகமுன்னேற்றகரமான பற்பல சமூகநல நடவடிக்கையையும் மேற்கொண்டது.', 'ஆனால் 1956 ஆண்டு ஆட்சிக்கு வந்த அரசாங்கம் முழுக்க முழுக்க சமவுடமை பொருளாதாரத்தையே கைக்கொள்ளத்தொடங்கியது.', '1977-ஆம் ஆண்டுக்குப் பின்னர், தனியார்மயப்படுத்தலில் ஈடுபட்டுள்ளதுடன், சந்தைப் பொருளாதாரக் கொள்கையையும், ஏற்றுமதிசார்ந்த வர்த்தகத்தையும் நோக்கி நகர்ந்துள்ளது.', 'தற்போது அதி இயங்குநிலையில் உள்ள துறைகளாவன, உணவுப்பொருள் தயாரிப்பு, ஆடை தயாரிப்பு, உணவும், குடிவகைகளும், தொலைத் தொடர்பு, காப்புறுதி மற்றும் வங்கித் துறைகளாகும்.', '1996 அளவில், பெருந்தோட்டப் பயிர்கள் ஏற்றுமதியில் 20% ஐ மட்டுமே கொண்டிருந்தன (1970 இல் 93%).', 'அதே நேரம் ஆடைகள் ஏற்றுமதியின் 63\\xa0% ஆக இருந்தது.', 'மொத்த உள்நாட்டு உற்பத்தி (), 1990களில் சராசரியாக 5.5% ஆண்டு வளர்ச்சியைப் பெற்றது.', 'வறட்சியும், சீர்கெட்டுவந்த பாதுகாப்பு நிலையும், 1996இல் வளர்ச்சியை 3.8% க்குத் தாழ்த்தும் வரை இது நீடித்தது.', '1997–2000 காலப்பகுதியில், சராசரி 5,3\\xa0% வளர்ச்சியோடு கூடிய பொருளாதார மீட்சி காணப்பட்டதெனினும், மின்சாரப் பற்றாக்குறை, வரவுசெலவுப் பிரச்சினைகள், உலகப் பொருளாதார மந்த நிலை, மற்றும் தொடர்ந்து வந்த உள்நாட்டுக் குழப்பங்கள் என்பவற்றால், 2001ல் வரலாற்றில் முதல் முறையாக இலங்கை ஒரு பொருளாதார ஒடுக்கத்தைக் காண நேர்ந்தது.', 'எனினும் 2001 ல், கையெழுத்து இடப்பட்ட, இலங்கை அரசாங்கத்துக்கும், விடுதலைப் புலிகளுக்கும் இடையேயான போர் நிறுத்த ஒப்பந்தம் காரணமாகப் பொருளாதாரம் தேறி வருவதற்கான அறிகுறிகள் காணப்பட்டன.', 'கொழும்பு பங்கு பரிவர்த்தனை 2003ல் ஆசியாவிலேயே அதி கூடிய வளர்ச்சியைப் பெற்றிருப்பதாக அறிவித்துள்ளது.', 'தற்போது, தென்னாசியாவில் உள்ள முக்கிய நாடுகளிடையே அதிக தனி நபர் வருமானத்தைக் கொண்ட நாடு இலங்கையாகும்.', 'இலங்கை பல்லின மக்கள் ஒன்றாக வாழும் நாடாகும்.', 'இவர்கள் பல சமயங்களைப் பின்பற்றுவதுடன், தனித்துவமான கலாச்சாரங்களையும் பேணி வருகின்றனர்.', 'பொதுவாக அனைத்தின மக்களும் ஒற்றுமையாக வாழ்ந்த பொதும், கடந்த இரு தசாப்தங்களாக இனப்பிரச்சனை தலைவிரித்தாடுகிறது.', 'இதனால் பல அரசியல், சமூக பிரச்சனைகள் தோன்றியுள்ளன.', 'இலங்கையின் மக்கள்தொகை 20.869 (2011 ம் ஆண்டைய கணக்கெடுப்பின் படி) மில்லியன் ஆகும்.', 'இலங்கை ஒரு வளர்முக நாடாகவிருந்த போதும், வளர்ந்த நாடுகளை விஞ்சும் அளவிற்கு அதன் சனத்தொகை வளர்ச்சி வீதம் குறைவாக உள்ளது.', 'மேலும் இது மிகவுயர்ந்த வாழ்க்கை சுட்டெண்ணை கொண்டுள்ளது.', 'இலங்கையின் ஆண்/பெண் பால் விகிதாசாரம் 0.98 என உள்ளது, இது தென்னாசியாவில் உள்ள இதர நாடுகளுடன் ஒப்பிடும் பொது எதிர்மாறான தன்மையைக் காட்டுகின்றது.', 'இலங்கை மக்களின் எழுத்தறிவு 92,5\\xa0% ஆகும்.', '[223] இது வளர்ந்துவரும் நாடுகள் வரிசையில் எழுத்தறிவில் முன்னணியில் உள்ள நாடுகளில் ஒன்றாகும்.', '[224] இளைஞர்களின் எழுத்தறிவு 98\\xa0% ஆக உள்ளது.', '[225] கணினியியல் அறிவு வீதம் 35% ஆக உள்ளது.', '[226] ஆரம்பப்பாடசாலைகளில் சேரும் மாணவர்களின் வீதம் 99\\xa0% இலும் அதிகமாகும்.', '[227] இலங்கைக் கல்வித் திட்டத்தில் 9 ஆண்டுகள் கட்டாயப் பாடத்திட்டம் நடைமுறையில் உள்ளது. கி. வி. வி. கன்னங்கராவின் முயற்சியில் 1945 ஆம் ஆண்டில் இலங்கையில் இலவசக் கல்வித் திட்டம் அறிமுகப்படுத்தப்பட்டது.', '[228][229][230] ஆரம்பப் பள்ளி முதல் பல்கலைக்கழகம் வரையான கல்வி இலவசமாக வழங்கப்படும் உலகின் ஒரு சில நாடுகளில் இலங்கையும் ஒன்று.', '[231]\\nஇலங்கையின் கிராமப் பகுதி சிறார்களுக்குக் கல்வி வழங்குவதற்காக நாட்டின் பல பகுதிகளில் மத்திய மகா வித்தியாலயங்கள் அமைக்கும் திட்டத்தைக் கன்னங்கரா அறிமுகப்படுத்தினார்.', '[226] 1942 இல் மக்களுக்குத் தரமான கல்வியை வழங்குவதற்காகப் பல சீர்திருத்தங்கள் அறிமுகப்படுத்தப்பட்டது.', '1980களின் இறுதியில் மாகாணசபைகள் அமைக்கப்பட்டதை அடுத்து கல்வி அமைச்சின் அதிகாரங்கள் சில மாகாணங்களுக்குப் பகிர்ந்தளிக்கப்பட்டன.', 'இதன்படி, தேசியப் பாடசாலைகள் அமைக்கப்பட்டு அவை நடுவண் அரசின் கல்வி அமைச்சின் நேரடிக் கட்டுப்பாட்டுக்குள்ளும், ஏனைய பாடசாலைகள் மாகாண அரசுகளின் கட்டுப்பாட்டுக்குள்ளும் கொண்டுவரப்பட்டன.', 'இலங்கையில் ஏறத்தாழ 9675 அரசுப் பாடசாலைகளும், 817 தனியார் பாடசாலைகளும், பிரிவேனாக்களும் உள்ளன.', '[223] 15 அரசுப் பல்கலைக்கழகங்கள் உள்ளன.', '[232]\\nஇலங்கையின் பெரும்பான்மை இனம் சிங்களவர் ஆவார்.', 'இவர்கள் நாட்டின் மொத்த சனத்தொகையில் 74%மாக உள்ளனர்.', 'நாட்டின் அடுத்த முக்கிய இனமாகத் தமிழர் உள்ளார்கள்.', 'நாட்டின் சனத்தொகையில் 15.4%மான இவர்கள், இலங்கை தமிழர் மற்றும் இந்திய தமிழரென இரு பெரும் பிரிவினராகவுள்ளனர்.', 'இலங்கை தமிழர் நாட்டின் வடக்கு, கிழக்கு மாகாணங்களிலும், இந்திய தமிழர் நாட்டின் மத்திய மாகாணம், பதுளை மாவட்டத்திலும், பெரும்பான்மையாக வாழ்கின்றனர்.', 'இலங்கையின் அடுத்த முக்கிய இனமாகச் சோனகர் 10% உள்ளார்கள்.', 'இவர்கள் தமிழ் பேசக்கூடியவர்களாகவும், கிழக்கு மாகாணம் மற்றும் கண்டி, கொழும்பு போன்ற இடங்களில் பெரும்பான்மையாகவும் வாழ்கின்றனர்.', 'அத்தோடு இதர இனங்களாகப் பறங்கியர் (ஐரோபிய வழிதோன்றல்கள் 1%), வேடர்கள் (காட்டு வாசிகள் 0.1%) உள்ளனர்.', 'இலங்கையின் பிரதான மதங்கள் பௌத்தம் (70,19\\xa0%), இந்து சமயம் (12,61\\xa0%) இஸ்லாம் (9,71\\xa0%) கிறிஸ்தவம் (7,45\\xa0%) ஆக உள்ளன.', 'சிங்களவர் பெரும்பாலாகத் தேரவாத பௌத்தத்தை பின்பற்றுபவர்களாகவும், தமிழர் பெரும்பாலாகச் சைவ சமயிகளாகவும் உள்ளனர்.', 'சிங்களவர்களிலும், தமிழர்களிலும் குறிப்பிட்ட ஒரு பகுதியினர் கிறிஸ்தவர்களாக இருக்கின்றனர்.', 'சோனகர் என்ற இனத்தைச் சேர்ந்த முஸ்லிங்கள் இஸ்லாத்தை பின்பற்றுவோராகவும், பெரும்பாலும் தமிழ் பேசக்கூடியவர்களாகவும் காணப்படுகின்றனர்.', 'இலங்கையின் அரசியலமைப்புச் சட்டம் பௌத்த சமயத்தை முதன்மைப்படுத்தி, அதைப் பேணுவதை அரச கடமையாக வரையறை செய்கிறது.', '[233]\\nஇலங்கையின் தேசிய மொழிகளான தமிழும், சிங்களமும் நிர்வாகம், கல்வி, நீதி போன்ற துறைகளிலும், ஆங்கிலம் வணிகத்துறையிலும் பெரும்பான்மையாகப் பயன்பாட்டிலுள்ளது.', '1987-ஆம் ஆண்டில் கைச்சாத்திடப்பட்ட இலங்கை - இந்திய ஒப்பந்தத்தின் மூலம் தமிழும், சிங்களமும் அரசுகரும மொழிகளாகவும், ஆங்கிலம் இணைப்பு மொழியாகவும் அரசியல்யாப்பில் அங்கீகரிக்கப்பட்டுள்ளது.', 'ஆங்கிலம் பரவலாக இலங்கையில் உபயோகத்தில் உள்ள போதிலும், பரங்கியர் மட்டுமே இதைத் தங்கள் தாய் மொழியாகக் கொண்டுள்ளனர்.', 'பௌத்த சமயம் இலங்கையில் 69 வீதமாகக் காணப்படும் அதே வேளை இந்து சமயம் 12 வீதமாகவும் இஸ்லாம் 10 வீதமாகவும் கிறிஸ்த்தவம் 7 வீதமாகவும் காணப்படுகின்றது.', 'குடும்ப அமைப்பு: இலங்கையில் உள்ள அனைத்து இனங்களும் மிக முக்கியமாகக் கருதும் சமூகவலகு குடும்பமே ஆகும்.', 'இதன் கூறுகளாகக் கணவன், மனைவி, பிள்ளைகள் உள்ளனர்.', 'நாட்டின் அனேக குடும்பங்கள் கூட்டுக் குடும்பங்களாக இருந்த பொழுதும் தற்போது உள்ள யுத்த, பொருளாதார காரணங்களால் அணுக்குடும்பங்கள் பிரபலமாகிவருகின்றன.', 'கூட்டு குடும்பங்களில் உறவினர்கள் ஒருவருக்கொருவர் ஒத்தாசையாக உள்ளதுடன், குடும்பப் பிரசினைகளை சுமுகமாகத் தீர்த்தும் வைக்கின்றனர்.', 'இலங்கை உறவுமுறைகள் தென்னாசிய உறவுமுறைகளை ஒத்ததாகவே உள்ளன.', 'திருமணங்கள் அனேகமாக நிச்சயிக்கப்பட்டவையாக உள்ளபோதும், காதல் திருமணங்களும் ஒத்துக்கொள்ளப்பட்டவையாகவே உள்ளன.', 'நிச்சயிக்கும் திருமணங்கள் முதல் மைத்துனர்களுக்கிடையே அனேகமாக முடிவுசெய்யப்பட்டு வந்திருந்தாலும், தற்போது அந்நிலையில பெரிய மாற்றமேற்பட்டுள்ளது.', 'மிகப் பெரும்பான்மையான திருமணங்கள் ஏகதாரமணங்களாகவே அமைகின்றன.', 'பல்தாரமணங்கள் சட்டவிரோதமானவையாகவும், சமூகத்தால் நிராகரிக்கபட்டவையாகவும் உள்ளன.', 'ஆனால் செல்வந்த முஸ்லிம்கள், குடும்பங்களைப் பராமரிக்க முடியுமானால் பல மனைவிகளை மணந்து கொள்ளலாம்.', 'மேலும் மலைநாட்டு சிங்களவர்களிடையே ஒரு பெண் பல கணவர்களை மணப்பது வழக்காக உள்ளது, இதை ஆங்கிலேயர் தடைசெய்த போதும், தற்பொழும் இது சகசமாகவே உள்ளது.', 'இவ்வழக்கு கீழ்நாட்டு சிங்களவர்களிடையேயும் ஒரு காலத்தில் நிலவியபோதும் போர்த்துகீசர் இதை அகற்றினார்கள்.', 'தமிழரிடையே இவ்வழக்கு போர்த்துகீசர் வருகைக்குமுன் நிலவியதா என்பதற்குரிய சான்றுகள் கிடைத்தில.', 'சாதி அமைப்பு: இலங்கை சமூக கட்டமைப்பின் அடித்தளமாகப் பிறப்பை அடிப்படையாகக்கொண்ட சாதி அதிகாரப்படிநிலையே காணப்படுகின்றது.', 'இந்தச் சாதிக்கட்டமைப்பு சமயம், தொழில், பொருளாதாரம் போன்ற விடயங்களில் ஒருவரின் சமூக நிலையினை நிர்ணயிக்கின்றது.', 'இவ்வமைப்பின் தோற்றத்தை வேதங்களில் வலியுறுத்தப்படும் \"நான்கு வர்ண\" சாதி பெரும்பிரிவுகளில் காணலாம்.', 'வேதங்களில் கூறப்படும் சாதி நெறிகளைத் தவறாகப் புரிந்து கொண்ட காரணத்தால், மத்திய காலங்களில் சமூகத்தில் சாதி அடிப்படையில் பாகுபாடுகளும் ஏற்றத்தாழ்வுகளும் ஏற்படலாயின.', 'தற்போது பல முன்னேற்றங்கள் ஏற்பட்டுள்ள பொழுதும், நாட்டின் அரசியலிலும், திருமணம் உட்பட்ட பல சமூக வழக்கங்களிலும் சாதி இன்னமும் ஒரு முக்கிய இடத்தை வகிக்கின்றது.', 'றோடி எனப்படும் சாதியினரே இலங்கையின் மிகக் கீழ் சாதியினர் ஆவர்.', 'சிங்கள அரசவம்சத்தில் றோடியர்கள் தோன்றிய போதும், இவர்களின் முன்னோர்கள் நரமாமிசம் உட்கொண்டமையால் இவர்கள் சமூகத்திலிருந்து ஒதுக்கப்பட்டனர்.', 'இவர்களைத் தீண்டுவது பெரும் குற்றமாகக் கருதப்பட்டது.', 'இவர்கள் குப்பாயம் எனும் ஒதுக்குப்புறப் பகுதிகளில் வசிக்க வேண்டியிருந்ததுடன், றோடிய ஆண்களும், பெண்களும் இடுப்புக்கு மேல் உடையணியத் தடைசெய்யப்பட்டிருந்தனர்.', 'முதன்மைக் கட்டுரை: இலங்கையின் கலாசாரம்\\nஇலங்கையின் கலாசாரம் உலகின் முக்கிய கலாச்சாரங்களில் ஒன்று.', 'இது நால்விதமான இன, மொழி, சமய, பண்பாட்டு தாக்கங்களை உள்வாங்கி ஒரு கலவையாக வெளிப்பட்டு நிற்கின்றது.', 'இக்கலாசாரம் உயரிய, பலக்கிய, பன்முக இசை, நடனம், இலக்கியம் எனப் பல கூறுகளைக் கொண்டது.', 'இலங்கையின் கலாசாரம் பல தன்மை, வெளிப்பாடு, ஆழம் பல நிலைகளைக் கொண்டது.', 'கர்நாடக இசை, கண்டிய இசை ஆகிய இரு முக்கிய நெறி இசை மரபுகள் உள்ளன.', 'கர்நாடக இசை தமிழர் இடமும், கண்டிய இசை சிங்களவர் இடமும் தோற்றம் கொண்டன.', 'இவை தவிர நாட்டார் இசை, இஸ்லாமிய இசை, பறங்கிய இசை எனப் பல வேறு இசை மரபுகளும் வெளிப்பாடுகளும் உண்டு.', 'நடனக்கலையில் பரத நாட்டியம், கண்டிய நாட்டியம் ஆகிய இரு நடன வெளிப்பாடுகள் உண்டு.', 'நடனம்மூலம் கதை பரிமாறப்படுகின்றது.', 'இவை தவிர நாட்டுபுற நடனங்களும், பொம்மை நடனங்களும் உண்டு.', 'தமிழ், பாளி, சிங்களம், ஆங்கிலம் போன்ற பல முக்கிய மொழிகளின் இலக்கிய வெளிப்பாடுகள் இலங்கையின் பண்பாட்டு கலவையில் வெளிப்பட்டு நிற்கின்றன.', 'கொண்டாட்டங்கள் இலங்கை கலாசாரத்தின், வாழ்வியலின் இணைபிரியா அம்சங்கள் ஆகும்.', 'விசாக பௌர்ணமி, பொசன் பௌர்ணமி, தமிழ் சிங்கள புத்தாண்டு, பொங்கல், மகா சிவராத்திரி, தீபாவளி எனக் கொண்டாட்டங்கள் பல உண்டு.', 'சுதந்திர தினம், தமிழ் சிங்கள புத்தாண்டு போன்றவையும் முக்கியத்துவம் வாய்ந்த தேசியக் கொண்டாட்டங்கள் ஆகும்.', 'மேலும், தனி மனித வாழ்வியல் நிகழ்வுகளை மையமாக வைத்தும் பல கொண்டாட்டங்கள் உண்டு.', 'சிங்களவர் தமிழர் இன வேறுபாடின்றி வேட்டி, சேலை போன்ற ஆடைகளையே தமது தேசிய உடைகளாகக் கொண்டுள்ளனர், இவையே நாட்டில் தொன்று தொட்டு இருந்து வரும் உடைகளாகும்.', 'அரிசியும் கோதுமையுமே இலங்கை உணவு வகைகளைத் தயாரிப்பதில் முக்கியப்பங்கு கொள்கின்றன.', 'சோறு, இடியப்பம், பாண், பிட்டு, அப்பம் ஆகியவை இலங்கையர் வழக்கமாக உட்கொள்ளும் உணவுகளில் சிலவாகும்.', 'இலங்கையரின் முக்கியப் பொழுதுபோக்குகளில் ஒன்றாகத் திரைப்படங்கள் விளங்குகின்றன.', 'சிங்களம், தமிழ், இந்தி, ஆங்கிலம் போன்ற திரைப்படங்கள் அவற்றின் பொழுதுபோக்கு அம்சங்களுக்காகவும், இந்தி, தமிழ்  திரைப்படங்கள் அவற்றின் கலை நேர்த்திக்காகவும் விரும்பிப் பார்க்கப்படுகின்றன.', 'உலகமயமாக்கலும், பொருளாதார தாராளமயமாக்கலும் இலங்கை கலாசாரத்தை குறிப்பிடத் தக்க அளவுமேல் நாட்டு கலாசாரத்தின் ஆதிக்கத்திற்கு உட்படுத்தியுள்ளன.', 'நவீன மேலைத்திய இசை, இந்திய இசை, திரைப்படங்கள், நாடகங்கள், ஊடகங்கள், வர்த்தக முறைகள், அன்றாட வாழ்க்கை முறை, பணியிட நடத்தை முறைகள், ஆண்-பெண் நட்பு/உறவு ஆகியவற்றில் ஆங்கிலச் சொற்கள், மேல் நாட்டு சிந்தனைகள், மனப்போக்குகள் இடம் பெறத் தொடங்கியுள்ளன.', 'பல்வேறு காலகட்டங்களில் பலவாறு மாற்றங்களுக்கு உட்பட்டிருந்தாலும், இலங்கை கலாசாரத்தின் முக்கியக் கூறுகளான சகிப்புத்தன்மை, விருந்தோம்பல், குடும்ப உறவுகளுக்கான மதிப்பு, வேற்றுமையில் ஒற்றுமை ஆகிய பண்புகள் இன்னும் நீர்த்துப்போகாமல் இருப்பது அதன் சிறப்பாகும்.', 'இலங்கையின் தேசிய விளையாட்டு கைப்பந்தாட்டம், எனினும் மிகப்பிரபலமான விளையாட்டாகத் துடுப்பாட்டம் காணப்படுகிறது.', '[235] ரக்பி, கால்பந்தாட்டம், டெனிசு, தடகள விளையாட்டுக்களும் ஓரளவு பிரபலமானவை.', 'இங்கு பாடசாலை மாணவர்களிற்கு மாகாண, தேசிய அளவிலான விளையாட்டுப் போட்டிகள் ஆண்டுதோறும் நடைபெறுகின்றன.', 'இலங்கைத் துடுப்பாட்ட அணி 1990களின் பின்னர் குறிப்பிடத்தக்களவு வெற்றியைப் பன்னாட்டளவில் பெறத் தொடங்கியது, உச்சக்கட்டமாக 1996 ஆம் ஆண்டில் உலகக்கோப்பையையும் 2014 ஆம் ஆண்டு ஐசிசி உலக இருபது20 கோப்பையையும் வென்றது,[236] 2007,[237] 2011[238][239] உலகக்கிண்ண துடுப்பாட்ட போட்டிகளிலும் 2009, 2012 ஐசிசி உலக இருபது20 போட்டிகளிலும்[240] 2ஆம் இடத்தைப் பெற்றது.', '1986,[241] 1997,[242] 2004,[243] 2008[244] ஆம் ஆண்டுகளில் ஆசியக் கிண்ணத்தை கைப்பற்றியது.', '1996, 2011 ஆண்டுகளில் உலகக்கிண்ண போட்டிகளைப் பிறநாடுகளுடன் இணைந்து நடாத்தியது, 2012 ஐசிசி உலக இருபது20 போட்டிகைளையும் நடத்தியிருக்கிறது.', 'இலங்கைக்கு இதுவரை இரண்டு ஒலிம்பிக் பதக்கங்கள் கிடைத்துள்ளன, ஒரு வெள்ளிப்பதக்கம் டங்கன் வைட்டிற்கு 1948 இலண்டன் ஒலிம்பிக்கில் 400மீ தடைதாண்டி ஓட்டத்திற்காகவும்[245] மற்றொரு வெள்ளிப்பதக்கம் சுசந்திகா ஜயசிங்கவிற்கு 200மீ ஓட்டத்திற்காகச் சிட்னி ஒலிம்பிக்கிலும் கிடைத்தன.', '[246]\\nஇலங்கையின் நீதித்துறை ஒரு மீயுயர் நீதிமன்றம்,[156] ஒரு மேன்முறையீட்டு நீதிமன்றம், உயர் நீதிமன்றங்கள், மாவட்ட நீதிமன்றங்கள், மற்றும் நீதித்துறை நடுவர் நீதிமன்றங்கள் ஆகியவற்றை உள்ளடக்கியது.', 'பல்-கலாசாரங்கள் ஏற்படுத்திய தாக்கங்களின் பிரதிபலிப்பாகவே இலங்கையின் சட்ட முறைமை அமைந்துள்ளது.', '[157] குற்றவியற் சட்டங்கள் ஆங்கிலச் சட்ட முறையைப் பின்பற்றி அமைந்துள்ளதுடன், அடிப்படை குடியியற் சட்டங்கள் உரோம, ஒல்லாந்து சட்டங்களாக உள்ளன.', 'மேலும் இனரீதியான திருமண, மரபுரிமை சம்பந்தமான பொதுச் சட்டங்களும் உள்ளன.', '[158] இன, மத வாரியாக பண்டைய வழக்க அடிப்படையில் இயற்றப்பட்ட கண்டிச் சட்டம், தேசவழமைச் சட்டம், சரியா சட்டம் ஆகியவையும் சில இடங்களில் வழக்கிலுள்ளன.', '[159] நிறைவேற்றதிகாரம் கொண்ட இலங்கை சனாதிபதி மீயுயர், மேன்முறையீட்டு, உயர் நீதிமன்ற நீதிபதிகளை நியமிக்கிறார்.', 'தலைமை நீதிபதி, மற்றும் இரண்டு மீயுயர் நீதிமன்ற நீதிபதிகளை உள்ளடக்கிய நீதிச்சேவை ஆணைக்குழு கீழ்நீதிமன்றங்களின் நியமனங்களைக் கவனிக்கிறது.', 'இலங்கையின் தேசிய காவற்துறையே நாட்டின் சட்டவொழுங்கைப் பாதுகாக்கின்ற பிரதான அரச அமைப்பாகும்.', 'இதன் பணிகளாக நாட்டின் உட்பாதுகாப்பு, சட்டம்-ஒழுங்கு என்பனவேயிருந்த போதினும்கூட, இது இலங்கையின் பாதுகாப்பு படைகளின் உள்ளிணைந்த அங்கமாகக் காணப்படுகின்றது.', 'மேலும் தேசிய காவற்துறையின் விசேடமாகப் பயிற்றப்பட்ட அதிரடிப்படையினர், முப்படைகளுடன் கூட்டு நடவடிக்கைகளிலும் அனேகமாக ஈடுபடுத்தப்படுகினறனர்.', 'இலங்கையின் காவற்துறை வரலாறு மிகவும் பழைமை வாய்ந்ததாகக் காணப்பட்ட போதினும்கூட, நவீன அம்சங்கள் பொருந்திய காவற்துறையானது ஒல்லாந்தருடைய ஆட்சிக் காலத்தில் உருவாக்கப்பட்டது.', 'ஆரம்பத்தில் வெவ்வேறு கூறுகளாகவிருந்த காவற்துறை 1858 இல் ஒன்றிணைக்கப்பட்டது.', 'பின்னர் 1866 இல் இலங்கை காவற் திணைக்களம் உருவாக்கப்பட்டது.', '1858 இல் இருந்து பெரும் மாற்றம் ஏதுமில்லாதிருந்த காவற்துறை 2001 ஆம் ஆண்டு நிறைவேற்றப்பட்ட 17வது அரசியலமைப்பு திருத்தசட்டத்தின் மூலம் தேசிய காவற்துறை ஆணைக்குழுவின் கீழ் கொண்டுவரப்பட்டது.', 'இவ்வாணைக்குழுவின் நிர்வாகத்தின் கீழ் இலங்கை தேசிய காவற்துறை இயங்குகின்றபோதிலும், அதன் நாளாந்த பணிகளை நடாத்தி செல்கின்றவர் காவல்துறை மாஅதிபர் ஆவார்.', 'இவர் காவற்துறை ஆணைக்குழுவால் நியமிக்கப்படாத போதும் அவரின் அனைத்து அதிகாரங்களும், தேசிய காவற்துறை ஆணைக்குழுவிலிருந்தே பெறப்படுகின்றன.', 'முதன்மைக் கட்டுரை: இலங்கையின் பாதுகாப்பு படைகள்\\nஇலங்கையின் முப்படைகளாவன இலங்கை இராணுவம், இலங்கை கடற்படை, இலங்கை விமானப்படை ஆகும்.', 'இவை பாதுகாப்பு அமைச்சின் கீழ் இயங்குகின்றன.', 'இலங்கை அரசியல்யாப்பின் கீழ் சனாதிபதியே முப்படை தளபதியாகக் கொள்ளப்படுகிறார்.', 'சுதந்திரமடைந்தபோது இலங்கையின் பாதுகாப்பு படைகளில் 70% வீதமானோர் சிறுபான்மையினத்தை சேர்ந்தவராக இருந்தபோதும் தற்போது அது 2% ஆகக் குறைந்துள்ளது.', '1970ம் ஆண்டு வரை சம்பிரதாயபூர்வமாக இருந்த படைகள், 1971ம் ஆண்டு இடம்பெற்ற மார்சிச புரட்சியைத் தொடர்ந்து வலுப்பெறத்தொடங்கின.', 'பின்னர் ஏற்பட்ட உள்நாட்டு போர், இனப்பிரச்சனை காரணமாகத் தற்போது இவை உலகில் அதிக போர் பயிற்சி பெற்ற படைகளில் ஒன்றாகத் திகழ்கின்றன.', 'இலங்கை படைபலம் சம்பந்தமான சில புள்ளிவிபரங்கள்:\\nஇலங்கையில் பல விடுமுறை நாட்கள் கொண்டாட படுகின்றன.', 'விடுமுறை நாட்களாவன:\\nசிலவேளைகளில் உள்ளடக்கப்படுவன:\\xa0\\xa0 ஆப்கானிஸ்தான் \\xa0· பிரித்தானிய இந்தியப் பெருங்கடல் மண்டலம் \\xa0· மியான்மார் \\xa0· ஈரான் \\xa0· திபெத்\\nஇராமாயணம் (ஒலிப்பு\\xa0(உதவி·தகவல்)) வால்மீகி என்னும் முனிவரால் சமசுக்கிருத மொழியில் இயற்றப்பட்ட மிகப் பழைய இதிகாசமாகும்[1].', 'இது பொ. ஊ. மு. 5 ஆம் நூற்றாண்டுக்கும் பொ.', ' ஊ. 2 ஆம் நூற்றாண்டுக்கும்  இடைப்பட்ட காலப் பகுதியில் இயற்றப்பட்டிருக்கலாம் எனக் கருதப்படுகின்றது.', 'இது இந்து சமயத்தின் முக்கியமான நூல்களுள் ஒன்று.', 'மூல நூலான வால்மீகியின் இராமாயணத்தைத் தழுவிப் பல இந்திய மொழிகளிலும், பிற நாடுகளின் மொழிகளிலும் இராமாயணம் இயற்றப்பட்டுள்ளது.', 'கம்பர் என்னும் புலவர்  புலவர்களுக்கே உண்டான பாணியில் பல கற்பனைகளை இனைத்து  இதனைத் தமிழில் எழுதினார்.', 'இது கம்ப இராமாயணம் எனப்படுகின்றது.', 'கெமர் மொழியில் உள்ள ரீம்கெர், தாய் மொழியில் உள்ள ராமகியென், லாவோ மொழியில் எழுதப்பட்ட ப்ரா லாக் ப்ரா லாம், மலாய் மொழியின் இக்காயத் சேரி ராமா போன்றவை வால்மீகியின் இராமாயணத்தைத் தழுவியவை ஆகும்.', 'கோசல நாட்டின் தலை நகரமான அயோத்தியை சேர்ந்த ரகு வம்ச இளவரசரான ராமர், அவர் மனைவி சீதை ஆகியோரின் வாழ்க்கையை விவரிக்கும் இந்த இதிகாசம், உறவுகளுக்கு இடையேயான கடமைகளை எடுத்துக் காட்டுகின்றது.', 'சிறந்த வேலையாள், சிறந்த தம்பி, சிறந்த மனைவி, சிறந்த அரசன் போன்றோர் எப்படி இருக்கவேண்டும் என்பது இதன் கதை மாந்தர்கள்  மூலம் விளக்கப்படுகின்றது.', '[2]\\nஇராமாயணம் என்னும் பெயர் இராமன், அயனம் என்னும் சொற்களின் கூட்டாகும்.', 'காவியத்தின் மையப் பாத்திரத்தின் பெயரான இராம, இரண்டு சூழ்நிலை அர்த்தங்களைக் கொண்டுள்ளது.', \"அதர்வவேதத்தில், இது 'அடர், அடர் நிறம், கருப்பு' என்று பொருள்படும் மற்றும் 'இரவின் இருள் அல்லது அமைதி' என்று பொருள்படும் இராத்திரி என்ற வார்த்தையுடன் தொடர்புடையது.\", \"மகாபாரதத்தில் காணக்கூடிய மற்றொரு பொருள், 'மகிழ்ச்சியானது, இனிமையானது, வசீகரமானது, அழகானது, அழகானது' என்பதாகும்.\", 'அயனம் என்னும் சொல் சமசுக்கிருதத்தில் பயணம் என்னும் பொருளுடையது.', 'இதனால், இராமாயணம் என்பது \"இராமனின் பயணம்\" என்று பொருள்படும், அக சாந்தியின் சமஸ்கிருத இலக்கண விதியின் காரணமாக அயனா அயனாவாக மாற்றப்பட்டது.', '[3][4][5][6]\\nஜோதிட கணக்கீடுகளின்படி, ராமாயணத்தின் விவரிப்பு பொ. ஊ. மு. 5301 இல் திரேதா யுகம் காலகட்டத்தில் நடந்தது.', '[7]\\nராபர்ட் பி. கோல்ட்மேனின் கூற்றுப்படி , ராமாயணத்தின் பழமையான பகுதிகள் பொ.', ' ஊ. மு. 7 ஆம் நூற்றாண்டின் நடுப்பகுதி மற்றும் பொ.', ' ஊ. மு. 6 ஆம் நூற்றாண்டின் நடுப்பகுதிக்கு இடைப்பட்டவை.', 'பௌத்தம் அல்லது மகத ராஜ்ஜியத்தின் முக்கியத்துவத்தைக் குறிப்பிடாத கதையே இதற்குக் காரணம்.', 'சாகேதா அல்லது ஷ்ரவஸ்தியின் வாரிசு தலைநகர் என்பதற்குப் பதிலாக, அயோத்தியை கோசலத்தின் தலைநகர் என்றும் உரை குறிப்பிடுகிறது.', 'கதை காலத்தின் அடிப்படையில், ராமாயணம் மகாபாரதத்திற்கு முந்தையது என்பது வெளிப்படையானது. பொ. ஊ. மு. 7 முதல் 4 ஆம் நூற்றாண்டுகள் வரை கிடைக்கக்கூடிய உரையின் ஆரம்ப கட்டத்திற்கான அறிஞர்களின் மதிப்பீடுகள்.', '[8][9]\\nதமிழில் கம்பரும், வடமொழியில் வால்மீகியும், இந்தியில் துளசி தாசரும், மலையாளத்தில் எழுத்தச்சனும், அசாமியில் மாதவ் கங்குனியும், ஒரியாவில் பலராம்தாசுவும் இயற்றியுள்ளனர்.', 'இராமாயணத்தின் கதை பல மட்டங்களில் தொழிற்படுகின்றது.', 'ஒரு மட்டத்தில் இது அக்காலத்துச் சமூகத்தை விவரிக்கின்றது.', 'பரந்த பேரரசுகள், அடுத்த அரசர்களாக வரவிருக்கும் இளவரசர்களின் வாழ்க்கை, தாய்மாருக்கும் மாற்றாந் தாய்களுக்கும் இடையிலான போட்டி, உடன்பிறந்தோருக்கு இடையிலான அன்புப் பிணைப்பும் விசுவாசமும், இளவரசிகளை மணம் முடிப்பதற்கான போட்டிகள் போன்றவை இவற்றுள் அடக்கம்.', 'இன்னொரு மட்டத்தில் இது, நெறிமுறைகளைக் கடைப்பிடிக்கும் ஒரு மனிதன், ஒரு தலைவனாக எவ்வாறு நடந்துகொள்கிறான் என்பதையும், நிலைமைகளை ஒன்றுபோல எதிர்கொண்டு, சமயத்துக்குத் தக்கபடி நடந்து, தனது சொந்தத் துன்பங்கள் முதலியனவற்றுக்கும் அப்பால் குடிமக்களை எவ்வாறு வழிநடத்துகிறான் என்பதையும் காட்டுகிறது.', 'வேறொரு மட்டத்தில் இது, தீமையை ஒழித்து நீதியை நிலை நாட்டுவதற்காக மனிதனாகத் தனது ஏழாவது அவதாரத்தை எடுத்த விஷ்ணுவின் கதையும் ஆகும்.', 'வால்மீகி இராமாயணம் 24,000 பாடல்களைக் கொண்டது.', 'இவை மொத்தம் ஏழு காண்டங்களாகப் பிரிக்கப்பட்டுள்ளன.', 'இவை இராமரின் பிறப்பில் இருந்து இறப்பு வரை விளக்குகின்றன.', 'அவை:\\nஇந்த இராமாயணத்தில் காணப்படும் முதல் காண்டமும் இறுதிக் காண்டமும் வால்மீகியால் எழுதப்பட்டதா என்பதில் சில ஐயப்பாடுகளும் நிலவுகின்றன.', 'இவ்விரு பகுதிகளினதும் மொழி நடை ஏனைய பகுதிகளிலிருந்து வேறுபடுவதும் அவற்றின் உள்ளடக்கங்களில் முரண்பாடுகள் காணப்படுவதும் இத்தகைய ஐயப்பாடுகளுக்குக் காரணமாகும்.', 'எனினும் பலர் இவ்வேழு காண்டங்களும் வால்மீகியால் எழுதப்பட்டதாகவே நம்புகின்றனர்.', 'அயோத்தியை ஆண்டு வந்த தசரத மன்னனுக்கு நீண்ட நாட்களாக குழந்தைகள் இல்லாமல் இருந்து வந்தார்.', 'அதனால் தன் மந்திரி சுமந்தரர் மற்றும் தன் குலகுருவான வசிட்டரின் அறிவுரைப்படி புத்திர-காமேஷ்டி யாகம் நடத்தினார்.', 'அப்போது மகா விஷ்ணு தோன்றி, ஓர் தங்கத்திலான பாத்திரத்தை தசரதனிடம் கொடுத்து அதிலிருக்கும் புனிதமான தேனைத் தசரதனின் மனைவியரை பருகும்படி கேட்டு கொண்டார்.', 'அதன்படி தசரதரும் தன் மனைவியரான கௌசல்யா, சுமித்திரை மற்றும் கைகேயியிடம் அந்த தேனை பகிர்ந்தளிதார்.', 'விரைவிலேயே கௌசல்யாவுக்கு இராமனும், கைகேயிக்கு பரதனும், சுமித்திரைக்கு இரட்டையரான இலக்குவன் மற்றும் சத்ருகனன் ஆகியோர் பிறந்தனர்.', 'சிறிது காலத்திற்கு பின்பு நால்வரும் வசிட்டரிடம் சீடர்களாக சேர்ந்து பல்வேறு கலைகளை கற்று கொள்ள ஆரம்பித்தனர்.', 'இந்நிலையில் விசுவாமித்திர முனிவர், அயோத்தியை அடைந்து தசரதரிடம் தன் யாகங்களுக்கு சில ராட்சகர்களால் இடையூறு ஏற்படுவதால் அவர்களை அழிக்க இராமனை தன்னுடன் அனுப்பி வைக்குமாறு கேட்டுக் கொண்டார்.', 'முதலில் தயங்கினாலும் பிறகு இராமனையும், லட்சுமணனனையும் அவருடன் அனுப்பி வைத்தார்.', 'சகோதரர்கள் வந்த வேலையை செவ்வனே செய்த்தால், விசுவாமித்திரர் அவர்களுக்கு சில அஸ்திரங்களை அருளி ஆசிர்வதித்தார்.', 'விசுவாமித்திரர் இராமனையும், இலட்சுமணனையும் ஜனகன் என்னும் அரசன் ஆட்சி செய்த விதேக நாட்டின் தலைநகரமான மிதிலைக்கு அழைத்துச் சென்றார்.', 'ஜனகனுடைய மகள் சீதை.', 'இவளுக்குத் திருமணம் செய்வதற்காக அரசர் போட்டியொன்றை ஒழுங்கு செய்திருந்தார்.', 'பல இளவரசர்கள் கலந்து கொண்ட அப்போட்டியில் வென்ற இராமன், சீதையை திருமணம் செய்து கொண்டு அயோத்திக்கு மீண்டான்.', 'இராமனுக்கும், சீதைக்கும் திருமணமாகி பன்னிரண்டு ஆண்டுகள் ஆனதும், வயதான தசரதர், இராமருக்கு மகுடம் சூட்ட விருப்பம் தெரிவிக்கிறார், அதற்கு கோசல அரசவையும் குடிமக்களும் தங்கள் ஆதரவை வெளிப்படுத்துகிறார்கள்.', 'மாபெரும் நிகழ்வின் முந்திய நாளில்,  மந்தரை என்கிற பொல்லாத வேலைக்காரியால் கைகேயியின் பொறாமை தூண்டப்படுகிறது.', 'தசரதன் நீண்ட காலத்திற்கு முன்பு தனக்கு வழங்கிய இரண்டு வரங்களை நினைவு கூறுகிறார்.', 'இராமரை பதினான்கு ஆண்டுகள் காட்டிற்குள் அனுப்புமாறும், தனது மகன் பரதன் நாடாள வேண்டுமென்றும் தசரதனிடம் கைகேயி கோருகிறார்.', 'இதனால் மனம் உடைந்த அரசன், கொடுக்கப்பட்ட வரத்தின் காரணமாக கட்டுப்படுத்தப்பட்டு, கைகேயியின் கோரிக்கைகளுக்கு இணங்குகிறார்.', 'இராமர் தனது தந்தையின் ஆணையை முழுமையான சமர்ப்பிப்பு மற்றும் அமைதியான சுய கட்டுப்பாட்டுடன் ஏற்றுக்கொள்கிறார்.', 'இது கதை முழுவதும் அவரை வகைப்படுத்துகிறது.', 'இவருடன் சீதாவும் லட்சுமணனும் இணைந்து காடு செல்கின்றனர்.', 'அவரைப் பின்தொடர வேண்டாம் என்று அவர் சீதாவிடம் கூறும்போது, \\u200b\\u200b\"நீங்கள் வசிக்கும் காடு எனக்கு அயோத்தி, நீங்கள் இல்லாமல் அயோத்தி என்பது எனக்கு ஒரு உண்மையான நரகமாகும்\" என்று கூறுகிறாள்.', 'ராமர் வெளியேறிய பிறகு, தசரத மன்னர், துக்கத்தை தாங்க முடியாமல் காலமாகிறார்.', 'இதற்கிடையில், தனது நாட்டிற்குத் திரும்பிய பரதன், அயோத்தியில் நடந்த நிகழ்வுகளைப் பற்றி அறிந்து கொள்கிறார்.', 'பரதன் தனது தாயின் பொல்லாத சூழ்ச்சியினால் அரியணை ஏற மறுத்து, காட்டில் ராமரை சந்திக்கிறான்.', 'பரதன் ராமரிடம் திரும்பி வந்து ஆட்சி செய்யுமாறு  கேட்டுக்கொள்கிறார்.', 'ஆனால்  தனது தந்தையின் கட்டளைகளை நிறைவேற்ற தீர்மானித்த ராமர், நாடு திரும்ப மறுக்கிறார்.', 'சில காலத்தின் பின் தனது மூத்த மகனான இராமனுக்கு முடிசூட்டத் தசரதர் எண்ணினார்.', 'அரச குடும்பத்தினரும் மக்களும் இது குறித்து மிகவும் மகிழ்ந்தனர்.', 'ஆனால், கைகேயியின் பணிப்பெண்களில் ஒருத்தியான கூனி என்பாள் இராமன் மீது வெறுப்புற்றிருந்தாள்.', 'இராமன் அரசனாவதை அவள் விரும்பவில்லை.', 'அதனால், கைகேயியைத் தூண்டி விட்டு இராமன் அரசனாவதைத் தடுக்க எண்ணினாள்.', 'கைகேயியும் கூனியின் வலையில் விழுந்துவிட்டாள்.', 'முன்னொருபோது தசரதனின் உயிரைக் கைகேயி காத்தமைக்காக இரண்டு வரங்கள் தருவதாகத் தசரதன் வாக்களித்திருந்தான்.', 'அவ்விரு வரங்களையும் கேட்டு வாங்கும்படி கூனி கைகேயிக்கு ஆலோசனை கூறினாள்.', 'தனது மகனான பரதன் அரசனாக வேண்டும், இராமன் பதினான்கு ஆண்டுகள் காட்டில் வாழவேண்டும் என்னும் இரண்டு வரங்களைக் கைகேயி தசரதரிடம் கேட்டாள்.', 'மனதை மாற்றிக்கொள்ளும்படி தசரதர் வேண்டியும் கைகேயி பிடிவாதமாக மறுத்துவிட்டதனால், தான் சொன்ன சொல்லைக் காப்பாற்றுவதற்காக வேறு வழியின்றி அவளுடைய கோரிக்கைக்குத் தசரதன் இணங்க வேண்டியதாயிற்று.', 'தசரதரின் முடிவைக் கேள்வியுற்ற இராமன் உடனடியாகவே காட்டுக்குக் கிளம்பினான்.', 'அவன் தடுத்தும் கேளாமல் சீதையும், இலட்சுமணனும் இராமனுடன் காட்டுக்குக் கிளம்பினர்.', 'இராமன் காட்டுக்குப் போய்விட்டான் என்பதைக் கேள்வியுற்ற தசரதர் கவலை தாங்காமல் உடனேயே இறந்துவிட்டார்.', 'அவ்வேளையில் பரதனும், சத்துருக்கனும் நாட்டுக்கு வெளியே இருந்தனர்.', 'தந்தையின் இறப்புச் செய்தி கேள்வியுற்ற அவர்கள் உடனடியாக நாடு திரும்பி நடந்ததை அறிந்து கொண்டனர்.', 'நடந்தவை அனைத்துக்கும் தனது தாயே காரணம் என்பதை அறிந்த பரதன் கோபம் கொண்டான்.', 'முடி சூட்டிக்கொள்ள மறுத்த அவன் இராமனைத் திரும்பவும் கூட்டி வருவதற்காகக் காட்டுக்குச் சென்றான்.', 'தந்தையின் சொல்லைக் காப்பாற்றுவதற்காக அயோத்திக்கு வர இராமன் மறுக்கவே, பரதன் இராமனின் காலணிகளை கேட்டுப் பெற்றுக்கொண்டு அயோத்திக்குச் சென்றான்.', 'அங்கே இராமனின் பாதுகைகளை அரியணையில் வைத்து இராமன் காட்டிலிருந்து மீளும் வரை அவனுக்காகப் பரதன் ஆட்சியை நடத்தினான்.', 'இராமனும், சீதையும், இலட்சுமணனும் காட்டில் வாழ்ந்து வந்தபோது அரக்கர் குலத்தைச் சேர்ந்த இலங்கை அரசன் இராவணனின் தங்கையான சூர்ப்பனகை என்பவள் இராமன் மீது ஆசை கொண்டாள்.', 'இலட்சுமணன் அவளது மூக்கை வெட்டித் துரத்திவிட்டான்.', 'இதனால் கோபமடைந்த அவள் தனது அண்ணனிடம் முறையிட்டாள்.', 'தனது தங்கைக்கு நேர்ந்த நிலையையிட்டுச் சினம் கொண்ட இராவணன் இராமனைப் பழிவாங்க எண்ணிச் சீதையைக் கவர்ந்து கொண்டு வந்து இலங்கையில், அசோகவனத்தில் சிறை வைத்தான்.', 'சீதையில் அழகில் மயங்கிய அவன், தன்னை மணந்து கொள்ளுமாறும் அவளை வற்புறுத்தினான்.', 'சீதையைத் தேடி அலைந்த இராமனுக்கும், இலட்சுமணனுக்கும் வானரர்களின் அரசனான சுக்கிரீவனின் நட்புக் கிடைத்தது.', 'சுக்கிரீவனின் அமைச்சனும், காற்றுக் கடவுளின் மகனுமான அனுமன் இராமனிடம் பெரும் பக்தி கொண்டிருந்தான்.', 'சுக்கிரீவனின் ஆணைப்படி வானரப் படைகள் பல திசைகளிலும் சென்று சீதையைத் தேடின.', 'அனுமன் கடலைத் தாண்டி இலங்கைக்குச் சென்றான்.', 'அங்கே அசோக வனத்தில் சிறையிருந்த சீதையைக் கண்டான்.', 'அனுமன் மூலம் சீதை இருக்கும் இடத்தை அறிந்து கொண்ட இராமன், வானரப் படைகளின் உதவியோடு இலங்கைக்குச் சென்றான்.', 'இராவணனின் தம்பியான விபீடணன், சீதையை விட்டுவிடுமாறு இராவணனுக்கு ஆலோசனை கூறியும் அவன் அதனை ஏற்றுக்கொள்ள மறுத்துவிட்டான்.', 'நியாயத்துக்கு எதிராக இராவணனுக்கு உதவ விரும்பாத விபீடணன் இராமனை அடைந்து அவனுக்கு உதவினான்.', 'இடம்பெற்ற போரில் இராவணனும், அவனது கூட்டத்தினரும் மாண்டனர்.', 'இராமன் விபீடணனை இலங்கை அரசனாக முடி சூட்டினான்.', 'இராமன் சீதையை மீட்டான்.', 'எனினும், சீதையின் தூய்மையை நிரூபிப்பதற்காக சீதை தீக்குள் புகுந்து வெளிவர வேண்டியதாயிற்று.', 'இவ்வேளையில் இராமனுக்கு விதிக்கப்பட்ட நாடுகடந்த வாழ்க்கைக் காலமான பதினான்கு ஆண்டுகள் முடிவடைந்தன.', 'இராமன், சீதை, இலட்சுமணன் ஆகியோர் அயோத்திக்கு மீண்டனர்.', 'இராமன் அரசனாக முடிசூட்டிக் கொண்டான்.', 'ஒருநாள் அயோத்தியின் குடிமக்களில் ஒருவன், சீதை இராவணனால் கடத்திச் செல்லப்பட்டதைக் குறித்து ஐயுற்றுப் பேசியதை அறிந்த இராமன் சீதையைக் காட்டுக்கு அனுப்பினான்.', 'அப்போது சீதை கருவுற்றிருந்தாள்.', 'காட்டில் சீதை வால்மீகி முனிவரின் ஆதரவில் வாழ்ந்து வந்தாள்.', 'அவளுக்கு லவன், குசன் என இரட்டை ஆண் குழந்தைகள் பிறந்தனர்.', 'அவர்கள் வால்மீகியின் ஆசிரமத்திலேயே வளர்ந்தனர்.', 'அக்காலத்தில் இராமன் தனது பேரரசை மேலும் பெருப்பிக்கும் நோக்குடன் அசுவமேத யாகம் எனப்பட்ட யாகத்தை ஒழுங்கு செய்தான்.', 'இந்த யாகத்தைச் செய்யும் ஒரு மன்னன் ஒரு குதிரையைப் பெரும் படையோடு அண்டை நாடுகளுக்கு அனுப்புவான்.', 'அவனுடன் போரிடமுடியாமல் அடிபணிய விரும்பும் அரசர்கள் அக் குதிரையைத் தமது நாட்டில் உலவ விடுவர்.', 'அப்படியின்றி அவ்வரசன் அடிபணிய விரும்பாவிட்டால் குதிரையைப் பிடித்துக் கட்டிவிடுவான்.', 'குதிரையை அனுப்பிய அரசன் போர் புரிந்து குறிப்பிட்ட நாட்டைத் தோற்கடிக்கவேண்டும்.', 'இராமன் அனுப்பிய குதிரை அவனது பிள்ளைகளான லவனும், குசனும் வாழ்ந்த காட்டில் உலவியபோது அவர்கள் அதனைப் பிடித்துக் கட்டியதுடன், அதனுடன் வந்த படையினருடன் மோதி அவர்களைத் தோற்கடித்தனர்.', 'இதைக் கேள்வியுற்ற இராமன் காட்டுக்கு வந்து தனது பிள்ளைகளையும், சீதையையும் கண்டான்.', 'சில காலத்தின் பின் புவியில் தனது காலம் முடிவுக்கு வருவதை சீதை உணர்ந்து தன்னை ஏற்றுக்கொள்ளும்படி புவியன்னையை வேண்டினாள்.', 'சீதையின் வேண்டுகோளுக்கு இணங்கிப் புவி பிளந்து அவளை ஏற்றுக்கொண்டது.', 'லவனும், குசனும் அயோத்திக்குச் சென்று தந்தையுடன் வாழ்ந்தனர்.', 'சுந்தர காண்டம் வால்மீகி ராமாயணத்தின் இதயமாகவும், அனுமனின் சாகசங்களைப் பற்றிய விரிவான, தெளிவான கதையயும் கொண்டுள்ளது.', 'சீதையைப்பற்றி அறிந்த பிறகு, அனுமன் ஒரு அழகிய வடிவத்தை எடுத்துக் கொண்டு, கடலுக்கு குறுக்கே இலங்கைக்கு பறந்து செல்கிறார்.', 'வழியில் அவர் தனது திறன்களை சோதிக்க ஒரு பேய் வடிவத்தில் வரும் ஒரு கந்தர்வ கன்னியை எதிர்கொள்வது போன்ற பல சவால்களை சந்திக்கிறார்.', 'அவர் மைனாகுடு என்ற மலையை எதிர்கொள்கிறார்.', 'அவர் அனுமனுக்கு ஓய்வு அளித்து அவருக்கு உதவுகிறார்.', 'சீதாவைத் தேடுவதற்கு இன்னும் சிறிது காலமே மீதமுள்ளதால் அனுமன் அவருடைய உதவியை மறுக்கிறார்.', 'இலங்கைக்குள் நுழைந்த பிறகு, இலங்கை முழுவதையும் பாதுகாக்கும் லங்கினி என்ற அரக்கியை காண்கிறார் அனுமன் அவளுடன் சண்டையிட்டு இலங்கைக்குள் செல்வதற்காக அவளை அடிபணியச் செய்கிறார்.', 'இந்த செயல்பாட்டில், லங்கினியை தோற்கடித்தால் இலங்கையின் முடிவு நெருங்குகிறது என்று அர்த்தமாகும் என்று கடவுளர்களிடமிருந்து பெற்ற எச்சரிக்கையை லங்கினி எடுத்துரைக்கிறாள்.', 'இங்கே, அனுமன் அரக்கர்களின் நாட்டை ஆராய்ந்து இராவணனை வேவு பார்க்கிறார்.', 'அவர் சீதையை அசோக வனத்தில் காண்கிறார்.', 'அங்கு சீதையை தன்னைத் திருமணம் செய்து கொள்ளுமாறு ராவணன் அச்சுறுத்துகிறான்.', 'நம்பிக்கையின் அடையாளமாக ராமரின் மோதிரத்தை கொடுத்து அனுமன் சீதாவுக்கு உறுதியளிக்கிறார்.', 'அவர் சீதையை மீண்டும் ராமரிடம் கொண்டு செல்ல முன்வருகிறார்; இருப்பினும், அவள் மறுத்து, அது தர்மம் அல்ல என்று கூறி, அனுமன் அவளை ராமரிடம் அழைத்துச் சென்றால் ராமாயணத்திற்கு முக்கியத்துவம் இருக்காது என்று கூறுகிறாள் - \"ராமர் இல்லாதபோது ராவணன் சீதையை வலுக்கட்டாயமாக சுமந்து சென்றான்.', 'ராவணன் இல்லாதபோது, \\u200b\\u200bஅனுமன் சீதையை மீண்டும் ராமனிடம் கொண்டு சென்றான் \" என்ற அவப்பெயர் வராதிருக்கவும் தான் கடத்தப்பட்ட அவமானத்திற்கு பழிவாங்கவும் இராமரே வர வேண்டும் என்று சீதை கூறுகிறாள்.', 'அனுமன் பின்னர் இலங்கையில் மரங்களையும் கட்டிடங்களையும் அழித்து இராவணனின் வீரர்களைக் கொல்வதன் மூலம் அழிவை ஏற்படுத்துகிறார்.', 'ராவணனின் வீரர்கள் தன்னைப் பிடித்து ராவணனிடம் அழைத்துச் செல்ல அனுமதிக்கிறார்.', 'சீதையை விடுவிக்க ராவணனுக்கு தைரியமான சொற்பொழிவு செய்கிறார்.', 'ராவணனால் அவரது வால் தீ வைக்கப்பட்டுள்ளது, ஆனால் அவர் பிணைப்புகளில் இருந்து தப்பித்து கூரையிலிருந்து கூரைக்குத் தாவுகிறார்.', 'ராவணனின் கோட்டைக்கு தீ வைத்து விட்டு தீவில் இருந்து பறந்து செல்கிறார்.', 'மகிழ்ச்சியான செய்திகளுடன் கிஷ்கிந்தாவுக்குத் திரும்புகிறார்.', 'கம்ப இராமாயணத்தின் இறுதிக் காண்டமாக உத்தர காண்டம், ஒட்டக்கூத்தரால் இயற்றப்பட்டது.', 'கம்பர் தம் இராமாயணத்தைப் பால காண்டம் முதல் யுத்த காண்டம் முடிய உள்ள ஆறு காண்டங்களில் நிறைவு செய்துள்ளார்.', 'யுத்த காண்டத்தின் நிறைவில், விடைகொடுத்த படலம் என்றொரு படலம் உள்ளது.', 'அதில் சுக்ரீவன், அனுமன், வீடணன் மற்றும் வானரர் முதலியோர்க்கு பரிசில்கள் கொடுத்து இராமன் விடை தந்து அனுப்பிய செய்தி கூறப்பட்டுள்ளது.', 'அதன் பின்பு இராமர் பல்லாண்டு மனுநெறி தவறாமல் ஆட்சி செய்ததை விளக்கி, இராமாயணத்தைக் கம்பர் நிறைவு செய்து விட்டார்.', 'அதன்பின் நிகழ்வுகளாக, சீதை தொடர்பான வதந்தியினை குடிமகன் மூலம் கேட்ட இராமர், ஐந்து மாத கர்ப்பிணியான சீதையை, இலக்குமணனைக் கொண்டு காட்டில் விட்டுவிடுதல், காட்டில் சீதைக்கு வால்மீகி ஆசிரமத்தில் லவன் மற்றும் குசன் எனும் இரட்டைக் குழுந்தைகள் பிறப்பதும், இராமர் செய்த அசுவமேத யாகக்  குதிரைகளை லவ-குசர்கள் கட்டி வைத்தல், சத்துருக்கனன், பரதன் மற்றும் இலக்குமணராலும் வெல்ல முடியாத இலவ-குசர்களை, இராமரே நேரில் வந்து பார்த்து போரிடுவதும், பின்னர் லவ-குசர்களை அயோத்திக்கு அழைத்து செல்லுதலும், பூமி பிளந்து சீதை பூமாதேவியுடன் சேர்தல் போன்ற செய்திகளை, தான் எழுதிய உத்தர காண்டம் மூலம் ஒட்டக்கூத்தர் வடிவம் கொடுத்துள்ளார்.', 'இராமாயணத்தின் முக்கிய கதை மாந்தனான இராமன், இந்துக்களின் முதன்மைக் கடவுளரில் ஒருவர்.', 'மும்மூர்த்திகளுள் ஒருவரான திருமாலின் 10 அவதாரங்களுள் ஒருவராகப் போற்றி வழிபடப்படுபவர்.', 'உலகில் தீமையை ஒழித்து அறத்தை நிலைநாட்டுவதற்காக திருமால் இப் புவியில் தோன்றியதாக இந்துக்கள் நம்புகின்றனர்.', 'ஆண்டு தோறும் பலர் இராமர் பயணம் செய்த பாதையைப் பின்பற்றி யாத்திரை செய்கின்றனர்.', 'இந்த இதிகாசம், ஒரு இலக்கியமாக மட்டுமன்றி, இந்து சமயத்துடன் இரண்டறக் கலந்துள்ளது.', 'இதனைப் படிப்பவர்களதும், படிக்கக் கேட்பவர்களதும் பாவங்கள் நீங்கி, இறைவன் அருள் கிட்டும் என்பது இந்துக்களின் நம்பிக்கை.', 'மகாபாரத காவியத்தின் வன பருவத்தில் இராமாயண நிகழ்வுகளை மார்க்கண்டேய முனிவர் தருமனுக்கு எடுத்துரைத்தார். [12]\\nபொ. ஊ. 12 ஆம் நூற்றாண்டில் கம்பர், கம்பராமாயணத்தை தமிழில் எழுதுவதற்கு முன்பே, இராமாயணக் கதையைப் பற்றிய பல பழங்கால குறிப்புகள் உள்ளன, இது பொது சகாப்தத்திற்கு முன்பே தமிழ் நிலங்களில் நன்கு அறியப்பட்ட கதை என்பதைக் குறிக்கிறது.', 'இக்கதை பற்றிய குறிப்புகள் அகநானூறு (பொ. ஊ. மு. 1ஆம் நூற்றாண்டு)[13] மற்றும் புறநானூறு (பொ.', ' ஊ. மு. 300 தேதியிட்டது),[14][15] சிலப்பதிகாரத்தின் இரட்டைக் காப்பியங்கள் (பொ.', ' ஊ. 2ஆம் நூற்றாண்டு)[16] மற்றும் மணிமேகலை (காண்டோஸ் 5, 17 மற்றும் 18), [17][18][19] மற்றும் குலசேகர ஆழ்வார், திருமங்கை ஆழ்வார், ஆண்டாள் மற்றும் நம்மாழ்வார் ஆகியோரின் ஆழ்வார் இலக்கியங்கள் (பொ.', ' ஊ. 5 மற்றும் 10 ஆம் நூற்றாண்டுகளுக்கு இடைப்பட்டவை) ஆகியவற்றில் காணப்படுகின்றன.', '[20] நாயன்மார்களின் பாடல்களில் கூட இராவணன் மற்றும் சிவபெருமான் மீது அவன் கொண்ட பக்தி பற்றிய குறிப்புகள் உள்ளன.', '[16]\\nஇராமாயணத்தில் கூறப்படும் இலங்கை இன்றைய இலங்கைத் தீவைக் குறிக்கிறது என்பதே பெரும்பாலோரது கருத்து.', 'எனினும், இதை மறுத்து இந்தியாவில் ஒடிசாவில் உள்ள லங்கையை  இராமாயணத்தின் இலங்கையாகக் கொள்பவர்களும் உள்ளனர்.', 'இலங்கைக்கும் இந்தியாவுக்கும் இடையில் காணப்படுவனவும், இராமர் பாலம் என்று அழைக்கப்படுவனவுமான ஆழம் குறைந்த திட்டுக்களே வானரப் படைகளால் அமைக்கப்பட்ட பாலம் எனச் சிலர் கருதுகின்றனர்.', 'அத்துடன் இலங்கையின் மையப் பகுதியில், நுவரெலியா என்னும் நகருக்கு அண்மையில் உள்ள சீதா எலிய என அழைக்கப்படும் இடமே சீதையைச் சிறைவைத்த அசோகவனம் என்கின்றனர்.', 'குலோத்துங்க சோழ அரசனின் ஆணைப்படி கம்பரால் இயற்றப்பட்டது கம்பராமாயணம்.', 'இதனைக் கம்பர் வான்மீகி முனிவரின் இராமாயணத்தின்படி எழுதியிருக்கின்றார்.', 'அதனை அவர் தனது இராமாயண அவையடக்கத்தில் பின்வருமாறு கூறுகின்றார் -   \\n“தேவபாடையின் இக்கதை செய்தவர்  \\nமூவரானவர் தம்முளும் முந்திய    \\nநாவினார் உரைப்படி நான் தமிழ்ப்   \\nபாவினால் இஃதுணர்த்திய பண்பரோ!', '“\\nவடமொழியில் இராம கதையை வகுத்து வான்புகழ் கொண்ட வான்மீகி முனிவரின்படி நான் தமிழ்ப்பாவினால் பாடியிருக்கின்றேன் என்று கம்பர் கூறுகின்றபோதும் - சிற்சில இடங்களில் அழகுசெய்வான் பொருட்டு வான்மீகி இராமாயணத்தில் இல்லாதவற்றையும் எழுதியிருக்கின்றார்.', 'இவை தமிழ் மக்களிடையே நிலவிய இராமாயணக் கதைகளில் இருந்தும் சேர்ந்திருப்பதால், கம்பர் மெருகூட்டியவை முழுதும் அவரது கற்பனையே என்று ஊறு விட இயலாது.', 'உதாரணம்\\xa0: இராமனும் சீதையும் திருமணத்திற்கு முன்னர் ஒருவரையொருவர் கண்டு கழிபெரும் காதல் கொண்டதாய் வான்மீகி கூறவில்லை.', 'ஆயினும்,   கம்பர் தமிழ் மரபினைத் தழுவி, தலைவனும் தலைவியும் திருமணத்தின் முன்னர் ஒருவரையொருவர் கண்டு கழிபெருங் காதல் கொண்டதாய்ச் சொல்கிறார்.', 'தமிழியற் கொப்ப அவ்வாறு கூறியமை - முதனூலுக்கு மாறுகொள்ளக் கூறியமை - வழுவாகாத; மரபெனவே கொள்ளப்படுகிறது.', 'தென்னிந்தியாவில் உள்ள மக்களேதான் குரங்குகளாகவும் அரக்கர்களாகவும் வர்ணிக்கப்பட்டார்கள் என்று சுவாமி விவேகானந்தர் கூறினார்.', '[21]\\nவிஷ்ணு புராணம், இராமாயணம், மகாபாரதம் போன்ற புராணங்களில் வரலாற்று உண்மை உள்ளதா என்ற இந்து பத்திரிக்கை நிருபரின் கேள்விக்கு அளித்த பதிலில் சுவாமி விவேகானந்தர் கூறியதாவது: \"ஏதோ ஒரு வரலாற்று உண்மையே புராணத்தின் கருவாக உள்ளது.', 'உயர்ந்த கருத்துக்களைப் பல வடிவங்களில் மக்களுக்குக் கற்பிப்பதே புராணங்களின் நோக்கம். . . இராமாயணமும் மகாபாரதமும் கண்ட நியதிப்படி, அவை இராமரையும் கிருஷ்ணரையும் சார்ந்திருக்க வேண்டியதே இல்லை.', 'ஆனால் அவை உயர்ந்த கருத்துக்களை மனித இனத்தின் முன் வைப்பதால், அவற்றைச் சிறந்த அடிப்படை நூல்களாகக் கருத வேண்டும்.', 'எந்தப் புராணமானாலும் சரி, அதிலுள்ள தத்துவத்தை அறிய, அதில் வரும் பாத்திரங்கள் உண்மையா கற்பனையா என்ற ஆராய்ச்சி தேவையில்லை.', 'மனித இனத்திற்குப் போதிப்பதே புராணங்களின் நோக்கம்.', 'இராமாயணத்தில் வரும் பத்துத் தலை அசுரன் வாழ்ந்திருக்க வேண்டிய அவசியமில்லை.', 'அவன் ஓர் உண்மைப் பாத்திரமா அல்லது கற்பனையா என்ற கேள்வியைத் தள்ளி வைத்துவிட்டு, அவன்மூலம் நமக்கு என்ன போதிக்கப்பட்டுள்ளது என்பதை அறிய வேண்டும்.', '\"[22]\\nதிராவிட இயக்க ஆதரவாளர் எம். ஆர். ராதாவின் இராமாயண எதிர்ப்பு நூல்கள்: \\nஆள்கூறுகள்: 1°17′ 103°50′\\ufeff / \\ufeff1.283° 103.833°\\ufeff / 1.283; 103.833\\nசிங்கப்பூர் அல்லது சிங்கப்பூர் குடியரசு (ஆங்கிலம்:    , சீனம்: 新加坡共和国, īīō òéó; மலாய்:  ) என்பது தென்கிழக்காசியாவில் உள்ள ஒரு தீவு நாடு.', 'மலேசியத் தீபகற்பத்தின் தென் முனையில் அமைந்துள்ளது.', 'சிங்கப்பூர் தீவை ஜொகூர் நீரிணை, மலேசியாவில் இருந்து பிரிக்கிறது.', 'தெற்கில் சிங்கப்பூர் நீரிணை இந்தோனேசியாவின் ரியாவு தீவுகளைப் பிரிக்கின்றது.', 'சிங்கப்பூர் பெரிதும் நகரமயம் ஆன நாடாகும்.', 'மிகக் குறைவான அளவிலேயே மழைக்காடுகள் உள்ளன.', 'நிலச் சீரமைப்பு மூலம் கூடுதலான நிலங்கள் வளர்ச்சிக்காக உருவாக்கப்பட்டுள்ளன. கி. பி. 2-ஆம் நூற்றாண்டில் மனிதக் குடியேற்றம் தொடங்கிய நாளிலிருந்து சிங்கப்பூர் பல உள்ளூர் இராச்சியங்களின் பகுதியாக விளங்கி வந்துள்ளது.', '1819-ஆம் ஆண்டில் ஜொகூர் சுல்தானகத்தின் அனுமதியுடன் பிரித்தானிய கிழக்கிந்திய நிறுவனம் சிங்கப்பூரைத் தனது கட்டுப்பாட்டுக்குள் கொண்டு வந்தது.', '1824-இல் பிரித்தானியாவின் நேரடி ஆட்சியினுள் வந்தது.', '1826-இல் தென்கிழக்காசியாவின் ஒரு பிரித்தானிய குடியேற்ற நாடாக ஆனது.', 'இரண்டாம் உலகப் போரின் போது சப்பானியர்களால் சிறிது காலம் ஆக்கிரமிக்கப்பட்ட சிங்கப்பூர் மறுபடியும் 1945-இல் ஆங்கிலேயர் ஆட்சியின் கீழ் வந்தது.', 'அதன்பிறகு 1963-இல் ஏனைய பிரித்தானிய குடியேற்றப் பகுதிகளுடன் சேர்ந்து மலேசியாவோடு இணைந்து பிரித்தானியாவிடம் இருந்து விடுதலை அடைந்தது.', '1965 ஆகஸ்ட் 9-இல் மலேசியாவிலிருந்து பிரிந்து, விடுதலை பெற்று தனிக் குடியரசு நாடாக உருவானது.', 'அன்றிலிருந்து சிங்கப்பூரின் வளம் பெருமளவு விரிவடைந்து நான்கு ஆசியப் புலிகளில் ஒன்றானது.', 'சிங்கப்பூர் வெஸ்ட்மின்ஸ்டர் மக்களாட்சி முறைமையில் ஓரவை நாடாளுமன்றக் குடியரசு ஆட்சியைக் கொண்டுள்ளது.', '1959-ஆம் ஆண்டு முதல் மக்கள் செயல் கட்சி அனைத்துத் தேர்தல்களிலும் வெற்றி பெற்று ஆட்சி நடத்தி வருகிறது.', 'கொள்வனவு ஆற்றல் சமநிலையின் அடிப்படையில், சிங்கப்பூரின் ஆள்வீத வருமானம் உலக நாடுகளில் மூன்றாவது நிலையில் உள்ளது.', 'சிங்கப்பூரின் மக்கள்தொகை 5 மில்லியனுக்கும் சற்று மிகுதியாகும்.', 'இவர்களில் 2.91 மில்லியன் உள்ளூரில் பிறந்தவர்கள்.', 'மக்கள்தொகையில் பெரும்பாலானவர்கள் சீனர்கள்.', 'இவர்களுக்கு அடுத்ததாக மலாய், மற்றும் சிங்கப்பூர் இந்தியர்கள் உள்ளனர்.', 'சிங்கப்பூரின் அலுவல்முறை மொழிகள்: ஆங்கிலம், சீனம், மலாய் மொழி, தமிழ் மொழி ஆகியவையாகும்.', 'ஆசியான் அமைப்பை நிறுவிய நாடுகளில் ஒன்றான சிங்கப்பூரில் ஏப்பெக் அமைப்பின் செயலகம் அமைந்துள்ளது.', 'அத்துடன், கூட்டுசேரா இயக்கம், பொதுநலவாய நாடுகள் ஆகிய அமைப்புகளிலும் உறுப்பு நாடாக உள்ளது.', 'மிகவும் சிறிய பரப்பளவு கொண்ட சிங்கப்பூர், தென்கிழக்காசியாவில் மிகச் சிறிய நாடாகும்.', 'இருப்பினும் விடுதலைக்குப் பின், அந்த நாட்டில் பல்வேறு பொருளாதார மாற்றங்கள் ஏற்பட்டன.', 'சிங்கப்பூர் அரசு தன் உள்கட்டுமானத்தைத் தரப்படுத்திக் கொண்டதால், சிங்கப்பூர் மக்களின் வாழ்க்கைத் தரம் பன்மடங்கு உயர்ந்துள்ளது.', 'சிங்கப்பூர், சிங்கம் + ஊர் = சிங்கப்பூர்; அதாவது சிங்கத்தின் ஊர் என்ற தமிழ் பொருளைக் கொண்டது.', 'சிங்கப்பூர் என்ற பெயர் சிங்கப்பூரா என்ற மலாய்ச் சொல்லில் இருந்து மருவியதாகவும் கூறப்படுகிறது.', 'மலாய் சொற்களான சிங்கா (சிங்கம்); மற்றும் பூரா (ஊர்) சேர்ந்து சிங்கப்பூரா என்று அழைக்கப்படுகிறது.', 'மலாய் வரலாற்றின்படி 14-ஆம் நூற்றாண்டு சுமாத்திரா மலாய் இளவரசர் நீல உத்தமன், ஒரு கடும் புயலின் போது இந்தத் தீவில் ஒதுங்கினார்.', 'அப்போது அவர் சிங்கம்போல ஒரு மிருகத்தைப் பார்த்து, சிங்கம் என்று தவறுதலாக நினைத்துக் கொண்டு சிங்கபூரா என்று அழைத்ததாக ஒரு வரலாற்றுக் கதை உண்டு.', 'சிங்கப்பூரின் காலனித்துவ ஆட்சிக்கு முந்தைய வரலாறு 14-ஆம் நூற்றாண்டில் தொடங்குகிறது.', 'அதற்கு முன் சிங்கப்பூரும் மலேசியாவும் கடாரம் கொண்ட சோழ மண்டலத்தின் ஆட்சிக்கு உட்பட்டு இருக்கலாம் என்று தமிழ்நாட்டின் வரலாறு காட்டுகிறது.', '14-ஆம் நூற்றாண்டில் அது துமாசிக் என்ற பெயர் கொண்ட நகரமாகக் காட்சி அளித்தது.', 'அது சுமாத்திராவில் இயங்கிய ஸ்ரீ விஜயப் பேரரசின் ஆட்சிக்கு உட்பட்டது.', 'சிங்கை தீவில் ஒரு நகரம் இருந்தது என்றும் அந்த நகரம் தென்கிழக்காசியாவில் ஒரு முக்கிய வர்த்தக மையமாக விளங்கியது என்றும் மலாய் மக்களின் வரலாறு கூறுகிறது.', 'ஸ்ரீவிஜய பேரரசு மறைந்த பிறகு, துமாசிக் மற்ற அரசுகளால் தாக்கப்பட்டது.', 'ஜாவாவில் இருந்த மயாபாகித் பேரரசு, தாய்லாந்தில் இயங்கிய அயூத்தியா அரசு போன்றவை அந்த நகரை தம் ஆட்சிக்குள் கொண்டு வர முயன்றன.', 'தாய்லாந்தின் அயூத்தியா அரசு குறைந்தது ஒரு முறை, துமாசிக் தீவைப் பெரிய அளவில் தாக்க முயன்று தோல்வி அடைந்தது என்று வரலாறு காட்டுகிறது.', 'அந்தக் கட்டத்தில் தான், அதாவது 15-ஆம் நூற்றாண்டின் தொடக்கக் கட்டத்தில், துமாசிக் நகருக்கு சிங்கப்பூரா எனும் புதிய பெயர் சூட்டப்பட்டது.', '1819-ஆம் ஆண்டு ஜனவரி 29-ஆம் நாள், சர் தாமஸ் ஸ்டாம்பர்ட் ராபிள்ஸ் என்பவர் தீபகற்ப மலேசியாவின் பெருநிலப் பகுதியில் தரை இறங்கினார்.', 'இந்தப் பகுதியின் புவியியல் அமைவிட முக்கியத்துவத்தை உணர்ந்து கொண்ட அவர், பிரித்தானியக் கிழக்கிந்திய நிறுவனம் சார்பில் வணிக நிலையம் ஒன்றை அமைக்க விரும்பினார்.', 'அந்த வகையில் 1819 பெப்ரவரி மாதம் 6-ஆம் தேதி ஜொகூர் சுல்தானகத்தின் மன்னராக இருந்த சுல்தான் உசேன் ஷா (   ) என்பவருடன் ஓர் ஒப்பந்தம் செய்து கொண்டார்.', 'அந்த ஒப்பந்தப்படி சிங்கப்பூரின் தெற்குப் பகுதியில் வணிக நிலையம் ஒன்றையும்; குடியேற்றம் ஒன்றையும் அமைக்கும் உரிமையைப் பிரித்தானிய கிழக்கிந்தியக் கம்பனி பெற்றுக் கொண்டது.', 'இருப்பினும் ஆகஸ்டு 1824-ஆம் ஆண்டு வரை சிங்கப்பூர் மலாய் ஆட்சியாளரின் ஆளுகைக்கு உட்பட்ட பகுதியாகவே இருந்தது.', 'ஆகஸ்டு 1824-இல் சிங்கப்பூர் முழுத் தீவையும் பிரித்தானியா தன்னுடைய கட்டுப்பாட்டுக்குள் கொண்டு வந்தது.', 'அதன் பின்னர் சிங்கப்பூர், ஒரு பிரித்தானியக் குடியேற்றநாடு எனும் தகுதியைப் பெற்றது.', 'அந்தக் கட்டத்தில், சிங்கப்பூரில் இருந்த இரண்டாம் நிலை அதிகாரியான ஜான் குரோபுர்ட் ( ) என்பவரே சிங்கப்பூரைப் பிரித்தானியாவுக்கு உரியதாக்கியவர்.', 'இவர் 1824 ஆகஸ்ட் 2-ஆம் தேதி சுல்தான் உசேன் ஷாவுடன் ஒப்பந்தம் ஒன்றைச் செய்தார்.', 'இதன் அடிப்படையில் சுல்தான் உசேன் ஷா, சிங்கப்பூர் தீவு முழுவதையும் பிரித்தானியாவுக்கு வழங்கினார்.', 'இதுவே நவீன சிங்கப்பூரின் தொடக்கம் எனலாம்.', '[4]\\nராபிள்சின் உதவி அதிகாரியான வில்லியம் பர்குவார் ( ) சிங்கப்பூரின் வளர்ச்சியையும், பல்லின மக்களின் உள்வருகையையும் ஊக்கப் படுத்தினார்.', 'இந்த உள்வருகை கட்டுப்பாடற்ற குடியேற்றக் கொள்கையின் காரணமாக ஏற்பட்டது.', '1856-ஆம் ஆண்டிலிருந்து பிரித்தானிய இந்திய அலுவலகம் சிங்கப்பூரை ஆட்சி செய்தது.', 'ஆனால் 1867-ஆம் ஆண்டில், சிங்கப்பூர், மக்கள் பிரித்தானியாவின் முடிக்குரிய குடியேற்ற நாடாக, பிரித்தானிய அரசரின் நேரடி ஆட்சியின்கீழ் கொண்டு வரப்பட்டது.', '1869-ஆம் ஆண்டில் சுமார் 100,000 மக்கள் சிங்கப்பூர் தீவில் வாழ்ந்தனர்.', 'சிங்கப்பூரின் முதலாவது நகரத் திட்டமிடல் முயற்சி என்பது ஒரு பிரித்தாளும் உத்தியாகவே மேற்கொள்ளப்பட்டது.', 'இத்திட்டப்படி தீவின் தெற்கு பகுதியில் வெவ்வேறு இன மக்கள் தனித்தனிப் பகுதிகளில் குடியேற்றப்பட்டனர்.', 'சிங்கப்பூர் ஆற்றுப் பகுதி, பல்வேறு இனக் குழுக்களைச் சேர்ந்த வணிகர்களும், வங்கியாளர்களும் நிறைந்த பகுதியாக விளங்கியது.', 'சீன, இந்தியக் கூலித் தொழிலாளர்கள் படகுகளில் பொருட்களை ஏற்றி இறக்கும் வேலைகள் செய்து வந்தனர்.', 'மலாய் மக்கள்கள் பெரும்பாலும் மீனவர்களாகவும், கடலோடிகளாகவும் இருந்தனர்.', '[5]\\nஅராபிய வணிகரும், அறிஞர்களும் ஆற்றுக் கழிமுகத்தின் தென்கிழக்குப் பகுதியில் வாழ்ந்தனர்.', 'அக்காலத்தில் மிகவும் குறைவாகவே இருந்த ஐரோப்பியக் குடியேற்றக்காரர்கள் கெனிங் மலைக் கோட்டைப் பகுதியிலும் (  ), ஆற்றின் மேல் பகுதிகளிலும் வாழ்ந்தனர்.', 'ஐரோப்பியரைப் போலவே இந்தியர்களும் தீவின் உட்பகுதியிலேயே குடியேறினர்.', 'அந்த இடம் தற்சமயம், சின்ன இந்தியா ( ) என்று அழைக்கப்படுகிறது.', '1960-களில் பெரும் அளவிலான மீள்குடியெற்ற நடவடிக்கைகள் தான் இப்போது அறியப்படுகிறது.', 'தவிர, அக்காலத்தின் நாட்டுப்புறத் தனியார் குடியேற்றங்கள்பற்றி மிகக் குறைவாகவே தெரிய வருகிறது.', 'பினாங்கு, மலாக்கா ஆகிய நகரங்களுடன் சிங்கப்பூர் நீரிணைக் குடியேற்றங்களின் ( ) ஒரு பாகமாக இருந்தது.', 'சப்பானியருடைய எழுச்சிக்குப் பல ஆண்டுகளுக்கு முன்னரே அவர்கள் வேகமாகத் தமது படைகளைப் பெருக்கி வருவதைப் பிரித்தானியா அறிந்திருந்தது.', 'தென்கிழக்காசியாவில் இருந்த தமது சொத்துக்களைப் பாதுகாப்பதற்காகச் சிங்கப்பூரின் வட முனையில் கடற்படைத் தளம் ஒன்றை அமைப்பதற்குப் பிரித்தானியா முடிவு செய்திருந்தது.', 'ஆனால் ஜெர்மனியுடன் ஏற்பட்ட போரினால் போர்க் கப்பல்களையும், தளவாடங்களையும் ஐரோப்பாவுக்குக் கொண்டு வரவேண்டி இருந்ததனால் அந்தத் திட்டம் நிறைவேறவில்லை.', 'இரண்டாம் உலகப் போரின் போது சப்பானியப் படைகள் (ஜப்பானியப் படைகள்) மலாயாவைக் கைப்பற்றிக் கொண்டன.', 'ஜப்பானியப் படைகள் சிங்கப்பூரைத் தாக்கியபோது, சிங்கப்பூர் பிரித்தானிய அரசாங்கம், பெரும்பாலான தம் படைகளை ஐரோப்பாவுக்கு அனுப்பிவிட்டுக் குறைந்த படைபலத்துடன் இருந்தது.', 'அதனால் பிரித்தானியர் 6 நாட்களில் தோல்வி அடைந்தது.', 'அத்துடன், புகமுடியாத கோட்டை என்று சொல்லப்பட்ட சிங்கப்பூரையும் 1942 பெப்ரவரி 15-ஆம் தேதி சப்பானியத் தளபதி தோமோயுகி யமாசிதாவிடம் ( ) ஒப்படைத்துச் சரண் அடைந்தது.', 'இந்தத் தோல்வியை \"பெரும் இழப்பு\" என்றும் \"பிரித்தானிய வரலாற்றில் மிகப்பெரிய சரணாகதி\" என்றும் அப்போதைய பிரித்தானியப் பிரதமர் வின்ஸ்டன் சர்ச்சில் குறிப்பிட்டார்.', 'சிங்கப்பூரின் கடற்படைத் தளத்தைச் சப்பானியர் பயன்படுத்தாமல் இருப்பதற்காக, அந்தத் தளம் சப்பானியரிடம் வீழ்ச்சி அடையும் முன்பே அழிக்கப்பட்டுவிட்டது.', 'சிங்கப்பூரின் பெயரை \"ஷோவாவின் காலத்தில் பெறப்பட்ட தெற்குத் தீவு\" என்னும் சப்பானியத் தொடரைச் சுருக்கி \"ஷொனான்டோ\" என சப்பானியர் மாற்றினர்.', 'உலகப் போரில் சப்பானியர் தோல்வியுற்ற ஒரு மாதத்திற்குப் பின்னர் 1945-ஆம் ஆண்டு செப்டம்பர் மாதம் 12-ஆம் தேதி சிங்கப்பூர் மீண்டும் பிரித்தானியரின் ஆட்சியின் கீழ் கொண்டு வரப்பட்டது.', '1959-ஆம் ஆண்டில் சிங்கப்பூர், பிரித்தானியப் பேரரசினுள் ஒரு தன்னாட்சி பெற்ற நாடானது.', 'யூசோப் பின் இசாக் (  ) என்பவர் நாட்டுத் தலைவராகவும், லீ குவான் யூ (  ) பிரதமராகவும் ஆயினர்.', '1963 ஆகஸ்டில் சிங்கப்பூர் ஒருதலைப் பட்சமாகத் தன்னை முழு விடுதலை பெற்ற நாடாக அறிவித்துக் கொண்டது.', '1963-ஆம் ஆண்டு செப்டம்பர் மாதம் மலாயா, சபா, சரவாக் ஆகியவற்றுடன் சேர்ந்து மலேசியா எனும் மலேசியக் கூட்டமைப்பை உருவாக்கியது.', 'இரண்டு ஆண்டுகள் கழித்து, 1965-ஆம் ஆண்டில்  சிங்கப்பூரில் ஆட்சியில் இருந்த மக்கள் செயல் கட்சிக்கும்; கோலாலம்பூரில் இருந்த மத்திய அரசுக்கும் இடையில் கொள்கை வேறுபாடுகள் ஏற்பட்டன.', 'அவற்றின் காரணமாக, அதே 1965-ஆம் ஆண்டு ஆகஸ்ட் 9-ஆம் தேதி, மலேசியக் கூட்டமைப்பில் இருந்து சிங்கப்பூர், விலகி இறைமையுள்ள ஒரு நாடானது.', 'யூசோப் பின் இசாக் சிங்கப்பூரின் முதலாவது தலைவர் ஆனார்.', 'லீ குவான் யூ பிரதமராகத் தொடர்ந்தார்.', 'சிங்கப்பூர் தன்னிறைவு பெற முயன்ற வேளையில், மலேசியக் கூட்டமைப்பில் இருந்து விலக வேண்டிய இக்கட்டான நிலைமை.', 'அந்தக் கட்டத்தில் சிங்கப்பூரில் பெருமளவிலான வேலையில்லாமை, வீடு மனைகள் பற்றாக்குறை, நிலம் மற்றும் இயற்கை வளப் பற்றாக்குறை அதிகமாக இருந்தன.', 'இவ்வாறான பெரும் பிரச்சினைகளை எதிர் நோக்க வேண்டியிருந்தது.', 'லீ குவான் யூ பிரதமராக இருந்த, 1959 தொடக்கம் 1990 வரையான காலப் பகுதியில் பரவலான வேலையில்லாப் பிரச்சினைகள் சமாளிக்கப்பட்டன.', 'மக்களின் வாழ்க்கைத் தரம் உயர்த்தப் பட்டது.', 'பெருமளவிலான வீடமைப்புத் திட்டங்கள் அமைக்கப்பட்டன.', 'இந்தக் காலத்திலேயே நாட்டின் பொருளாதார உள் கட்டமைப்புகள் வளர்ச்சி அடைந்தன; இன முரண்பாடுகள் கட்டுக்குள் கொண்டு வரப்பட்டன; ஆண்களுக்கான கட்டாய படைத்துறைச் சேவையை அடிப்படையாகக் கொண்ட ஒரு சுதந்திரமான தேசியப் பாதுகாப்பு முறை உருவாக்கப்பட்டது.', 'அதனைத் தொடர்ந்து சிங்கப்பூர் உலகிலேயே செல்வம் நிறைந்த நாடுகளில் ஒன்றாக மாறியது.', 'அதன் ஆள்வீத மொத்த தேசிய உற்பத்தி, ஐரோப்பிய நாடுகள் பலவற்றைவிட அதிகமாக இருக்கிறது.', 'சிங்கப்பூரின் துறைமுகம் உலகில் அதிக வர்த்தகக் கப்பல்களைக் காணும் துறைமுகங்களில் ஒன்றாக உள்ளது.', 'சிங்கப்பூர் 63 தீவுகளை உடையது, இதில் பெரிய முதன்மை தீவு சிங்கப்பூர் தீவென அழைக்கப்படுகிறது [6].', 'மலேசியாவின் ஜொகூர் மாநிலத்துடன் இரண்டு சாலைகளால் இணைக்கப்பட்டுள்ளது.', 'வடக்கில் உள்ள இணைப்பு சாலைக்குப் பெயர் ஜொகூர்-சிங்கப்பூர் காசுவல் வே, மேற்கில் உள்ள இணைப்பு சாலைக்கு டுவசு என்று பெயர்.', 'சந்தோசா, புளாவ் மேகோங்ர புளாவ் யுபின், ஜூராங் தீவு ஆகியவை மற்ற குறிப்பிடதக்க தீவுகள் ஆகும்.', 'கடலிலிருந்து நிலத்தை மீட்கும் திட்டம் செயலில் உள்ளது.', 'கிமீ (224.5 சதுர மைல்) இருந்த நிலப்பரப்பு தற்போது் 704 ச. கிமீ (272 சதுர மைல்) ஆக உள்ளது.', '2030ம் ஆண்டில் மேலும் 100 ச. கிமீ நிலம் மீட்கப்பட்டுவிடுமென எதிர்பார்க்கப்படுகிறது [7].', 'சில நிலமீட்பு திட்டங்களில் சிறிய தீவுகள் ஒன்றிணைக்கப்பட்டு பெரிய தீவு உருவாக்கப்படுகின்றன.', 'நகரமயமாக்கல் பெரும்பாலான முதன்மை மழைக்காடுகளை அழித்துவிட்டாலும் 5% நிலமானது இயற்கை காடுகளாகப் பாதுகாக்கப்படுகிறது [8].', 'புகிட் திமா என்பது குறிப்பிடத்தகுந்த அழிக்கப்படாத காடாகும்.', 'சிங்கப்பூர் அயனமண்டல தட்பவெப்பநிலை உள்ள நாடாகும்.', 'ஆண்டு முழுவதும் வெப்பநிலையில் பெரிய மாறுதல்கள் இருக்காது.', 'அதிகளவு ஈரப்பதம், மழைப்பொழிவு இருக்கும்.', 'இந்தோனேசியாவில் காடுகளை எரிப்பதால் இங்கு வானம் மங்கலாக மூட்டத்துடன் காணப்படும்.', 'விடுதலைக்கு முன்பு இப்பகுதியிலிருந்த பிரித்தானிய குடியிருப்புக்களின் தலைநகராகச் சிங்கப்பூர் விளங்கியது.', 'பிரித்தானியரின் முதன்மை கடற்படை தளமாகக் கிழக்காசியாவில் இது விளங்கியது.', 'பிரித்தானியாவின் கடற்படை தளமாக இருப்பதால் சிங்கப்பூரில் உலகின் பெரிய உலர் கப்பல் பராமரிக்கும் களம் இருந்தது.', 'சிங்கப்பூர் கிழக்கின் ஜிப்ரால்ட்டர் என்று அழைக்கப்பட்டது.', 'சுயஸ் கால்வாய் திறந்ததால் உலக வணிகத்தில் பெரிய வளர்ச்சி ஏற்பட்டது.', 'அதனால் சிங்கப்பூர் வணிகத்தின் முதன்மை வழியாக விளங்கியது.', 'அதன் காரணமாகச் சிங்கப்பூர் துறைமுகம் உலகின் பெரிய துறைமுகமாக மாறியது.', 'விடுதலைக்கு முன்பு சிங்கப்பூரின் மொத்த உள்நாட்டு உற்பத்தி நபர் ஒன்றுக்கு 511 டாலராக இருந்தது.', 'இது அப்போது கிழக்காசியாவில் மூன்றாவது உயர்வான நிலையாகும்.', 'விடுதலைக்கு பின்பு அன்னிய நேரடி முதலீடு மற்றும் சிங்கப்பூர் முன்னெடுத்த தொழிற்புரட்சிக்கான வழிகளும் அந்நாட்டை புதிய பொருளாதார நாடாக மாற்றியது.', 'தற்போதைய சிங்கப்பூர் சந்தை பொருளாதாரத்தின் மூலம் மிகவும் முன்னேற்றமடைந்துள்ளது.', 'சிங்கப்பூரின் பொருளாதாரம் முதலீட்டாளர்க்கு உகந்ததாகவும் வணிக கட்டுப்பாடுகள் குறைந்ததாகவும் உள்ளது.', 'இது உலகின் ஊழல் குறைந்த நாடுகளில் ஒன்று.', 'சிங்கப்பூர் உலகின் 14வது பெரிய ஏற்றுமதியாளராகவும் 15வது பெரிய இறக்குமதியாளராகவும் உள்ளது.', 'இசுடாண்டர்ட் அண்ட் புவர்சு, மூடிசு, பிட்ச் ஆகிய மூன்று கடன் மதிப்பீடு நிறுவனங்களின் நாணயநிலை மதிப்பீட்டில் ஆசியாவில் சிங்கப்பூர் மட்டுமே உயர் மதிப்பீடு () பெற்ற நாடாகும் [11][12].', 'ஐக்கிய அமெரிக்கா, நிப்பான், ஐரோப்பா ஆகியவற்றின் 7,000க்கும் மேற்பட்ட பன்னாட்டு நிறுவனங்களின் கிளைகள் இங்குள்ளன.', '1500 சீன, இந்திய நிறுவனங்களின் கிளைகள் இங்குள்ளன.', 'இங்குள்ள அனைத்து துறைகளிலும் வெளிநாட்டு நிறுவனங்கள் ஈடுபட்டுள்ளன.', 'இந்தியாவின் இரண்டாவது பெரிய அன்னிய முதலீட்டாளர் சிங்கப்பூராகும் [13].', 'சிங்கப்பூரின் தொழிலாளர்களில் கிட்டதட்ட 44 விழுக்காட்டினர் சிங்கப்பூர் குடிமக்கள் அல்லாத வெளிநாட்டினராகும்[14].', 'சிங்கப்பூர் பத்தாவது பெரிய வெளிநாட்டு நிதியிருப்பை கொண்டுள்ள நாடாகும்[15][16].', 'சிங்கப்பூரின் நாணயம் சிங்கப்பூர் வெள்ளியாகும், இதை வெளியிடுவது சிங்கப்பூர் பண அதிகார அமைப்பாகும்.', 'சிங்கப்பூர் வெள்ளியை புருனை வெள்ளியுடன் பரிமாற்றிக்கொள்ளலாம் [17].', 'சிங்கப்பூர் பொருளாதாராம் ஏற்றுமதியையே பெரிதும் நம்பி உள்ளது.', 'இயந்திர பொறியியல் துறை, உயிரிமருத்துவ அறிவியல் துறை, வேதிப்பொருட்கள், மின்னனு பொருட்கள் போன்றவை ஏற்றுமதியில் பெரும் பங்கு வகிக்கின்றன.', 'சிறிய நாடாக இருந்தபோதிலும் சிங்கப்பூர் பன்முகத்தன்மை வாய்ந்த பொருளாதாரத்தை கொண்டுள்ளது.', 'இந்த உத்தியால் ஏதாவது ஒரு துறையில் பாதிப்பு ஏற்பட்டாலும் அது நாட்டின் வளர்ச்சியையும் நிலைத்தன்மையையும் பாதிக்காதென அரசு கருதுகிறது[18].', 'இதன் பொருளாதாரத்தில் சுற்றுலாத் துறையும் பெரும்பங்கு வகிக்கிறது.', '2007ஆம் ஆண்டு 10.2 மில்லியன் சுற்றுலாப் பயணிகள் வருகைபுரிந்தார்கள் [19].', 'சுற்றுலாப் பயணிகளை ஈர்ப்பதற்கு சூதாட்ட இடங்களை 2005ல் அரசு அனுமதித்தது.', 'மருத்துவ சுற்றுலாவின் மையமாகத் தன்னை மேம்படுத்தும் முயற்சியில் சிங்கப்பூர் தீவிரமாக உள்ளது.', 'ஒவ்வொரு ஆண்டும் ஏறத்தாழ 200,000 வெளிநாட்டவர்கள் மருத்துவ சிகிச்சை பெறுவதற்காகச் சிங்கப்பூர் வருகிறார்கள்.', '2012ல் ஒரு மில்லியன் மருத்துவ சுற்றுலாப் பயணிகளுக்கு மருத்துவம் பார்த்து 3 பில்லியன் அமெரிக்க வெள்ளியை வருமானமாகப் பெற அரசு குறிக்கோள் கொண்டுள்ளது [20].', 'சிங்கப்பூர் கல்வி மையமாகவும் திகழ்கிறது.', '2006ல் 80,000க்கும் அதிகமான வெளிநாட்டு மாணவர்கள் இங்கு படித்தார்கள்[21] .', '5,000க்கும் அதிகமான மலேசிய மாணவர்கள் தினமும் ஜொகூர்-சிங்கப்பூர் காசுவல் வே வழியாகத் தினமும் வந்து படித்துச் செல்கிறார்கள்.', '2009ல் சிங்கப்பூர் பல்கலைக்கழகங்களில் 20% வெளிநாட்டு மாணவர்கள் படித்தார்கள்.', 'வெளிநாட்டு மாணவர்களில் பெரும்பாலோர் தென்கிழக்காசியா, சீனா, இந்தியாவைச் சார்ந்தவர்கள் [22]\\n.', 'சிங்கப்பூர் உலகின் நான்காவது முன்னணி நிதி மையமாகவும்[23], சூதாட்டத்திற்கான இரண்டாவது பெரிய சந்தையாகவும் திகழ்கிறது.', 'அதிக பொருட்களைக் கையாளும் உலகின் முன்னணித் துறைமுகங்களில் சிங்கப்பூர் துறைமுகமும் ஒன்றாகும்.', 'உலக வங்கி வணிகம் செய்வதற்கு கட்டுப்பாடுகள் மிகக்குறைந்த இடம் எனச் சிங்கப்பூரைத் தெரிவு செய்துள்ளது இதைச் சிறந்த தளவாடங்கள் மையம் எனவும் வரிசை படுத்தியுள்ளது.', 'இலண்டன், நியு யார்க், டோக்கியோவிற்கு அடுத்து சிங்கப்பூர் நான்காவது பெரிய வெளிநாட்டு நாணய பரிமாற்ற மையமாகும்.', '[24]\\n2001ல் ஏற்பட்ட உலகப் பொருளாதார மந்தநிலை காரணமாகச் சிங்கப்பூரின் மொத்த உள்நாட்டு உற்பத்தி 2.2% குறைந்தது.', 'இதனால் 2001 டிசம்பரில் பொருளாதார மீளாய்வு ஆணையம் ஏற்படுத்தப்பட்டு அது பொருளாதாரத்தைச் சீரமைக்க பல்வேறு கொள்கைகளைப் பரிந்துரைத்தது.', 'உலக பொருளாதாரத்தில் ஏற்பட்ட வளர்ச்சியால் சிங்கப்பூர் மந்தநலையிலிருந்து மீண்டது.', '2004ல் 8.3விழுக்காடு 2005ல் 6.4 விழுக்காடு வளர்ச்சி ஏற்பட்டது[25], 2006ல் 7.9 விழுக்காடு வளர்ச்சி ஏற்பட்டது[26].', '2009ல் 0.8 விழுக்காடு வளர்ச்சி குறைந்து 2010ல் பொருளாதாரம் மீண்டு 14.5 விழுக்காடு வளர்ச்சி ஏற்பட்டது[27].', 'சேவைத் துறையிலேயே பெரும்பாலானவர்கள் வேலை செய்கிறார்கள்.', 'டிசம்பர் 2010 கணக்குப்படி 3,102,500 பணியிடங்களிலில் 2,151,400 பணியிடங்கள் சேவைத் துறையைச் சார்ந்தது ஆகும்.', '15 வயதுக்கு மேற்பட்டவர்களில் வேலை வாய்ப்பில்லாமல் இருப்பவர்கள் 2 விழுக்காடு ஆகும்[28].', 'விழுக்காடு கணக்கில் சிங்கப்பூரிலேயே அதிக மில்லியனர்கள் உள்ளனர்.', 'ஆறு வீட்டுகளில் ஒரு வீடு நிலம், வணிகம், வீடு, ஆடம்பர பொருட்கள் இல்லாமல் மில்லியன் அமெரிக்க வெள்ளியை கொண்டுள்ளது.', 'சிங்கப்பூரில் நிலத்தின் மதிப்பு மிகவும் அதிகமாகும்[29].', 'பொருளாதார நிலையில் முன்னேற்றம் அடைந்த நாடாக இருந்த போதிலும் இங்கு குறைந்தபட்ச ஊதியம் என்பது தீர்மானிக்கப்படவில்லை.', 'முன்னேற்றமடைந்த நாடுகளில் இங்கு ஊதிய ஏற்றத்தாழ்வு மிக அதிகம் [30][31].', 'சிங்கப்பூர் பண்பாடு ஒரு கலப்புப் பண்பாடு.', 'மலாய் மக்கள், தமிழர், சீனர், அரபு நாட்டினரின் பண்பாடுகள் பின்பற்றப்படுகின்றன.', 'சிங்கப்பூரின் வெற்றிக்கும் அதன் தனித்துவத்துக்கும் சமய, இன நல்லுறவு அரசாங்கத்தில் முக்கிய காரணமாக அதன் சமய, இன நல்லுறவுக் கொள்கை முக்கிய பங்கு வகிக்கிறது.', 'மேலும் நாட்டின் மொத்தச் மக்கள்தொகையில் 42 விழுக்காடு வெளிநாட்டினராக உள்ளனர்.', 'அவர்கள் சிங்கப்பூரின் கலாசாரத்தில் பாரிய செல்வாக்குச் செலுத்துகின்றனர்.', 'பிரபலமான விளையாட்டுக்களாகக் கால்பந்து, கூடைப்பந்து, துடுப்பாட்டம், நீச்சல், படகோட்டம், மேசைப்பந்து, பூப்பந்து என்பன காணப்படுகின்றன.', 'பெரும்பாலான சிங்கப்பூரியர்கள் பொது நீச்சல் குளங்கள், வெளிப்புற கூடைப்பந்தாட்ட திடல்கள், உள்ளரங்க விளையாட்டு வளாகங்கள் போன்ற வசதிகளை அருகில் கொண்ட பொது குடியிருப்பு பகுதிகளில் வாழ்கின்றனர்.', 'தண்ணீர் விளையாட்டுக்களான படகோட்டம், கயாகிங், நீர் சறுக்கு போன்றவை பிரபலமாக உள்ளன.', 'இசுகூபா டைவிங் மற்றொரு பிரபலமான உற்சாக விளையாட்டாக இருக்கிறது.', '1994 இல் உருவாக்கப்பட்ட சிங்கப்பூர் கால்பந்து லீக்,[32] தற்போது வெளிநாட்டு அணிகள் உட்பட 12 கழகங்களைக் கொண்டுள்ளது.', '[33] முன்னாள் ஆஸ்திரேலிய தேசிய கூடைப்பந்து லீக் எனப்படும் சிங்கப்பூர் சிலிங்கர்சு அக்டோபர் 2009 இல் நிறுவப்பட்ட ஆசியான் கூடைப்பந்து லீக்கில் உள்ள தொடக்க அணிகளில் ஒன்றாகும்.', '[34]\\nஆங்கிலம், சீனம், மலாய், தமிழ் ஆகிய மொழிகளில் தொலைக்காட்சியும், வானொலியும், செய்தித்தாள்களும் உள்ளன.', 'வசந்தம் என்பது தமிழ் தொலைக்காட்சியாகும்.', 'ஒலி என்பது தமிழ் வானொலி, தமிழ்முரசு என்பது செய்திதாள் ஆகும்.', 'மீடியாகார்ப் என்ற நிறுவனம் பெரும்பாலான தொலைக்காட்சி, வானொலி நிலையங்களை நடத்துகிறது.', 'இது அரசு முதலீட்டு அமைப்புக்குச் சொந்தமானதாகும்.', 'சிங்கப்பூர் பிரசு கோல்டிங்சு என்பது செய்தித்தாள்களைக் கட்டுப்படுத்தும் அமைப்பாகும்.', 'தமிழ்முரசை இவ்வமைப்பே நடத்துகிறது.', 'சிங்கப்பூரில் ஊடக சுதந்திரம் குறைவு.', 'சிங்கப்பூரில் 3.4 மில்லியன் இணைய பயனாளிகள் உள்ளனர்.', 'இது உலகளவில் அதிகமாகும்.', 'இணையத்திற்கு அதிக கட்டுப்பாடுகளை அரசு விதிக்கவில்லை[35].', 'சில நூறு (பெரும்பாலும் ஆபாச தளங்கள்) இணைய தளங்களைத் தடை செய்துள்ளது[36].', 'இத்தடை வீட்டு இணைப்புகளுக்கு மட்டுமே; அலுவலக இணைய இணைப்புகளுக்குத் தடை இல்லை[37].', '2011ம் ஆண்டின்படி சிங்கப்பூரின் மக்கள் தொகை 5.18 மில்லியன் ஆகும்.', 'இதில் 3.25 மில்லியன்(64%) மக்கள் சிங்கப்பூர் நாட்டின் குடியுரிமம் பெற்றவர்கள்.', 'மேலும் உலகளவில் ஒரு நாட்டின் சனத்தொகையில் அதிக வெளிநாட்டினரைக் கொண்ட நாடுகளில் 6ம் இடத்தை வகிக்கிறது.', 'இவர்கள் தொழிலாளர்களாகக் காணப்படுகின்றனர்.', '2009 கணக்கெடுப்பின்படி சீனர்கள் 74.2%மாகவும், மலாயர் 13.4%மாகவும், இந்தியர் 9.2%மாகவும் உள்ளனர்.', '[38]\\n2010ம் ஆண்டுக்கு முன்பு சிங்கப்பூர் மக்கள் தங்களை ஏதாவது ஒரு இனத்தை சார்ந்தவர்களாகத் தான் குறிப்பிடமுடியும்.', 'இயல்பாகத் தந்தையின் இனத்தையே மகன் அல்லது மகள் சார்ந்ததாக அரசு பதிவேட்டில் குறிப்பிடப்படும்.', 'இதனால் அரசு கணக்கின் படி பல்லின கலப்பு மக்கள் இல்லை என்றே இருக்கும்.', '2010க்கு பின்பு இரு இனங்களை சார்ந்தவர் எனப் பதிவு செய்யும் முறை நடைமுறைக்கு வந்தது.', '[39] 1000 மக்களுக்கு 1400 அலைபேசிகள் உள்ளன.', 'நிலப்பற்றாக்குறையால் அரசு நிதியுதவி பெற்ற, அடுக்கு மாடி வீட்டு மனைகளை வீட்டுவசதி வாரியத்தின் மூலம் மக்களுக்கு வழங்குகிறது.', 'குழந்தை பிறப்பு குறைவாக உள்ள நாடுகளில் சிங்கப்பூரும் ஒன்று.', 'சிங்கப்பூர் பல மதங்கள் கொண்ட ஒரு நாடு.', '33% சிங்கப்பூர்வாசிகள் பௌத்தத்தையும், 18% மக்கள் கிறித்துவத்தையும் பின்பற்றுகின்றனர்.', 'எந்த மதமும் சாராதவர்கள் 17% உள்ளனர்.', '15% மக்கள் இசுலாம் மதத்தினைப் பின்பற்றுகின்றனர்.', 'இசுலாமை பின்பற்றுபவர்கள் பெரும்பாலும் மலாய் மக்கள் ஆவர்.', 'டாவோயிசத்தை 11% மக்கள் பின்பற்றுகின்றனர்.', 'சிறுபான்மை மக்கள் பலர் இந்து சமயத்தையும், சீக்கிய சமயத்தையும் பின்பற்றுகின்றனர்.', 'பௌத்த சமயத்தையும் டாவோயிசத்தையும் பெரும்பாலும் சீனர்களே பின்பற்றுகின்றனர்.', 'இந்து சமயத்தைப் பின்பற்றுபவர்களில் பெரும்பாலோர் இந்தியர் ஆவர்.', 'பௌத்தத்தின் மூன்று பிரிவுகளான மகாயாணம், வஜ்ராயணம், தேரவாததிற்கு இங்கு மடங்கள் உண்டு.', 'பெரும்பாலோர் மகாயாணத்தை பின்பற்றுகின்றனர் [41].', 'சீன மகாயாணமே இங்கு பெரும்பாலானவர்களால் பின்பற்றப்படுகிறது.', 'ஆங்கிலம், மாண்டரின், மலாய், தமிழ் ஆகியவை சிங்கப்பூர் அரசின் ஏற்புடைய மொழிகளாகும்.', '[42] சிங்கப்பூர் விடுதலை அடைந்தது முதல் ஆட்சி மொழியாக ஆங்கிலம் வளர்க்கப்பட்டுள்ளது.', 'சிங்கப்பூரர்களில் சுமார் 100,000 பேர் அல்லது 3 விழுக்காட்டினர் தமிழை தங்கள் சொந்த மொழியாகப் பேசுகின்றனர்.', '[43]\\nசிங்கப்பூரின் தேசிய மொழி மலாய்.', 'சிங்கப்பூரின் தேசிய கீதம் மலாய் மொழியில் இயற்றப்பட்டுள்ளது[44].', 'மலாய் தேசிய மொழியாக இருந்தாலும் நடைமுறையில் ஆங்கிலத்துக்கே அரசு முக்கியத்துவம் கொடுக்கிறது, அண்டை நாடுகளான மலேசியா, இந்தோனேசியா போன்றவற்றில் மலாய் தேசிய மொழியாக உள்ளதால் அண்டை நாடுகளுடன் சச்சரவுகளைத் தவிர்க்க மலாயை தேசிய மொழியாகக் கொண்டுள்ளது [45][46] .', 'அரசாங்கத்தின் அலுவல்கள், வணிகம், கல்வி போன்றவை ஆங்கிலத்திலேயே நடக்கின்றன. [47][48]. சிங்கப்பூரின் அரசியலமைப்பு மற்றும் சட்டங்கள் ஆங்கிலத்திலேயே உள்ளன,[49] .', 'நீதிமன்றத்தின் மொழியாகவும் ஆங்கிலமே உள்ளது.', 'நீதிமன்றத்தில் ஆங்கிலம் அல்லாத மற்ற மொழியில் முறையிட வேண்டும் என்றால் மொழிபெயர்ப்பாளர் தேவை. [50][51]. 20 விழுக்காடு சிங்கப்பூர் மக்களுக்கு ஆங்கிலத்தில் படிக்கவோ எழுதவோ தெரியாது.', '2010ம் ஆண்டு கணக்கின்படி 71 விழுக்காடு மக்களுக்கு இரண்டு அல்லது அதற்கு அதிகமான மொழிகள் தெரியும் [52].', 'சிங்கப்பூரில் பெரும்பான்மை (பாதி மக்கள்) மக்களின் மொழியாக சீனம் உள்ளது.', 'ஆரம்ப, இரண்டாம், மூன்றாம் நிலைக் கல்விக்கு பெரும்பாலும் அரசு துணைபுரிகிறது.', 'அனைத்து தனியார் மற்றும் பொதுக் கல்வி நிறுவனங்களும் கட்டாயமாகக் கல்வி அமைச்சில் பதிவு செய்யப்பட வேண்டும்.', '[53] அரசு பள்ளிகளின் பயிற்று மொழியாக ஆங்கிலம் இருக்கிறது.', '[54] \"தாய் மொழி\" தவிர அனைத்து பாடங்களும் ஆங்கிலத்தில் கற்பிக்கப்படுவதுடன் தேர்வுகளும் ஆங்கிலத்திலேயே நடாத்தப்படுகின்றன.', '[55] அதே சமயம் பொதுவாக \"தாய் மொழி\" சர்வதேச அளவில் முதல் மொழியைக் குறித்தாலும்; சிங்கப்பூர் கல்வி முறையில், இது இரண்டாவது மொழியைக் குறிக்க பயன்படுத்தப்படுகிறது, ஆங்கிலம் முதல் மொழி எனப்படுகிறது.', '[56][57] வெளிநாடுகளில் சிலகாலம் இருந்த மாணவர்கள் அல்லது தங்கள் \"தாய் மொழியைக்\" கற்க சிரமப்படுபவர்களுக்கு ஒரு எளிமையான பாடத்திட்டத்தினை எடுக்க அல்லது பாடத்தைக் கைவிட அனுமதிக்கப்படுகிறது.', '[58][59]\\nகல்வி மூன்று நிலைகளில் நடைபெறுகிறது: அவை \"ஆரம்பக் கல்வி\", \"இடைநிலைக் கல்வி\", \"பல்கலைக்கழகத்திற்கு முந்தைய கல்வி\" என்பனவாகும்.', 'இவற்றில் ஆரம்பக் கல்வி மாத்திரமே கட்டாயமானது, இது மாணவர்களுக்கு நான்கு ஆண்டு அடிப்படைப் பயிற்சியையும் இரு ஆண்டுகள் திசையமைவு பயிற்சியையும் வழங்குகிறது.', 'மொத்தமாக ஆரம்பப் பள்ளி ஆறு ஆண்டுகளாகும்.', 'பாடத்திட்டமானது ஆங்கிலம், தாய்மொழி, கணிதம் ஆகியவற்றிலான அறிவை வளர்ப்பதில் கவனம் செலுத்துகிறது.', '[60] அனைத்து மாணவர்களுக்கும் ஆங்கிலம், தாய்மொழி, கணிதம், அறிவியல் பாடங்கள் கற்பிக்கப்படுகின்றன.', '[61]\\nசிங்கப்பூரின் இரண்டு முக்கிய பொதுப் பல்கலைக்கழகங்களான சிங்கப்பூர் தேசியப் பல்கலைக்கழகம் மற்றும் நன்யாங் தொழில்நுட்பப் பல்கலைக்கழகம் உலகின் சிறந்த 100 பல்கலைக்கழகங்களினுள் அடங்குகிறன.', '[62]\\nசிங்கப்பூர் சிறிய, மக்கள் அடர்த்திமிக்க நாடாகியதால் இங்கு தனியார் மகிழுந்து வைத்துக்கொள்ளப் பல கட்டுப்பாடுகளை அரசு விதித்துள்ளது.', 'இது சாலைகளில் நெரிச்சலை தவிர்க்கவும் மாசுபடுதலை குறைக்கவும் அரசு மேற்கொள்ளும் ஒரு நடவடிக்கையாகும்.', 'மகிழுந்து வாங்க அதன் சந்தை மதிப்பை விட ஒன்றறை மடங்கு சுங்கத்தீர்வை வாங்குபவர் அரசுக்கு செலுத்த வேண்டும்.', 'மேலும் அவர் சிங்கப்பூரின் மகிழுந்து வாங்க உரிய தகுதி சான்றிதழ் () வாங்க வேண்டும்.', 'இச்சான்றிதழ் 10 ஆண்டுகளுக்கு மகிழுந்தை சிங்கப்பூரில் ஓட்ட அனுமதிக்கிறது.', 'இங்கு மகிழுந்தின் விலை அதிகம், சிங்கப்பூர்வாசிகளில் 10க்கு ஒருவர் மகிழுந்து வைத்துள்ளார் [63].', 'தனிப்பட்ட முறையில் மகிழுந்து வைத்துக்கொள்ளப் பல கட்டுப்பாடுகள் இருப்பதாலும் பேருந்து தொடருந்து வசதி நன்றாக இருப்பதாலும் பெரும்பாலான சிங்கப்பூர்வாசிகள் பேருந்து, தொடருந்து, வாடகை மகிழுந்து, மிதிவண்டி மூலம் பயணம் மேற்கொள்கின்றனர். எசு. பி. எசு டிரான்சிட் என்ற நிறுவனம் பேருந்துகளை இயக்குகிறது.', ' எசு. எம். ஆர். டி கழகம் என்ற நிறுவனம் பேருந்துகளையும் தொடருந்துகளையும் இயக்குகிறது.', '12க்கும் மேற்பட்ட நிறுவனங்கள் வாடகை மகிழுந்துகளை இயக்குகின்றன.', '25,000 வாடகை மகிழுந்துகள் சிங்கப்பூரில் உள்ளன.', 'மற்ற முன்னேரிய நாடுகளுடன் ஒப்பிடும் போது வாடகை மகிழுந்துகளின் வாடகை குறைவு, எனவே இவற்றின் பயன்பாடு மக்களிடையே அதிகம் உள்ளது.', '[64]\\nசிங்கப்பூரின் சாலைகளின் மொத்த தொலைவு 3,356 கி.', 'மீட்டர், இதில் 161 கிலோ மீட்டர் விரைவுச் சாலைகளாகும்.', 'உலகின் முதல் நெரிச்சல் கட்டண திட்டமான சிங்கப்பூர் வட்டார உரிம திட்டம் 1975ல் நடைமுறை படுத்தப்பட்டது.', '1998ல் இத்திட்டம் மேம்படுத்தப்பட்டு மின்னனு கட்டண சாலை என்ற பெயரில் செயல்படத் தொடங்கியது.', 'இதன் மூலம் மின்னனுமுறையில் சுங்கம் வசுலித்தல், மின்னனு முறையில் உணர்தல், காணொளிமூலம் கண்காணித்தல் போன்றவை அறிமுகப்படுத்தப்பட்டது.', '[65]\\nஆசியாவில் பன்னாட்டு போக்குவரத்தின் முக்கிய மையமாகச் சிங்கப்பூர் விளங்குகிறது.', '2005ல் சிங்கப்பூர் துறைமுகம் 1.15 மில்லியன் டன் (கப்பலின் மொத்த சுமையளவு) கையாண்டது.', 'சாங்காய் துறைமுகத்துக்கு அடுத்தபடியாக அதிக அளவான சரக்குகளை (423 மில்லியன் டன்) கையாண்டது.', 'கப்பலின் பொருட்களை வேறு கப்பலுக்கு மாற்றும் முதன்மை மையமாகவும் திகழ்கிறது.', 'கப்பல்கள் எரிபொருளை நிரப்பும் மையமாகவும் திகழ்கிறது.', '[66]\\nதென்கிழக்காசியாவின் வானூர்தி மையமாகச் சிங்கப்பூர் விளங்குகிறது.', 'இலண்டனிலிருந்து சிட்னி செல்லும் வானூர்திகள், பயணிகள் இடைத்தங்கும் இடமாகவும் சிங்கப்பூர் விளங்குகிறது [67].', 'சிங்கப்பூரில் 8 வானூர்தி நிலையங்கள் உள்ளன[27].', 'சிங்கப்பூர் சாங்கி வானூர்தி நிலையம் 80 வானூர்தி நிறுவனங்கள் வந்து செல்லும் இடமாக உள்ளது.', 'இவை 68 நாடுகளில் உள்ள 302 நகரங்களை இணைக்கின்றன.', 'சிங்கப்பூர் வான்வழி இந்நாட்டின் தேசிய வானூர்தியாகும்.', '[68]\\n\\nஅபுதாபி (நகரம்), ஐக்கிய அரபு அமீரகம் ()\\nஅமான், ஜோர்தான்\\nஅங்காரா, துருக்கி\\xa08\\nபாக்தாத், ஈராக்\\nபக்கூ, அசர்பைஜான்\\xa08\\nபெய்ரூத், லெபனான்\\nதிமிஷ்கு, சிரியா\\nதோகா, கத்தார்\\nயெரூசலம், இசுரேல் மற்றும் பாலத்தீன அதிகார சபை கோரும் தலைநகர்;6\\xa07\\nகுவைத் நகரம், குவைத்\\nமனாமா, பக்ரைன்\\nமஸ்கட், ஓமான்\\nநிக்கோசியா, சைப்பிரஸ்\\xa07\\nரமல்லா, பாலத்தீன அதிகார சபை நிகழ்நிலை\\nரியாத், சவுதி அரேபியா\\nசனா, யெமன்\\nதிபிலீசி, ஜோர்ஜியா\\xa08\\nதெஹ்ரான், ஈரான்\\nயெரெவான், ஆர்மீனியா\\xa07\\nஅஸ்காபாத், துருக்மெனிஸ்தான்\\nஅஸ்தானா, கசக்ஸ்தான்\\xa08\\nபிசுக்கெக், கிர்கிசுத்தான்\\nதுசான்பே, தஜிகிஸ்தான்\\nதாஷ்கந்து, உசுபெக்கிசுத்தான்\\nடாக்கா, வங்காளதேசம்\\nஇசுலாமாபாத், பாக்கித்தான்\\nகாபூல், ஆப்கானித்தான்\\xa01\\nகாட்மாண்டூ, நேபாளம்\\nகோட்டே, கொழும்பு, இலங்கை\\xa03\\nமாலே, மாலைதீவுகள்\\nபுது தில்லி, இந்தியா\\nதிம்பு, பூட்டான்\\nபெய்ஜிங், சீன மக்கள் குடியரசு\\nபியொங்யாங், வடகொரியா\\nசியோல், தென் கொரியா\\nதைப்பெய், சீனக் குடியரசு ()\\xa02\\nடோக்கியோ, ஜப்பான்\\nஉலான் பாடர், மங்கோலியா\\xa01\\nபண்டர் செரி பெகாவான், புரூணை \\nபேங்காக், தாய்லாந்து\\nடிலி, கிழக்குத் திமோர்\\nஹனோய், வியட்நாம்\\nஜகார்த்தா, இந்தோனேசியா\\nகோலாலம்பூர்\\xa04 மற்றும் புத்ராஜெயா,5 மலேசியா\\nமணிலா, பிலிப்பீன்சு\\nநைப்பியித்தௌ, மியான்மார்\\nபுனோம் பென், கம்போடியா\\nமொரெசுபி துறை, பப்புவா நியூ கினி\\xa09\\nசிங்கப்பூர், சிங்கப்பூர்\\nவியஞ்சான், லாவோஸ்\\nபிழை காட்டு: <>       \"-\",    < =\"-\"/>']\n",
            "<class 'gensim.models.doc2vec.TaggedDocument'>\n"
          ]
        }
      ],
      "source": [
        "# f = open('/content/quotes.txt')\n",
        "# raw = f.read()\n",
        "# data = nltk.sent_tokenize('raw')\n",
        "\n",
        "import string\n",
        "import re\n",
        "\n",
        "with open('/content/quotes.txt', 'r') as f:\n",
        "    data = f.read()\n",
        "data = re.sub(r'[a-zA-Z]', '', data)\n",
        "\n",
        "# data =data.replace('\\n', '').replace('\\r', '').replace('\\ufeff', '').replace('“','').replace('”','').replace('.','').replace(',','').replace('[','').replace(']','').replace('<','').replace('>','') #new line, carriage return, unicode character --> replace by space\n",
        "# data=sent_tokenize(data)\n",
        "# data=sentence_tokenize.sentence_split(data, lang='ta')\n",
        "sentences=sentence_tokenize.sentence_split(data, lang='ta')\n",
        "# print(data)\n",
        "print(sentences)\n",
        "\n",
        "tagged_data = [TaggedDocument(words=word_tokenize(_d.lower()), tags=[str(i)]) for i, _d in enumerate(sentences)]\n",
        "print(type(tagged_data[1]))\n",
        "try1=tagged_data[-1]"
      ]
    },
    {
      "cell_type": "code",
      "execution_count": null,
      "metadata": {
        "colab": {
          "base_uri": "https://localhost:8080/"
        },
        "id": "H2MP-jumGSja",
        "outputId": "1d531496-be3a-46db-dfcf-dee9a92a89f7"
      },
      "outputs": [
        {
          "output_type": "stream",
          "name": "stderr",
          "text": [
            "/usr/local/lib/python3.7/dist-packages/gensim/models/doc2vec.py:570: UserWarning: The parameter `size` is deprecated, will be removed in 4.0.0, use `vector_size` instead.\n",
            "  warnings.warn(\"The parameter `size` is deprecated, will be removed in 4.0.0, use `vector_size` instead.\")\n"
          ]
        },
        {
          "output_type": "stream",
          "name": "stdout",
          "text": [
            "iteration 0\n"
          ]
        },
        {
          "output_type": "stream",
          "name": "stderr",
          "text": [
            "/usr/local/lib/python3.7/dist-packages/ipykernel_launcher.py:17: DeprecationWarning: Call to deprecated `iter` (Attribute will be removed in 4.0.0, use self.epochs instead).\n",
            "WARNING:gensim.models.base_any2vec:under 10 jobs per worker: consider setting a smaller `batch_words' for smoother alpha decay\n",
            "WARNING:gensim.models.base_any2vec:Effective 'alpha' higher than previous training cycles\n"
          ]
        },
        {
          "output_type": "stream",
          "name": "stdout",
          "text": [
            "iteration 1\n"
          ]
        },
        {
          "output_type": "stream",
          "name": "stderr",
          "text": [
            "WARNING:gensim.models.base_any2vec:under 10 jobs per worker: consider setting a smaller `batch_words' for smoother alpha decay\n"
          ]
        },
        {
          "output_type": "stream",
          "name": "stdout",
          "text": [
            "iteration 2\n"
          ]
        },
        {
          "output_type": "stream",
          "name": "stderr",
          "text": [
            "WARNING:gensim.models.base_any2vec:under 10 jobs per worker: consider setting a smaller `batch_words' for smoother alpha decay\n"
          ]
        },
        {
          "output_type": "stream",
          "name": "stdout",
          "text": [
            "iteration 3\n"
          ]
        },
        {
          "output_type": "stream",
          "name": "stderr",
          "text": [
            "WARNING:gensim.models.base_any2vec:under 10 jobs per worker: consider setting a smaller `batch_words' for smoother alpha decay\n"
          ]
        },
        {
          "output_type": "stream",
          "name": "stdout",
          "text": [
            "iteration 4\n"
          ]
        },
        {
          "output_type": "stream",
          "name": "stderr",
          "text": [
            "WARNING:gensim.models.base_any2vec:under 10 jobs per worker: consider setting a smaller `batch_words' for smoother alpha decay\n"
          ]
        },
        {
          "output_type": "stream",
          "name": "stdout",
          "text": [
            "iteration 5\n"
          ]
        },
        {
          "output_type": "stream",
          "name": "stderr",
          "text": [
            "WARNING:gensim.models.base_any2vec:under 10 jobs per worker: consider setting a smaller `batch_words' for smoother alpha decay\n"
          ]
        },
        {
          "output_type": "stream",
          "name": "stdout",
          "text": [
            "iteration 6\n"
          ]
        },
        {
          "output_type": "stream",
          "name": "stderr",
          "text": [
            "WARNING:gensim.models.base_any2vec:under 10 jobs per worker: consider setting a smaller `batch_words' for smoother alpha decay\n"
          ]
        },
        {
          "output_type": "stream",
          "name": "stdout",
          "text": [
            "iteration 7\n"
          ]
        },
        {
          "output_type": "stream",
          "name": "stderr",
          "text": [
            "WARNING:gensim.models.base_any2vec:under 10 jobs per worker: consider setting a smaller `batch_words' for smoother alpha decay\n"
          ]
        },
        {
          "output_type": "stream",
          "name": "stdout",
          "text": [
            "iteration 8\n"
          ]
        },
        {
          "output_type": "stream",
          "name": "stderr",
          "text": [
            "WARNING:gensim.models.base_any2vec:under 10 jobs per worker: consider setting a smaller `batch_words' for smoother alpha decay\n"
          ]
        },
        {
          "output_type": "stream",
          "name": "stdout",
          "text": [
            "iteration 9\n"
          ]
        },
        {
          "output_type": "stream",
          "name": "stderr",
          "text": [
            "WARNING:gensim.models.base_any2vec:under 10 jobs per worker: consider setting a smaller `batch_words' for smoother alpha decay\n"
          ]
        },
        {
          "output_type": "stream",
          "name": "stdout",
          "text": [
            "iteration 10\n"
          ]
        },
        {
          "output_type": "stream",
          "name": "stderr",
          "text": [
            "WARNING:gensim.models.base_any2vec:under 10 jobs per worker: consider setting a smaller `batch_words' for smoother alpha decay\n"
          ]
        },
        {
          "output_type": "stream",
          "name": "stdout",
          "text": [
            "iteration 11\n"
          ]
        },
        {
          "output_type": "stream",
          "name": "stderr",
          "text": [
            "WARNING:gensim.models.base_any2vec:under 10 jobs per worker: consider setting a smaller `batch_words' for smoother alpha decay\n"
          ]
        },
        {
          "output_type": "stream",
          "name": "stdout",
          "text": [
            "iteration 12\n"
          ]
        },
        {
          "output_type": "stream",
          "name": "stderr",
          "text": [
            "WARNING:gensim.models.base_any2vec:under 10 jobs per worker: consider setting a smaller `batch_words' for smoother alpha decay\n"
          ]
        },
        {
          "output_type": "stream",
          "name": "stdout",
          "text": [
            "iteration 13\n"
          ]
        },
        {
          "output_type": "stream",
          "name": "stderr",
          "text": [
            "WARNING:gensim.models.base_any2vec:under 10 jobs per worker: consider setting a smaller `batch_words' for smoother alpha decay\n"
          ]
        },
        {
          "output_type": "stream",
          "name": "stdout",
          "text": [
            "iteration 14\n"
          ]
        },
        {
          "output_type": "stream",
          "name": "stderr",
          "text": [
            "WARNING:gensim.models.base_any2vec:under 10 jobs per worker: consider setting a smaller `batch_words' for smoother alpha decay\n"
          ]
        },
        {
          "output_type": "stream",
          "name": "stdout",
          "text": [
            "iteration 15\n"
          ]
        },
        {
          "output_type": "stream",
          "name": "stderr",
          "text": [
            "WARNING:gensim.models.base_any2vec:under 10 jobs per worker: consider setting a smaller `batch_words' for smoother alpha decay\n"
          ]
        },
        {
          "output_type": "stream",
          "name": "stdout",
          "text": [
            "iteration 16\n"
          ]
        },
        {
          "output_type": "stream",
          "name": "stderr",
          "text": [
            "WARNING:gensim.models.base_any2vec:under 10 jobs per worker: consider setting a smaller `batch_words' for smoother alpha decay\n"
          ]
        },
        {
          "output_type": "stream",
          "name": "stdout",
          "text": [
            "iteration 17\n"
          ]
        },
        {
          "output_type": "stream",
          "name": "stderr",
          "text": [
            "WARNING:gensim.models.base_any2vec:under 10 jobs per worker: consider setting a smaller `batch_words' for smoother alpha decay\n"
          ]
        },
        {
          "output_type": "stream",
          "name": "stdout",
          "text": [
            "iteration 18\n"
          ]
        },
        {
          "output_type": "stream",
          "name": "stderr",
          "text": [
            "WARNING:gensim.models.base_any2vec:under 10 jobs per worker: consider setting a smaller `batch_words' for smoother alpha decay\n"
          ]
        },
        {
          "output_type": "stream",
          "name": "stdout",
          "text": [
            "iteration 19\n"
          ]
        },
        {
          "output_type": "stream",
          "name": "stderr",
          "text": [
            "WARNING:gensim.models.base_any2vec:under 10 jobs per worker: consider setting a smaller `batch_words' for smoother alpha decay\n"
          ]
        },
        {
          "output_type": "stream",
          "name": "stdout",
          "text": [
            "iteration 20\n"
          ]
        },
        {
          "output_type": "stream",
          "name": "stderr",
          "text": [
            "WARNING:gensim.models.base_any2vec:under 10 jobs per worker: consider setting a smaller `batch_words' for smoother alpha decay\n"
          ]
        },
        {
          "output_type": "stream",
          "name": "stdout",
          "text": [
            "iteration 21\n"
          ]
        },
        {
          "output_type": "stream",
          "name": "stderr",
          "text": [
            "WARNING:gensim.models.base_any2vec:under 10 jobs per worker: consider setting a smaller `batch_words' for smoother alpha decay\n"
          ]
        },
        {
          "output_type": "stream",
          "name": "stdout",
          "text": [
            "iteration 22\n"
          ]
        },
        {
          "output_type": "stream",
          "name": "stderr",
          "text": [
            "WARNING:gensim.models.base_any2vec:under 10 jobs per worker: consider setting a smaller `batch_words' for smoother alpha decay\n"
          ]
        },
        {
          "output_type": "stream",
          "name": "stdout",
          "text": [
            "iteration 23\n"
          ]
        },
        {
          "output_type": "stream",
          "name": "stderr",
          "text": [
            "WARNING:gensim.models.base_any2vec:under 10 jobs per worker: consider setting a smaller `batch_words' for smoother alpha decay\n"
          ]
        },
        {
          "output_type": "stream",
          "name": "stdout",
          "text": [
            "iteration 24\n"
          ]
        },
        {
          "output_type": "stream",
          "name": "stderr",
          "text": [
            "WARNING:gensim.models.base_any2vec:under 10 jobs per worker: consider setting a smaller `batch_words' for smoother alpha decay\n"
          ]
        },
        {
          "output_type": "stream",
          "name": "stdout",
          "text": [
            "iteration 25\n"
          ]
        },
        {
          "output_type": "stream",
          "name": "stderr",
          "text": [
            "WARNING:gensim.models.base_any2vec:under 10 jobs per worker: consider setting a smaller `batch_words' for smoother alpha decay\n"
          ]
        },
        {
          "output_type": "stream",
          "name": "stdout",
          "text": [
            "iteration 26\n"
          ]
        },
        {
          "output_type": "stream",
          "name": "stderr",
          "text": [
            "WARNING:gensim.models.base_any2vec:under 10 jobs per worker: consider setting a smaller `batch_words' for smoother alpha decay\n"
          ]
        },
        {
          "output_type": "stream",
          "name": "stdout",
          "text": [
            "iteration 27\n"
          ]
        },
        {
          "output_type": "stream",
          "name": "stderr",
          "text": [
            "WARNING:gensim.models.base_any2vec:under 10 jobs per worker: consider setting a smaller `batch_words' for smoother alpha decay\n"
          ]
        },
        {
          "output_type": "stream",
          "name": "stdout",
          "text": [
            "iteration 28\n"
          ]
        },
        {
          "output_type": "stream",
          "name": "stderr",
          "text": [
            "WARNING:gensim.models.base_any2vec:under 10 jobs per worker: consider setting a smaller `batch_words' for smoother alpha decay\n"
          ]
        },
        {
          "output_type": "stream",
          "name": "stdout",
          "text": [
            "iteration 29\n"
          ]
        },
        {
          "output_type": "stream",
          "name": "stderr",
          "text": [
            "WARNING:gensim.models.base_any2vec:under 10 jobs per worker: consider setting a smaller `batch_words' for smoother alpha decay\n"
          ]
        },
        {
          "output_type": "stream",
          "name": "stdout",
          "text": [
            "iteration 30\n"
          ]
        },
        {
          "output_type": "stream",
          "name": "stderr",
          "text": [
            "WARNING:gensim.models.base_any2vec:under 10 jobs per worker: consider setting a smaller `batch_words' for smoother alpha decay\n"
          ]
        },
        {
          "output_type": "stream",
          "name": "stdout",
          "text": [
            "iteration 31\n"
          ]
        },
        {
          "output_type": "stream",
          "name": "stderr",
          "text": [
            "WARNING:gensim.models.base_any2vec:under 10 jobs per worker: consider setting a smaller `batch_words' for smoother alpha decay\n"
          ]
        },
        {
          "output_type": "stream",
          "name": "stdout",
          "text": [
            "iteration 32\n"
          ]
        },
        {
          "output_type": "stream",
          "name": "stderr",
          "text": [
            "WARNING:gensim.models.base_any2vec:under 10 jobs per worker: consider setting a smaller `batch_words' for smoother alpha decay\n"
          ]
        },
        {
          "output_type": "stream",
          "name": "stdout",
          "text": [
            "iteration 33\n"
          ]
        },
        {
          "output_type": "stream",
          "name": "stderr",
          "text": [
            "WARNING:gensim.models.base_any2vec:under 10 jobs per worker: consider setting a smaller `batch_words' for smoother alpha decay\n"
          ]
        },
        {
          "output_type": "stream",
          "name": "stdout",
          "text": [
            "iteration 34\n"
          ]
        },
        {
          "output_type": "stream",
          "name": "stderr",
          "text": [
            "WARNING:gensim.models.base_any2vec:under 10 jobs per worker: consider setting a smaller `batch_words' for smoother alpha decay\n"
          ]
        },
        {
          "output_type": "stream",
          "name": "stdout",
          "text": [
            "iteration 35\n"
          ]
        },
        {
          "output_type": "stream",
          "name": "stderr",
          "text": [
            "WARNING:gensim.models.base_any2vec:under 10 jobs per worker: consider setting a smaller `batch_words' for smoother alpha decay\n"
          ]
        },
        {
          "output_type": "stream",
          "name": "stdout",
          "text": [
            "iteration 36\n"
          ]
        },
        {
          "output_type": "stream",
          "name": "stderr",
          "text": [
            "WARNING:gensim.models.base_any2vec:under 10 jobs per worker: consider setting a smaller `batch_words' for smoother alpha decay\n"
          ]
        },
        {
          "output_type": "stream",
          "name": "stdout",
          "text": [
            "iteration 37\n"
          ]
        },
        {
          "output_type": "stream",
          "name": "stderr",
          "text": [
            "WARNING:gensim.models.base_any2vec:under 10 jobs per worker: consider setting a smaller `batch_words' for smoother alpha decay\n"
          ]
        },
        {
          "output_type": "stream",
          "name": "stdout",
          "text": [
            "iteration 38\n"
          ]
        },
        {
          "output_type": "stream",
          "name": "stderr",
          "text": [
            "WARNING:gensim.models.base_any2vec:under 10 jobs per worker: consider setting a smaller `batch_words' for smoother alpha decay\n"
          ]
        },
        {
          "output_type": "stream",
          "name": "stdout",
          "text": [
            "iteration 39\n"
          ]
        },
        {
          "output_type": "stream",
          "name": "stderr",
          "text": [
            "WARNING:gensim.models.base_any2vec:under 10 jobs per worker: consider setting a smaller `batch_words' for smoother alpha decay\n"
          ]
        },
        {
          "output_type": "stream",
          "name": "stdout",
          "text": [
            "iteration 40\n"
          ]
        },
        {
          "output_type": "stream",
          "name": "stderr",
          "text": [
            "WARNING:gensim.models.base_any2vec:under 10 jobs per worker: consider setting a smaller `batch_words' for smoother alpha decay\n"
          ]
        },
        {
          "output_type": "stream",
          "name": "stdout",
          "text": [
            "iteration 41\n"
          ]
        },
        {
          "output_type": "stream",
          "name": "stderr",
          "text": [
            "WARNING:gensim.models.base_any2vec:under 10 jobs per worker: consider setting a smaller `batch_words' for smoother alpha decay\n"
          ]
        },
        {
          "output_type": "stream",
          "name": "stdout",
          "text": [
            "iteration 42\n"
          ]
        },
        {
          "output_type": "stream",
          "name": "stderr",
          "text": [
            "WARNING:gensim.models.base_any2vec:under 10 jobs per worker: consider setting a smaller `batch_words' for smoother alpha decay\n"
          ]
        },
        {
          "output_type": "stream",
          "name": "stdout",
          "text": [
            "iteration 43\n"
          ]
        },
        {
          "output_type": "stream",
          "name": "stderr",
          "text": [
            "WARNING:gensim.models.base_any2vec:under 10 jobs per worker: consider setting a smaller `batch_words' for smoother alpha decay\n"
          ]
        },
        {
          "output_type": "stream",
          "name": "stdout",
          "text": [
            "iteration 44\n"
          ]
        },
        {
          "output_type": "stream",
          "name": "stderr",
          "text": [
            "WARNING:gensim.models.base_any2vec:under 10 jobs per worker: consider setting a smaller `batch_words' for smoother alpha decay\n"
          ]
        },
        {
          "output_type": "stream",
          "name": "stdout",
          "text": [
            "iteration 45\n"
          ]
        },
        {
          "output_type": "stream",
          "name": "stderr",
          "text": [
            "WARNING:gensim.models.base_any2vec:under 10 jobs per worker: consider setting a smaller `batch_words' for smoother alpha decay\n"
          ]
        },
        {
          "output_type": "stream",
          "name": "stdout",
          "text": [
            "iteration 46\n"
          ]
        },
        {
          "output_type": "stream",
          "name": "stderr",
          "text": [
            "WARNING:gensim.models.base_any2vec:under 10 jobs per worker: consider setting a smaller `batch_words' for smoother alpha decay\n"
          ]
        },
        {
          "output_type": "stream",
          "name": "stdout",
          "text": [
            "iteration 47\n"
          ]
        },
        {
          "output_type": "stream",
          "name": "stderr",
          "text": [
            "WARNING:gensim.models.base_any2vec:under 10 jobs per worker: consider setting a smaller `batch_words' for smoother alpha decay\n"
          ]
        },
        {
          "output_type": "stream",
          "name": "stdout",
          "text": [
            "iteration 48\n"
          ]
        },
        {
          "output_type": "stream",
          "name": "stderr",
          "text": [
            "WARNING:gensim.models.base_any2vec:under 10 jobs per worker: consider setting a smaller `batch_words' for smoother alpha decay\n"
          ]
        },
        {
          "output_type": "stream",
          "name": "stdout",
          "text": [
            "iteration 49\n"
          ]
        },
        {
          "output_type": "stream",
          "name": "stderr",
          "text": [
            "WARNING:gensim.models.base_any2vec:under 10 jobs per worker: consider setting a smaller `batch_words' for smoother alpha decay\n"
          ]
        },
        {
          "output_type": "stream",
          "name": "stdout",
          "text": [
            "iteration 50\n"
          ]
        },
        {
          "output_type": "stream",
          "name": "stderr",
          "text": [
            "WARNING:gensim.models.base_any2vec:under 10 jobs per worker: consider setting a smaller `batch_words' for smoother alpha decay\n"
          ]
        },
        {
          "output_type": "stream",
          "name": "stdout",
          "text": [
            "iteration 51\n"
          ]
        },
        {
          "output_type": "stream",
          "name": "stderr",
          "text": [
            "WARNING:gensim.models.base_any2vec:under 10 jobs per worker: consider setting a smaller `batch_words' for smoother alpha decay\n"
          ]
        },
        {
          "output_type": "stream",
          "name": "stdout",
          "text": [
            "iteration 52\n"
          ]
        },
        {
          "output_type": "stream",
          "name": "stderr",
          "text": [
            "WARNING:gensim.models.base_any2vec:under 10 jobs per worker: consider setting a smaller `batch_words' for smoother alpha decay\n"
          ]
        },
        {
          "output_type": "stream",
          "name": "stdout",
          "text": [
            "iteration 53\n"
          ]
        },
        {
          "output_type": "stream",
          "name": "stderr",
          "text": [
            "WARNING:gensim.models.base_any2vec:under 10 jobs per worker: consider setting a smaller `batch_words' for smoother alpha decay\n"
          ]
        },
        {
          "output_type": "stream",
          "name": "stdout",
          "text": [
            "iteration 54\n"
          ]
        },
        {
          "output_type": "stream",
          "name": "stderr",
          "text": [
            "WARNING:gensim.models.base_any2vec:under 10 jobs per worker: consider setting a smaller `batch_words' for smoother alpha decay\n"
          ]
        },
        {
          "output_type": "stream",
          "name": "stdout",
          "text": [
            "iteration 55\n"
          ]
        },
        {
          "output_type": "stream",
          "name": "stderr",
          "text": [
            "WARNING:gensim.models.base_any2vec:under 10 jobs per worker: consider setting a smaller `batch_words' for smoother alpha decay\n"
          ]
        },
        {
          "output_type": "stream",
          "name": "stdout",
          "text": [
            "iteration 56\n"
          ]
        },
        {
          "output_type": "stream",
          "name": "stderr",
          "text": [
            "WARNING:gensim.models.base_any2vec:under 10 jobs per worker: consider setting a smaller `batch_words' for smoother alpha decay\n"
          ]
        },
        {
          "output_type": "stream",
          "name": "stdout",
          "text": [
            "iteration 57\n"
          ]
        },
        {
          "output_type": "stream",
          "name": "stderr",
          "text": [
            "WARNING:gensim.models.base_any2vec:under 10 jobs per worker: consider setting a smaller `batch_words' for smoother alpha decay\n"
          ]
        },
        {
          "output_type": "stream",
          "name": "stdout",
          "text": [
            "iteration 58\n"
          ]
        },
        {
          "output_type": "stream",
          "name": "stderr",
          "text": [
            "WARNING:gensim.models.base_any2vec:under 10 jobs per worker: consider setting a smaller `batch_words' for smoother alpha decay\n"
          ]
        },
        {
          "output_type": "stream",
          "name": "stdout",
          "text": [
            "iteration 59\n"
          ]
        },
        {
          "output_type": "stream",
          "name": "stderr",
          "text": [
            "WARNING:gensim.models.base_any2vec:under 10 jobs per worker: consider setting a smaller `batch_words' for smoother alpha decay\n"
          ]
        },
        {
          "output_type": "stream",
          "name": "stdout",
          "text": [
            "iteration 60\n"
          ]
        },
        {
          "output_type": "stream",
          "name": "stderr",
          "text": [
            "WARNING:gensim.models.base_any2vec:under 10 jobs per worker: consider setting a smaller `batch_words' for smoother alpha decay\n"
          ]
        },
        {
          "output_type": "stream",
          "name": "stdout",
          "text": [
            "iteration 61\n"
          ]
        },
        {
          "output_type": "stream",
          "name": "stderr",
          "text": [
            "WARNING:gensim.models.base_any2vec:under 10 jobs per worker: consider setting a smaller `batch_words' for smoother alpha decay\n"
          ]
        },
        {
          "output_type": "stream",
          "name": "stdout",
          "text": [
            "iteration 62\n"
          ]
        },
        {
          "output_type": "stream",
          "name": "stderr",
          "text": [
            "WARNING:gensim.models.base_any2vec:under 10 jobs per worker: consider setting a smaller `batch_words' for smoother alpha decay\n"
          ]
        },
        {
          "output_type": "stream",
          "name": "stdout",
          "text": [
            "iteration 63\n"
          ]
        },
        {
          "output_type": "stream",
          "name": "stderr",
          "text": [
            "WARNING:gensim.models.base_any2vec:under 10 jobs per worker: consider setting a smaller `batch_words' for smoother alpha decay\n"
          ]
        },
        {
          "output_type": "stream",
          "name": "stdout",
          "text": [
            "iteration 64\n"
          ]
        },
        {
          "output_type": "stream",
          "name": "stderr",
          "text": [
            "WARNING:gensim.models.base_any2vec:under 10 jobs per worker: consider setting a smaller `batch_words' for smoother alpha decay\n"
          ]
        },
        {
          "output_type": "stream",
          "name": "stdout",
          "text": [
            "iteration 65\n"
          ]
        },
        {
          "output_type": "stream",
          "name": "stderr",
          "text": [
            "WARNING:gensim.models.base_any2vec:under 10 jobs per worker: consider setting a smaller `batch_words' for smoother alpha decay\n"
          ]
        },
        {
          "output_type": "stream",
          "name": "stdout",
          "text": [
            "iteration 66\n"
          ]
        },
        {
          "output_type": "stream",
          "name": "stderr",
          "text": [
            "WARNING:gensim.models.base_any2vec:under 10 jobs per worker: consider setting a smaller `batch_words' for smoother alpha decay\n"
          ]
        },
        {
          "output_type": "stream",
          "name": "stdout",
          "text": [
            "iteration 67\n"
          ]
        },
        {
          "output_type": "stream",
          "name": "stderr",
          "text": [
            "WARNING:gensim.models.base_any2vec:under 10 jobs per worker: consider setting a smaller `batch_words' for smoother alpha decay\n"
          ]
        },
        {
          "output_type": "stream",
          "name": "stdout",
          "text": [
            "iteration 68\n"
          ]
        },
        {
          "output_type": "stream",
          "name": "stderr",
          "text": [
            "WARNING:gensim.models.base_any2vec:under 10 jobs per worker: consider setting a smaller `batch_words' for smoother alpha decay\n"
          ]
        },
        {
          "output_type": "stream",
          "name": "stdout",
          "text": [
            "iteration 69\n"
          ]
        },
        {
          "output_type": "stream",
          "name": "stderr",
          "text": [
            "WARNING:gensim.models.base_any2vec:under 10 jobs per worker: consider setting a smaller `batch_words' for smoother alpha decay\n"
          ]
        },
        {
          "output_type": "stream",
          "name": "stdout",
          "text": [
            "iteration 70\n"
          ]
        },
        {
          "output_type": "stream",
          "name": "stderr",
          "text": [
            "WARNING:gensim.models.base_any2vec:under 10 jobs per worker: consider setting a smaller `batch_words' for smoother alpha decay\n"
          ]
        },
        {
          "output_type": "stream",
          "name": "stdout",
          "text": [
            "iteration 71\n"
          ]
        },
        {
          "output_type": "stream",
          "name": "stderr",
          "text": [
            "WARNING:gensim.models.base_any2vec:under 10 jobs per worker: consider setting a smaller `batch_words' for smoother alpha decay\n"
          ]
        },
        {
          "output_type": "stream",
          "name": "stdout",
          "text": [
            "iteration 72\n"
          ]
        },
        {
          "output_type": "stream",
          "name": "stderr",
          "text": [
            "WARNING:gensim.models.base_any2vec:under 10 jobs per worker: consider setting a smaller `batch_words' for smoother alpha decay\n"
          ]
        },
        {
          "output_type": "stream",
          "name": "stdout",
          "text": [
            "iteration 73\n"
          ]
        },
        {
          "output_type": "stream",
          "name": "stderr",
          "text": [
            "WARNING:gensim.models.base_any2vec:under 10 jobs per worker: consider setting a smaller `batch_words' for smoother alpha decay\n"
          ]
        },
        {
          "output_type": "stream",
          "name": "stdout",
          "text": [
            "iteration 74\n"
          ]
        },
        {
          "output_type": "stream",
          "name": "stderr",
          "text": [
            "WARNING:gensim.models.base_any2vec:under 10 jobs per worker: consider setting a smaller `batch_words' for smoother alpha decay\n"
          ]
        },
        {
          "output_type": "stream",
          "name": "stdout",
          "text": [
            "iteration 75\n"
          ]
        },
        {
          "output_type": "stream",
          "name": "stderr",
          "text": [
            "WARNING:gensim.models.base_any2vec:under 10 jobs per worker: consider setting a smaller `batch_words' for smoother alpha decay\n"
          ]
        },
        {
          "output_type": "stream",
          "name": "stdout",
          "text": [
            "iteration 76\n"
          ]
        },
        {
          "output_type": "stream",
          "name": "stderr",
          "text": [
            "WARNING:gensim.models.base_any2vec:under 10 jobs per worker: consider setting a smaller `batch_words' for smoother alpha decay\n"
          ]
        },
        {
          "output_type": "stream",
          "name": "stdout",
          "text": [
            "iteration 77\n"
          ]
        },
        {
          "output_type": "stream",
          "name": "stderr",
          "text": [
            "WARNING:gensim.models.base_any2vec:under 10 jobs per worker: consider setting a smaller `batch_words' for smoother alpha decay\n"
          ]
        },
        {
          "output_type": "stream",
          "name": "stdout",
          "text": [
            "iteration 78\n"
          ]
        },
        {
          "output_type": "stream",
          "name": "stderr",
          "text": [
            "WARNING:gensim.models.base_any2vec:under 10 jobs per worker: consider setting a smaller `batch_words' for smoother alpha decay\n"
          ]
        },
        {
          "output_type": "stream",
          "name": "stdout",
          "text": [
            "iteration 79\n"
          ]
        },
        {
          "output_type": "stream",
          "name": "stderr",
          "text": [
            "WARNING:gensim.models.base_any2vec:under 10 jobs per worker: consider setting a smaller `batch_words' for smoother alpha decay\n"
          ]
        },
        {
          "output_type": "stream",
          "name": "stdout",
          "text": [
            "iteration 80\n"
          ]
        },
        {
          "output_type": "stream",
          "name": "stderr",
          "text": [
            "WARNING:gensim.models.base_any2vec:under 10 jobs per worker: consider setting a smaller `batch_words' for smoother alpha decay\n"
          ]
        },
        {
          "output_type": "stream",
          "name": "stdout",
          "text": [
            "iteration 81\n"
          ]
        },
        {
          "output_type": "stream",
          "name": "stderr",
          "text": [
            "WARNING:gensim.models.base_any2vec:under 10 jobs per worker: consider setting a smaller `batch_words' for smoother alpha decay\n"
          ]
        },
        {
          "output_type": "stream",
          "name": "stdout",
          "text": [
            "iteration 82\n"
          ]
        },
        {
          "output_type": "stream",
          "name": "stderr",
          "text": [
            "WARNING:gensim.models.base_any2vec:under 10 jobs per worker: consider setting a smaller `batch_words' for smoother alpha decay\n"
          ]
        },
        {
          "output_type": "stream",
          "name": "stdout",
          "text": [
            "iteration 83\n"
          ]
        },
        {
          "output_type": "stream",
          "name": "stderr",
          "text": [
            "WARNING:gensim.models.base_any2vec:under 10 jobs per worker: consider setting a smaller `batch_words' for smoother alpha decay\n"
          ]
        },
        {
          "output_type": "stream",
          "name": "stdout",
          "text": [
            "iteration 84\n"
          ]
        },
        {
          "output_type": "stream",
          "name": "stderr",
          "text": [
            "WARNING:gensim.models.base_any2vec:under 10 jobs per worker: consider setting a smaller `batch_words' for smoother alpha decay\n"
          ]
        },
        {
          "output_type": "stream",
          "name": "stdout",
          "text": [
            "iteration 85\n"
          ]
        },
        {
          "output_type": "stream",
          "name": "stderr",
          "text": [
            "WARNING:gensim.models.base_any2vec:under 10 jobs per worker: consider setting a smaller `batch_words' for smoother alpha decay\n"
          ]
        },
        {
          "output_type": "stream",
          "name": "stdout",
          "text": [
            "iteration 86\n"
          ]
        },
        {
          "output_type": "stream",
          "name": "stderr",
          "text": [
            "WARNING:gensim.models.base_any2vec:under 10 jobs per worker: consider setting a smaller `batch_words' for smoother alpha decay\n"
          ]
        },
        {
          "output_type": "stream",
          "name": "stdout",
          "text": [
            "iteration 87\n"
          ]
        },
        {
          "output_type": "stream",
          "name": "stderr",
          "text": [
            "WARNING:gensim.models.base_any2vec:under 10 jobs per worker: consider setting a smaller `batch_words' for smoother alpha decay\n"
          ]
        },
        {
          "output_type": "stream",
          "name": "stdout",
          "text": [
            "iteration 88\n"
          ]
        },
        {
          "output_type": "stream",
          "name": "stderr",
          "text": [
            "WARNING:gensim.models.base_any2vec:under 10 jobs per worker: consider setting a smaller `batch_words' for smoother alpha decay\n"
          ]
        },
        {
          "output_type": "stream",
          "name": "stdout",
          "text": [
            "iteration 89\n"
          ]
        },
        {
          "output_type": "stream",
          "name": "stderr",
          "text": [
            "WARNING:gensim.models.base_any2vec:under 10 jobs per worker: consider setting a smaller `batch_words' for smoother alpha decay\n"
          ]
        },
        {
          "output_type": "stream",
          "name": "stdout",
          "text": [
            "iteration 90\n"
          ]
        },
        {
          "output_type": "stream",
          "name": "stderr",
          "text": [
            "WARNING:gensim.models.base_any2vec:under 10 jobs per worker: consider setting a smaller `batch_words' for smoother alpha decay\n"
          ]
        },
        {
          "output_type": "stream",
          "name": "stdout",
          "text": [
            "iteration 91\n"
          ]
        },
        {
          "output_type": "stream",
          "name": "stderr",
          "text": [
            "WARNING:gensim.models.base_any2vec:under 10 jobs per worker: consider setting a smaller `batch_words' for smoother alpha decay\n"
          ]
        },
        {
          "output_type": "stream",
          "name": "stdout",
          "text": [
            "iteration 92\n"
          ]
        },
        {
          "output_type": "stream",
          "name": "stderr",
          "text": [
            "WARNING:gensim.models.base_any2vec:under 10 jobs per worker: consider setting a smaller `batch_words' for smoother alpha decay\n"
          ]
        },
        {
          "output_type": "stream",
          "name": "stdout",
          "text": [
            "iteration 93\n"
          ]
        },
        {
          "output_type": "stream",
          "name": "stderr",
          "text": [
            "WARNING:gensim.models.base_any2vec:under 10 jobs per worker: consider setting a smaller `batch_words' for smoother alpha decay\n"
          ]
        },
        {
          "output_type": "stream",
          "name": "stdout",
          "text": [
            "iteration 94\n"
          ]
        },
        {
          "output_type": "stream",
          "name": "stderr",
          "text": [
            "WARNING:gensim.models.base_any2vec:under 10 jobs per worker: consider setting a smaller `batch_words' for smoother alpha decay\n"
          ]
        },
        {
          "output_type": "stream",
          "name": "stdout",
          "text": [
            "iteration 95\n"
          ]
        },
        {
          "output_type": "stream",
          "name": "stderr",
          "text": [
            "WARNING:gensim.models.base_any2vec:under 10 jobs per worker: consider setting a smaller `batch_words' for smoother alpha decay\n"
          ]
        },
        {
          "output_type": "stream",
          "name": "stdout",
          "text": [
            "iteration 96\n"
          ]
        },
        {
          "output_type": "stream",
          "name": "stderr",
          "text": [
            "WARNING:gensim.models.base_any2vec:under 10 jobs per worker: consider setting a smaller `batch_words' for smoother alpha decay\n"
          ]
        },
        {
          "output_type": "stream",
          "name": "stdout",
          "text": [
            "iteration 97\n"
          ]
        },
        {
          "output_type": "stream",
          "name": "stderr",
          "text": [
            "WARNING:gensim.models.base_any2vec:under 10 jobs per worker: consider setting a smaller `batch_words' for smoother alpha decay\n"
          ]
        },
        {
          "output_type": "stream",
          "name": "stdout",
          "text": [
            "iteration 98\n"
          ]
        },
        {
          "output_type": "stream",
          "name": "stderr",
          "text": [
            "WARNING:gensim.models.base_any2vec:under 10 jobs per worker: consider setting a smaller `batch_words' for smoother alpha decay\n"
          ]
        },
        {
          "output_type": "stream",
          "name": "stdout",
          "text": [
            "iteration 99\n"
          ]
        },
        {
          "output_type": "stream",
          "name": "stderr",
          "text": [
            "WARNING:gensim.models.base_any2vec:under 10 jobs per worker: consider setting a smaller `batch_words' for smoother alpha decay\n"
          ]
        },
        {
          "output_type": "stream",
          "name": "stdout",
          "text": [
            "Model Saved\n"
          ]
        }
      ],
      "source": [
        "max_epochs = 100\n",
        "vec_size = 20\n",
        "alpha = 0.025\n",
        "\n",
        "model = Doc2Vec(size=vec_size,\n",
        "                alpha=alpha, \n",
        "                min_alpha=0.00025,\n",
        "                min_count=1,\n",
        "                dm =1)\n",
        "  \n",
        "model.build_vocab(tagged_data)\n",
        "\n",
        "for epoch in range(max_epochs):\n",
        "    print('iteration {0}'.format(epoch))\n",
        "    model.train(tagged_data,\n",
        "                total_examples=model.corpus_count,\n",
        "                epochs=model.iter)\n",
        "    # decrease the learning rate\n",
        "    model.alpha -= 0.0002\n",
        "    # fix the learning rate, no decay\n",
        "    model.min_alpha = model.alpha\n",
        "\n",
        "model.save(\"d2v.model\")\n",
        "print(\"Model Saved\")"
      ]
    },
    {
      "cell_type": "code",
      "source": [
        "print(int(try1[1][0]))"
      ],
      "metadata": {
        "colab": {
          "base_uri": "https://localhost:8080/"
        },
        "id": "OAJxP341hLNI",
        "outputId": "8247aae8-17ec-4d88-c713-69b55e2b60e4"
      },
      "execution_count": null,
      "outputs": [
        {
          "output_type": "stream",
          "name": "stdout",
          "text": [
            "1721\n"
          ]
        }
      ]
    },
    {
      "cell_type": "code",
      "source": [
        "test_data = [TaggedDocument(words=word_tokenize(\"வேற்றுமைகள்\"), tags=[str(1722)])]"
      ],
      "metadata": {
        "id": "ofE9oIlikZfZ"
      },
      "execution_count": null,
      "outputs": []
    },
    {
      "cell_type": "code",
      "execution_count": null,
      "metadata": {
        "colab": {
          "base_uri": "https://localhost:8080/"
        },
        "id": "NiTugRyxGV_d",
        "outputId": "169e4d9c-bff5-43b1-ea69-db5311a6ff33"
      },
      "outputs": [
        {
          "output_type": "stream",
          "name": "stdout",
          "text": [
            "V1_infer [-0.02155695 -0.00704963  0.00642832 -0.02150352  0.00417956 -0.00117197\n",
            " -0.01766804 -0.00659576  0.01682866 -0.01597062 -0.0103337   0.0160567\n",
            "  0.02462772 -0.0223692   0.00031549 -0.02380141  0.00498933  0.0075772\n",
            "  0.00649044 -0.00289105]\n",
            "[('எட்டுவகைகளாகப்', 0.9797155857086182), ('இதனைத்', 0.8817338943481445), ('வகையொலிகளாகவே', 0.8604624271392822), ('இருந்துள்ளன', 0.8476240038871765), ('இனைத்து', 0.8228309154510498), ('பரிபாசையின்', 0.8216019868850708), ('பிரிக்கப்பட்டுள்ளன', 0.8115350008010864), ('வால்மீகியும்', 0.8090994358062744), ('0', 0.7978662848472595), ('இந்தியில்', 0.7924314737319946)]\n",
            "[-1.4127951  -2.149992   -5.4507113  -2.8064957   1.133736    1.8395425\n",
            " -2.4331477  -3.6509924   0.21361864  3.18497     3.5677512  -1.1069896\n",
            " -4.8985033   0.5844454  -0.3938177  -2.389069    0.38763338  1.1569376\n",
            "  4.4333024  -3.2560315 ]\n"
          ]
        },
        {
          "output_type": "stream",
          "name": "stderr",
          "text": [
            "/usr/local/lib/python3.7/dist-packages/ipykernel_launcher.py:11: DeprecationWarning: Call to deprecated `most_similar` (Method will be removed in 4.0.0, use self.wv.most_similar() instead).\n",
            "  # This is added back by InteractiveShellApp.init_path()\n"
          ]
        }
      ],
      "source": [
        "from gensim.models.doc2vec import Doc2Vec\n",
        "\n",
        "model= Doc2Vec.load(\"d2v.model\")\n",
        "#to find the vector of a document which is not in training data\n",
        "test_data = word_tokenize(\"உங்களை சந்தித்ததில் மகிழ்ச்சி\")\n",
        "v1 = model.infer_vector(test_data)\n",
        "print(\"V1_infer\", v1)\n",
        "\n",
        "# to find most similar doc using tags\n",
        "similar_doc = model.docvecs.most_similar('1')\n",
        "similar_doc = model.most_similar('வேற்றுமைகள்')\n",
        "\n",
        "print(similar_doc)\n",
        "\n",
        "\n",
        "# to find vector of doc in training data using tags or in other words, printing the vector of document at index 1 in training data\n",
        "print(model.docvecs['2'])"
      ]
    },
    {
      "cell_type": "code",
      "execution_count": null,
      "metadata": {
        "colab": {
          "base_uri": "https://localhost:8080/",
          "height": 169
        },
        "id": "fRwfHto0U1He",
        "outputId": "9578972e-4b36-46d7-c530-fac04dc66846"
      },
      "outputs": [
        {
          "output_type": "error",
          "ename": "AttributeError",
          "evalue": "ignored",
          "traceback": [
            "\u001b[0;31m---------------------------------------------------------------------------\u001b[0m",
            "\u001b[0;31mAttributeError\u001b[0m                            Traceback (most recent call last)",
            "\u001b[0;32m<ipython-input-90-cb2e9c44a6a1>\u001b[0m in \u001b[0;36m<module>\u001b[0;34m\u001b[0m\n\u001b[0;32m----> 1\u001b[0;31m \u001b[0mmodel\u001b[0m\u001b[0;34m.\u001b[0m\u001b[0msimilarity_unseen_docs\u001b[0m\u001b[0;34m(\u001b[0m\u001b[0;34m\"ராஜா\"\u001b[0m\u001b[0;34m,\u001b[0m\u001b[0;34m\"அரசன்\"\u001b[0m\u001b[0;34m)\u001b[0m\u001b[0;34m\u001b[0m\u001b[0;34m\u001b[0m\u001b[0m\n\u001b[0m",
            "\u001b[0;31mAttributeError\u001b[0m: 'Doc2Vec' object has no attribute 'similarity_unseen_docs'"
          ]
        }
      ],
      "source": [
        "model.similarity_unseen_docs(\"ராஜா\",\"அரசன்\")"
      ]
    },
    {
      "cell_type": "code",
      "execution_count": null,
      "metadata": {
        "id": "8VIfE-qeVsFu"
      },
      "outputs": [],
      "source": [
        "from gensim.models.doc2vec import Doc2Vec, TaggedDocument\n",
        "import gensim\n",
        "import gensim. downloader as api\n",
        "dataset = api.load (\"text8\")\n",
        "data\n",
        "data =[d for d in dataset]\n",
        "data[0]"
      ]
    },
    {
      "cell_type": "code",
      "execution_count": null,
      "metadata": {
        "colab": {
          "base_uri": "https://localhost:8080/"
        },
        "id": "IBiqdCzhV9uG",
        "outputId": "0151ca48-a6a7-4cca-9283-f7d897011ad9"
      },
      "outputs": [
        {
          "output_type": "stream",
          "name": "stdout",
          "text": [
            "[TaggedDocument(words=['anarchism', 'originated', 'as', 'a', 'term', 'of', 'abuse', 'first', 'used', 'against', 'early', 'working', 'class', 'radicals', 'including', 'the', 'diggers', 'of', 'the', 'english', 'revolution', 'and', 'the', 'sans', 'culottes', 'of', 'the', 'french', 'revolution', 'whilst', 'the', 'term', 'is', 'still', 'used', 'in', 'a', 'pejorative', 'way', 'to', 'describe', 'any', 'act', 'that', 'used', 'violent', 'means', 'to', 'destroy', 'the', 'organization', 'of', 'society', 'it', 'has', 'also', 'been', 'taken', 'up', 'as', 'a', 'positive', 'label', 'by', 'self', 'defined', 'anarchists', 'the', 'word', 'anarchism', 'is', 'derived', 'from', 'the', 'greek', 'without', 'archons', 'ruler', 'chief', 'king', 'anarchism', 'as', 'a', 'political', 'philosophy', 'is', 'the', 'belief', 'that', 'rulers', 'are', 'unnecessary', 'and', 'should', 'be', 'abolished', 'although', 'there', 'are', 'differing', 'interpretations', 'of', 'what', 'this', 'means', 'anarchism', 'also', 'refers', 'to', 'related', 'social', 'movements', 'that', 'advocate', 'the', 'elimination', 'of', 'authoritarian', 'institutions', 'particularly', 'the', 'state', 'the', 'word', 'anarchy', 'as', 'most', 'anarchists', 'use', 'it', 'does', 'not', 'imply', 'chaos', 'nihilism', 'or', 'anomie', 'but', 'rather', 'a', 'harmonious', 'anti', 'authoritarian', 'society', 'in', 'place', 'of', 'what', 'are', 'regarded', 'as', 'authoritarian', 'political', 'structures', 'and', 'coercive', 'economic', 'institutions', 'anarchists', 'advocate', 'social', 'relations', 'based', 'upon', 'voluntary', 'association', 'of', 'autonomous', 'individuals', 'mutual', 'aid', 'and', 'self', 'governance', 'while', 'anarchism', 'is', 'most', 'easily', 'defined', 'by', 'what', 'it', 'is', 'against', 'anarchists', 'also', 'offer', 'positive', 'visions', 'of', 'what', 'they', 'believe', 'to', 'be', 'a', 'truly', 'free', 'society', 'however', 'ideas', 'about', 'how', 'an', 'anarchist', 'society', 'might', 'work', 'vary', 'considerably', 'especially', 'with', 'respect', 'to', 'economics', 'there', 'is', 'also', 'disagreement', 'about', 'how', 'a', 'free', 'society', 'might', 'be', 'brought', 'about', 'origins', 'and', 'predecessors', 'kropotkin', 'and', 'others', 'argue', 'that', 'before', 'recorded', 'history', 'human', 'society', 'was', 'organized', 'on', 'anarchist', 'principles', 'most', 'anthropologists', 'follow', 'kropotkin', 'and', 'engels', 'in', 'believing', 'that', 'hunter', 'gatherer', 'bands', 'were', 'egalitarian', 'and', 'lacked', 'division', 'of', 'labour', 'accumulated', 'wealth', 'or', 'decreed', 'law', 'and', 'had', 'equal', 'access', 'to', 'resources', 'william', 'godwin', 'anarchists', 'including', 'the', 'the', 'anarchy', 'organisation', 'and', 'rothbard', 'find', 'anarchist', 'attitudes', 'in', 'taoism', 'from', 'ancient', 'china', 'kropotkin', 'found', 'similar', 'ideas', 'in', 'stoic', 'zeno', 'of', 'citium', 'according', 'to', 'kropotkin', 'zeno', 'repudiated', 'the', 'omnipotence', 'of', 'the', 'state', 'its', 'intervention', 'and', 'regimentation', 'and', 'proclaimed', 'the', 'sovereignty', 'of', 'the', 'moral', 'law', 'of', 'the', 'individual', 'the', 'anabaptists', 'of', 'one', 'six', 'th', 'century', 'europe', 'are', 'sometimes', 'considered', 'to', 'be', 'religious', 'forerunners', 'of', 'modern', 'anarchism', 'bertrand', 'russell', 'in', 'his', 'history', 'of', 'western', 'philosophy', 'writes', 'that', 'the', 'anabaptists', 'repudiated', 'all', 'law', 'since', 'they', 'held', 'that', 'the', 'good', 'man', 'will', 'be', 'guided', 'at', 'every', 'moment', 'by', 'the', 'holy', 'spirit', 'from', 'this', 'premise', 'they', 'arrive', 'at', 'communism', 'the', 'diggers', 'or', 'true', 'levellers', 'were', 'an', 'early', 'communistic', 'movement', 'during', 'the', 'time', 'of', 'the', 'english', 'civil', 'war', 'and', 'are', 'considered', 'by', 'some', 'as', 'forerunners', 'of', 'modern', 'anarchism', 'in', 'the', 'modern', 'era', 'the', 'first', 'to', 'use', 'the', 'term', 'to', 'mean', 'something', 'other', 'than', 'chaos', 'was', 'louis', 'armand', 'baron', 'de', 'lahontan', 'in', 'his', 'nouveaux', 'voyages', 'dans', 'l', 'am', 'rique', 'septentrionale', 'one', 'seven', 'zero', 'three', 'where', 'he', 'described', 'the', 'indigenous', 'american', 'society', 'which', 'had', 'no', 'state', 'laws', 'prisons', 'priests', 'or', 'private', 'property', 'as', 'being', 'in', 'anarchy', 'russell', 'means', 'a', 'libertarian', 'and', 'leader', 'in', 'the', 'american', 'indian', 'movement', 'has', 'repeatedly', 'stated', 'that', 'he', 'is', 'an', 'anarchist', 'and', 'so', 'are', 'all', 'his', 'ancestors', 'in', 'one', 'seven', 'nine', 'three', 'in', 'the', 'thick', 'of', 'the', 'french', 'revolution', 'william', 'godwin', 'published', 'an', 'enquiry', 'concerning', 'political', 'justice', 'although', 'godwin', 'did', 'not', 'use', 'the', 'word', 'anarchism', 'many', 'later', 'anarchists', 'have', 'regarded', 'this', 'book', 'as', 'the', 'first', 'major', 'anarchist', 'text', 'and', 'godwin', 'as', 'the', 'founder', 'of', 'philosophical', 'anarchism', 'but', 'at', 'this', 'point', 'no', 'anarchist', 'movement', 'yet', 'existed', 'and', 'the', 'term', 'anarchiste', 'was', 'known', 'mainly', 'as', 'an', 'insult', 'hurled', 'by', 'the', 'bourgeois', 'girondins', 'at', 'more', 'radical', 'elements', 'in', 'the', 'french', 'revolution', 'the', 'first', 'self', 'labelled', 'anarchist', 'pierre', 'joseph', 'proudhon', 'it', 'is', 'commonly', 'held', 'that', 'it', 'wasn', 't', 'until', 'pierre', 'joseph', 'proudhon', 'published', 'what', 'is', 'property', 'in', 'one', 'eight', 'four', 'zero', 'that', 'the', 'term', 'anarchist', 'was', 'adopted', 'as', 'a', 'self', 'description', 'it', 'is', 'for', 'this', 'reason', 'that', 'some', 'claim', 'proudhon', 'as', 'the', 'founder', 'of', 'modern', 'anarchist', 'theory', 'in', 'what', 'is', 'property', 'proudhon', 'answers', 'with', 'the', 'famous', 'accusation', 'property', 'is', 'theft', 'in', 'this', 'work', 'he', 'opposed', 'the', 'institution', 'of', 'decreed', 'property', 'propri', 't', 'where', 'owners', 'have', 'complete', 'rights', 'to', 'use', 'and', 'abuse', 'their', 'property', 'as', 'they', 'wish', 'such', 'as', 'exploiting', 'workers', 'for', 'profit', 'in', 'its', 'place', 'proudhon', 'supported', 'what', 'he', 'called', 'possession', 'individuals', 'can', 'have', 'limited', 'rights', 'to', 'use', 'resources', 'capital', 'and', 'goods', 'in', 'accordance', 'with', 'principles', 'of', 'equality', 'and', 'justice', 'proudhon', 's', 'vision', 'of', 'anarchy', 'which', 'he', 'called', 'mutualism', 'mutuellisme', 'involved', 'an', 'exchange', 'economy', 'where', 'individuals', 'and', 'groups', 'could', 'trade', 'the', 'products', 'of', 'their', 'labor', 'using', 'labor', 'notes', 'which', 'represented', 'the', 'amount', 'of', 'working', 'time', 'involved', 'in', 'production', 'this', 'would', 'ensure', 'that', 'no', 'one', 'would', 'profit', 'from', 'the', 'labor', 'of', 'others', 'workers', 'could', 'freely', 'join', 'together', 'in', 'co', 'operative', 'workshops', 'an', 'interest', 'free', 'bank', 'would', 'be', 'set', 'up', 'to', 'provide', 'everyone', 'with', 'access', 'to', 'the', 'means', 'of', 'production', 'proudhon', 's', 'ideas', 'were', 'influential', 'within', 'french', 'working', 'class', 'movements', 'and', 'his', 'followers', 'were', 'active', 'in', 'the', 'revolution', 'of', 'one', 'eight', 'four', 'eight', 'in', 'france', 'proudhon', 's', 'philosophy', 'of', 'property', 'is', 'complex', 'it', 'was', 'developed', 'in', 'a', 'number', 'of', 'works', 'over', 'his', 'lifetime', 'and', 'there', 'are', 'differing', 'interpretations', 'of', 'some', 'of', 'his', 'ideas', 'for', 'more', 'detailed', 'discussion', 'see', 'here', 'max', 'stirner', 's', 'egoism', 'in', 'his', 'the', 'ego', 'and', 'its', 'own', 'stirner', 'argued', 'that', 'most', 'commonly', 'accepted', 'social', 'institutions', 'including', 'the', 'notion', 'of', 'state', 'property', 'as', 'a', 'right', 'natural', 'rights', 'in', 'general', 'and', 'the', 'very', 'notion', 'of', 'society', 'were', 'mere', 'illusions', 'or', 'ghosts', 'in', 'the', 'mind', 'saying', 'of', 'society', 'that', 'the', 'individuals', 'are', 'its', 'reality', 'he', 'advocated', 'egoism', 'and', 'a', 'form', 'of', 'amoralism', 'in', 'which', 'individuals', 'would', 'unite', 'in', 'associations', 'of', 'egoists', 'only', 'when', 'it', 'was', 'in', 'their', 'self', 'interest', 'to', 'do', 'so', 'for', 'him', 'property', 'simply', 'comes', 'about', 'through', 'might', 'whoever', 'knows', 'how', 'to', 'take', 'to', 'defend', 'the', 'thing', 'to', 'him', 'belongs', 'property', 'and', 'what', 'i', 'have', 'in', 'my', 'power', 'that', 'is', 'my', 'own', 'so', 'long', 'as', 'i', 'assert', 'myself', 'as', 'holder', 'i', 'am', 'the', 'proprietor', 'of', 'the', 'thing', 'stirner', 'never', 'called', 'himself', 'an', 'anarchist', 'he', 'accepted', 'only', 'the', 'label', 'egoist', 'nevertheless', 'his', 'ideas', 'were', 'influential', 'on', 'many', 'individualistically', 'inclined', 'anarchists', 'although', 'interpretations', 'of', 'his', 'thought', 'are', 'diverse', 'american', 'individualist', 'anarchism', 'benjamin', 'tucker', 'in', 'one', 'eight', 'two', 'five', 'josiah', 'warren', 'had', 'participated', 'in', 'a', 'communitarian', 'experiment', 'headed', 'by', 'robert', 'owen', 'called', 'new', 'harmony', 'which', 'failed', 'in', 'a', 'few', 'years', 'amidst', 'much', 'internal', 'conflict', 'warren', 'blamed', 'the', 'community', 's', 'failure', 'on', 'a', 'lack', 'of', 'individual', 'sovereignty', 'and', 'a', 'lack', 'of', 'private', 'property', 'warren', 'proceeded', 'to', 'organise', 'experimenal', 'anarchist', 'communities', 'which', 'respected', 'what', 'he', 'called', 'the', 'sovereignty', 'of', 'the', 'individual', 'at', 'utopia', 'and', 'modern', 'times', 'in', 'one', 'eight', 'three', 'three', 'warren', 'wrote', 'and', 'published', 'the', 'peaceful', 'revolutionist', 'which', 'some', 'have', 'noted', 'to', 'be', 'the', 'first', 'anarchist', 'periodical', 'ever', 'published', 'benjamin', 'tucker', 'says', 'that', 'warren', 'was', 'the', 'first', 'man', 'to', 'expound', 'and', 'formulate', 'the', 'doctrine', 'now', 'known', 'as', 'anarchism', 'liberty', 'xiv', 'december', 'one', 'nine', 'zero', 'zero', 'one', 'benjamin', 'tucker', 'became', 'interested', 'in', 'anarchism', 'through', 'meeting', 'josiah', 'warren', 'and', 'william', 'b', 'greene', 'he', 'edited', 'and', 'published', 'liberty', 'from', 'august', 'one', 'eight', 'eight', 'one', 'to', 'april', 'one', 'nine', 'zero', 'eight', 'it', 'is', 'widely', 'considered', 'to', 'be', 'the', 'finest', 'individualist', 'anarchist', 'periodical', 'ever', 'issued', 'in', 'the', 'english', 'language', 'tucker', 's', 'conception', 'of', 'individualist', 'anarchism', 'incorporated', 'the', 'ideas', 'of', 'a', 'variety', 'of', 'theorists', 'greene', 's', 'ideas', 'on', 'mutual', 'banking', 'warren', 's', 'ideas', 'on', 'cost', 'as', 'the', 'limit', 'of', 'price', 'a', 'heterodox', 'variety', 'of', 'labour', 'theory', 'of', 'value', 'proudhon', 's', 'market', 'anarchism', 'max', 'stirner', 's', 'egoism', 'and', 'herbert', 'spencer', 's', 'law', 'of', 'equal', 'freedom', 'tucker', 'strongly', 'supported', 'the', 'individual', 's', 'right', 'to', 'own', 'the', 'product', 'of', 'his', 'or', 'her', 'labour', 'as', 'private', 'property', 'and', 'believed', 'in', 'a', 'market', 'economy', 'for', 'trading', 'this', 'property', 'he', 'argued', 'that', 'in', 'a', 'truly', 'free', 'market', 'system', 'without', 'the', 'state', 'the', 'abundance', 'of', 'competition', 'would', 'eliminate', 'profits', 'and', 'ensure', 'that', 'all', 'workers', 'received', 'the', 'full', 'value', 'of', 'their', 'labor', 'other', 'one', 'nine', 'th', 'century', 'individualists', 'included', 'lysander', 'spooner', 'stephen', 'pearl', 'andrews', 'and', 'victor', 'yarros', 'the', 'first', 'international', 'mikhail', 'bakunin', 'one', 'eight', 'one', 'four', 'one', 'eight', 'seven', 'six', 'in', 'europe', 'harsh', 'reaction', 'followed', 'the', 'revolutions', 'of', 'one', 'eight', 'four', 'eight', 'twenty', 'years', 'later', 'in', 'one', 'eight', 'six', 'four', 'the', 'international', 'workingmen', 's', 'association', 'sometimes', 'called', 'the', 'first', 'international', 'united', 'some', 'diverse', 'european', 'revolutionary', 'currents', 'including', 'anarchism', 'due', 'to', 'its', 'genuine', 'links', 'to', 'active', 'workers', 'movements', 'the', 'international', 'became', 'signficiant', 'from', 'the', 'start', 'karl', 'marx', 'was', 'a', 'leading', 'figure', 'in', 'the', 'international', 'he', 'was', 'elected', 'to', 'every', 'succeeding', 'general', 'council', 'of', 'the', 'association', 'the', 'first', 'objections', 'to', 'marx', 'came', 'from', 'the', 'mutualists', 'who', 'opposed', 'communism', 'and', 'statism', 'shortly', 'after', 'mikhail', 'bakunin', 'and', 'his', 'followers', 'joined', 'in', 'one', 'eight', 'six', 'eight', 'the', 'first', 'international', 'became', 'polarised', 'into', 'two', 'camps', 'with', 'marx', 'and', 'bakunin', 'as', 'their', 'respective', 'figureheads', 'the', 'clearest', 'difference', 'between', 'the', 'camps', 'was', 'over', 'strategy', 'the', 'anarchists', 'around', 'bakunin', 'favoured', 'in', 'kropotkin', 's', 'words', 'direct', 'economical', 'struggle', 'against', 'capitalism', 'without', 'interfering', 'in', 'the', 'political', 'parliamentary', 'agitation', 'at', 'that', 'time', 'marx', 'and', 'his', 'followers', 'focused', 'on', 'parliamentary', 'activity', 'bakunin', 'characterised', 'marx', 's', 'ideas', 'as', 'authoritarian', 'and', 'predicted', 'that', 'if', 'a', 'marxist', 'party', 'gained', 'to', 'power', 'its', 'leaders', 'would', 'end', 'up', 'as', 'bad', 'as', 'the', 'ruling', 'class', 'they', 'had', 'fought', 'against', 'in', 'one', 'eight', 'seven', 'two', 'the', 'conflict', 'climaxed', 'with', 'a', 'final', 'split', 'between', 'the', 'two', 'groups', 'at', 'the', 'hague', 'congress', 'this', 'is', 'often', 'cited', 'as', 'the', 'origin', 'of', 'the', 'conflict', 'between', 'anarchists', 'and', 'marxists', 'from', 'this', 'moment', 'the', 'social', 'democratic', 'and', 'libertarian', 'currents', 'of', 'socialism', 'had', 'distinct', 'organisations', 'including', 'rival', 'internationals', 'anarchist', 'communism', 'peter', 'kropotkin', 'proudhon', 'and', 'bakunin', 'both', 'opposed', 'communism', 'associating', 'it', 'with', 'statism', 'however', 'in', 'the', 'one', 'eight', 'seven', 'zero', 's', 'many', 'anarchists', 'moved', 'away', 'from', 'bakunin', 's', 'economic', 'thinking', 'called', 'collectivism', 'and', 'embraced', 'communist', 'concepts', 'communists', 'believed', 'the', 'means', 'of', 'production', 'should', 'be', 'owned', 'collectively', 'and', 'that', 'goods', 'be', 'distributed', 'by', 'need', 'not', 'labor', 'an', 'early', 'anarchist', 'communist', 'was', 'joseph', 'd', 'jacque', 'the', 'first', 'person', 'to', 'describe', 'himself', 'as', 'libertarian', 'unlike', 'proudhon', 'he', 'argued', 'that', 'it', 'is', 'not', 'the', 'product', 'of', 'his', 'or', 'her', 'labor', 'that', 'the', 'worker', 'has', 'a', 'right', 'to', 'but', 'to', 'the', 'satisfaction', 'of', 'his', 'or', 'her', 'needs', 'whatever', 'may', 'be', 'their', 'nature', 'he', 'announced', 'his', 'ideas', 'in', 'his', 'us', 'published', 'journal', 'le', 'libertaire', 'one', 'eight', 'five', 'eight', 'one', 'eight', 'six', 'one', 'peter', 'kropotkin', 'often', 'seen', 'as', 'the', 'most', 'important', 'theorist', 'outlined', 'his', 'economic', 'ideas', 'in', 'the', 'conquest', 'of', 'bread', 'and', 'fields', 'factories', 'and', 'workshops', 'he', 'felt', 'co', 'operation', 'is', 'more', 'beneficial', 'than', 'competition', 'illustrated', 'in', 'nature', 'in', 'mutual', 'aid', 'a', 'factor', 'of', 'evolution', 'one', 'eight', 'nine', 'seven', 'subsequent', 'anarchist', 'communists', 'include', 'emma', 'goldman', 'and', 'alexander', 'berkman', 'many', 'in', 'the', 'anarcho', 'syndicalist', 'movements', 'see', 'below', 'saw', 'anarchist', 'communism', 'as', 'their', 'objective', 'isaac', 'puente', 's', 'one', 'nine', 'three', 'two', 'comunismo', 'libertario', 'was', 'adopted', 'by', 'the', 'spanish', 'cnt', 'as', 'its', 'manifesto', 'for', 'a', 'post', 'revolutionary', 'society', 'some', 'anarchists', 'disliked', 'merging', 'communism', 'with', 'anarchism', 'several', 'individualist', 'anarchists', 'maintained', 'that', 'abolition', 'of', 'private', 'property', 'was', 'not', 'consistent', 'with', 'liberty', 'for', 'example', 'benjamin', 'tucker', 'whilst', 'professing', 'respect', 'for', 'kropotkin', 'and', 'publishing', 'his', 'work', 'described', 'communist', 'anarchism', 'as', 'pseudo', 'anarchism', 'propaganda', 'of', 'the', 'deed', 'johann', 'most', 'was', 'an', 'outspoken', 'advocate', 'of', 'violence', 'anarchists', 'have', 'often', 'been', 'portrayed', 'as', 'dangerous', 'and', 'violent', 'due', 'mainly', 'to', 'a', 'number', 'of', 'high', 'profile', 'violent', 'acts', 'including', 'riots', 'assassinations', 'insurrections', 'and', 'terrorism', 'by', 'some', 'anarchists', 'some', 'revolutionaries', 'of', 'the', 'late', 'one', 'nine', 'th', 'century', 'encouraged', 'acts', 'of', 'political', 'violence', 'such', 'as', 'bombings', 'and', 'the', 'assassinations', 'of', 'heads', 'of', 'state', 'to', 'further', 'anarchism', 'such', 'actions', 'have', 'sometimes', 'been', 'called', 'propaganda', 'by', 'the', 'deed', 'one', 'of', 'the', 'more', 'outspoken', 'advocates', 'of', 'this', 'strategy', 'was', 'johann', 'most', 'who', 'said', 'the', 'existing', 'system', 'will', 'be', 'quickest', 'and', 'most', 'radically', 'overthrown', 'by', 'the', 'annihilation', 'of', 'its', 'exponents', 'therefore', 'massacres', 'of', 'the', 'enemies', 'of', 'the', 'people', 'must', 'be', 'set', 'in', 'motion', 'most', 's', 'preferred', 'method', 'of', 'terrorism', 'dynamite', 'earned', 'him', 'the', 'moniker', 'dynamost', 'however', 'there', 'is', 'no', 'consensus', 'on', 'the', 'legitimacy', 'or', 'utility', 'of', 'violence', 'in', 'general', 'mikhail', 'bakunin', 'and', 'errico', 'malatesta', 'for', 'example', 'wrote', 'of', 'violence', 'as', 'a', 'necessary', 'and', 'sometimes', 'desirable', 'force', 'in', 'revolutionary', 'settings', 'but', 'at', 'the', 'same', 'time', 'they', 'denounced', 'acts', 'of', 'individual', 'terrorism', 'malatesta', 'in', 'on', 'violence', 'and', 'bakunin', 'when', 'he', 'refuted', 'nechaev', 'other', 'anarchists', 'sometimes', 'identified', 'as', 'pacifist', 'anarchists', 'advocated', 'complete', 'nonviolence', 'leo', 'tolstoy', 'whose', 'philosophy', 'is', 'often', 'viewed', 'as', 'a', 'form', 'of', 'christian', 'anarchism', 'see', 'below', 'was', 'a', 'notable', 'exponent', 'of', 'nonviolent', 'resistance', 'anarchism', 'in', 'the', 'labour', 'movement', 'the', 'red', 'and', 'black', 'flag', 'coming', 'from', 'the', 'experience', 'of', 'anarchists', 'in', 'the', 'labour', 'movement', 'is', 'particularly', 'associated', 'with', 'anarcho', 'syndicalism', 'anarcho', 'syndicalism', 'was', 'an', 'early', 'two', 'zero', 'th', 'century', 'working', 'class', 'movement', 'seeking', 'to', 'overthrow', 'capitalism', 'and', 'the', 'state', 'to', 'institute', 'a', 'worker', 'controlled', 'society', 'the', 'movement', 'pursued', 'industrial', 'actions', 'such', 'as', 'general', 'strike', 'as', 'a', 'primary', 'strategy', 'many', 'anarcho', 'syndicalists', 'believed', 'in', 'anarchist', 'communism', 'though', 'not', 'all', 'communists', 'believed', 'in', 'syndicalism', 'after', 'the', 'one', 'eight', 'seven', 'one', 'repression', 'french', 'anarchism', 'reemerged', 'influencing', 'the', 'bourses', 'de', 'travails', 'of', 'autonomous', 'workers', 'groups', 'and', 'trade', 'unions', 'from', 'this', 'movement', 'the', 'conf', 'd', 'ration', 'g', 'n', 'rale', 'du', 'travail', 'general', 'confederation', 'of', 'work', 'cgt', 'was', 'formed', 'in', 'one', 'eight', 'nine', 'five', 'as', 'the', 'first', 'major', 'anarcho', 'syndicalist', 'movement', 'emile', 'pataud', 'and', 'emile', 'pouget', 's', 'writing', 'for', 'the', 'cgt', 'saw', 'libertarian', 'communism', 'developing', 'from', 'a', 'general', 'strike', 'after', 'one', 'nine', 'one', 'four', 'the', 'cgt', 'moved', 'away', 'from', 'anarcho', 'syndicalism', 'due', 'to', 'the', 'appeal', 'of', 'bolshevism', 'french', 'style', 'syndicalism', 'was', 'a', 'significant', 'movement', 'in', 'europe', 'prior', 'to', 'one', 'nine', 'two', 'one', 'and', 'remained', 'a', 'significant', 'movement', 'in', 'spain', 'until', 'the', 'mid', 'one', 'nine', 'four', 'zero', 's', 'the', 'industrial', 'workers', 'of', 'the', 'world', 'iww', 'founded', 'in', 'one', 'nine', 'zero', 'five', 'in', 'the', 'us', 'espoused', 'unionism', 'and', 'sought', 'a', 'general', 'strike', 'to', 'usher', 'in', 'a', 'stateless', 'society', 'in', 'one', 'nine', 'two', 'three', 'one', 'zero', 'zero', 'zero', 'zero', 'zero', 'members', 'existed', 'with', 'the', 'support', 'of', 'up', 'to', 'three', 'zero', 'zero', 'zero', 'zero', 'zero', 'though', 'not', 'explicitly', 'anarchist', 'they', 'organized', 'by', 'rank', 'and', 'file', 'democracy', 'embodying', 'a', 'spirit', 'of', 'resistance', 'that', 'has', 'inspired', 'many', 'anglophone', 'syndicalists', 'cnt', 'propaganda', 'from', 'april', 'two', 'zero', 'zero', 'four', 'reads', 'don', 't', 'let', 'the', 'politicians', 'rule', 'our', 'lives', 'you', 'vote', 'and', 'they', 'decide', 'don', 't', 'allow', 'it', 'unity', 'action', 'self', 'management', 'spanish', 'anarchist', 'trade', 'union', 'federations', 'were', 'formed', 'in', 'the', 'one', 'eight', 'seven', 'zero', 's', 'one', 'nine', 'zero', 'zero', 'and', 'one', 'nine', 'one', 'zero', 'the', 'most', 'successful', 'was', 'the', 'confederaci', 'n', 'nacional', 'del', 'trabajo', 'national', 'confederation', 'of', 'labour', 'cnt', 'founded', 'in', 'one', 'nine', 'one', 'zero', 'prior', 'to', 'the', 'one', 'nine', 'four', 'zero', 's', 'the', 'cnt', 'was', 'the', 'major', 'force', 'in', 'spanish', 'working', 'class', 'politics', 'with', 'a', 'membership', 'of', 'one', 'five', 'eight', 'million', 'in', 'one', 'nine', 'three', 'four', 'the', 'cnt', 'played', 'a', 'major', 'role', 'in', 'the', 'spanish', 'civil', 'war', 'see', 'also', 'anarchism', 'in', 'spain', 'syndicalists', 'like', 'ricardo', 'flores', 'mag', 'n', 'were', 'key', 'figures', 'in', 'the', 'mexican', 'revolution', 'latin', 'american', 'anarchism', 'was', 'strongly', 'influenced', 'extending', 'to', 'the', 'zapatista', 'rebellion', 'and', 'the', 'factory', 'occupation', 'movements', 'in', 'argentina', 'in', 'berlin', 'in', 'one', 'nine', 'two', 'two', 'the', 'cnt', 'was', 'joined', 'with', 'the', 'international', 'workers', 'association', 'an', 'anarcho', 'syndicalist', 'successor', 'to', 'the', 'first', 'international', 'contemporary', 'anarcho', 'syndicalism', 'continues', 'as', 'a', 'minor', 'force', 'in', 'many', 'socities', 'much', 'smaller', 'than', 'in', 'the', 'one', 'nine', 'one', 'zero', 's', 'two', 'zero', 's', 'and', 'three', 'zero', 's', 'the', 'largest', 'organised', 'anarchist', 'movement', 'today', 'is', 'in', 'spain', 'in', 'the', 'form', 'of', 'the', 'confederaci', 'n', 'general', 'del', 'trabajo', 'and', 'the', 'cnt', 'the', 'cgt', 'claims', 'a', 'paid', 'up', 'membership', 'of', 'six', 'zero', 'zero', 'zero', 'zero', 'and', 'received', 'over', 'a', 'million', 'votes', 'in', 'spanish', 'syndical', 'elections', 'other', 'active', 'syndicalist', 'movements', 'include', 'the', 'us', 'workers', 'solidarity', 'alliance', 'and', 'the', 'uk', 'solidarity', 'federation', 'the', 'revolutionary', 'industrial', 'unionist', 'industrial', 'workers', 'of', 'the', 'world', 'also', 'exists', 'claiming', 'two', 'zero', 'zero', 'zero', 'paid', 'members', 'contemporary', 'critics', 'of', 'anarcho', 'syndicalism', 'and', 'revolutionary', 'industrial', 'unionism', 'claim', 'that', 'they', 'are', 'workerist', 'and', 'fail', 'to', 'deal', 'with', 'economic', 'life', 'outside', 'work', 'post', 'leftist', 'critics', 'such', 'as', 'bob', 'black', 'claim', 'anarcho', 'syndicalism', 'advocates', 'oppressive', 'social', 'structures', 'such', 'as', 'work', 'and', 'the', 'workplace', 'anarcho', 'syndicalists', 'in', 'general', 'uphold', 'principles', 'of', 'workers', 'solidarity', 'direct', 'action', 'and', 'self', 'management', 'the', 'russian', 'revolution', 'the', 'russian', 'revolution', 'of', 'one', 'nine', 'one', 'seven', 'was', 'a', 'seismic', 'event', 'in', 'the', 'development', 'of', 'anarchism', 'as', 'a', 'movement', 'and', 'as', 'a', 'philosophy', 'anarchists', 'participated', 'alongside', 'the', 'bolsheviks', 'in', 'both', 'february', 'and', 'october', 'revolutions', 'many', 'anarchists', 'initially', 'supporting', 'the', 'bolshevik', 'coup', 'however', 'the', 'bolsheviks', 'soon', 'turned', 'against', 'the', 'anarchists', 'and', 'other', 'left', 'wing', 'opposition', 'a', 'conflict', 'which', 'culminated', 'in', 'the', 'one', 'nine', 'one', 'eight', 'kronstadt', 'rebellion', 'anarchists', 'in', 'central', 'russia', 'were', 'imprisoned', 'or', 'driven', 'underground', 'or', 'joined', 'the', 'victorious', 'bolsheviks', 'in', 'ukraine', 'anarchists', 'fought', 'in', 'the', 'civil', 'war', 'against', 'both', 'whites', 'and', 'bolsheviks', 'within', 'the', 'makhnovshchina', 'peasant', 'army', 'led', 'by', 'nestor', 'makhno', 'expelled', 'american', 'anarchists', 'emma', 'goldman', 'and', 'alexander', 'berkman', 'before', 'leaving', 'russia', 'were', 'amongst', 'those', 'agitating', 'in', 'response', 'to', 'bolshevik', 'policy', 'and', 'the', 'suppression', 'of', 'the', 'kronstadt', 'uprising', 'both', 'wrote', 'classic', 'accounts', 'of', 'their', 'experiences', 'in', 'russia', 'aiming', 'to', 'expose', 'the', 'reality', 'of', 'bolshevik', 'control', 'for', 'them', 'bakunin', 's', 'predictions', 'about', 'the', 'consequences', 'of', 'marxist', 'rule', 'had', 'proved', 'all', 'too', 'true', 'the', 'victory', 'of', 'the', 'bolsheviks', 'in', 'the', 'october', 'revolution', 'and', 'the', 'resulting', 'russian', 'civil', 'war', 'did', 'serious', 'damage', 'to', 'anarchist', 'movements', 'internationally', 'many', 'workers', 'and', 'activists', 'saw', 'bolshevik', 'success', 'as', 'setting', 'an', 'example', 'communist', 'parties', 'grew', 'at', 'the', 'expense', 'of', 'anarchism', 'and', 'other', 'socialist', 'movements', 'in', 'france', 'and', 'the', 'us', 'for', 'example', 'the', 'major', 'syndicalist', 'movements', 'of', 'the', 'cgt', 'and', 'iww', 'began', 'to', 'realign', 'themselves', 'away', 'from', 'anarchism', 'and', 'towards', 'the', 'communist', 'international', 'in', 'paris', 'the', 'dielo', 'truda', 'group', 'of', 'russian', 'anarchist', 'exiles', 'which', 'included', 'nestor', 'makhno', 'concluded', 'that', 'anarchists', 'needed', 'to', 'develop', 'new', 'forms', 'of', 'organisation', 'in', 'response', 'to', 'the', 'structures', 'of', 'bolshevism', 'their', 'one', 'nine', 'two', 'six', 'manifesto', 'known', 'as', 'the', 'organisational', 'platform', 'of', 'the', 'libertarian', 'communists', 'was', 'supported', 'by', 'some', 'communist', 'anarchists', 'though', 'opposed', 'by', 'many', 'others', 'the', 'platform', 'continues', 'to', 'inspire', 'some', 'contemporary', 'anarchist', 'groups', 'who', 'believe', 'in', 'an', 'anarchist', 'movement', 'organised', 'around', 'its', 'principles', 'of', 'theoretical', 'unity', 'tactical', 'unity', 'collective', 'responsibility', 'and', 'federalism', 'platformist', 'groups', 'today', 'include', 'the', 'workers', 'solidarity', 'movement', 'in', 'ireland', 'the', 'uk', 's', 'anarchist', 'federation', 'and', 'the', 'late', 'north', 'eastern', 'federation', 'of', 'anarchist', 'communists', 'in', 'the', 'northeastern', 'united', 'states', 'and', 'bordering', 'canada', 'the', 'fight', 'against', 'fascism', 'spain', 'one', 'nine', 'three', 'six', 'members', 'of', 'the', 'cnt', 'construct', 'armoured', 'cars', 'to', 'fight', 'against', 'the', 'fascists', 'in', 'one', 'of', 'the', 'collectivised', 'factories', 'in', 'the', 'one', 'nine', 'two', 'zero', 's', 'and', 'one', 'nine', 'three', 'zero', 's', 'the', 'familiar', 'dynamics', 'of', 'anarchism', 's', 'conflict', 'with', 'the', 'state', 'were', 'transformed', 'by', 'the', 'rise', 'of', 'fascism', 'in', 'europe', 'in', 'many', 'cases', 'european', 'anarchists', 'faced', 'difficult', 'choices', 'should', 'they', 'join', 'in', 'popular', 'fronts', 'with', 'reformist', 'democrats', 'and', 'soviet', 'led', 'communists', 'against', 'a', 'common', 'fascist', 'enemy', 'luigi', 'fabbri', 'an', 'exile', 'from', 'italian', 'fascism', 'was', 'amongst', 'those', 'arguing', 'that', 'fascism', 'was', 'something', 'different', 'fascism', 'is', 'not', 'just', 'another', 'form', 'of', 'government', 'which', 'like', 'all', 'others', 'uses', 'violence', 'it', 'is', 'the', 'most', 'authoritarian', 'and', 'the', 'most', 'violent', 'form', 'of', 'government', 'imaginable', 'it', 'represents', 'the', 'utmost', 'glorification', 'of', 'the', 'theory', 'and', 'practice', 'of', 'the', 'principle', 'of', 'authority', 'in', 'france', 'where', 'the', 'fascists', 'came', 'close', 'to', 'insurrection', 'in', 'the', 'february', 'one', 'nine', 'three', 'four', 'riots', 'anarchists', 'divided', 'over', 'a', 'united', 'front', 'policy', 'in', 'spain', 'the', 'cnt', 'initially', 'refused', 'to', 'join', 'a', 'popular', 'front', 'electoral', 'alliance', 'and', 'abstention', 'by', 'cnt', 'supporters', 'led', 'to', 'a', 'right', 'wing', 'election', 'victory', 'but', 'in', 'one', 'nine', 'three', 'six', 'the', 'cnt', 'changed', 'its', 'policy', 'and', 'anarchist', 'votes', 'helped', 'bring', 'the', 'popular', 'front', 'back', 'to', 'power', 'months', 'later', 'the', 'ruling', 'class', 'responded', 'with', 'an', 'attempted', 'coup', 'and', 'the', 'spanish', 'civil', 'war', 'one', 'nine', 'three', 'six', 'three', 'nine', 'was', 'underway', 'in', 'reponse', 'to', 'the', 'army', 'rebellion', 'an', 'anarchist', 'inspired', 'movement', 'of', 'peasants', 'and', 'workers', 'supported', 'by', 'armed', 'militias', 'took', 'control', 'of', 'the', 'major', 'city', 'of', 'barcelona', 'and', 'of', 'large', 'areas', 'of', 'rural', 'spain', 'where', 'they', 'collectivized', 'the', 'land', 'but', 'even', 'before', 'the', 'eventual', 'fascist', 'victory', 'in', 'one', 'nine', 'three', 'nine', 'the', 'anarchists', 'were', 'losing', 'ground', 'in', 'a', 'bitter', 'struggle', 'with', 'the', 'stalinists', 'the', 'cnt', 'leadership', 'often', 'appeared', 'confused', 'and', 'divided', 'with', 'some', 'members', 'controversially', 'entering', 'the', 'government', 'stalinist', 'led', 'troops', 'suppressed', 'the', 'collectives', 'and', 'persecuted', 'both', 'dissident', 'marxists', 'and', 'anarchists', 'since', 'the', 'late', 'one', 'nine', 'seven', 'zero', 's', 'anarchists', 'have', 'been', 'involved', 'in', 'fighting', 'the', 'rise', 'of', 'neo', 'fascist', 'groups', 'in', 'germany', 'and', 'the', 'united', 'kingdom', 'some', 'anarchists', 'worked', 'within', 'militant', 'anti', 'fascist', 'groups', 'alongside', 'members', 'of', 'the', 'marxist', 'left', 'they', 'advocated', 'directly', 'combating', 'fascists', 'with', 'physical', 'force', 'rather', 'than', 'relying', 'on', 'the', 'state', 'since', 'the', 'late', 'one', 'nine', 'nine', 'zero', 's', 'a', 'similar', 'tendency', 'has', 'developed', 'within', 'us', 'anarchism', 'see', 'also', 'anti', 'racist', 'action', 'us', 'anti', 'fascist', 'action', 'uk', 'antifa', 'religious', 'anarchism', 'leo', 'tolstoy', 'one', 'eight', 'two', 'eight', 'one', 'nine', 'one', 'zero', 'most', 'anarchist', 'culture', 'tends', 'to', 'be', 'secular', 'if', 'not', 'outright', 'anti', 'religious', 'however', 'the', 'combination', 'of', 'religious', 'social', 'conscience', 'historical', 'religiousity', 'amongst', 'oppressed', 'social', 'classes', 'and', 'the', 'compatibility', 'of', 'some', 'interpretations', 'of', 'religious', 'traditions', 'with', 'anarchism', 'has', 'resulted', 'in', 'religious', 'anarchism', 'christian', 'anarchists', 'believe', 'that', 'there', 'is', 'no', 'higher', 'authority', 'than', 'god', 'and', 'oppose', 'earthly', 'authority', 'such', 'as', 'government', 'and', 'established', 'churches', 'they', 'believe', 'that', 'jesus', 'teachings', 'were', 'clearly', 'anarchistic', 'but', 'were', 'corrupted', 'when', 'christianity', 'was', 'declared', 'the', 'official', 'religion', 'of', 'rome', 'christian', 'anarchists', 'who', 'follow', 'jesus', 'directive', 'to', 'turn', 'the', 'other', 'cheek', 'are', 'strict', 'pacifists', 'the', 'most', 'famous', 'advocate', 'of', 'christian', 'anarchism', 'was', 'leo', 'tolstoy', 'author', 'of', 'the', 'kingdom', 'of', 'god', 'is', 'within', 'you', 'who', 'called', 'for', 'a', 'society', 'based', 'on', 'compassion', 'nonviolent', 'principles', 'and', 'freedom', 'christian', 'anarchists', 'tend', 'to', 'form', 'experimental', 'communities', 'they', 'also', 'occasionally', 'resist', 'taxation', 'many', 'christian', 'anarchists', 'are', 'vegetarian', 'or', 'vegan', 'christian', 'anarchy', 'can', 'be', 'said', 'to', 'have', 'roots', 'as', 'old', 'as', 'the', 'religion', 's', 'birth', 'as', 'the', 'early', 'church', 'exhibits', 'many', 'anarchistic', 'tendencies', 'such', 'as', 'communal', 'goods', 'and', 'wealth', 'by', 'aiming', 'to', 'obey', 'utterly', 'certain', 'of', 'the', 'bible', 's', 'teachings', 'certain', 'anabaptist', 'groups', 'of', 'sixteenth', 'century', 'europe', 'attempted', 'to', 'emulate', 'the', 'early', 'church', 's', 'social', 'economic', 'organisation', 'and', 'philosophy', 'by', 'regarding', 'it', 'as', 'the', 'only', 'social', 'structure', 'capable', 'of', 'true', 'obediance', 'to', 'jesus', 'teachings', 'and', 'utterly', 'rejected', 'in', 'theory', 'all', 'earthly', 'hierarchies', 'and', 'authority', 'and', 'indeed', 'non', 'anabaptists', 'in', 'general', 'and', 'violence', 'as', 'ungodly', 'such', 'groups', 'for', 'example', 'the', 'hutterites', 'typically', 'went', 'from', 'initially', 'anarchistic', 'beginnings', 'to', 'as', 'their', 'movements', 'stabalised', 'more', 'authoritarian', 'social', 'models', 'chinese', 'anarchism', 'was', 'most', 'influential', 'in', 'the', 'one', 'nine', 'two', 'zero', 's', 'strands', 'of', 'chinese', 'anarchism', 'included', 'tai', 'xu', 's', 'buddhist', 'anarchism', 'which', 'was', 'influenced', 'by', 'tolstoy', 'and', 'the', 'well', 'field', 'system', 'neopaganism', 'with', 'its', 'focus', 'on', 'the', 'environment', 'and', 'equality', 'along', 'with', 'its', 'often', 'decentralized', 'nature', 'has', 'lead', 'to', 'a', 'number', 'of', 'neopagan', 'anarchists', 'one', 'of', 'the', 'most', 'prominent', 'is', 'starhawk', 'who', 'writes', 'extensively', 'about', 'both', 'spirituality', 'and', 'activism', 'anarchism', 'and', 'feminism', 'emma', 'goldman', 'early', 'french', 'feminists', 'such', 'as', 'jenny', 'd', 'h', 'ricourt', 'and', 'juliette', 'adam', 'criticised', 'the', 'mysogyny', 'in', 'the', 'anarchism', 'of', 'proudhon', 'during', 'the', 'one', 'eight', 'five', 'zero', 's', 'anarcha', 'feminism', 'is', 'a', 'kind', 'of', 'radical', 'feminism', 'that', 'espouses', 'the', 'belief', 'that', 'patriarchy', 'is', 'a', 'fundamental', 'problem', 'in', 'society', 'while', 'anarchist', 'feminism', 'has', 'existed', 'for', 'more', 'than', 'a', 'hundred', 'years', 'its', 'explicit', 'formulation', 'as', 'anarcha', 'feminism', 'dates', 'back', 'to', 'the', 'early', 'seven', 'zero', 's', 'during', 'the', 'second', 'wave', 'feminist', 'movement', 'anarcha', 'feminism', 'views', 'patriarchy', 'as', 'the', 'first', 'manifestation', 'of', 'hierarchy', 'in', 'human', 'history', 'thus', 'the', 'first', 'form', 'of', 'oppression', 'occurred', 'in', 'the', 'dominance', 'of', 'male', 'over', 'female', 'anarcha', 'feminists', 'then', 'conclude', 'that', 'if', 'feminists', 'are', 'against', 'patriarchy', 'they', 'must', 'also', 'be', 'against', 'all', 'forms', 'of', 'hierarchy', 'and', 'therefore', 'must', 'reject', 'the', 'authoritarian', 'nature', 'of', 'the', 'state', 'and', 'capitalism', 'anarcho', 'primitivists', 'see', 'the', 'creation', 'of', 'gender', 'roles', 'and', 'patriarchy', 'a', 'creation', 'of', 'the', 'start', 'of', 'civilization', 'and', 'therefore', 'consider', 'primitivism', 'to', 'also', 'be', 'an', 'anarchist', 'school', 'of', 'thought', 'that', 'addresses', 'feminist', 'concerns', 'eco', 'feminism', 'is', 'often', 'considered', 'a', 'feminist', 'variant', 'of', 'green', 'anarchist', 'feminist', 'thought', 'anarcha', 'feminism', 'is', 'most', 'often', 'associated', 'with', 'early', 'two', 'zero', 'th', 'century', 'authors', 'and', 'theorists', 'such', 'as', 'emma', 'goldman', 'and', 'voltairine', 'de', 'cleyre', 'although', 'even', 'early', 'first', 'wave', 'feminist', 'mary', 'wollstonecraft', 'held', 'proto', 'anarchist', 'views', 'and', 'william', 'godwin', 'is', 'often', 'considered', 'a', 'feminist', 'anarchist', 'precursor', 'it', 'should', 'be', 'noted', 'that', 'goldman', 'and', 'de', 'cleyre', 'though', 'they', 'both', 'opposed', 'the', 'state', 'had', 'opposing', 'philosophies', 'as', 'de', 'cleyre', 'explains', 'miss', 'goldman', 'is', 'a', 'communist', 'i', 'am', 'an', 'individualist', 'she', 'wishes', 'to', 'destroy', 'the', 'right', 'of', 'property', 'i', 'wish', 'to', 'assert', 'it', 'i', 'make', 'my', 'war', 'upon', 'privilege', 'and', 'authority', 'whereby', 'the', 'right', 'of', 'property', 'the', 'true', 'right', 'in', 'that', 'which', 'is', 'proper', 'to', 'the', 'individual', 'is', 'annihilated', 'she', 'believes', 'that', 'co', 'operation', 'would', 'entirely', 'supplant', 'competition', 'i', 'hold', 'that', 'competition', 'in', 'one', 'form', 'or', 'another', 'will', 'always', 'exist', 'and', 'that', 'it', 'is', 'highly', 'desirable', 'it', 'should', 'in', 'the', 'spanish', 'civil', 'war', 'an', 'anarcha', 'feminist', 'group', 'free', 'women', 'organized', 'to', 'defend', 'both', 'anarchist', 'and', 'feminist', 'ideas', 'in', 'the', 'modern', 'day', 'anarchist', 'movement', 'many', 'anarchists', 'male', 'or', 'female', 'consider', 'themselves', 'feminists', 'and', 'anarcha', 'feminist', 'ideas', 'are', 'growing', 'the', 'publishing', 'of', 'quiet', 'rumors', 'an', 'anarcha', 'feminist', 'reader', 'has', 'helped', 'to', 'spread', 'various', 'kinds', 'of', 'anti', 'authoritarian', 'and', 'anarchist', 'feminist', 'ideas', 'to', 'the', 'broader', 'movement', 'wendy', 'mcelroy', 'has', 'popularized', 'an', 'individualist', 'anarchism', 'take', 'on', 'feminism', 'in', 'her', 'books', 'articles', 'and', 'individualist', 'feminist', 'website', 'anarcho', 'capitalism', 'murray', 'rothbard', 'one', 'nine', 'two', 'six', 'one', 'nine', 'nine', 'five', 'anarcho', 'capitalism', 'is', 'a', 'predominantly', 'united', 'states', 'based', 'theoretical', 'tradition', 'that', 'desires', 'a', 'stateless', 'society', 'with', 'the', 'economic', 'system', 'of', 'free', 'market', 'capitalism', 'unlike', 'other', 'branches', 'of', 'anarchism', 'it', 'does', 'not', 'oppose', 'profit', 'or', 'capitalism', 'consequently', 'most', 'anarchists', 'do', 'not', 'recognise', 'anarcho', 'capitalism', 'as', 'a', 'form', 'of', 'anarchism', 'murray', 'rothbard', 's', 'synthesis', 'of', 'classical', 'liberalism', 'and', 'austrian', 'economics', 'was', 'germinal', 'for', 'the', 'development', 'of', 'contemporary', 'anarcho', 'capitalist', 'theory', 'he', 'defines', 'anarcho', 'capitalism', 'in', 'terms', 'of', 'the', 'non', 'aggression', 'principle', 'based', 'on', 'the', 'concept', 'of', 'natural', 'law', 'competiting', 'theorists', 'use', 'egoism', 'utilitarianism', 'used', 'by', 'david', 'friedman', 'or', 'contractarianism', 'used', 'by', 'jan', 'narveson', 'some', 'minarchists', 'such', 'as', 'ayn', 'rand', 'robert', 'nozick', 'and', 'robert', 'a', 'heinlein', 'have', 'influenced', 'anarcho', 'capitalism', 'some', 'anarcho', 'capitalists', 'along', 'with', 'some', 'right', 'wing', 'libertarian', 'historians', 'such', 'as', 'david', 'hart', 'and', 'ralph', 'raico', 'considered', 'similar', 'philosophies', 'existing', 'prior', 'to', 'rothbard', 'to', 'be', 'anarcho', 'capitalist', 'such', 'as', 'those', 'of', 'gustave', 'de', 'molinari', 'and', 'auberon', 'herbert', 'opponents', 'of', 'anarcho', 'capitalists', 'dispute', 'these', 'claims', 'the', 'place', 'of', 'anarcho', 'capitalism', 'within', 'anarchism', 'and', 'indeed', 'whether', 'it', 'is', 'a', 'form', 'of', 'anarchism', 'at', 'all', 'is', 'highly', 'controversial', 'for', 'more', 'on', 'this', 'debate', 'see', 'anarchism', 'and', 'anarcho', 'capitalism', 'anarchism', 'and', 'the', 'environment', 'since', 'the', 'late', 'one', 'nine', 'seven', 'zero', 's', 'anarchists', 'in', 'anglophone', 'and', 'european', 'countries', 'have', 'been', 'taking', 'action', 'for', 'the', 'natural', 'environment', 'eco', 'anarchists', 'or', 'green', 'anarchists', 'believe', 'in', 'deep', 'ecology', 'this', 'is', 'a', 'worldview', 'that', 'embraces', 'biodiversity', 'and', 'sustainability', 'eco', 'anarchists', 'often', 'use', 'direct', 'action', 'against', 'what', 'they', 'see', 'as', 'earth', 'destroying', 'institutions', 'of', 'particular', 'importance', 'is', 'the', 'earth', 'first', 'movement', 'that', 'takes', 'action', 'such', 'as', 'tree', 'sitting', 'another', 'important', 'component', 'is', 'ecofeminism', 'which', 'sees', 'the', 'domination', 'of', 'nature', 'as', 'a', 'metaphor', 'for', 'the', 'domination', 'of', 'women', 'green', 'anarchism', 'also', 'involves', 'a', 'critique', 'of', 'industrial', 'capitalism', 'and', 'for', 'some', 'green', 'anarchists', 'civilization', 'itself', 'primitivism', 'is', 'a', 'predominantly', 'western', 'philosophy', 'that', 'advocates', 'a', 'return', 'to', 'a', 'pre', 'industrial', 'and', 'usually', 'pre', 'agricultural', 'society', 'it', 'develops', 'a', 'critique', 'of', 'industrial', 'civilization', 'in', 'this', 'critique', 'technology', 'and', 'development', 'have', 'alienated', 'people', 'from', 'the', 'natural', 'world', 'this', 'philosophy', 'develops', 'themes', 'present', 'in', 'the', 'political', 'action', 'of', 'the', 'luddites', 'and', 'the', 'writings', 'of', 'jean', 'jacques', 'rousseau', 'primitivism', 'developed', 'in', 'the', 'context', 'of', 'the', 'reclaim', 'the', 'streets', 'earth', 'first', 'and', 'the', 'earth', 'liberation', 'front', 'movements', 'john', 'zerzan', 'wrote', 'that', 'civilization', 'not', 'just', 'the', 'state', 'would', 'need', 'to', 'fall', 'for', 'anarchy', 'to', 'be', 'achieved', 'anarcho', 'primitivists', 'point', 'to', 'the', 'anti', 'authoritarian', 'nature', 'of', 'many', 'primitive', 'or', 'hunter', 'gatherer', 'societies', 'throughout', 'the', 'world', 's', 'history', 'as', 'examples', 'of', 'anarchist', 'societies', 'other', 'branches', 'and', 'offshoots', 'anarchism', 'generates', 'many', 'eclectic', 'and', 'syncretic', 'philosophies', 'and', 'movements', 'since', 'the', 'western', 'social', 'formet', 'in', 'the', 'one', 'nine', 'six', 'zero', 's', 'and', 'one', 'nine', 'seven', 'zero', 's', 'a', 'number', 'new', 'of', 'movements', 'and', 'schools', 'have', 'appeared', 'most', 'of', 'these', 'stances', 'are', 'limited', 'to', 'even', 'smaller', 'numbers', 'than', 'the', 'schools', 'and', 'movements', 'listed', 'above', 'hakim', 'bey', 'post', 'left', 'anarchy', 'post', 'left', 'anarchy', 'also', 'called', 'egoist', 'anarchism', 'seeks', 'to', 'distance', 'itself', 'from', 'the', 'traditional', 'left', 'communists', 'liberals', 'social', 'democrats', 'etc', 'and', 'to', 'escape', 'the', 'confines', 'of', 'ideology', 'in', 'general', 'post', 'leftists', 'argue', 'that', 'anarchism', 'has', 'been', 'weakened', 'by', 'its', 'long', 'attachment', 'to', 'contrary', 'leftist', 'movements', 'and', 'single', 'issue', 'causes', 'anti', 'war', 'anti', 'nuclear', 'etc', 'it', 'calls', 'for', 'a', 'synthesis', 'of', 'anarchist', 'thought', 'and', 'a', 'specifically', 'anti', 'authoritarian', 'revolutionary', 'movement', 'outside', 'of', 'the', 'leftist', 'milieu', 'it', 'often', 'focuses', 'on', 'the', 'individual', 'rather', 'than', 'speaking', 'in', 'terms', 'of', 'class', 'or', 'other', 'broad', 'generalizations', 'and', 'shuns', 'organizational', 'tendencies', 'in', 'favor', 'of', 'the', 'complete', 'absence', 'of', 'explicit', 'hierarchy', 'important', 'groups', 'and', 'individuals', 'associated', 'with', 'post', 'left', 'anarchy', 'include', 'crimethinc', 'the', 'magazine', 'anarchy', 'a', 'journal', 'of', 'desire', 'armed', 'and', 'its', 'editor', 'jason', 'mcquinn', 'bob', 'black', 'hakim', 'bey', 'and', 'others', 'for', 'more', 'information', 'see', 'infoshop', 'org', 's', 'anarchy', 'after', 'leftism', 'section', 'and', 'the', 'post', 'left', 'section', 'on', 'anarchism', 'ws', 'see', 'also', 'post', 'left', 'anarchy', 'post', 'structuralism', 'the', 'term', 'postanarchism', 'was', 'originated', 'by', 'saul', 'newman', 'first', 'receiving', 'popular', 'attention', 'in', 'his', 'book', 'from', 'bakunin', 'to', 'lacan', 'to', 'refer', 'to', 'a', 'theoretical', 'move', 'towards', 'a', 'synthesis', 'of', 'classical', 'anarchist', 'theory', 'and', 'poststructuralist', 'thought', 'subsequent', 'to', 'newman', 's', 'use', 'of', 'the', 'term', 'however', 'it', 'has', 'taken', 'on', 'a', 'life', 'of', 'its', 'own', 'and', 'a', 'wide', 'range', 'of', 'ideas', 'including', 'autonomism', 'post', 'left', 'anarchy', 'situationism', 'post', 'colonialism', 'and', 'zapatismo', 'by', 'its', 'very', 'nature', 'post', 'anarchism', 'rejects', 'the', 'idea', 'that', 'it', 'should', 'be', 'a', 'coherent', 'set', 'of', 'doctrines', 'and', 'beliefs', 'as', 'such', 'it', 'is', 'difficult', 'if', 'not', 'impossible', 'to', 'state', 'with', 'any', 'degree', 'of', 'certainty', 'who', 'should', 'or', 'shouldn', 't', 'be', 'grouped', 'under', 'the', 'rubric', 'nonetheless', 'key', 'thinkers', 'associated', 'with', 'post', 'anarchism', 'include', 'saul', 'newman', 'todd', 'may', 'gilles', 'deleuze', 'and', 'f', 'lix', 'guattari', 'external', 'reference', 'postanarchism', 'clearinghouse', 'see', 'also', 'post', 'anarchism', 'insurrectionary', 'anarchism', 'insurrectionary', 'anarchism', 'is', 'a', 'form', 'of', 'revolutionary', 'anarchism', 'critical', 'of', 'formal', 'anarchist', 'labor', 'unions', 'and', 'federations', 'insurrectionary', 'anarchists', 'advocate', 'informal', 'organization', 'including', 'small', 'affinity', 'groups', 'carrying', 'out', 'acts', 'of', 'resistance', 'in', 'various', 'struggles', 'and', 'mass', 'organizations', 'called', 'base', 'structures', 'which', 'can', 'include', 'exploited', 'individuals', 'who', 'are', 'not', 'anarchists', 'proponents', 'include', 'wolfi', 'landstreicher', 'and', 'alfredo', 'm', 'bonanno', 'author', 'of', 'works', 'including', 'armed', 'joy', 'and', 'the', 'anarchist', 'tension', 'this', 'tendency', 'is', 'represented', 'in', 'the', 'us', 'in', 'magazines', 'such', 'as', 'willful', 'disobedience', 'and', 'killing', 'king', 'abacus', 'see', 'also', 'insurrectionary', 'anarchism', 'small', 'a', 'anarchism', 'small', 'a', 'anarchism', 'is', 'a', 'term', 'used', 'in', 'two', 'different', 'but', 'not', 'unconnected', 'contexts', 'dave', 'neal', 'posited', 'the', 'term', 'in', 'opposition', 'to', 'big', 'a', 'anarchism', 'in', 'the', 'article', 'anarchism', 'ideology', 'or', 'methodology', 'while', 'big', 'a', 'anarchism', 'referred', 'to', 'ideological', 'anarchists', 'small', 'a', 'anarchism', 'was', 'applied', 'to', 'their', 'methodological', 'counterparts', 'those', 'who', 'viewed', 'anarchism', 'as', 'a', 'way', 'of', 'acting', 'or', 'a', 'historical', 'tendency', 'against', 'illegitimate', 'authority', 'as', 'an', 'anti', 'ideological', 'position', 'small', 'a', 'anarchism', 'shares', 'some', 'similarities', 'with', 'post', 'left', 'anarchy', 'david', 'graeber', 'and', 'andrej', 'grubacic', 'offer', 'an', 'alternative', 'use', 'of', 'the', 'term', 'applying', 'it', 'to', 'groups', 'and', 'movements', 'organising', 'according', 'to', 'or', 'acting', 'in', 'a', 'manner', 'consistent', 'with', 'anarchist', 'principles', 'of', 'decentralisation', 'voluntary', 'association', 'mutual', 'aid', 'the', 'network', 'model', 'and', 'crucially', 'the', 'rejection', 'of', 'any', 'idea', 'that', 'the', 'end', 'justifies', 'the', 'means', 'let', 'alone', 'that', 'the', 'business', 'of', 'a', 'revolutionary', 'is', 'to', 'seize', 'state', 'power', 'and', 'then', 'begin', 'imposing', 'one', 's', 'vision', 'at', 'the', 'point', 'of', 'a', 'gun', 'other', 'issues', 'conceptions', 'of', 'an', 'anarchist', 'society', 'many', 'political', 'philosophers', 'justify', 'support', 'of', 'the', 'state', 'as', 'a', 'means', 'of', 'regulating', 'violence', 'so', 'that', 'the', 'destruction', 'caused', 'by', 'human', 'conflict', 'is', 'minimized', 'and', 'fair', 'relationships', 'are', 'established', 'anarchists', 'argue', 'that', 'pursuit', 'of', 'these', 'ends', 'does', 'not', 'justify', 'the', 'establishment', 'of', 'a', 'state', 'many', 'argue', 'that', 'the', 'state', 'is', 'incompatible', 'with', 'those', 'goals', 'and', 'the', 'cause', 'of', 'chaos', 'violence', 'and', 'war', 'anarchists', 'argue', 'that', 'the', 'state', 'helps', 'to', 'create', 'a', 'monopoly', 'on', 'violence', 'and', 'uses', 'violence', 'to', 'advance', 'elite', 'interests', 'much', 'effort', 'has', 'been', 'dedicated', 'to', 'explaining', 'how', 'anarchist', 'societies', 'would', 'handle', 'criminality', 'see', 'also', 'anarchism', 'and', 'society', 'civil', 'rights', 'and', 'cultural', 'sovereignty', 'black', 'anarchism', 'opposes', 'the', 'existence', 'of', 'a', 'state', 'capitalism', 'and', 'subjugation', 'and', 'domination', 'of', 'people', 'of', 'color', 'and', 'favors', 'a', 'non', 'hierarchical', 'organization', 'of', 'society', 'theorists', 'include', 'ashanti', 'alston', 'lorenzo', 'komboa', 'ervin', 'and', 'sam', 'mbah', 'anarchist', 'people', 'of', 'color', 'was', 'created', 'as', 'a', 'forum', 'for', 'non', 'caucasian', 'anarchists', 'to', 'express', 'their', 'thoughts', 'about', 'racial', 'issues', 'within', 'the', 'anarchist', 'movement', 'particularly', 'within', 'the', 'united', 'states', 'national', 'anarchism', 'is', 'a', 'political', 'view', 'which', 'seeks', 'to', 'unite', 'cultural', 'or', 'ethnic', 'preservation', 'with', 'anarchist', 'views', 'its', 'adherents', 'propose', 'that', 'those', 'preventing', 'ethnic', 'groups', 'or', 'races', 'from', 'living', 'in', 'separate', 'autonomous', 'groupings', 'should', 'be', 'resisted', 'anti', 'racist', 'action', 'is', 'not', 'an', 'anarchist', 'group', 'but', 'many', 'anarchists', 'are', 'involved', 'it', 'focuses', 'on', 'publicly', 'confronting', 'racist', 'agitators', 'the', 'zapatista', 'movement', 'of', 'chiapas', 'mexico', 'is', 'a', 'cultural', 'sovereignty', 'group', 'with', 'some', 'anarchist', 'proclivities', 'neocolonialism', 'and', 'globalization', 'nearly', 'all', 'anarchists', 'oppose', 'neocolonialism', 'as', 'an', 'attempt', 'to', 'use', 'economic', 'coercion', 'on', 'a', 'global', 'scale', 'carried', 'out', 'through', 'state', 'institutions', 'such', 'as', 'the', 'world', 'bank', 'world', 'trade', 'organization', 'group', 'of', 'eight', 'and', 'the', 'world', 'economic', 'forum', 'globalization', 'is', 'an', 'ambiguous', 'term', 'that', 'has', 'different', 'meanings', 'to', 'different', 'anarchist', 'factions', 'most', 'anarchists', 'use', 'the', 'term', 'to', 'mean', 'neocolonialism', 'and', 'or', 'cultural', 'imperialism', 'which', 'they', 'may', 'see', 'as', 'related', 'many', 'are', 'active', 'in', 'the', 'anti', 'globalization', 'movement', 'others', 'particularly', 'anarcho', 'capitalists', 'use', 'globalization', 'to', 'mean', 'the', 'worldwide', 'expansion', 'of', 'the', 'division', 'of', 'labor', 'and', 'trade', 'which', 'they', 'see', 'as', 'beneficial', 'so', 'long', 'as', 'governments', 'do', 'not', 'intervene', 'parallel', 'structures', 'many', 'anarchists', 'try', 'to', 'set', 'up', 'alternatives', 'to', 'state', 'supported', 'institutions', 'and', 'outposts', 'such', 'as', 'food', 'not', 'bombs', 'infoshops', 'educational', 'systems', 'such', 'as', 'home', 'schooling', 'neighborhood', 'mediation', 'arbitration', 'groups', 'and', 'so', 'on', 'the', 'idea', 'is', 'to', 'create', 'the', 'structures', 'for', 'a', 'new', 'anti', 'authoritarian', 'society', 'in', 'the', 'shell', 'of', 'the', 'old', 'authoritarian', 'one', 'technology', 'recent', 'technological', 'developments', 'have', 'made', 'the', 'anarchist', 'cause', 'both', 'easier', 'to', 'advance', 'and', 'more', 'conceivable', 'to', 'people', 'many', 'people', 'use', 'the', 'internet', 'to', 'form', 'on', 'line', 'communities', 'intellectual', 'property', 'is', 'undermined', 'and', 'a', 'gift', 'culture', 'supported', 'by', 'sharing', 'music', 'files', 'open', 'source', 'programming', 'and', 'the', 'free', 'software', 'movement', 'these', 'cyber', 'communities', 'include', 'the', 'gnu', 'linux', 'indymedia', 'and', 'wiki', 'some', 'anarchists', 'see', 'information', 'technology', 'as', 'the', 'best', 'weapon', 'to', 'defeat', 'authoritarianism', 'some', 'even', 'think', 'the', 'information', 'age', 'makes', 'eventual', 'anarchy', 'inevitable', 'see', 'also', 'crypto', 'anarchism', 'and', 'cypherpunk', 'pacifism', 'some', 'anarchists', 'consider', 'pacifism', 'opposition', 'to', 'war', 'to', 'be', 'inherent', 'in', 'their', 'philosophy', 'anarcho', 'pacifists', 'take', 'it', 'further', 'and', 'follow', 'leo', 'tolstoy', 's', 'belief', 'in', 'non', 'violence', 'anarchists', 'see', 'war', 'as', 'an', 'activity', 'in', 'which', 'the', 'state', 'seeks', 'to', 'gain', 'and', 'consolidate', 'power', 'both', 'domestically', 'and', 'in', 'foreign', 'lands', 'and', 'subscribe', 'to', 'randolph', 'bourne', 's', 'view', 'that', 'war', 'is', 'the', 'health', 'of', 'the', 'state', 'a', 'lot', 'of', 'anarchist', 'activity', 'has', 'been', 'anti', 'war', 'based', 'parliamentarianism', 'in', 'general', 'terms', 'the', 'anarchist', 'ethos', 'opposes', 'voting', 'in', 'elections', 'because', 'voting', 'amounts', 'to', 'condoning', 'the', 'state', 'voluntaryism', 'is', 'an', 'anarchist', 'school', 'of', 'thought', 'which', 'emphasizes', 'tending', 'your', 'own', 'garden', 'and', 'neither', 'ballots', 'nor', 'bullets', 'the', 'anarchist', 'case', 'against', 'voting', 'is', 'explained', 'in', 'the', 'ethics', 'of', 'voting', 'by', 'george', 'h', 'smith', 'also', 'see', 'voting', 'anarchists', 'an', 'oxymoron', 'or', 'what', 'by', 'joe', 'peacott', 'and', 'writings', 'by', 'fred', 'woodworth', 'sectarianism', 'most', 'anarchist', 'schools', 'of', 'thought', 'are', 'to', 'some', 'degree', 'sectarian', 'there', 'is', 'often', 'a', 'difference', 'of', 'opinion', 'within', 'each', 'school', 'about', 'how', 'to', 'react', 'to', 'or', 'interact', 'with', 'other', 'schools', 'some', 'such', 'as', 'panarchists', 'believe', 'that', 'it', 'is', 'possible', 'for', 'a', 'variety', 'of', 'modes', 'of', 'social', 'life', 'to', 'coexist', 'and', 'compete', 'some', 'anarchists', 'view', 'opposing', 'schools', 'as', 'a', 'social', 'impossibility', 'and', 'resist', 'interaction', 'others', 'see', 'opportunities', 'for', 'coalition', 'building', 'or', 'at', 'least', 'temporary', 'alliances', 'for', 'specific', 'purposes', 'see', 'anarchism', 'without', 'adjectives', 'criticisms', 'of', 'anarchism', 'main', 'article', 'criticisms', 'of', 'anarchism', 'violence', 'since', 'anarchism', 'has', 'often', 'been', 'associated', 'with', 'violence', 'and', 'destruction', 'some', 'people', 'have', 'seen', 'it', 'as', 'being', 'too', 'violent', 'on', 'the', 'other', 'hand', 'hand', 'frederick', 'engels', 'criticsed', 'anarchists', 'for', 'not', 'being', 'violent', 'enough', 'a', 'revolution', 'is', 'certainly', 'the', 'most', 'authoritarian', 'thing', 'there', 'is', 'it', 'is', 'the', 'act', 'whereby', 'one', 'part', 'of', 'the', 'population', 'imposes', 'its', 'will', 'upon', 'the', 'other', 'part', 'by', 'means', 'of', 'rifles', 'bayonets', 'and', 'cannon', 'authoritarian', 'means', 'if', 'such', 'there', 'be', 'at', 'all', 'and', 'if', 'the', 'victorious', 'party', 'does', 'not', 'want', 'to', 'have', 'fought', 'in', 'vain', 'it', 'must', 'maintain', 'this', 'rule', 'by', 'means', 'of', 'the', 'terror', 'which', 'its', 'arms', 'inspire', 'in', 'the', 'reactionists', 'would', 'the', 'paris', 'commune', 'have', 'lasted', 'a', 'single', 'day', 'if', 'it', 'had', 'not', 'made', 'use', 'of', 'this', 'authority', 'of', 'the', 'armed', 'people', 'against', 'the', 'bourgeois', 'utopianism', 'anarchism', 'is', 'often', 'criticised', 'as', 'unfeasible', 'or', 'plain', 'utopian', 'even', 'by', 'many', 'who', 'agree', 'that', 'it', 's', 'a', 'nice', 'idea', 'in', 'principle', 'for', 'example', 'carl', 'landauer', 'in', 'his', 'book', 'european', 'socialism', 'criticizes', 'anarchism', 'as', 'being', 'unrealistically', 'utopian', 'and', 'holds', 'that', 'government', 'is', 'a', 'lesser', 'evil', 'than', 'a', 'society', 'without', 'repressive', 'force', 'he', 'holds', 'that', 'the', 'belief', 'that', 'ill', 'intentions', 'will', 'cease', 'if', 'repressive', 'force', 'disappears', 'is', 'an', 'absurdity', 'however', 'it', 'must', 'be', 'noted', 'that', 'not', 'all', 'anarchists', 'have', 'such', 'a', 'utopian', 'view', 'of', 'anarchism', 'for', 'example', 'some', 'such', 'as', 'benjamin', 'tucker', 'advocate', 'privately', 'funded', 'institutions', 'that', 'defend', 'individual', 'liberty', 'and', 'property', 'however', 'other', 'anarchists', 'such', 'as', 'sir', 'herbert', 'read', 'proudly', 'accept', 'the', 'characterization', 'utopian', 'class', 'character', 'marxists', 'have', 'characterised', 'anarchism', 'as', 'an', 'expression', 'of', 'the', 'class', 'interests', 'of', 'the', 'petite', 'bourgeoisie', 'or', 'perhaps', 'the', 'lumpenproletariat', 'see', 'e', 'g', 'plekhanov', 'for', 'a', 'marxist', 'critique', 'of', 'one', 'eight', 'nine', 'five', 'anarchists', 'have', 'also', 'been', 'characterised', 'as', 'spoilt', 'middle', 'class', 'dilettantes', 'most', 'recently', 'in', 'relation', 'to', 'anti', 'capitalist', 'protesters', 'tacit', 'authoritarianism', 'in', 'recent', 'decades', 'anarchism', 'has', 'been', 'criticised', 'by', 'situationists', 'post', 'anarchists', 'and', 'others', 'of', 'preserving', 'tacitly', 'statist', 'authoritarian', 'or', 'bureaucratic', 'tendencies', 'behind', 'a', 'dogmatic', 'facade', 'hypocrisy', 'some', 'critics', 'point', 'to', 'the', 'sexist', 'and', 'racist', 'views', 'of', 'some', 'prominent', 'anarchists', 'notably', 'proudhon', 'and', 'bakunin', 'as', 'examples', 'of', 'hypocrisy', 'inherent', 'within', 'anarchism', 'while', 'many', 'anarchists', 'however', 'dismiss', 'that', 'the', 'personal', 'prejudices', 'of', 'one', 'nine', 'th', 'century', 'theorists', 'influence', 'the', 'beliefs', 'of', 'present', 'day', 'anarchists', 'others', 'criticise', 'modern', 'anarchism', 'for', 'continuing', 'to', 'be', 'eurocentric', 'and', 'reference', 'the', 'impact', 'of', 'anarchist', 'thinkers', 'like', 'proudhon', 'on', 'fascism', 'through', 'groups', 'like', 'cercle', 'proudhon', 'anarcho', 'capitalist', 'bryan', 'caplan', 'argues', 'that', 'the', 'treatment', 'of', 'fascists', 'and', 'suspected', 'fascist', 'sympathizers', 'by', 'spanish', 'anarchists', 'in', 'the', 'spanish', 'civil', 'war', 'was', 'a', 'form', 'of', 'illegitimate', 'coercion', 'making', 'the', 'proffessed', 'anarchists', 'ultimately', 'just', 'a', 'third', 'faction', 'of', 'totalitarians', 'alongside', 'the', 'communists', 'and', 'fascists', 'he', 'also', 'criticizes', 'the', 'willingness', 'of', 'the', 'cnt', 'to', 'join', 'the', 'statist', 'republican', 'government', 'during', 'the', 'civil', 'war', 'and', 'references', 'stanley', 'g', 'payne', 's', 'book', 'on', 'the', 'franco', 'regime', 'which', 'claims', 'that', 'the', 'cnt', 'entered', 'negotiations', 'with', 'the', 'fascist', 'government', 'six', 'years', 'after', 'the', 'war', 'cultural', 'phenomena', 'noam', 'chomsky', 'one', 'nine', 'two', 'eight', 'the', 'kind', 'of', 'anarchism', 'that', 'is', 'most', 'easily', 'encountered', 'in', 'popular', 'culture', 'is', 'represented', 'by', 'celebrities', 'who', 'publicly', 'identify', 'themselves', 'as', 'anarchists', 'although', 'some', 'anarchists', 'reject', 'any', 'focus', 'on', 'such', 'famous', 'living', 'individuals', 'as', 'inherently', 'litist', 'the', 'following', 'figures', 'are', 'examples', 'of', 'prominent', 'publicly', 'self', 'avowed', 'anarchists', 'the', 'mit', 'professor', 'of', 'linguistics', 'noam', 'chomsky', 'the', 'science', 'fiction', 'author', 'ursula', 'k', 'le', 'guin', 'the', 'social', 'historian', 'howard', 'zinn', 'entertainer', 'and', 'author', 'hans', 'alfredsson', 'the', 'avant', 'garde', 'artist', 'nicol', 's', 'rossell', 'in', 'denmark', 'the', 'freetown', 'christiania', 'was', 'created', 'in', 'downtown', 'copenhagen', 'the', 'housing', 'and', 'employment', 'crisis', 'in', 'most', 'of', 'western', 'europe', 'led', 'to', 'the', 'formation', 'of', 'communes', 'and', 'squatter', 'movements', 'like', 'the', 'one', 'still', 'thriving', 'in', 'barcelona', 'in', 'catalonia', 'militant', 'resistance', 'to', 'neo', 'nazi', 'groups', 'in', 'places', 'like', 'germany', 'and', 'the', 'uprisings', 'of', 'autonomous', 'marxism', 'situationist', 'and', 'autonomist', 'groups', 'in', 'france', 'and', 'italy', 'also', 'helped', 'to', 'give', 'popularity', 'to', 'anti', 'authoritarian', 'non', 'capitalist', 'ideas', 'in', 'various', 'musical', 'styles', 'anarchism', 'rose', 'in', 'popularity', 'most', 'famous', 'for', 'the', 'linking', 'of', 'anarchist', 'ideas', 'and', 'music', 'has', 'been', 'punk', 'rock', 'although', 'in', 'the', 'modern', 'age', 'hip', 'hop', 'and', 'folk', 'music', 'are', 'also', 'becoming', 'important', 'mediums', 'for', 'the', 'spreading', 'of', 'the', 'anarchist', 'message', 'in', 'the', 'uk', 'this', 'was', 'associated', 'with', 'the', 'punk', 'rock', 'movement', 'the', 'band', 'crass', 'is', 'celebrated', 'for', 'its', 'anarchist', 'and', 'pacifist', 'ideas', 'the', 'dutch', 'punk', 'band', 'the', 'ex', 'further', 'exemplifies', 'this', 'expression', 'for', 'further', 'details', 'see', 'anarcho', 'punk', 'see', 'also', 'there', 'are', 'many', 'concepts', 'relevant', 'to', 'the', 'topic', 'of', 'anarchism', 'this', 'is', 'a', 'brief', 'summary', 'there', 'is', 'also', 'a', 'more', 'extensive', 'list', 'of', 'anarchist', 'concepts', 'individualist', 'anarchism', 'anarcho', 'communism', 'anarcho', 'syndicalism', 'anarcho', 'capitalism', 'mutualism', 'christian', 'anarchism', 'anarcha', 'feminism', 'green', 'anarchism', 'nihilist', 'anarchism', 'anarcho', 'nationalism', 'black', 'anarchism', 'national', 'anarchism', 'post', 'anarchism', 'post', 'left', 'anarchism', 'libertarian', 'socialism', 'anarchist', 'symbolism', 'list', 'of', 'anarchism', 'links', 'list', 'of', 'anarchists', 'list', 'of', 'anarchist', 'organizations', 'major', 'conflicts', 'within', 'anarchist', 'thought', 'past', 'and', 'present', 'anarchist', 'communities', 'historical', 'events', 'paris', 'commune', 'one', 'eight', 'seven', 'one', 'haymarket', 'riot', 'one', 'eight', 'eight', 'six', 'the', 'makhnovschina', 'one', 'nine', 'one', 'seven', 'one', 'nine', 'two', 'one', 'kronstadt', 'rebellion', 'one', 'nine', 'two', 'one', 'spanish', 'revolution', 'one', 'nine', 'three', 'six', 'see', 'anarchism', 'in', 'spain', 'and', 'spanish', 'revolution', 'may', 'one', 'nine', 'six', 'eight', 'france', 'one', 'nine', 'six', 'eight', 'wto', 'meeting', 'in', 'seattle', 'one', 'nine', 'nine', 'nine', 'books', 'the', 'following', 'is', 'a', 'sample', 'of', 'books', 'that', 'have', 'been', 'referenced', 'in', 'this', 'page', 'a', 'more', 'complete', 'list', 'can', 'be', 'found', 'at', 'the', 'list', 'of', 'anarchist', 'books', 'mikhail', 'bakunin', 'god', 'and', 'the', 'state', 'emma', 'goldman', 'anarchism', 'other', 'essays', 'peter', 'kropotkin', 'mutual', 'aid', 'pierre', 'joseph', 'proudhon', 'what', 'is', 'property', 'rudolf', 'rocker', 'anarcho', 'syndicalism', 'murray', 'rothbard', 'the', 'ethics', 'of', 'liberty', 'max', 'stirner', 'the', 'ego', 'and', 'its', 'own', 'leo', 'tolstoy', 'the', 'kingdom', 'of', 'god', 'is', 'within', 'you', 'anarchism', 'by', 'region', 'culture', 'african', 'anarchism', 'anarchism', 'in', 'spain', 'anarchism', 'in', 'the', 'english', 'tradition', 'chinese', 'anarchism', 'references', 'these', 'notes', 'have', 'no', 'corresponding', 'reference', 'in', 'the', 'article', 'they', 'might', 'be', 're', 'used', 'against', 'politics', 'appleton', 'boston', 'anarchists', 'yarros', 'victor', 'liberty', 'vii', 'january', 'two', 'one', 'eight', 'nine', 'two', 'noam', 'chomsky', 'on', 'anarchism', 'by', 'noam', 'chomsky', 'external', 'links', 'the', 'overwhelming', 'diversity', 'and', 'number', 'of', 'links', 'relating', 'to', 'anarchism', 'is', 'extensively', 'covered', 'on', 'the', 'links', 'subpage', 'anarchoblogs', 'blogs', 'by', 'anarchists', 'anarchy', 'archives', 'extensively', 'archives', 'information', 'relating', 'to', 'famous', 'anarchists', 'this', 'includes', 'many', 'of', 'their', 'books', 'and', 'other', 'publications', 'hundreds', 'of', 'anarchists', 'are', 'listed', 'with', 'short', 'bios', 'links', 'dedicated', 'pages', 'at', 'the', 'daily', 'bleed', 's', 'anarchist', 'encyclopedia', 'infoshop', 'org', 'wikipedia', 'page', 'industrial', 'workers', 'of', 'the', 'world', 'anarchism', 'forms', 'of', 'government', 'political', 'ideology', 'entry', 'points', 'political', 'theories', 'social', 'philosophy', 'autism', 'is', 'classified', 'as', 'a', 'neurodevelopmental', 'disorder', 'that', 'manifests', 'itself', 'in', 'markedly', 'abnormal', 'social', 'interaction', 'communication', 'ability', 'patterns', 'of', 'interests', 'and', 'patterns', 'of', 'behavior', 'although', 'the', 'specific', 'etiology', 'of', 'autism', 'is', 'unknown', 'many', 'researchers', 'suspect', 'that', 'autism', 'results', 'from', 'genetically', 'mediated', 'vulnerabilities', 'to', 'environmental', 'triggers', 'and', 'while', 'there', 'is', 'disagreement', 'about', 'the', 'magnitude', 'nature', 'and', 'mechanisms', 'for', 'such', 'environmental', 'factors', 'researchers', 'have', 'found', 'at', 'least', 'seven', 'major', 'genes', 'prevalent', 'among', 'individuals', 'diagnosed', 'as', 'autistic', 'some', 'estimate', 'that', 'autism', 'occurs', 'in', 'as', 'many', 'as', 'one', 'united', 'states', 'child', 'in', 'one', 'six', 'six', 'however', 'the', 'national', 'institute', 'of', 'mental', 'health', 'gives', 'a', 'more', 'conservative', 'estimate', 'of', 'one', 'in', 'one', 'zero', 'zero', 'zero', 'for', 'families', 'that', 'already', 'have', 'one', 'autistic', 'child', 'the', 'odds', 'of', 'a', 'second', 'autistic', 'child', 'may', 'be', 'as', 'high', 'as', 'one', 'in', 'twenty', 'diagnosis', 'is', 'based', 'on', 'a', 'list', 'of', 'psychiatric', 'criteria', 'and', 'a', 'series', 'of', 'standardized', 'clinical', 'tests', 'may', 'also', 'be', 'used', 'autism', 'may', 'not', 'be', 'physiologically', 'obvious', 'a', 'complete', 'physical', 'and', 'neurological', 'evaluation', 'will', 'typically', 'be', 'part', 'of', 'diagnosing', 'autism', 'some', 'now', 'speculate', 'that', 'autism', 'is', 'not', 'a', 'single', 'condition', 'but', 'a', 'group', 'of', 'several', 'distinct', 'conditions', 'that', 'manifest', 'in', 'similar', 'ways', 'by', 'definition', 'autism', 'must', 'manifest', 'delays', 'in', 'social', 'interaction', 'language', 'as', 'used', 'in', 'social', 'communication', 'or', 'symbolic', 'or', 'imaginative', 'play', 'with', 'onset', 'prior', 'to', 'age', 'three', 'years', 'according', 'to', 'the', 'diagnostic', 'and', 'statistical', 'manual', 'of', 'mental', 'disorders', 'the', 'icd', 'one', 'zero', 'also', 'says', 'that', 'symptoms', 'must', 'manifest', 'before', 'the', 'age', 'of', 'three', 'years', 'there', 'have', 'been', 'large', 'increases', 'in', 'the', 'reported', 'incidence', 'of', 'autism', 'for', 'reasons', 'that', 'are', 'heavily', 'debated', 'by', 'researchers', 'in', 'psychology', 'and', 'related', 'fields', 'within', 'the', 'scientific', 'community', 'some', 'children', 'with', 'autism', 'have', 'improved', 'their', 'social', 'and', 'other', 'skills', 'to', 'the', 'point', 'where', 'they', 'can', 'fully', 'participate', 'in', 'mainstream', 'education', 'and', 'social', 'events', 'but', 'there', 'are', 'lingering', 'concerns', 'that', 'an', 'absolute', 'cure', 'from', 'autism', 'is', 'impossible', 'with', 'current', 'technology', 'however', 'many', 'autistic', 'children', 'and', 'adults', 'who', 'are', 'able', 'to', 'communicate', 'at', 'least', 'in', 'writing', 'are', 'opposed', 'to', 'attempts', 'to', 'cure', 'their', 'conditions', 'and', 'see', 'such', 'conditions', 'as', 'part', 'of', 'who', 'they', 'are', 'history', 'dr', 'hans', 'asperger', 'described', 'a', 'form', 'of', 'autism', 'in', 'the', 'one', 'nine', 'four', 'zero', 's', 'that', 'later', 'became', 'known', 'as', 'asperger', 's', 'syndrome', 'the', 'word', 'autism', 'was', 'first', 'used', 'in', 'the', 'english', 'language', 'by', 'swiss', 'psychiatrist', 'eugene', 'bleuler', 'in', 'a', 'one', 'nine', 'one', 'two', 'number', 'of', 'the', 'american', 'journal', 'of', 'insanity', 'it', 'comes', 'from', 'the', 'greek', 'word', 'for', 'self', 'however', 'the', 'classification', 'of', 'autism', 'did', 'not', 'occur', 'until', 'the', 'middle', 'of', 'the', 'twentieth', 'century', 'when', 'in', 'one', 'nine', 'four', 'three', 'psychiatrist', 'dr', 'leo', 'kanner', 'of', 'the', 'johns', 'hopkins', 'hospital', 'in', 'baltimore', 'reported', 'on', 'one', 'one', 'child', 'patients', 'with', 'striking', 'behavioral', 'similarities', 'and', 'introduced', 'the', 'label', 'early', 'infantile', 'autism', 'he', 'suggested', 'autism', 'from', 'the', 'greek', 'autos', 'meaning', 'self', 'to', 'describe', 'the', 'fact', 'that', 'the', 'children', 'seemed', 'to', 'lack', 'interest', 'in', 'other', 'people', 'although', 'kanner', 's', 'first', 'paper', 'on', 'the', 'subject', 'was', 'published', 'in', 'a', 'now', 'defunct', 'journal', 'the', 'nervous', 'child', 'almost', 'every', 'characteristic', 'he', 'originally', 'described', 'is', 'still', 'regarded', 'as', 'typical', 'of', 'the', 'autistic', 'spectrum', 'of', 'disorders', 'at', 'the', 'same', 'time', 'an', 'austrian', 'scientist', 'dr', 'hans', 'asperger', 'described', 'a', 'different', 'form', 'of', 'autism', 'that', 'became', 'known', 'as', 'asperger', 's', 'syndrome', 'but', 'the', 'widespread', 'recognition', 'of', 'asperger', 's', 'work', 'was', 'delayed', 'by', 'world', 'war', 'ii', 'in', 'germany', 'and', 'by', 'the', 'fact', 'that', 'his', 'seminal', 'paper', 'wasn', 't', 'translated', 'into', 'english', 'for', 'almost', 'five', 'zero', 'years', 'the', 'majority', 'of', 'his', 'work', 'wasn', 't', 'widely', 'read', 'until', 'one', 'nine', 'nine', 'seven', 'thus', 'these', 'two', 'conditions', 'were', 'described', 'and', 'are', 'today', 'listed', 'in', 'the', 'diagnostic', 'and', 'statistical', 'manual', 'of', 'mental', 'disorders', 'dsm', 'iv', 'tr', 'fourth', 'edition', 'text', 'revision', 'one', 'as', 'two', 'of', 'the', 'five', 'pervasive', 'developmental', 'disorders', 'pdd', 'more', 'often', 'referred', 'to', 'today', 'as', 'autism', 'spectrum', 'disorders', 'asd', 'all', 'of', 'these', 'conditions', 'are', 'characterized', 'by', 'varying', 'degrees', 'of', 'difference', 'in', 'communication', 'skills', 'social', 'interactions', 'and', 'restricted', 'repetitive', 'and', 'stereotyped', 'patterns', 'of', 'behavior', 'few', 'clinicians', 'today', 'solely', 'use', 'the', 'dsm', 'iv', 'criteria', 'for', 'determining', 'a', 'diagnosis', 'of', 'autism', 'which', 'are', 'based', 'on', 'the', 'absence', 'or', 'delay', 'of', 'certain', 'developmental', 'milestones', 'many', 'clinicians', 'instead', 'use', 'an', 'alternate', 'means', 'or', 'a', 'combination', 'thereof', 'to', 'more', 'accurately', 'determine', 'a', 'diagnosis', 'terminology', 'when', 'referring', 'to', 'someone', 'diagnosed', 'with', 'autism', 'the', 'term', 'autistic', 'is', 'often', 'used', 'however', 'the', 'term', 'person', 'with', 'autism', 'can', 'be', 'used', 'instead', 'this', 'is', 'referred', 'to', 'as', 'person', 'first', 'terminology', 'the', 'autistic', 'community', 'generally', 'prefers', 'the', 'term', 'autistic', 'for', 'reasons', 'that', 'are', 'fairly', 'controversial', 'this', 'article', 'uses', 'the', 'term', 'autistic', 'see', 'talk', 'page', 'characteristics', 'dr', 'leo', 'kanner', 'introduced', 'the', 'label', 'early', 'infantile', 'autism', 'in', 'one', 'nine', 'four', 'three', 'there', 'is', 'a', 'great', 'diversity', 'in', 'the', 'skills', 'and', 'behaviors', 'of', 'individuals', 'diagnosed', 'as', 'autistic', 'and', 'physicians', 'will', 'often', 'arrive', 'at', 'different', 'conclusions', 'about', 'the', 'appropriate', 'diagnosis', 'much', 'of', 'this', 'is', 'due', 'to', 'the', 'sensory', 'system', 'of', 'an', 'autistic', 'which', 'is', 'quite', 'different', 'from', 'the', 'sensory', 'system', 'of', 'other', 'people', 'since', 'certain', 'stimulations', 'can', 'affect', 'an', 'autistic', 'differently', 'than', 'a', 'non', 'autistic', 'and', 'the', 'degree', 'to', 'which', 'the', 'sensory', 'system', 'is', 'affected', 'varies', 'wildly', 'from', 'one', 'autistic', 'person', 'to', 'another', 'nevertheless', 'professionals', 'within', 'pediatric', 'care', 'and', 'development', 'often', 'look', 'for', 'early', 'indicators', 'of', 'autism', 'in', 'order', 'to', 'initiate', 'treatment', 'as', 'early', 'as', 'possible', 'however', 'some', 'people', 'do', 'not', 'believe', 'in', 'treatment', 'for', 'autism', 'either', 'because', 'they', 'do', 'not', 'believe', 'autism', 'is', 'a', 'disorder', 'or', 'because', 'they', 'believe', 'treatment', 'can', 'do', 'more', 'harm', 'than', 'good', 'social', 'development', 'typically', 'developing', 'infants', 'are', 'social', 'beings', 'early', 'in', 'life', 'they', 'do', 'such', 'things', 'as', 'gaze', 'at', 'people', 'turn', 'toward', 'voices', 'grasp', 'a', 'finger', 'and', 'even', 'smile', 'in', 'contrast', 'most', 'autistic', 'children', 'prefer', 'objects', 'to', 'faces', 'and', 'seem', 'to', 'have', 'tremendous', 'difficulty', 'learning', 'to', 'engage', 'in', 'the', 'give', 'and', 'take', 'of', 'everyday', 'human', 'interaction', 'even', 'in', 'the', 'first', 'few', 'months', 'of', 'life', 'many', 'seem', 'indifferent', 'to', 'other', 'people', 'because', 'they', 'avoid', 'eye', 'contact', 'and', 'do', 'not', 'interact', 'with', 'them', 'as', 'often', 'as', 'non', 'autistic', 'children', 'children', 'with', 'autism', 'often', 'appear', 'to', 'prefer', 'being', 'alone', 'to', 'the', 'company', 'of', 'others', 'and', 'may', 'passively', 'accept', 'such', 'things', 'as', 'hugs', 'and', 'cuddling', 'without', 'reciprocating', 'or', 'resist', 'attention', 'altogether', 'later', 'they', 'seldom', 'seek', 'comfort', 'from', 'others', 'or', 'respond', 'to', 'parents', 'displays', 'of', 'anger', 'or', 'affection', 'in', 'a', 'typical', 'way', 'research', 'has', 'suggested', 'that', 'although', 'autistic', 'children', 'are', 'attached', 'to', 'their', 'parents', 'their', 'expression', 'of', 'this', 'attachment', 'is', 'unusual', 'and', 'difficult', 'to', 'interpret', 'parents', 'who', 'looked', 'forward', 'to', 'the', 'joys', 'of', 'cuddling', 'teaching', 'and', 'playing', 'with', 'their', 'child', 'may', 'feel', 'crushed', 'by', 'this', 'lack', 'of', 'expected', 'attachment', 'behavior', 'children', 'with', 'autism', 'appear', 'to', 'lack', 'theory', 'of', 'mind', 'the', 'ability', 'to', 'see', 'things', 'from', 'another', 'person', 's', 'perspective', 'a', 'behavior', 'cited', 'as', 'exclusive', 'to', 'human', 'beings', 'above', 'the', 'age', 'of', 'five', 'and', 'possibly', 'other', 'higher', 'primates', 'such', 'as', 'adult', 'gorillas', 'chimpanzees', 'and', 'bonobos', 'typical', 'five', 'year', 'olds', 'can', 'develop', 'insights', 'into', 'other', 'people', 's', 'different', 'knowledge', 'feelings', 'and', 'intentions', 'interpretations', 'based', 'upon', 'social', 'cues', 'e', 'g', 'gestures', 'facial', 'expressions', 'an', 'individual', 'with', 'autism', 'seems', 'to', 'lack', 'these', 'interpretation', 'skills', 'an', 'inability', 'that', 'leaves', 'them', 'unable', 'to', 'predict', 'or', 'understand', 'other', 'people', 's', 'actions', 'the', 'social', 'alienation', 'of', 'autistic', 'and', 'asperger', 's', 'people', 'is', 'so', 'intense', 'from', 'childhood', 'that', 'many', 'of', 'them', 'have', 'imaginary', 'friends', 'as', 'companionship', 'however', 'having', 'an', 'imaginary', 'friend', 'is', 'not', 'necessarily', 'a', 'sign', 'of', 'autism', 'and', 'also', 'occurs', 'in', 'non', 'autistic', 'children', 'although', 'not', 'universal', 'it', 'is', 'common', 'for', 'autistic', 'people', 'to', 'not', 'regulate', 'their', 'behavior', 'this', 'can', 'take', 'the', 'form', 'of', 'crying', 'or', 'verbal', 'outbursts', 'that', 'may', 'seem', 'out', 'of', 'proportion', 'to', 'the', 'situation', 'individuals', 'with', 'autism', 'generally', 'prefer', 'consistent', 'routines', 'and', 'environments', 'they', 'may', 'react', 'negatively', 'to', 'changes', 'in', 'them', 'it', 'is', 'not', 'uncommon', 'for', 'these', 'individuals', 'to', 'exhibit', 'aggression', 'increased', 'levels', 'of', 'self', 'stimulatory', 'behavior', 'self', 'injury', 'or', 'extensive', 'withdrawal', 'in', 'overwhelming', 'situations', 'sensory', 'system', 'a', 'key', 'indicator', 'to', 'clinicians', 'making', 'a', 'proper', 'assessment', 'for', 'autism', 'would', 'include', 'looking', 'for', 'symptoms', 'much', 'like', 'those', 'found', 'in', 'sensory', 'integration', 'dysfunction', 'children', 'will', 'exhibit', 'problems', 'coping', 'with', 'the', 'normal', 'sensory', 'input', 'indicators', 'of', 'this', 'disorder', 'include', 'oversensitivity', 'or', 'underreactivity', 'to', 'touch', 'movement', 'sights', 'or', 'sounds', 'physical', 'clumsiness', 'or', 'carelessness', 'poor', 'body', 'awareness', 'a', 'tendency', 'to', 'be', 'easily', 'distracted', 'impulsive', 'physical', 'or', 'verbal', 'behavior', 'an', 'activity', 'level', 'that', 'is', 'unusually', 'high', 'or', 'low', 'not', 'unwinding', 'or', 'calming', 'oneself', 'difficulty', 'learning', 'new', 'movements', 'difficulty', 'in', 'making', 'transitions', 'from', 'one', 'situation', 'to', 'another', 'social', 'and', 'or', 'emotional', 'problems', 'delays', 'in', 'speech', 'language', 'or', 'motor', 'skills', 'specific', 'learning', 'difficulties', 'delays', 'in', 'academic', 'achievement', 'one', 'common', 'example', 'is', 'an', 'individual', 'with', 'autism', 'hearing', 'a', 'person', 'with', 'autism', 'may', 'have', 'trouble', 'hearing', 'certain', 'people', 'while', 'other', 'people', 'are', 'louder', 'than', 'usual', 'or', 'the', 'person', 'with', 'autism', 'may', 'be', 'unable', 'to', 'filter', 'out', 'sounds', 'in', 'certain', 'situations', 'such', 'as', 'in', 'a', 'large', 'crowd', 'of', 'people', 'see', 'cocktail', 'party', 'effect', 'however', 'this', 'is', 'perhaps', 'the', 'part', 'of', 'the', 'autism', 'that', 'tends', 'to', 'vary', 'the', 'most', 'from', 'person', 'to', 'person', 'so', 'these', 'examples', 'may', 'not', 'apply', 'to', 'every', 'autistic', 'it', 'should', 'be', 'noted', 'that', 'sensory', 'difficulties', 'although', 'reportedly', 'common', 'in', 'autistics', 'are', 'not', 'part', 'of', 'the', 'dsm', 'iv', 'diagnostic', 'criteria', 'for', 'autistic', 'disorder', 'communication', 'difficulties', 'by', 'age', 'three', 'typical', 'children', 'have', 'passed', 'predictable', 'language', 'learning', 'milestones', 'one', 'of', 'the', 'earliest', 'is', 'babbling', 'by', 'the', 'first', 'birthday', 'a', 'typical', 'toddler', 'says', 'words', 'turns', 'when', 'he', 'or', 'she', 'hears', 'his', 'or', 'her', 'name', 'points', 'when', 'he', 'or', 'she', 'wants', 'a', 'toy', 'and', 'when', 'offered', 'something', 'distasteful', 'makes', 'it', 'clear', 'that', 'the', 'answer', 'is', 'no', 'speech', 'development', 'in', 'people', 'with', 'autism', 'takes', 'different', 'paths', 'some', 'remain', 'mute', 'throughout', 'their', 'lives', 'while', 'being', 'fully', 'literate', 'and', 'able', 'to', 'communicate', 'in', 'other', 'ways', 'images', 'sign', 'language', 'and', 'typing', 'are', 'far', 'more', 'natural', 'to', 'them', 'some', 'infants', 'who', 'later', 'show', 'signs', 'of', 'autism', 'coo', 'and', 'babble', 'during', 'the', 'first', 'few', 'months', 'of', 'life', 'but', 'stop', 'soon', 'afterwards', 'others', 'may', 'be', 'delayed', 'developing', 'language', 'as', 'late', 'as', 'the', 'teenage', 'years', 'still', 'inability', 'to', 'speak', 'does', 'not', 'mean', 'that', 'people', 'with', 'autism', 'are', 'unintelligent', 'or', 'unaware', 'once', 'given', 'appropriate', 'accommodations', 'many', 'will', 'happily', 'converse', 'for', 'hours', 'and', 'can', 'often', 'be', 'found', 'in', 'online', 'chat', 'rooms', 'discussion', 'boards', 'or', 'websites', 'and', 'even', 'using', 'communication', 'devices', 'at', 'autism', 'community', 'social', 'events', 'such', 'as', 'autreat', 'those', 'who', 'do', 'speak', 'often', 'use', 'language', 'in', 'unusual', 'ways', 'retaining', 'features', 'of', 'earlier', 'stages', 'of', 'language', 'development', 'for', 'long', 'periods', 'or', 'throughout', 'their', 'lives', 'some', 'speak', 'only', 'single', 'words', 'while', 'others', 'repeat', 'the', 'same', 'phrase', 'over', 'and', 'over', 'some', 'repeat', 'what', 'they', 'hear', 'a', 'condition', 'called', 'echolalia', 'sing', 'song', 'repetitions', 'in', 'particular', 'are', 'a', 'calming', 'joyous', 'activity', 'that', 'many', 'autistic', 'adults', 'engage', 'in', 'many', 'people', 'with', 'autism', 'have', 'a', 'strong', 'tonal', 'sense', 'and', 'can', 'often', 'understand', 'spoken', 'language', 'some', 'children', 'may', 'exhibit', 'only', 'slight', 'delays', 'in', 'language', 'or', 'even', 'seem', 'to', 'have', 'precocious', 'language', 'and', 'unusually', 'large', 'vocabularies', 'but', 'have', 'great', 'difficulty', 'in', 'sustaining', 'typical', 'conversations', 'the', 'give', 'and', 'take', 'of', 'non', 'autistic', 'conversation', 'is', 'hard', 'for', 'them', 'although', 'they', 'often', 'carry', 'on', 'a', 'monologue', 'on', 'a', 'favorite', 'subject', 'giving', 'no', 'one', 'else', 'an', 'opportunity', 'to', 'comment', 'when', 'given', 'the', 'chance', 'to', 'converse', 'with', 'other', 'autistics', 'they', 'comfortably', 'do', 'so', 'in', 'parallel', 'monologue', 'taking', 'turns', 'expressing', 'views', 'and', 'information', 'just', 'as', 'neurotypicals', 'people', 'without', 'autism', 'have', 'trouble', 'understanding', 'autistic', 'body', 'languages', 'vocal', 'tones', 'or', 'phraseology', 'people', 'with', 'autism', 'similarly', 'have', 'trouble', 'with', 'such', 'things', 'in', 'people', 'without', 'autism', 'in', 'particular', 'autistic', 'language', 'abilities', 'tend', 'to', 'be', 'highly', 'literal', 'people', 'without', 'autism', 'often', 'inappropriately', 'attribute', 'hidden', 'meaning', 'to', 'what', 'people', 'with', 'autism', 'say', 'or', 'expect', 'the', 'person', 'with', 'autism', 'to', 'sense', 'such', 'unstated', 'meaning', 'in', 'their', 'own', 'words', 'the', 'body', 'language', 'of', 'people', 'with', 'autism', 'can', 'be', 'difficult', 'for', 'other', 'people', 'to', 'understand', 'facial', 'expressions', 'movements', 'and', 'gestures', 'may', 'be', 'easily', 'understood', 'by', 'some', 'other', 'people', 'with', 'autism', 'but', 'do', 'not', 'match', 'those', 'used', 'by', 'other', 'people', 'also', 'their', 'tone', 'of', 'voice', 'has', 'a', 'much', 'more', 'subtle', 'inflection', 'in', 'reflecting', 'their', 'feelings', 'and', 'the', 'auditory', 'system', 'of', 'a', 'person', 'without', 'autism', 'often', 'cannot', 'sense', 'the', 'fluctuations', 'what', 'seems', 'to', 'non', 'autistic', 'people', 'like', 'a', 'high', 'pitched', 'sing', 'song', 'or', 'flat', 'robot', 'like', 'voice', 'is', 'common', 'in', 'autistic', 'children', 'some', 'autistic', 'children', 'with', 'relatively', 'good', 'language', 'skills', 'speak', 'like', 'little', 'adults', 'rather', 'than', 'communicating', 'at', 'their', 'current', 'age', 'level', 'which', 'is', 'one', 'of', 'the', 'things', 'that', 'can', 'lead', 'to', 'problems', 'since', 'non', 'autistic', 'people', 'are', 'often', 'unfamiliar', 'with', 'the', 'autistic', 'body', 'language', 'and', 'since', 'autistic', 'natural', 'language', 'may', 'not', 'tend', 'towards', 'speech', 'autistic', 'people', 'often', 'struggle', 'to', 'let', 'other', 'people', 'know', 'what', 'they', 'need', 'as', 'anybody', 'might', 'do', 'in', 'such', 'a', 'situation', 'they', 'may', 'scream', 'in', 'frustration', 'or', 'resort', 'to', 'grabbing', 'what', 'they', 'want', 'while', 'waiting', 'for', 'non', 'autistic', 'people', 'to', 'learn', 'to', 'communicate', 'with', 'them', 'people', 'with', 'autism', 'do', 'whatever', 'they', 'can', 'to', 'get', 'through', 'to', 'them', 'communication', 'difficulties', 'may', 'contribute', 'to', 'autistic', 'people', 'becoming', 'socially', 'anxious', 'or', 'depressed', 'repetitive', 'behaviors', 'although', 'people', 'with', 'autism', 'usually', 'appear', 'physically', 'normal', 'and', 'have', 'good', 'muscle', 'control', 'unusual', 'repetitive', 'motions', 'known', 'as', 'self', 'stimulation', 'or', 'stimming', 'may', 'set', 'them', 'apart', 'these', 'behaviors', 'might', 'be', 'extreme', 'and', 'highly', 'apparent', 'or', 'more', 'subtle', 'some', 'children', 'and', 'older', 'individuals', 'spend', 'a', 'lot', 'of', 'time', 'repeatedly', 'flapping', 'their', 'arms', 'or', 'wiggling', 'their', 'toes', 'others', 'suddenly', 'freeze', 'in', 'position', 'as', 'children', 'they', 'might', 'spend', 'hours', 'lining', 'up', 'their', 'cars', 'and', 'trains', 'in', 'a', 'certain', 'way', 'not', 'using', 'them', 'for', 'pretend', 'play', 'if', 'someone', 'accidentally', 'moves', 'one', 'of', 'these', 'toys', 'the', 'child', 'may', 'be', 'tremendously', 'upset', 'autistic', 'children', 'often', 'need', 'and', 'demand', 'absolute', 'consistency', 'in', 'their', 'environment', 'a', 'slight', 'change', 'in', 'any', 'routine', 'in', 'mealtimes', 'dressing', 'taking', 'a', 'bath', 'or', 'going', 'to', 'school', 'at', 'a', 'certain', 'time', 'and', 'by', 'the', 'same', 'route', 'can', 'be', 'extremely', 'disturbing', 'people', 'with', 'autism', 'sometimes', 'have', 'a', 'persistent', 'intense', 'preoccupation', 'for', 'example', 'the', 'child', 'might', 'be', 'obsessed', 'with', 'learning', 'all', 'about', 'vacuum', 'cleaners', 'train', 'schedules', 'or', 'lighthouses', 'often', 'they', 'show', 'great', 'interest', 'in', 'different', 'languages', 'numbers', 'symbols', 'or', 'science', 'topics', 'repetitive', 'behaviors', 'can', 'also', 'extend', 'into', 'the', 'spoken', 'word', 'as', 'well', 'perseveration', 'of', 'a', 'single', 'word', 'or', 'phrase', 'even', 'for', 'a', 'specific', 'number', 'of', 'times', 'can', 'also', 'become', 'a', 'part', 'of', 'the', 'child', 's', 'daily', 'routine', 'effects', 'in', 'education', 'children', 'with', 'autism', 'are', 'affected', 'with', 'these', 'symptoms', 'every', 'day', 'these', 'unusual', 'characteristics', 'set', 'them', 'apart', 'from', 'the', 'everyday', 'normal', 'student', 'because', 'they', 'have', 'trouble', 'understanding', 'people', 's', 'thoughts', 'and', 'feelings', 'they', 'have', 'trouble', 'understanding', 'what', 'their', 'teacher', 'may', 'be', 'telling', 'them', 'they', 'do', 'not', 'understand', 'that', 'facial', 'expressions', 'and', 'vocal', 'variations', 'hold', 'meanings', 'and', 'may', 'misinterpret', 'what', 'emotion', 'their', 'instructor', 'is', 'displaying', 'this', 'inability', 'to', 'fully', 'decipher', 'the', 'world', 'around', 'them', 'makes', 'education', 'stressful', 'teachers', 'need', 'to', 'be', 'aware', 'of', 'a', 'student', 's', 'disorder', 'so', 'that', 'they', 'are', 'able', 'to', 'help', 'the', 'student', 'get', 'the', 'best', 'out', 'of', 'the', 'lessons', 'being', 'taught', 'some', 'students', 'learn', 'better', 'with', 'visual', 'aids', 'as', 'they', 'are', 'better', 'able', 'to', 'understand', 'material', 'presented', 'this', 'way', 'because', 'of', 'this', 'many', 'teachers', 'create', 'visual', 'schedules', 'for', 'their', 'autistic', 'students', 'this', 'allows', 'the', 'student', 'to', 'know', 'what', 'is', 'going', 'on', 'throughout', 'the', 'day', 'so', 'they', 'know', 'what', 'to', 'prepare', 'for', 'and', 'what', 'activity', 'they', 'will', 'be', 'doing', 'next', 'some', 'autistic', 'children', 'have', 'trouble', 'going', 'from', 'one', 'activity', 'to', 'the', 'next', 'so', 'this', 'visual', 'schedule', 'can', 'help', 'to', 'reduce', 'stress', 'research', 'has', 'shown', 'that', 'working', 'in', 'pairs', 'may', 'be', 'beneficial', 'to', 'autistic', 'children', 'autistic', 'students', 'have', 'problems', 'in', 'schools', 'not', 'only', 'with', 'language', 'and', 'communication', 'but', 'with', 'socialization', 'as', 'well', 'they', 'feel', 'self', 'conscious', 'about', 'themselves', 'and', 'many', 'feel', 'that', 'they', 'will', 'always', 'be', 'outcasts', 'by', 'allowing', 'them', 'to', 'work', 'with', 'peers', 'they', 'can', 'make', 'friends', 'which', 'in', 'turn', 'can', 'help', 'them', 'cope', 'with', 'the', 'problems', 'that', 'arise', 'by', 'doing', 'so', 'they', 'can', 'become', 'more', 'integrated', 'into', 'the', 'mainstream', 'environment', 'of', 'the', 'classroom', 'a', 'teacher', 's', 'aide', 'can', 'also', 'be', 'useful', 'to', 'the', 'student', 'the', 'aide', 'is', 'able', 'to', 'give', 'more', 'elaborate', 'directions', 'that', 'the', 'teacher', 'may', 'not', 'have', 'time', 'to', 'explain', 'to', 'the', 'autistic', 'child', 'the', 'aide', 'can', 'also', 'facilitate', 'the', 'autistic', 'child', 'in', 'such', 'a', 'way', 'as', 'to', 'allow', 'them', 'to', 'stay', 'at', 'a', 'similar', 'level', 'to', 'the', 'rest', 'of', 'the', 'class', 'this', 'allows', 'a', 'partially', 'one', 'on', 'one', 'lesson', 'structure', 'so', 'that', 'the', 'child', 'is', 'still', 'able', 'to', 'stay', 'in', 'a', 'normal', 'classroom', 'but', 'be', 'given', 'the', 'extra', 'help', 'that', 'they', 'need', 'there', 'are', 'many', 'different', 'techniques', 'that', 'teachers', 'can', 'use', 'to', 'assist', 'their', 'students', 'a', 'teacher', 'needs', 'to', 'become', 'familiar', 'with', 'the', 'child', 's', 'disorder', 'to', 'know', 'what', 'will', 'work', 'best', 'with', 'that', 'particular', 'child', 'every', 'child', 'is', 'going', 'to', 'be', 'different', 'and', 'teachers', 'have', 'to', 'be', 'able', 'to', 'adjust', 'with', 'every', 'one', 'of', 'them', 'students', 'with', 'autism', 'spectrum', 'disorders', 'typically', 'have', 'high', 'levels', 'of', 'anxiety', 'and', 'stress', 'particularly', 'in', 'social', 'environments', 'like', 'school', 'if', 'a', 'student', 'exhibits', 'aggressive', 'or', 'explosive', 'behavior', 'it', 'is', 'important', 'for', 'educational', 'teams', 'to', 'recognize', 'the', 'impact', 'of', 'stress', 'and', 'anxiety', 'preparing', 'students', 'for', 'new', 'situations', 'by', 'writing', 'social', 'stories', 'can', 'lower', 'anxiety', 'teaching', 'social', 'and', 'emotional', 'concepts', 'using', 'systematic', 'teaching', 'approaches', 'such', 'as', 'the', 'incredible', 'five', 'point', 'scale', 'or', 'other', 'cognitive', 'behavioral', 'strategies', 'can', 'increase', 'a', 'student', 's', 'ability', 'to', 'control', 'excessive', 'behavioral', 'reactions', 'dsm', 'definition', 'autism', 'is', 'defined', 'in', 'section', 'two', 'nine', 'nine', 'zero', 'zero', 'of', 'the', 'diagnostic', 'and', 'statistical', 'manual', 'of', 'mental', 'disorders', 'dsm', 'iv', 'as', 'a', 'total', 'of', 'six', 'or', 'more', 'items', 'from', 'one', 'two', 'and', 'three', 'with', 'at', 'least', 'two', 'from', 'one', 'and', 'one', 'each', 'from', 'two', 'and', 'three', 'qualitative', 'impairment', 'in', 'social', 'interaction', 'as', 'manifested', 'by', 'at', 'least', 'two', 'of', 'the', 'following', 'marked', 'impairment', 'in', 'the', 'use', 'of', 'multiple', 'nonverbal', 'behaviors', 'such', 'as', 'eye', 'to', 'eye', 'gaze', 'facial', 'expression', 'body', 'postures', 'and', 'gestures', 'to', 'regulate', 'social', 'interaction', 'failure', 'to', 'develop', 'peer', 'relationships', 'appropriate', 'to', 'developmental', 'level', 'a', 'lack', 'of', 'spontaneous', 'seeking', 'to', 'share', 'enjoyment', 'interests', 'or', 'achievements', 'with', 'other', 'people', 'e', 'g', 'by', 'a', 'lack', 'of', 'showing', 'bringing', 'or', 'pointing', 'out', 'objects', 'of', 'interest', 'lack', 'of', 'social', 'or', 'emotional'], tags=[0])]\n"
          ]
        }
      ],
      "source": [
        "def tagged_document (list_of_list_of_words):\n",
        "  for i, list_of_words in enumerate(list_of_list_of_words) :\n",
        "    yield gensim.models.doc2vec.TaggedDocument(list_of_words, [i])\n",
        "\n",
        "data_for_training = list (tagged_document(data[:100]))\n",
        "print (data_for_training[:1])\n",
        "model = gensim.models.doc2vec.Doc2Vec (vector_size=40, min_count=2, epochs=30)\n",
        "model.build_vocab(data_for_training)"
      ]
    },
    {
      "cell_type": "code",
      "execution_count": null,
      "metadata": {
        "id": "fHC972KbWtKU"
      },
      "outputs": [],
      "source": [
        "model.train(data_for_training, total_examples =model.corpus_count, epochs =model.epochs)"
      ]
    },
    {
      "cell_type": "code",
      "execution_count": null,
      "metadata": {
        "colab": {
          "base_uri": "https://localhost:8080/"
        },
        "id": "p-QHaZV_W7F_",
        "outputId": "b17c5cd0-235a-45c4-cfa5-282a975d00bb"
      },
      "outputs": [
        {
          "output_type": "stream",
          "name": "stdout",
          "text": [
            "[ 0.19687738  0.267313   -0.02971119  0.27523506  0.08660373 -0.08159317\n",
            "  0.06399148 -0.30216002  0.168347   -0.14193068  0.08312292  0.28888556\n",
            "  0.29426906  0.08091649  0.04713437  0.01680858  0.27465025  0.14926897\n",
            " -0.2631814   0.38718796 -0.07025221  0.11229274 -0.06562625 -0.00989388\n",
            "  0.13488641 -0.42754278 -0.28187764  0.31425038  0.13589978 -0.30612233\n",
            "  0.04556953  0.16709138  0.36478803  0.13607639 -0.10451306  0.00265874\n",
            "  0.07494391  0.5085687  -0.1643762   0.05405077]\n"
          ]
        }
      ],
      "source": [
        "print(model.infer_vector (\"violent means to destroy the organization\".split ()))"
      ]
    },
    {
      "cell_type": "code",
      "execution_count": null,
      "metadata": {
        "id": "aneenAeHXYfA"
      },
      "outputs": [],
      "source": [
        "data_for_training[1]"
      ]
    },
    {
      "cell_type": "code",
      "execution_count": null,
      "metadata": {
        "colab": {
          "base_uri": "https://localhost:8080/"
        },
        "id": "alBa0TiAXiAo",
        "outputId": "602b1873-3359-4856-b2b6-af7777aea1e0"
      },
      "outputs": [
        {
          "output_type": "execute_result",
          "data": {
            "text/plain": [
              "array([ 4.3826332e+00,  8.9352980e+00, -6.4937911e+00,  7.7368230e-01,\n",
              "       -1.3926879e+00, -4.5986080e+00,  3.1898482e+00, -1.1314493e-01,\n",
              "        2.2663400e+00,  4.0301108e+00,  7.4489254e-01, -2.5131109e+00,\n",
              "        2.7145009e+00, -4.2380023e+00, -1.9780109e+00,  2.3002849e+00,\n",
              "        1.6713163e+00, -7.6591687e+00,  3.4088974e+00, -2.8273435e+00,\n",
              "        9.2766848e+00,  5.2762179e+00,  3.2928092e+00, -1.1719550e+00,\n",
              "        1.9295521e+00, -6.1482539e+00, -1.4527881e+01, -6.6732508e-01,\n",
              "        1.4514765e-02,  9.0421295e+00,  3.2511873e+00,  2.5066550e+00,\n",
              "        5.9079461e+00,  3.0367167e+00, -1.1704427e-01,  8.5843813e-01,\n",
              "        1.4059843e+00,  2.9660342e+00, -1.0172191e+00, -2.2773256e+00],\n",
              "      dtype=float32)"
            ]
          },
          "metadata": {},
          "execution_count": 78
        }
      ],
      "source": [
        "model.docvecs[1]"
      ]
    },
    {
      "cell_type": "code",
      "execution_count": null,
      "metadata": {
        "colab": {
          "base_uri": "https://localhost:8080/"
        },
        "id": "McR3RYFKX4CC",
        "outputId": "ec5fc87b-b564-4bca-ac4b-a348ab24dc5b"
      },
      "outputs": [
        {
          "output_type": "execute_result",
          "data": {
            "text/plain": [
              "[(57, 0.6459293365478516),\n",
              " (56, 0.640636682510376),\n",
              " (4, 0.5304933190345764),\n",
              " (68, 0.5197066068649292),\n",
              " (61, 0.47494304180145264),\n",
              " (93, 0.4599803686141968),\n",
              " (46, 0.44857800006866455),\n",
              " (13, 0.4420979619026184),\n",
              " (1, 0.4211704432964325),\n",
              " (7, 0.3939066529273987)]"
            ]
          },
          "metadata": {},
          "execution_count": 79
        }
      ],
      "source": [
        "model.docvecs.most_similar(0)"
      ]
    },
    {
      "cell_type": "code",
      "execution_count": null,
      "metadata": {
        "colab": {
          "base_uri": "https://localhost:8080/",
          "height": 169
        },
        "id": "RmW36og9Xrx5",
        "outputId": "7c6998a5-1fbc-4bca-8156-f7d8e2334b54"
      },
      "outputs": [
        {
          "output_type": "error",
          "ename": "AttributeError",
          "evalue": "ignored",
          "traceback": [
            "\u001b[0;31m---------------------------------------------------------------------------\u001b[0m",
            "\u001b[0;31mAttributeError\u001b[0m                            Traceback (most recent call last)",
            "\u001b[0;32m<ipython-input-91-067c5c2f020b>\u001b[0m in \u001b[0;36m<module>\u001b[0;34m\u001b[0m\n\u001b[0;32m----> 1\u001b[0;31m \u001b[0mmodel\u001b[0m\u001b[0;34m.\u001b[0m\u001b[0msimilarity_unseen_docs\u001b[0m\u001b[0;34m(\u001b[0m\u001b[0;34m'hello world'\u001b[0m\u001b[0;34m.\u001b[0m\u001b[0msplit\u001b[0m\u001b[0;34m(\u001b[0m\u001b[0;34m)\u001b[0m\u001b[0;34m,\u001b[0m\u001b[0;34m'hello world'\u001b[0m\u001b[0;34m.\u001b[0m\u001b[0msplit\u001b[0m\u001b[0;34m(\u001b[0m\u001b[0;34m)\u001b[0m\u001b[0;34m)\u001b[0m\u001b[0;34m\u001b[0m\u001b[0;34m\u001b[0m\u001b[0m\n\u001b[0m",
            "\u001b[0;31mAttributeError\u001b[0m: 'Doc2Vec' object has no attribute 'similarity_unseen_docs'"
          ]
        }
      ],
      "source": [
        "model.similarity_unseen_docs('hello world'.split(),'hello world'.split())"
      ]
    },
    {
      "cell_type": "code",
      "source": [
        "model,o"
      ],
      "metadata": {
        "colab": {
          "base_uri": "https://localhost:8080/",
          "height": 373
        },
        "id": "cls0NSnmZNdB",
        "outputId": "4ee9de3e-3b17-4915-f617-6d8ea2da40ba"
      },
      "execution_count": null,
      "outputs": [
        {
          "output_type": "stream",
          "name": "stderr",
          "text": [
            "/usr/local/lib/python3.7/dist-packages/ipykernel_launcher.py:1: DeprecationWarning: Call to deprecated `most_similar` (Method will be removed in 4.0.0, use self.wv.most_similar() instead).\n",
            "  \"\"\"Entry point for launching an IPython kernel.\n"
          ]
        },
        {
          "output_type": "error",
          "ename": "KeyError",
          "evalue": "ignored",
          "traceback": [
            "\u001b[0;31m---------------------------------------------------------------------------\u001b[0m",
            "\u001b[0;31mKeyError\u001b[0m                                  Traceback (most recent call last)",
            "\u001b[0;32m<ipython-input-72-1d49d5a83df9>\u001b[0m in \u001b[0;36m<module>\u001b[0;34m\u001b[0m\n\u001b[0;32m----> 1\u001b[0;31m \u001b[0mmodel\u001b[0m\u001b[0;34m.\u001b[0m\u001b[0mmost_similar\u001b[0m\u001b[0;34m(\u001b[0m\u001b[0;34m[\u001b[0m\u001b[0;34m'Hello'\u001b[0m\u001b[0;34m]\u001b[0m\u001b[0;34m)\u001b[0m\u001b[0;34m\u001b[0m\u001b[0;34m\u001b[0m\u001b[0m\n\u001b[0m",
            "\u001b[0;32m/usr/local/lib/python3.7/dist-packages/gensim/utils.py\u001b[0m in \u001b[0;36mnew_func1\u001b[0;34m(*args, **kwargs)\u001b[0m\n\u001b[1;32m   1420\u001b[0m                     \u001b[0mstacklevel\u001b[0m\u001b[0;34m=\u001b[0m\u001b[0;36m2\u001b[0m\u001b[0;34m\u001b[0m\u001b[0;34m\u001b[0m\u001b[0m\n\u001b[1;32m   1421\u001b[0m                 )\n\u001b[0;32m-> 1422\u001b[0;31m                 \u001b[0;32mreturn\u001b[0m \u001b[0mfunc\u001b[0m\u001b[0;34m(\u001b[0m\u001b[0;34m*\u001b[0m\u001b[0margs\u001b[0m\u001b[0;34m,\u001b[0m \u001b[0;34m**\u001b[0m\u001b[0mkwargs\u001b[0m\u001b[0;34m)\u001b[0m\u001b[0;34m\u001b[0m\u001b[0;34m\u001b[0m\u001b[0m\n\u001b[0m\u001b[1;32m   1423\u001b[0m \u001b[0;34m\u001b[0m\u001b[0m\n\u001b[1;32m   1424\u001b[0m             \u001b[0;32mreturn\u001b[0m \u001b[0mnew_func1\u001b[0m\u001b[0;34m\u001b[0m\u001b[0;34m\u001b[0m\u001b[0m\n",
            "\u001b[0;32m/usr/local/lib/python3.7/dist-packages/gensim/models/base_any2vec.py\u001b[0m in \u001b[0;36mmost_similar\u001b[0;34m(self, positive, negative, topn, restrict_vocab, indexer)\u001b[0m\n\u001b[1;32m   1395\u001b[0m \u001b[0;34m\u001b[0m\u001b[0m\n\u001b[1;32m   1396\u001b[0m         \"\"\"\n\u001b[0;32m-> 1397\u001b[0;31m         \u001b[0;32mreturn\u001b[0m \u001b[0mself\u001b[0m\u001b[0;34m.\u001b[0m\u001b[0mwv\u001b[0m\u001b[0;34m.\u001b[0m\u001b[0mmost_similar\u001b[0m\u001b[0;34m(\u001b[0m\u001b[0mpositive\u001b[0m\u001b[0;34m,\u001b[0m \u001b[0mnegative\u001b[0m\u001b[0;34m,\u001b[0m \u001b[0mtopn\u001b[0m\u001b[0;34m,\u001b[0m \u001b[0mrestrict_vocab\u001b[0m\u001b[0;34m,\u001b[0m \u001b[0mindexer\u001b[0m\u001b[0;34m)\u001b[0m\u001b[0;34m\u001b[0m\u001b[0;34m\u001b[0m\u001b[0m\n\u001b[0m\u001b[1;32m   1398\u001b[0m \u001b[0;34m\u001b[0m\u001b[0m\n\u001b[1;32m   1399\u001b[0m     \u001b[0;34m@\u001b[0m\u001b[0mdeprecated\u001b[0m\u001b[0;34m(\u001b[0m\u001b[0;34m\"Method will be removed in 4.0.0, use self.wv.wmdistance() instead\"\u001b[0m\u001b[0;34m)\u001b[0m\u001b[0;34m\u001b[0m\u001b[0;34m\u001b[0m\u001b[0m\n",
            "\u001b[0;32m/usr/local/lib/python3.7/dist-packages/gensim/models/keyedvectors.py\u001b[0m in \u001b[0;36mmost_similar\u001b[0;34m(self, positive, negative, topn, restrict_vocab, indexer)\u001b[0m\n\u001b[1;32m    529\u001b[0m                 \u001b[0mmean\u001b[0m\u001b[0;34m.\u001b[0m\u001b[0mappend\u001b[0m\u001b[0;34m(\u001b[0m\u001b[0mweight\u001b[0m \u001b[0;34m*\u001b[0m \u001b[0mword\u001b[0m\u001b[0;34m)\u001b[0m\u001b[0;34m\u001b[0m\u001b[0;34m\u001b[0m\u001b[0m\n\u001b[1;32m    530\u001b[0m             \u001b[0;32melse\u001b[0m\u001b[0;34m:\u001b[0m\u001b[0;34m\u001b[0m\u001b[0;34m\u001b[0m\u001b[0m\n\u001b[0;32m--> 531\u001b[0;31m                 \u001b[0mmean\u001b[0m\u001b[0;34m.\u001b[0m\u001b[0mappend\u001b[0m\u001b[0;34m(\u001b[0m\u001b[0mweight\u001b[0m \u001b[0;34m*\u001b[0m \u001b[0mself\u001b[0m\u001b[0;34m.\u001b[0m\u001b[0mword_vec\u001b[0m\u001b[0;34m(\u001b[0m\u001b[0mword\u001b[0m\u001b[0;34m,\u001b[0m \u001b[0muse_norm\u001b[0m\u001b[0;34m=\u001b[0m\u001b[0;32mTrue\u001b[0m\u001b[0;34m)\u001b[0m\u001b[0;34m)\u001b[0m\u001b[0;34m\u001b[0m\u001b[0;34m\u001b[0m\u001b[0m\n\u001b[0m\u001b[1;32m    532\u001b[0m                 \u001b[0;32mif\u001b[0m \u001b[0mword\u001b[0m \u001b[0;32min\u001b[0m \u001b[0mself\u001b[0m\u001b[0;34m.\u001b[0m\u001b[0mvocab\u001b[0m\u001b[0;34m:\u001b[0m\u001b[0;34m\u001b[0m\u001b[0;34m\u001b[0m\u001b[0m\n\u001b[1;32m    533\u001b[0m                     \u001b[0mall_words\u001b[0m\u001b[0;34m.\u001b[0m\u001b[0madd\u001b[0m\u001b[0;34m(\u001b[0m\u001b[0mself\u001b[0m\u001b[0;34m.\u001b[0m\u001b[0mvocab\u001b[0m\u001b[0;34m[\u001b[0m\u001b[0mword\u001b[0m\u001b[0;34m]\u001b[0m\u001b[0;34m.\u001b[0m\u001b[0mindex\u001b[0m\u001b[0;34m)\u001b[0m\u001b[0;34m\u001b[0m\u001b[0;34m\u001b[0m\u001b[0m\n",
            "\u001b[0;32m/usr/local/lib/python3.7/dist-packages/gensim/models/keyedvectors.py\u001b[0m in \u001b[0;36mword_vec\u001b[0;34m(self, word, use_norm)\u001b[0m\n\u001b[1;32m    450\u001b[0m             \u001b[0;32mreturn\u001b[0m \u001b[0mresult\u001b[0m\u001b[0;34m\u001b[0m\u001b[0;34m\u001b[0m\u001b[0m\n\u001b[1;32m    451\u001b[0m         \u001b[0;32melse\u001b[0m\u001b[0;34m:\u001b[0m\u001b[0;34m\u001b[0m\u001b[0;34m\u001b[0m\u001b[0m\n\u001b[0;32m--> 452\u001b[0;31m             \u001b[0;32mraise\u001b[0m \u001b[0mKeyError\u001b[0m\u001b[0;34m(\u001b[0m\u001b[0;34m\"word '%s' not in vocabulary\"\u001b[0m \u001b[0;34m%\u001b[0m \u001b[0mword\u001b[0m\u001b[0;34m)\u001b[0m\u001b[0;34m\u001b[0m\u001b[0;34m\u001b[0m\u001b[0m\n\u001b[0m\u001b[1;32m    453\u001b[0m \u001b[0;34m\u001b[0m\u001b[0m\n\u001b[1;32m    454\u001b[0m     \u001b[0;32mdef\u001b[0m \u001b[0mget_vector\u001b[0m\u001b[0;34m(\u001b[0m\u001b[0mself\u001b[0m\u001b[0;34m,\u001b[0m \u001b[0mword\u001b[0m\u001b[0;34m)\u001b[0m\u001b[0;34m:\u001b[0m\u001b[0;34m\u001b[0m\u001b[0;34m\u001b[0m\u001b[0m\n",
            "\u001b[0;31mKeyError\u001b[0m: \"word 'Hello' not in vocabulary\""
          ]
        }
      ]
    },
    {
      "cell_type": "markdown",
      "source": [
        "### Approach 5\n"
      ],
      "metadata": {
        "id": "RdHUYfHjhyAX"
      }
    },
    {
      "cell_type": "code",
      "source": [
        "# Loading Packages\n",
        "import spacy\n",
        "nlp = spacy.load('en_core_web_sm')"
      ],
      "metadata": {
        "id": "Ccq6NckLh0Bw"
      },
      "execution_count": null,
      "outputs": []
    },
    {
      "cell_type": "code",
      "source": [
        "doc1 = nlp(\"ராஜா\")\n",
        "doc2 = nlp(\"அரசன்\")"
      ],
      "metadata": {
        "id": "Fm3xv5TFh5pq"
      },
      "execution_count": null,
      "outputs": []
    },
    {
      "cell_type": "code",
      "source": [
        "doc1.similarity(doc2)"
      ],
      "metadata": {
        "colab": {
          "base_uri": "https://localhost:8080/"
        },
        "id": "vn9D9cvgiDP_",
        "outputId": "82e1a4a9-ba9f-453e-eae9-1df4c66ba2bb"
      },
      "execution_count": null,
      "outputs": [
        {
          "output_type": "stream",
          "name": "stderr",
          "text": [
            "/usr/local/lib/python3.7/dist-packages/ipykernel_launcher.py:1: UserWarning: [W007] The model you're using has no word vectors loaded, so the result of the Doc.similarity method will be based on the tagger, parser and NER, which may not give useful similarity judgements. This may happen if you're using one of the small models, e.g. `en_core_web_sm`, which don't ship with word vectors and only use context-sensitive tensors. You can always add your own word vectors, or use one of the larger models instead if available.\n",
            "  \"\"\"Entry point for launching an IPython kernel.\n"
          ]
        },
        {
          "output_type": "execute_result",
          "data": {
            "text/plain": [
              "0.284969881344658"
            ]
          },
          "metadata": {},
          "execution_count": 114
        }
      ]
    },
    {
      "cell_type": "code",
      "source": [
        "doc3  = nlp(\"மன்னன்\")\n",
        "doc3.similarity(doc2)\n"
      ],
      "metadata": {
        "colab": {
          "base_uri": "https://localhost:8080/"
        },
        "id": "QoCCWuUUiE1B",
        "outputId": "9cb9e545-b463-4b42-f0e7-ec30e202b4a7"
      },
      "execution_count": null,
      "outputs": [
        {
          "output_type": "stream",
          "name": "stderr",
          "text": [
            "/usr/local/lib/python3.7/dist-packages/ipykernel_launcher.py:2: UserWarning: [W007] The model you're using has no word vectors loaded, so the result of the Doc.similarity method will be based on the tagger, parser and NER, which may not give useful similarity judgements. This may happen if you're using one of the small models, e.g. `en_core_web_sm`, which don't ship with word vectors and only use context-sensitive tensors. You can always add your own word vectors, or use one of the larger models instead if available.\n",
            "  \n"
          ]
        },
        {
          "output_type": "execute_result",
          "data": {
            "text/plain": [
              "0.5170515851145475"
            ]
          },
          "metadata": {},
          "execution_count": 115
        }
      ]
    },
    {
      "cell_type": "code",
      "source": [
        "# Synonmys\n",
        "doc4 = nlp(\"வேந்தன்\")\n",
        "doc5 = nlp(\"வேந்தன\")"
      ],
      "metadata": {
        "id": "rWz62gI7iHwR"
      },
      "execution_count": null,
      "outputs": []
    },
    {
      "cell_type": "code",
      "source": [
        "# Similarity of words\n",
        "doc4.similarity(doc5)\n"
      ],
      "metadata": {
        "colab": {
          "base_uri": "https://localhost:8080/"
        },
        "id": "TaR0kozziL3B",
        "outputId": "2f579be0-0c01-465c-89f4-cd64021e30c0"
      },
      "execution_count": null,
      "outputs": [
        {
          "output_type": "stream",
          "name": "stderr",
          "text": [
            "/usr/local/lib/python3.7/dist-packages/ipykernel_launcher.py:2: UserWarning: [W007] The model you're using has no word vectors loaded, so the result of the Doc.similarity method will be based on the tagger, parser and NER, which may not give useful similarity judgements. This may happen if you're using one of the small models, e.g. `en_core_web_sm`, which don't ship with word vectors and only use context-sensitive tensors. You can always add your own word vectors, or use one of the larger models instead if available.\n",
            "  \n"
          ]
        },
        {
          "output_type": "execute_result",
          "data": {
            "text/plain": [
              "0.5878183566162163"
            ]
          },
          "metadata": {},
          "execution_count": 117
        }
      ]
    },
    {
      "cell_type": "code",
      "source": [
        "similarword = nlp(\"ராஜா அரசன் மன்னன் வேந்தன் வேந்தன\")\n"
      ],
      "metadata": {
        "id": "JBYrJS_EiNLH"
      },
      "execution_count": null,
      "outputs": []
    },
    {
      "cell_type": "code",
      "source": [
        "for token in similarword:\n",
        "    print(token.text)"
      ],
      "metadata": {
        "colab": {
          "base_uri": "https://localhost:8080/"
        },
        "id": "yOwHCci6iOgC",
        "outputId": "83a8f166-9a77-47d9-d932-9df576e98e80"
      },
      "execution_count": null,
      "outputs": [
        {
          "output_type": "stream",
          "name": "stdout",
          "text": [
            "ராஜா\n",
            "அரசன்\n",
            "மன்னன்\n",
            "வேந்தன்\n",
            "வேந்தன\n"
          ]
        }
      ]
    },
    {
      "cell_type": "code",
      "source": [
        "# Similarity Between Tokens\n",
        "for token1 in similarword:\n",
        "    for token2 in similarword:\n",
        "        print((token1.text,token2.text),\"similarity=>\",token1.similarity(token2))\n"
      ],
      "metadata": {
        "colab": {
          "base_uri": "https://localhost:8080/"
        },
        "id": "soFhKgj4iRsO",
        "outputId": "6aa15ba4-9b6d-4892-ed54-1745d1b4ab2a"
      },
      "execution_count": null,
      "outputs": [
        {
          "output_type": "stream",
          "name": "stdout",
          "text": [
            "('ராஜா', 'ராஜா') similarity=> 1.0\n",
            "('ராஜா', 'அரசன்') similarity=> 0.17933696508407593\n",
            "('ராஜா', 'மன்னன்') similarity=> 0.2062259316444397\n",
            "('ராஜா', 'வேந்தன்') similarity=> 0.058676548302173615\n",
            "('ராஜா', 'வேந்தன') similarity=> 0.043200813233852386\n",
            "('அரசன்', 'ராஜா') similarity=> 0.17933696508407593\n",
            "('அரசன்', 'அரசன்') similarity=> 1.0\n",
            "('அரசன்', 'மன்னன்') similarity=> 0.2836737632751465\n",
            "('அரசன்', 'வேந்தன்') similarity=> 0.13490700721740723\n",
            "('அரசன்', 'வேந்தன') similarity=> 0.15021631121635437\n",
            "('மன்னன்', 'ராஜா') similarity=> 0.2062259316444397\n",
            "('மன்னன்', 'அரசன்') similarity=> 0.2836737632751465\n",
            "('மன்னன்', 'மன்னன்') similarity=> 1.0\n",
            "('மன்னன்', 'வேந்தன்') similarity=> 0.13555099070072174\n",
            "('மன்னன்', 'வேந்தன') similarity=> 0.16020332276821136\n",
            "('வேந்தன்', 'ராஜா') similarity=> 0.058676548302173615\n",
            "('வேந்தன்', 'அரசன்') similarity=> 0.13490700721740723\n",
            "('வேந்தன்', 'மன்னன்') similarity=> 0.13555099070072174\n",
            "('வேந்தன்', 'வேந்தன்') similarity=> 1.0\n",
            "('வேந்தன்', 'வேந்தன') similarity=> 0.10628552734851837\n",
            "('வேந்தன', 'ராஜா') similarity=> 0.043200813233852386\n",
            "('வேந்தன', 'அரசன்') similarity=> 0.15021631121635437\n",
            "('வேந்தன', 'மன்னன்') similarity=> 0.16020332276821136\n",
            "('வேந்தன', 'வேந்தன்') similarity=> 0.10628552734851837\n",
            "('வேந்தன', 'வேந்தன') similarity=> 1.0\n"
          ]
        },
        {
          "output_type": "stream",
          "name": "stderr",
          "text": [
            "/usr/local/lib/python3.7/dist-packages/ipykernel_launcher.py:4: UserWarning: [W007] The model you're using has no word vectors loaded, so the result of the Token.similarity method will be based on the tagger, parser and NER, which may not give useful similarity judgements. This may happen if you're using one of the small models, e.g. `en_core_web_sm`, which don't ship with word vectors and only use context-sensitive tensors. You can always add your own word vectors, or use one of the larger models instead if available.\n",
            "  after removing the cwd from sys.path.\n"
          ]
        }
      ]
    },
    {
      "cell_type": "code",
      "source": [
        "mylist = [(token1.text,token2.text,token1.similarity(token2)) for token2 in similarword for token1 in similarword]\n",
        "mylist\n"
      ],
      "metadata": {
        "colab": {
          "base_uri": "https://localhost:8080/"
        },
        "id": "Qd1DLtkIiTII",
        "outputId": "1930cd0f-3372-401c-8fe1-922dcaa74222"
      },
      "execution_count": null,
      "outputs": [
        {
          "output_type": "stream",
          "name": "stderr",
          "text": [
            "/usr/local/lib/python3.7/dist-packages/ipykernel_launcher.py:1: UserWarning: [W007] The model you're using has no word vectors loaded, so the result of the Token.similarity method will be based on the tagger, parser and NER, which may not give useful similarity judgements. This may happen if you're using one of the small models, e.g. `en_core_web_sm`, which don't ship with word vectors and only use context-sensitive tensors. You can always add your own word vectors, or use one of the larger models instead if available.\n",
            "  \"\"\"Entry point for launching an IPython kernel.\n"
          ]
        },
        {
          "output_type": "execute_result",
          "data": {
            "text/plain": [
              "[('ராஜா', 'ராஜா', 1.0),\n",
              " ('அரசன்', 'ராஜா', 0.17933696508407593),\n",
              " ('மன்னன்', 'ராஜா', 0.2062259316444397),\n",
              " ('வேந்தன்', 'ராஜா', 0.058676548302173615),\n",
              " ('வேந்தன', 'ராஜா', 0.043200813233852386),\n",
              " ('ராஜா', 'அரசன்', 0.17933696508407593),\n",
              " ('அரசன்', 'அரசன்', 1.0),\n",
              " ('மன்னன்', 'அரசன்', 0.2836737632751465),\n",
              " ('வேந்தன்', 'அரசன்', 0.13490700721740723),\n",
              " ('வேந்தன', 'அரசன்', 0.15021631121635437),\n",
              " ('ராஜா', 'மன்னன்', 0.2062259316444397),\n",
              " ('அரசன்', 'மன்னன்', 0.2836737632751465),\n",
              " ('மன்னன்', 'மன்னன்', 1.0),\n",
              " ('வேந்தன்', 'மன்னன்', 0.13555099070072174),\n",
              " ('வேந்தன', 'மன்னன்', 0.16020332276821136),\n",
              " ('ராஜா', 'வேந்தன்', 0.058676548302173615),\n",
              " ('அரசன்', 'வேந்தன்', 0.13490700721740723),\n",
              " ('மன்னன்', 'வேந்தன்', 0.13555099070072174),\n",
              " ('வேந்தன்', 'வேந்தன்', 1.0),\n",
              " ('வேந்தன', 'வேந்தன்', 0.10628552734851837),\n",
              " ('ராஜா', 'வேந்தன', 0.043200813233852386),\n",
              " ('அரசன்', 'வேந்தன', 0.15021631121635437),\n",
              " ('மன்னன்', 'வேந்தன', 0.16020332276821136),\n",
              " ('வேந்தன்', 'வேந்தன', 0.10628552734851837),\n",
              " ('வேந்தன', 'வேந்தன', 1.0)]"
            ]
          },
          "metadata": {},
          "execution_count": 122
        }
      ]
    },
    {
      "cell_type": "code",
      "source": [
        "import pandas as pd\n",
        "df = pd.DataFrame(mylist)\n",
        "df.head()\n"
      ],
      "metadata": {
        "colab": {
          "base_uri": "https://localhost:8080/",
          "height": 206
        },
        "id": "Vbb22DjFjvG8",
        "outputId": "b1165bb2-8504-4347-9e1d-c6619b0f48bd"
      },
      "execution_count": null,
      "outputs": [
        {
          "output_type": "execute_result",
          "data": {
            "text/plain": [
              "         0     1         2\n",
              "0     ராஜா  ராஜா  1.000000\n",
              "1    அரசன்  ராஜா  0.179337\n",
              "2   மன்னன்  ராஜா  0.206226\n",
              "3  வேந்தன்  ராஜா  0.058677\n",
              "4   வேந்தன  ராஜா  0.043201"
            ],
            "text/html": [
              "\n",
              "  <div id=\"df-96d54f47-62f5-47a2-9866-5ebc97b3cbf2\">\n",
              "    <div class=\"colab-df-container\">\n",
              "      <div>\n",
              "<style scoped>\n",
              "    .dataframe tbody tr th:only-of-type {\n",
              "        vertical-align: middle;\n",
              "    }\n",
              "\n",
              "    .dataframe tbody tr th {\n",
              "        vertical-align: top;\n",
              "    }\n",
              "\n",
              "    .dataframe thead th {\n",
              "        text-align: right;\n",
              "    }\n",
              "</style>\n",
              "<table border=\"1\" class=\"dataframe\">\n",
              "  <thead>\n",
              "    <tr style=\"text-align: right;\">\n",
              "      <th></th>\n",
              "      <th>0</th>\n",
              "      <th>1</th>\n",
              "      <th>2</th>\n",
              "    </tr>\n",
              "  </thead>\n",
              "  <tbody>\n",
              "    <tr>\n",
              "      <th>0</th>\n",
              "      <td>ராஜா</td>\n",
              "      <td>ராஜா</td>\n",
              "      <td>1.000000</td>\n",
              "    </tr>\n",
              "    <tr>\n",
              "      <th>1</th>\n",
              "      <td>அரசன்</td>\n",
              "      <td>ராஜா</td>\n",
              "      <td>0.179337</td>\n",
              "    </tr>\n",
              "    <tr>\n",
              "      <th>2</th>\n",
              "      <td>மன்னன்</td>\n",
              "      <td>ராஜா</td>\n",
              "      <td>0.206226</td>\n",
              "    </tr>\n",
              "    <tr>\n",
              "      <th>3</th>\n",
              "      <td>வேந்தன்</td>\n",
              "      <td>ராஜா</td>\n",
              "      <td>0.058677</td>\n",
              "    </tr>\n",
              "    <tr>\n",
              "      <th>4</th>\n",
              "      <td>வேந்தன</td>\n",
              "      <td>ராஜா</td>\n",
              "      <td>0.043201</td>\n",
              "    </tr>\n",
              "  </tbody>\n",
              "</table>\n",
              "</div>\n",
              "      <button class=\"colab-df-convert\" onclick=\"convertToInteractive('df-96d54f47-62f5-47a2-9866-5ebc97b3cbf2')\"\n",
              "              title=\"Convert this dataframe to an interactive table.\"\n",
              "              style=\"display:none;\">\n",
              "        \n",
              "  <svg xmlns=\"http://www.w3.org/2000/svg\" height=\"24px\"viewBox=\"0 0 24 24\"\n",
              "       width=\"24px\">\n",
              "    <path d=\"M0 0h24v24H0V0z\" fill=\"none\"/>\n",
              "    <path d=\"M18.56 5.44l.94 2.06.94-2.06 2.06-.94-2.06-.94-.94-2.06-.94 2.06-2.06.94zm-11 1L8.5 8.5l.94-2.06 2.06-.94-2.06-.94L8.5 2.5l-.94 2.06-2.06.94zm10 10l.94 2.06.94-2.06 2.06-.94-2.06-.94-.94-2.06-.94 2.06-2.06.94z\"/><path d=\"M17.41 7.96l-1.37-1.37c-.4-.4-.92-.59-1.43-.59-.52 0-1.04.2-1.43.59L10.3 9.45l-7.72 7.72c-.78.78-.78 2.05 0 2.83L4 21.41c.39.39.9.59 1.41.59.51 0 1.02-.2 1.41-.59l7.78-7.78 2.81-2.81c.8-.78.8-2.07 0-2.86zM5.41 20L4 18.59l7.72-7.72 1.47 1.35L5.41 20z\"/>\n",
              "  </svg>\n",
              "      </button>\n",
              "      \n",
              "  <style>\n",
              "    .colab-df-container {\n",
              "      display:flex;\n",
              "      flex-wrap:wrap;\n",
              "      gap: 12px;\n",
              "    }\n",
              "\n",
              "    .colab-df-convert {\n",
              "      background-color: #E8F0FE;\n",
              "      border: none;\n",
              "      border-radius: 50%;\n",
              "      cursor: pointer;\n",
              "      display: none;\n",
              "      fill: #1967D2;\n",
              "      height: 32px;\n",
              "      padding: 0 0 0 0;\n",
              "      width: 32px;\n",
              "    }\n",
              "\n",
              "    .colab-df-convert:hover {\n",
              "      background-color: #E2EBFA;\n",
              "      box-shadow: 0px 1px 2px rgba(60, 64, 67, 0.3), 0px 1px 3px 1px rgba(60, 64, 67, 0.15);\n",
              "      fill: #174EA6;\n",
              "    }\n",
              "\n",
              "    [theme=dark] .colab-df-convert {\n",
              "      background-color: #3B4455;\n",
              "      fill: #D2E3FC;\n",
              "    }\n",
              "\n",
              "    [theme=dark] .colab-df-convert:hover {\n",
              "      background-color: #434B5C;\n",
              "      box-shadow: 0px 1px 3px 1px rgba(0, 0, 0, 0.15);\n",
              "      filter: drop-shadow(0px 1px 2px rgba(0, 0, 0, 0.3));\n",
              "      fill: #FFFFFF;\n",
              "    }\n",
              "  </style>\n",
              "\n",
              "      <script>\n",
              "        const buttonEl =\n",
              "          document.querySelector('#df-96d54f47-62f5-47a2-9866-5ebc97b3cbf2 button.colab-df-convert');\n",
              "        buttonEl.style.display =\n",
              "          google.colab.kernel.accessAllowed ? 'block' : 'none';\n",
              "\n",
              "        async function convertToInteractive(key) {\n",
              "          const element = document.querySelector('#df-96d54f47-62f5-47a2-9866-5ebc97b3cbf2');\n",
              "          const dataTable =\n",
              "            await google.colab.kernel.invokeFunction('convertToInteractive',\n",
              "                                                     [key], {});\n",
              "          if (!dataTable) return;\n",
              "\n",
              "          const docLinkHtml = 'Like what you see? Visit the ' +\n",
              "            '<a target=\"_blank\" href=https://colab.research.google.com/notebooks/data_table.ipynb>data table notebook</a>'\n",
              "            + ' to learn more about interactive tables.';\n",
              "          element.innerHTML = '';\n",
              "          dataTable['output_type'] = 'display_data';\n",
              "          await google.colab.output.renderOutput(dataTable, element);\n",
              "          const docLink = document.createElement('div');\n",
              "          docLink.innerHTML = docLinkHtml;\n",
              "          element.appendChild(docLink);\n",
              "        }\n",
              "      </script>\n",
              "    </div>\n",
              "  </div>\n",
              "  "
            ]
          },
          "metadata": {},
          "execution_count": 123
        }
      ]
    },
    {
      "cell_type": "code",
      "source": [
        "df.corr()\n"
      ],
      "metadata": {
        "colab": {
          "base_uri": "https://localhost:8080/",
          "height": 81
        },
        "id": "B6vu4yo1jy5X",
        "outputId": "61b29c43-9c29-45b2-ba6b-57deef215554"
      },
      "execution_count": null,
      "outputs": [
        {
          "output_type": "execute_result",
          "data": {
            "text/plain": [
              "     2\n",
              "2  1.0"
            ],
            "text/html": [
              "\n",
              "  <div id=\"df-1e1004d2-d3ea-49e3-b153-3589194e8e69\">\n",
              "    <div class=\"colab-df-container\">\n",
              "      <div>\n",
              "<style scoped>\n",
              "    .dataframe tbody tr th:only-of-type {\n",
              "        vertical-align: middle;\n",
              "    }\n",
              "\n",
              "    .dataframe tbody tr th {\n",
              "        vertical-align: top;\n",
              "    }\n",
              "\n",
              "    .dataframe thead th {\n",
              "        text-align: right;\n",
              "    }\n",
              "</style>\n",
              "<table border=\"1\" class=\"dataframe\">\n",
              "  <thead>\n",
              "    <tr style=\"text-align: right;\">\n",
              "      <th></th>\n",
              "      <th>2</th>\n",
              "    </tr>\n",
              "  </thead>\n",
              "  <tbody>\n",
              "    <tr>\n",
              "      <th>2</th>\n",
              "      <td>1.0</td>\n",
              "    </tr>\n",
              "  </tbody>\n",
              "</table>\n",
              "</div>\n",
              "      <button class=\"colab-df-convert\" onclick=\"convertToInteractive('df-1e1004d2-d3ea-49e3-b153-3589194e8e69')\"\n",
              "              title=\"Convert this dataframe to an interactive table.\"\n",
              "              style=\"display:none;\">\n",
              "        \n",
              "  <svg xmlns=\"http://www.w3.org/2000/svg\" height=\"24px\"viewBox=\"0 0 24 24\"\n",
              "       width=\"24px\">\n",
              "    <path d=\"M0 0h24v24H0V0z\" fill=\"none\"/>\n",
              "    <path d=\"M18.56 5.44l.94 2.06.94-2.06 2.06-.94-2.06-.94-.94-2.06-.94 2.06-2.06.94zm-11 1L8.5 8.5l.94-2.06 2.06-.94-2.06-.94L8.5 2.5l-.94 2.06-2.06.94zm10 10l.94 2.06.94-2.06 2.06-.94-2.06-.94-.94-2.06-.94 2.06-2.06.94z\"/><path d=\"M17.41 7.96l-1.37-1.37c-.4-.4-.92-.59-1.43-.59-.52 0-1.04.2-1.43.59L10.3 9.45l-7.72 7.72c-.78.78-.78 2.05 0 2.83L4 21.41c.39.39.9.59 1.41.59.51 0 1.02-.2 1.41-.59l7.78-7.78 2.81-2.81c.8-.78.8-2.07 0-2.86zM5.41 20L4 18.59l7.72-7.72 1.47 1.35L5.41 20z\"/>\n",
              "  </svg>\n",
              "      </button>\n",
              "      \n",
              "  <style>\n",
              "    .colab-df-container {\n",
              "      display:flex;\n",
              "      flex-wrap:wrap;\n",
              "      gap: 12px;\n",
              "    }\n",
              "\n",
              "    .colab-df-convert {\n",
              "      background-color: #E8F0FE;\n",
              "      border: none;\n",
              "      border-radius: 50%;\n",
              "      cursor: pointer;\n",
              "      display: none;\n",
              "      fill: #1967D2;\n",
              "      height: 32px;\n",
              "      padding: 0 0 0 0;\n",
              "      width: 32px;\n",
              "    }\n",
              "\n",
              "    .colab-df-convert:hover {\n",
              "      background-color: #E2EBFA;\n",
              "      box-shadow: 0px 1px 2px rgba(60, 64, 67, 0.3), 0px 1px 3px 1px rgba(60, 64, 67, 0.15);\n",
              "      fill: #174EA6;\n",
              "    }\n",
              "\n",
              "    [theme=dark] .colab-df-convert {\n",
              "      background-color: #3B4455;\n",
              "      fill: #D2E3FC;\n",
              "    }\n",
              "\n",
              "    [theme=dark] .colab-df-convert:hover {\n",
              "      background-color: #434B5C;\n",
              "      box-shadow: 0px 1px 3px 1px rgba(0, 0, 0, 0.15);\n",
              "      filter: drop-shadow(0px 1px 2px rgba(0, 0, 0, 0.3));\n",
              "      fill: #FFFFFF;\n",
              "    }\n",
              "  </style>\n",
              "\n",
              "      <script>\n",
              "        const buttonEl =\n",
              "          document.querySelector('#df-1e1004d2-d3ea-49e3-b153-3589194e8e69 button.colab-df-convert');\n",
              "        buttonEl.style.display =\n",
              "          google.colab.kernel.accessAllowed ? 'block' : 'none';\n",
              "\n",
              "        async function convertToInteractive(key) {\n",
              "          const element = document.querySelector('#df-1e1004d2-d3ea-49e3-b153-3589194e8e69');\n",
              "          const dataTable =\n",
              "            await google.colab.kernel.invokeFunction('convertToInteractive',\n",
              "                                                     [key], {});\n",
              "          if (!dataTable) return;\n",
              "\n",
              "          const docLinkHtml = 'Like what you see? Visit the ' +\n",
              "            '<a target=\"_blank\" href=https://colab.research.google.com/notebooks/data_table.ipynb>data table notebook</a>'\n",
              "            + ' to learn more about interactive tables.';\n",
              "          element.innerHTML = '';\n",
              "          dataTable['output_type'] = 'display_data';\n",
              "          await google.colab.output.renderOutput(dataTable, element);\n",
              "          const docLink = document.createElement('div');\n",
              "          docLink.innerHTML = docLinkHtml;\n",
              "          element.appendChild(docLink);\n",
              "        }\n",
              "      </script>\n",
              "    </div>\n",
              "  </div>\n",
              "  "
            ]
          },
          "metadata": {},
          "execution_count": 124
        }
      ]
    },
    {
      "cell_type": "code",
      "source": [
        "df.columns = [\"Token1\",\"Token2\",\"Similarity\"]\n",
        "df.head()\n"
      ],
      "metadata": {
        "colab": {
          "base_uri": "https://localhost:8080/",
          "height": 206
        },
        "id": "xAvyQ2Q9j0Of",
        "outputId": "5c91eb58-2c59-46a4-d4e2-77c986bd03d9"
      },
      "execution_count": null,
      "outputs": [
        {
          "output_type": "execute_result",
          "data": {
            "text/plain": [
              "    Token1 Token2  Similarity\n",
              "0     ராஜா   ராஜா    1.000000\n",
              "1    அரசன்   ராஜா    0.179337\n",
              "2   மன்னன்   ராஜா    0.206226\n",
              "3  வேந்தன்   ராஜா    0.058677\n",
              "4   வேந்தன   ராஜா    0.043201"
            ],
            "text/html": [
              "\n",
              "  <div id=\"df-4163db39-e465-46b7-8a6c-74fcb8bc32c1\">\n",
              "    <div class=\"colab-df-container\">\n",
              "      <div>\n",
              "<style scoped>\n",
              "    .dataframe tbody tr th:only-of-type {\n",
              "        vertical-align: middle;\n",
              "    }\n",
              "\n",
              "    .dataframe tbody tr th {\n",
              "        vertical-align: top;\n",
              "    }\n",
              "\n",
              "    .dataframe thead th {\n",
              "        text-align: right;\n",
              "    }\n",
              "</style>\n",
              "<table border=\"1\" class=\"dataframe\">\n",
              "  <thead>\n",
              "    <tr style=\"text-align: right;\">\n",
              "      <th></th>\n",
              "      <th>Token1</th>\n",
              "      <th>Token2</th>\n",
              "      <th>Similarity</th>\n",
              "    </tr>\n",
              "  </thead>\n",
              "  <tbody>\n",
              "    <tr>\n",
              "      <th>0</th>\n",
              "      <td>ராஜா</td>\n",
              "      <td>ராஜா</td>\n",
              "      <td>1.000000</td>\n",
              "    </tr>\n",
              "    <tr>\n",
              "      <th>1</th>\n",
              "      <td>அரசன்</td>\n",
              "      <td>ராஜா</td>\n",
              "      <td>0.179337</td>\n",
              "    </tr>\n",
              "    <tr>\n",
              "      <th>2</th>\n",
              "      <td>மன்னன்</td>\n",
              "      <td>ராஜா</td>\n",
              "      <td>0.206226</td>\n",
              "    </tr>\n",
              "    <tr>\n",
              "      <th>3</th>\n",
              "      <td>வேந்தன்</td>\n",
              "      <td>ராஜா</td>\n",
              "      <td>0.058677</td>\n",
              "    </tr>\n",
              "    <tr>\n",
              "      <th>4</th>\n",
              "      <td>வேந்தன</td>\n",
              "      <td>ராஜா</td>\n",
              "      <td>0.043201</td>\n",
              "    </tr>\n",
              "  </tbody>\n",
              "</table>\n",
              "</div>\n",
              "      <button class=\"colab-df-convert\" onclick=\"convertToInteractive('df-4163db39-e465-46b7-8a6c-74fcb8bc32c1')\"\n",
              "              title=\"Convert this dataframe to an interactive table.\"\n",
              "              style=\"display:none;\">\n",
              "        \n",
              "  <svg xmlns=\"http://www.w3.org/2000/svg\" height=\"24px\"viewBox=\"0 0 24 24\"\n",
              "       width=\"24px\">\n",
              "    <path d=\"M0 0h24v24H0V0z\" fill=\"none\"/>\n",
              "    <path d=\"M18.56 5.44l.94 2.06.94-2.06 2.06-.94-2.06-.94-.94-2.06-.94 2.06-2.06.94zm-11 1L8.5 8.5l.94-2.06 2.06-.94-2.06-.94L8.5 2.5l-.94 2.06-2.06.94zm10 10l.94 2.06.94-2.06 2.06-.94-2.06-.94-.94-2.06-.94 2.06-2.06.94z\"/><path d=\"M17.41 7.96l-1.37-1.37c-.4-.4-.92-.59-1.43-.59-.52 0-1.04.2-1.43.59L10.3 9.45l-7.72 7.72c-.78.78-.78 2.05 0 2.83L4 21.41c.39.39.9.59 1.41.59.51 0 1.02-.2 1.41-.59l7.78-7.78 2.81-2.81c.8-.78.8-2.07 0-2.86zM5.41 20L4 18.59l7.72-7.72 1.47 1.35L5.41 20z\"/>\n",
              "  </svg>\n",
              "      </button>\n",
              "      \n",
              "  <style>\n",
              "    .colab-df-container {\n",
              "      display:flex;\n",
              "      flex-wrap:wrap;\n",
              "      gap: 12px;\n",
              "    }\n",
              "\n",
              "    .colab-df-convert {\n",
              "      background-color: #E8F0FE;\n",
              "      border: none;\n",
              "      border-radius: 50%;\n",
              "      cursor: pointer;\n",
              "      display: none;\n",
              "      fill: #1967D2;\n",
              "      height: 32px;\n",
              "      padding: 0 0 0 0;\n",
              "      width: 32px;\n",
              "    }\n",
              "\n",
              "    .colab-df-convert:hover {\n",
              "      background-color: #E2EBFA;\n",
              "      box-shadow: 0px 1px 2px rgba(60, 64, 67, 0.3), 0px 1px 3px 1px rgba(60, 64, 67, 0.15);\n",
              "      fill: #174EA6;\n",
              "    }\n",
              "\n",
              "    [theme=dark] .colab-df-convert {\n",
              "      background-color: #3B4455;\n",
              "      fill: #D2E3FC;\n",
              "    }\n",
              "\n",
              "    [theme=dark] .colab-df-convert:hover {\n",
              "      background-color: #434B5C;\n",
              "      box-shadow: 0px 1px 3px 1px rgba(0, 0, 0, 0.15);\n",
              "      filter: drop-shadow(0px 1px 2px rgba(0, 0, 0, 0.3));\n",
              "      fill: #FFFFFF;\n",
              "    }\n",
              "  </style>\n",
              "\n",
              "      <script>\n",
              "        const buttonEl =\n",
              "          document.querySelector('#df-4163db39-e465-46b7-8a6c-74fcb8bc32c1 button.colab-df-convert');\n",
              "        buttonEl.style.display =\n",
              "          google.colab.kernel.accessAllowed ? 'block' : 'none';\n",
              "\n",
              "        async function convertToInteractive(key) {\n",
              "          const element = document.querySelector('#df-4163db39-e465-46b7-8a6c-74fcb8bc32c1');\n",
              "          const dataTable =\n",
              "            await google.colab.kernel.invokeFunction('convertToInteractive',\n",
              "                                                     [key], {});\n",
              "          if (!dataTable) return;\n",
              "\n",
              "          const docLinkHtml = 'Like what you see? Visit the ' +\n",
              "            '<a target=\"_blank\" href=https://colab.research.google.com/notebooks/data_table.ipynb>data table notebook</a>'\n",
              "            + ' to learn more about interactive tables.';\n",
              "          element.innerHTML = '';\n",
              "          dataTable['output_type'] = 'display_data';\n",
              "          await google.colab.output.renderOutput(dataTable, element);\n",
              "          const docLink = document.createElement('div');\n",
              "          docLink.innerHTML = docLinkHtml;\n",
              "          element.appendChild(docLink);\n",
              "        }\n",
              "      </script>\n",
              "    </div>\n",
              "  </div>\n",
              "  "
            ]
          },
          "metadata": {},
          "execution_count": 125
        }
      ]
    },
    {
      "cell_type": "markdown",
      "source": [
        "### Approach 6 Not working\n",
        "\n"
      ],
      "metadata": {
        "id": "1Ypjwwyqsd0g"
      }
    },
    {
      "cell_type": "code",
      "source": [
        "# imports needed and logging\n",
        "import gzip\n",
        "import gensim \n",
        "import logging\n",
        "# logging.basicConfig(format=’%(asctime)s : %(levelname)s : %(message)s’, level=logging.INFO)\n"
      ],
      "metadata": {
        "id": "Ca_fhR-3sjHj"
      },
      "execution_count": null,
      "outputs": []
    },
    {
      "cell_type": "code",
      "source": [
        "with open('/content/ponniayan.txt', 'r') as f:\n",
        "    file_name_data1 = f.read()     \n",
        "    print(file_name_data1)\n",
        "            "
      ],
      "metadata": {
        "colab": {
          "base_uri": "https://localhost:8080/"
        },
        "id": "0fXYx02QsoZ2",
        "outputId": "50b9ab61-f180-467c-d29a-0578032863c9"
      },
      "execution_count": null,
      "outputs": [
        {
          "output_type": "stream",
          "name": "stderr",
          "text": [
            "IOPub data rate exceeded.\n",
            "The notebook server will temporarily stop sending output\n",
            "to the client in order to avoid crashing it.\n",
            "To change this limit, set the config variable\n",
            "`--NotebookApp.iopub_data_rate_limit`.\n",
            "\n",
            "Current values:\n",
            "NotebookApp.iopub_data_rate_limit=1000000.0 (bytes/sec)\n",
            "NotebookApp.rate_limit_window=3.0 (secs)\n",
            "\n"
          ]
        }
      ]
    },
    {
      "cell_type": "code",
      "source": [
        "def read_input(input_file):\n",
        "    \"\"\"This method reads the input file which is in gzip format\"\"\"\n",
        "    logging.info(\"reading file {0}...this may take a while\".format(input_file))\n",
        "    with gzip.open(input_file, 'rb') as f:\n",
        "        for i, line in enumerate(f):\n",
        "            if (i % 10000 == 0):\n",
        "                logging.info(\"read {0} reviews\".format(i))\n",
        "            # do some pre-processing and return list of words for each review\n",
        "            # text\n",
        "            yield gensim.utils.simple_preprocess(line)"
      ],
      "metadata": {
        "id": "VoZ3QyGssrFf"
      },
      "execution_count": null,
      "outputs": []
    },
    {
      "cell_type": "code",
      "source": [
        "# build vocabulary and train model\n",
        "model = gensim.models.Word2Vec(documents,size=150,window=10,min_count=2,workers=10,iter=10)"
      ],
      "metadata": {
        "colab": {
          "base_uri": "https://localhost:8080/",
          "height": 187
        },
        "id": "Ya5PGY8Pss3x",
        "outputId": "ac177aa8-14c1-4614-ec88-344f95c0a24c"
      },
      "execution_count": null,
      "outputs": [
        {
          "output_type": "error",
          "ename": "NameError",
          "evalue": "ignored",
          "traceback": [
            "\u001b[0;31m---------------------------------------------------------------------------\u001b[0m",
            "\u001b[0;31mNameError\u001b[0m                                 Traceback (most recent call last)",
            "\u001b[0;32m<ipython-input-7-557c9170c7f6>\u001b[0m in \u001b[0;36m<module>\u001b[0;34m\u001b[0m\n\u001b[1;32m      1\u001b[0m \u001b[0;31m# build vocabulary and train model\u001b[0m\u001b[0;34m\u001b[0m\u001b[0;34m\u001b[0m\u001b[0;34m\u001b[0m\u001b[0m\n\u001b[0;32m----> 2\u001b[0;31m \u001b[0mmodel\u001b[0m \u001b[0;34m=\u001b[0m \u001b[0mgensim\u001b[0m\u001b[0;34m.\u001b[0m\u001b[0mmodels\u001b[0m\u001b[0;34m.\u001b[0m\u001b[0mWord2Vec\u001b[0m\u001b[0;34m(\u001b[0m\u001b[0mdocuments\u001b[0m\u001b[0;34m,\u001b[0m\u001b[0msize\u001b[0m\u001b[0;34m=\u001b[0m\u001b[0;36m150\u001b[0m\u001b[0;34m,\u001b[0m\u001b[0mwindow\u001b[0m\u001b[0;34m=\u001b[0m\u001b[0;36m10\u001b[0m\u001b[0;34m,\u001b[0m\u001b[0mmin_count\u001b[0m\u001b[0;34m=\u001b[0m\u001b[0;36m2\u001b[0m\u001b[0;34m,\u001b[0m\u001b[0mworkers\u001b[0m\u001b[0;34m=\u001b[0m\u001b[0;36m10\u001b[0m\u001b[0;34m,\u001b[0m\u001b[0miter\u001b[0m\u001b[0;34m=\u001b[0m\u001b[0;36m10\u001b[0m\u001b[0;34m)\u001b[0m\u001b[0;34m\u001b[0m\u001b[0;34m\u001b[0m\u001b[0m\n\u001b[0m",
            "\u001b[0;31mNameError\u001b[0m: name 'documents' is not defined"
          ]
        }
      ]
    },
    {
      "cell_type": "markdown",
      "source": [
        "### Approach 7\n"
      ],
      "metadata": {
        "id": "EaKXF3rI8nUC"
      }
    },
    {
      "cell_type": "code",
      "source": [
        "import numpy as np\n",
        "from sklearn.manifold import TSNE\n",
        "import matplotlib.pyplot as plt"
      ],
      "metadata": {
        "id": "jlnTa9-O8sE_"
      },
      "execution_count": null,
      "outputs": []
    },
    {
      "cell_type": "code",
      "source": [
        "import gensim.downloader as api\n",
        "word2vec_model = api.load('word2vec-google-news-300')"
      ],
      "metadata": {
        "colab": {
          "base_uri": "https://localhost:8080/",
          "height": 371
        },
        "id": "LBeQvIKD8sIW",
        "outputId": "b01c0a62-25ff-44e4-d57e-7f3a22a14241"
      },
      "execution_count": null,
      "outputs": [
        {
          "output_type": "stream",
          "name": "stdout",
          "text": [
            "[============--------------------------------------] 25.1% 417.9/1662.8MB downloaded"
          ]
        },
        {
          "output_type": "error",
          "ename": "KeyboardInterrupt",
          "evalue": "ignored",
          "traceback": [
            "\u001b[0;31m---------------------------------------------------------------------------\u001b[0m",
            "\u001b[0;31mKeyboardInterrupt\u001b[0m                         Traceback (most recent call last)",
            "\u001b[0;32m<ipython-input-3-46fd7d296585>\u001b[0m in \u001b[0;36m<module>\u001b[0;34m\u001b[0m\n\u001b[1;32m      1\u001b[0m \u001b[0;32mimport\u001b[0m \u001b[0mgensim\u001b[0m\u001b[0;34m.\u001b[0m\u001b[0mdownloader\u001b[0m \u001b[0;32mas\u001b[0m \u001b[0mapi\u001b[0m\u001b[0;34m\u001b[0m\u001b[0;34m\u001b[0m\u001b[0m\n\u001b[0;32m----> 2\u001b[0;31m \u001b[0mword2vec_model\u001b[0m \u001b[0;34m=\u001b[0m \u001b[0mapi\u001b[0m\u001b[0;34m.\u001b[0m\u001b[0mload\u001b[0m\u001b[0;34m(\u001b[0m\u001b[0;34m'word2vec-google-news-300'\u001b[0m\u001b[0;34m)\u001b[0m\u001b[0;34m\u001b[0m\u001b[0;34m\u001b[0m\u001b[0m\n\u001b[0m",
            "\u001b[0;32m/usr/local/lib/python3.7/dist-packages/gensim/downloader.py\u001b[0m in \u001b[0;36mload\u001b[0;34m(name, return_path)\u001b[0m\n\u001b[1;32m    415\u001b[0m     \u001b[0mpath\u001b[0m \u001b[0;34m=\u001b[0m \u001b[0mos\u001b[0m\u001b[0;34m.\u001b[0m\u001b[0mpath\u001b[0m\u001b[0;34m.\u001b[0m\u001b[0mjoin\u001b[0m\u001b[0;34m(\u001b[0m\u001b[0mfolder_dir\u001b[0m\u001b[0;34m,\u001b[0m \u001b[0mfile_name\u001b[0m\u001b[0;34m)\u001b[0m\u001b[0;34m\u001b[0m\u001b[0;34m\u001b[0m\u001b[0m\n\u001b[1;32m    416\u001b[0m     \u001b[0;32mif\u001b[0m \u001b[0;32mnot\u001b[0m \u001b[0mos\u001b[0m\u001b[0;34m.\u001b[0m\u001b[0mpath\u001b[0m\u001b[0;34m.\u001b[0m\u001b[0mexists\u001b[0m\u001b[0;34m(\u001b[0m\u001b[0mfolder_dir\u001b[0m\u001b[0;34m)\u001b[0m\u001b[0;34m:\u001b[0m\u001b[0;34m\u001b[0m\u001b[0;34m\u001b[0m\u001b[0m\n\u001b[0;32m--> 417\u001b[0;31m         \u001b[0m_download\u001b[0m\u001b[0;34m(\u001b[0m\u001b[0mname\u001b[0m\u001b[0;34m)\u001b[0m\u001b[0;34m\u001b[0m\u001b[0;34m\u001b[0m\u001b[0m\n\u001b[0m\u001b[1;32m    418\u001b[0m \u001b[0;34m\u001b[0m\u001b[0m\n\u001b[1;32m    419\u001b[0m     \u001b[0;32mif\u001b[0m \u001b[0mreturn_path\u001b[0m\u001b[0;34m:\u001b[0m\u001b[0;34m\u001b[0m\u001b[0;34m\u001b[0m\u001b[0m\n",
            "\u001b[0;32m/usr/local/lib/python3.7/dist-packages/gensim/downloader.py\u001b[0m in \u001b[0;36m_download\u001b[0;34m(name)\u001b[0m\n\u001b[1;32m    322\u001b[0m         \u001b[0mfname\u001b[0m \u001b[0;34m=\u001b[0m \u001b[0;34m\"{fname}.gz\"\u001b[0m\u001b[0;34m.\u001b[0m\u001b[0mformat\u001b[0m\u001b[0;34m(\u001b[0m\u001b[0mfname\u001b[0m\u001b[0;34m=\u001b[0m\u001b[0mname\u001b[0m\u001b[0;34m)\u001b[0m\u001b[0;34m\u001b[0m\u001b[0;34m\u001b[0m\u001b[0m\n\u001b[1;32m    323\u001b[0m         \u001b[0mdst_path\u001b[0m \u001b[0;34m=\u001b[0m \u001b[0mos\u001b[0m\u001b[0;34m.\u001b[0m\u001b[0mpath\u001b[0m\u001b[0;34m.\u001b[0m\u001b[0mjoin\u001b[0m\u001b[0;34m(\u001b[0m\u001b[0mtmp_dir\u001b[0m\u001b[0;34m,\u001b[0m \u001b[0mfname\u001b[0m\u001b[0;34m)\u001b[0m\u001b[0;34m\u001b[0m\u001b[0;34m\u001b[0m\u001b[0m\n\u001b[0;32m--> 324\u001b[0;31m         \u001b[0murllib\u001b[0m\u001b[0;34m.\u001b[0m\u001b[0murlretrieve\u001b[0m\u001b[0;34m(\u001b[0m\u001b[0murl_data\u001b[0m\u001b[0;34m,\u001b[0m \u001b[0mdst_path\u001b[0m\u001b[0;34m,\u001b[0m \u001b[0mreporthook\u001b[0m\u001b[0;34m=\u001b[0m\u001b[0m_progress\u001b[0m\u001b[0;34m)\u001b[0m\u001b[0;34m\u001b[0m\u001b[0;34m\u001b[0m\u001b[0m\n\u001b[0m\u001b[1;32m    325\u001b[0m         \u001b[0;32mif\u001b[0m \u001b[0m_calculate_md5_checksum\u001b[0m\u001b[0;34m(\u001b[0m\u001b[0mdst_path\u001b[0m\u001b[0;34m)\u001b[0m \u001b[0;34m==\u001b[0m \u001b[0m_get_checksum\u001b[0m\u001b[0;34m(\u001b[0m\u001b[0mname\u001b[0m\u001b[0;34m)\u001b[0m\u001b[0;34m:\u001b[0m\u001b[0;34m\u001b[0m\u001b[0;34m\u001b[0m\u001b[0m\n\u001b[1;32m    326\u001b[0m             \u001b[0msys\u001b[0m\u001b[0;34m.\u001b[0m\u001b[0mstdout\u001b[0m\u001b[0;34m.\u001b[0m\u001b[0mwrite\u001b[0m\u001b[0;34m(\u001b[0m\u001b[0;34m\"\\n\"\u001b[0m\u001b[0;34m)\u001b[0m\u001b[0;34m\u001b[0m\u001b[0;34m\u001b[0m\u001b[0m\n",
            "\u001b[0;32m/usr/lib/python3.7/urllib/request.py\u001b[0m in \u001b[0;36murlretrieve\u001b[0;34m(url, filename, reporthook, data)\u001b[0m\n\u001b[1;32m    281\u001b[0m                 \u001b[0mblocknum\u001b[0m \u001b[0;34m+=\u001b[0m \u001b[0;36m1\u001b[0m\u001b[0;34m\u001b[0m\u001b[0;34m\u001b[0m\u001b[0m\n\u001b[1;32m    282\u001b[0m                 \u001b[0;32mif\u001b[0m \u001b[0mreporthook\u001b[0m\u001b[0;34m:\u001b[0m\u001b[0;34m\u001b[0m\u001b[0;34m\u001b[0m\u001b[0m\n\u001b[0;32m--> 283\u001b[0;31m                     \u001b[0mreporthook\u001b[0m\u001b[0;34m(\u001b[0m\u001b[0mblocknum\u001b[0m\u001b[0;34m,\u001b[0m \u001b[0mbs\u001b[0m\u001b[0;34m,\u001b[0m \u001b[0msize\u001b[0m\u001b[0;34m)\u001b[0m\u001b[0;34m\u001b[0m\u001b[0;34m\u001b[0m\u001b[0m\n\u001b[0m\u001b[1;32m    284\u001b[0m \u001b[0;34m\u001b[0m\u001b[0m\n\u001b[1;32m    285\u001b[0m     \u001b[0;32mif\u001b[0m \u001b[0msize\u001b[0m \u001b[0;34m>=\u001b[0m \u001b[0;36m0\u001b[0m \u001b[0;32mand\u001b[0m \u001b[0mread\u001b[0m \u001b[0;34m<\u001b[0m \u001b[0msize\u001b[0m\u001b[0;34m:\u001b[0m\u001b[0;34m\u001b[0m\u001b[0;34m\u001b[0m\u001b[0m\n",
            "\u001b[0;32m/usr/local/lib/python3.7/dist-packages/gensim/downloader.py\u001b[0m in \u001b[0;36m_progress\u001b[0;34m(chunks_downloaded, chunk_size, total_size, part, total_parts)\u001b[0m\n\u001b[1;32m     94\u001b[0m                 \u001b[0mbar\u001b[0m\u001b[0;34m,\u001b[0m \u001b[0mpercent_downloaded\u001b[0m\u001b[0;34m,\u001b[0m \u001b[0;34m\"%\"\u001b[0m\u001b[0;34m,\u001b[0m\u001b[0;34m\u001b[0m\u001b[0;34m\u001b[0m\u001b[0m\n\u001b[1;32m     95\u001b[0m                 \u001b[0mround\u001b[0m\u001b[0;34m(\u001b[0m\u001b[0msize_downloaded\u001b[0m \u001b[0;34m/\u001b[0m \u001b[0;34m(\u001b[0m\u001b[0;36m1024\u001b[0m \u001b[0;34m*\u001b[0m \u001b[0;36m1024\u001b[0m\u001b[0;34m)\u001b[0m\u001b[0;34m,\u001b[0m \u001b[0;36m1\u001b[0m\u001b[0;34m)\u001b[0m\u001b[0;34m,\u001b[0m\u001b[0;34m\u001b[0m\u001b[0;34m\u001b[0m\u001b[0m\n\u001b[0;32m---> 96\u001b[0;31m                 round(float(total_size) / (1024 * 1024), 1))\n\u001b[0m\u001b[1;32m     97\u001b[0m         )\n\u001b[1;32m     98\u001b[0m         \u001b[0msys\u001b[0m\u001b[0;34m.\u001b[0m\u001b[0mstdout\u001b[0m\u001b[0;34m.\u001b[0m\u001b[0mflush\u001b[0m\u001b[0;34m(\u001b[0m\u001b[0;34m)\u001b[0m\u001b[0;34m\u001b[0m\u001b[0;34m\u001b[0m\u001b[0m\n",
            "\u001b[0;32m/usr/local/lib/python3.7/dist-packages/ipykernel/iostream.py\u001b[0m in \u001b[0;36mwrite\u001b[0;34m(self, string)\u001b[0m\n\u001b[1;32m    402\u001b[0m             \u001b[0mis_child\u001b[0m \u001b[0;34m=\u001b[0m \u001b[0;34m(\u001b[0m\u001b[0;32mnot\u001b[0m \u001b[0mself\u001b[0m\u001b[0;34m.\u001b[0m\u001b[0m_is_master_process\u001b[0m\u001b[0;34m(\u001b[0m\u001b[0;34m)\u001b[0m\u001b[0;34m)\u001b[0m\u001b[0;34m\u001b[0m\u001b[0;34m\u001b[0m\u001b[0m\n\u001b[1;32m    403\u001b[0m             \u001b[0;31m# only touch the buffer in the IO thread to avoid races\u001b[0m\u001b[0;34m\u001b[0m\u001b[0;34m\u001b[0m\u001b[0;34m\u001b[0m\u001b[0m\n\u001b[0;32m--> 404\u001b[0;31m             \u001b[0mself\u001b[0m\u001b[0;34m.\u001b[0m\u001b[0mpub_thread\u001b[0m\u001b[0;34m.\u001b[0m\u001b[0mschedule\u001b[0m\u001b[0;34m(\u001b[0m\u001b[0;32mlambda\u001b[0m \u001b[0;34m:\u001b[0m \u001b[0mself\u001b[0m\u001b[0;34m.\u001b[0m\u001b[0m_buffer\u001b[0m\u001b[0;34m.\u001b[0m\u001b[0mwrite\u001b[0m\u001b[0;34m(\u001b[0m\u001b[0mstring\u001b[0m\u001b[0;34m)\u001b[0m\u001b[0;34m)\u001b[0m\u001b[0;34m\u001b[0m\u001b[0;34m\u001b[0m\u001b[0m\n\u001b[0m\u001b[1;32m    405\u001b[0m             \u001b[0;32mif\u001b[0m \u001b[0mis_child\u001b[0m\u001b[0;34m:\u001b[0m\u001b[0;34m\u001b[0m\u001b[0;34m\u001b[0m\u001b[0m\n\u001b[1;32m    406\u001b[0m                 \u001b[0;31m# mp.Pool cannot be trusted to flush promptly (or ever),\u001b[0m\u001b[0;34m\u001b[0m\u001b[0;34m\u001b[0m\u001b[0;34m\u001b[0m\u001b[0m\n",
            "\u001b[0;32m/usr/local/lib/python3.7/dist-packages/ipykernel/iostream.py\u001b[0m in \u001b[0;36mschedule\u001b[0;34m(self, f)\u001b[0m\n\u001b[1;32m    203\u001b[0m             \u001b[0mself\u001b[0m\u001b[0;34m.\u001b[0m\u001b[0m_events\u001b[0m\u001b[0;34m.\u001b[0m\u001b[0mappend\u001b[0m\u001b[0;34m(\u001b[0m\u001b[0mf\u001b[0m\u001b[0;34m)\u001b[0m\u001b[0;34m\u001b[0m\u001b[0;34m\u001b[0m\u001b[0m\n\u001b[1;32m    204\u001b[0m             \u001b[0;31m# wake event thread (message content is ignored)\u001b[0m\u001b[0;34m\u001b[0m\u001b[0;34m\u001b[0m\u001b[0;34m\u001b[0m\u001b[0m\n\u001b[0;32m--> 205\u001b[0;31m             \u001b[0mself\u001b[0m\u001b[0;34m.\u001b[0m\u001b[0m_event_pipe\u001b[0m\u001b[0;34m.\u001b[0m\u001b[0msend\u001b[0m\u001b[0;34m(\u001b[0m\u001b[0;34mb''\u001b[0m\u001b[0;34m)\u001b[0m\u001b[0;34m\u001b[0m\u001b[0;34m\u001b[0m\u001b[0m\n\u001b[0m\u001b[1;32m    206\u001b[0m         \u001b[0;32melse\u001b[0m\u001b[0;34m:\u001b[0m\u001b[0;34m\u001b[0m\u001b[0;34m\u001b[0m\u001b[0m\n\u001b[1;32m    207\u001b[0m             \u001b[0mf\u001b[0m\u001b[0;34m(\u001b[0m\u001b[0;34m)\u001b[0m\u001b[0;34m\u001b[0m\u001b[0;34m\u001b[0m\u001b[0m\n",
            "\u001b[0;32m/usr/local/lib/python3.7/dist-packages/zmq/sugar/socket.py\u001b[0m in \u001b[0;36msend\u001b[0;34m(self, data, flags, copy, track, routing_id, group)\u001b[0m\n\u001b[1;32m    616\u001b[0m                 )\n\u001b[1;32m    617\u001b[0m             \u001b[0mdata\u001b[0m\u001b[0;34m.\u001b[0m\u001b[0mgroup\u001b[0m \u001b[0;34m=\u001b[0m \u001b[0mgroup\u001b[0m\u001b[0;34m\u001b[0m\u001b[0;34m\u001b[0m\u001b[0m\n\u001b[0;32m--> 618\u001b[0;31m         \u001b[0;32mreturn\u001b[0m \u001b[0msuper\u001b[0m\u001b[0;34m(\u001b[0m\u001b[0;34m)\u001b[0m\u001b[0;34m.\u001b[0m\u001b[0msend\u001b[0m\u001b[0;34m(\u001b[0m\u001b[0mdata\u001b[0m\u001b[0;34m,\u001b[0m \u001b[0mflags\u001b[0m\u001b[0;34m=\u001b[0m\u001b[0mflags\u001b[0m\u001b[0;34m,\u001b[0m \u001b[0mcopy\u001b[0m\u001b[0;34m=\u001b[0m\u001b[0mcopy\u001b[0m\u001b[0;34m,\u001b[0m \u001b[0mtrack\u001b[0m\u001b[0;34m=\u001b[0m\u001b[0mtrack\u001b[0m\u001b[0;34m)\u001b[0m\u001b[0;34m\u001b[0m\u001b[0;34m\u001b[0m\u001b[0m\n\u001b[0m\u001b[1;32m    619\u001b[0m \u001b[0;34m\u001b[0m\u001b[0m\n\u001b[1;32m    620\u001b[0m     def send_multipart(\n",
            "\u001b[0;32mzmq/backend/cython/socket.pyx\u001b[0m in \u001b[0;36mzmq.backend.cython.socket.Socket.send\u001b[0;34m()\u001b[0m\n",
            "\u001b[0;32mzmq/backend/cython/socket.pyx\u001b[0m in \u001b[0;36mzmq.backend.cython.socket.Socket.send\u001b[0;34m()\u001b[0m\n",
            "\u001b[0;32mzmq/backend/cython/socket.pyx\u001b[0m in \u001b[0;36mzmq.backend.cython.socket._send_copy\u001b[0;34m()\u001b[0m\n",
            "\u001b[0;32m/usr/local/lib/python3.7/dist-packages/zmq/backend/cython/checkrc.pxd\u001b[0m in \u001b[0;36mzmq.backend.cython.checkrc._check_rc\u001b[0;34m()\u001b[0m\n",
            "\u001b[0;31mKeyboardInterrupt\u001b[0m: "
          ]
        }
      ]
    },
    {
      "cell_type": "code",
      "source": [
        "word2vec_model.most_similar(positive=['boy', 'queen'], negative=['girl'], topn=1)\n"
      ],
      "metadata": {
        "id": "y0FjcGfQ9Kgd"
      },
      "execution_count": null,
      "outputs": []
    },
    {
      "cell_type": "code",
      "source": [
        "word2vec_model[\"beautiful\"]\n"
      ],
      "metadata": {
        "id": "8W2LUZpA80J7"
      },
      "execution_count": null,
      "outputs": []
    },
    {
      "cell_type": "code",
      "source": [
        "vocab = [\"boy\", \"girl\", \"man\", \"woman\", \"king\", \"queen\", \"banana\", \"apple\", \"mango\", \"fruit\", \"coconut\", \"orange\"]\n",
        "\n",
        "def tsne_plot(model):\n",
        "    labels = []\n",
        "    wordvecs = []\n",
        "\n",
        "    for word in vocab:\n",
        "        wordvecs.append(model[word])\n",
        "        labels.append(word)\n",
        "    \n",
        "    tsne_model = TSNE(perplexity=3, n_components=2, init='pca', random_state=42)\n",
        "    coordinates = tsne_model.fit_transform(wordvecs)\n",
        "\n",
        "    x = []\n",
        "    y = []\n",
        "    for value in coordinates:\n",
        "        x.append(value[0])\n",
        "        y.append(value[1])\n",
        "        \n",
        "    plt.figure(figsize=(8,8)) \n",
        "    for i in range(len(x)):\n",
        "        plt.scatter(x[i],y[i])\n",
        "        plt.annotate(labels[i],\n",
        "                     xy=(x[i], y[i]),\n",
        "                     xytext=(2, 2),\n",
        "                     textcoords='offset points',\n",
        "                     ha='right',\n",
        "                     va='bottom')\n",
        "    plt.show()\n",
        "\n",
        "tsne_plot(word2vec_model)"
      ],
      "metadata": {
        "id": "haYOEOHV9QnV"
      },
      "execution_count": null,
      "outputs": []
    },
    {
      "cell_type": "markdown",
      "source": [
        "### Approach 8"
      ],
      "metadata": {
        "id": "DiCHRRCPRfpx"
      }
    },
    {
      "cell_type": "code",
      "source": [
        "!pip install torch==1.3.1+cpu -f https://download.pytorch.org/whl/torch_stable.html\n"
      ],
      "metadata": {
        "colab": {
          "base_uri": "https://localhost:8080/"
        },
        "id": "7zxpYb9dRsdj",
        "outputId": "24120085-af90-4188-ea55-08ff19a930df"
      },
      "execution_count": null,
      "outputs": [
        {
          "output_type": "stream",
          "name": "stdout",
          "text": [
            "Looking in indexes: https://pypi.org/simple, https://us-python.pkg.dev/colab-wheels/public/simple/\n",
            "Looking in links: https://download.pytorch.org/whl/torch_stable.html\n",
            "Collecting torch==1.3.1+cpu\n",
            "  Downloading https://download.pytorch.org/whl/cpu/torch-1.3.1%2Bcpu-cp37-cp37m-linux_x86_64.whl (111.8 MB)\n",
            "\u001b[K     |████████████████████████████████| 111.8 MB 110 kB/s \n",
            "\u001b[?25hRequirement already satisfied: numpy in /usr/local/lib/python3.7/dist-packages (from torch==1.3.1+cpu) (1.21.6)\n",
            "Installing collected packages: torch\n",
            "  Attempting uninstall: torch\n",
            "    Found existing installation: torch 1.12.1+cu113\n",
            "    Uninstalling torch-1.12.1+cu113:\n",
            "      Successfully uninstalled torch-1.12.1+cu113\n",
            "\u001b[31mERROR: pip's dependency resolver does not currently take into account all the packages that are installed. This behaviour is the source of the following dependency conflicts.\n",
            "torchvision 0.13.1+cu113 requires torch==1.12.1, but you have torch 1.3.1+cpu which is incompatible.\n",
            "torchtext 0.13.1 requires torch==1.12.1, but you have torch 1.3.1+cpu which is incompatible.\n",
            "torchaudio 0.12.1+cu113 requires torch==1.12.1, but you have torch 1.3.1+cpu which is incompatible.\n",
            "fastai 2.7.9 requires torch<1.14,>=1.7, but you have torch 1.3.1+cpu which is incompatible.\u001b[0m\n",
            "Successfully installed torch-1.3.1+cpu\n"
          ]
        }
      ]
    },
    {
      "cell_type": "code",
      "source": [
        "!pip install inltk\n",
        "!pip install torch==1.3.1+cpu -f https://download.pytorch.org/whl/torch_stable.html\n"
      ],
      "metadata": {
        "colab": {
          "base_uri": "https://localhost:8080/"
        },
        "id": "a8KZd7vxRwlF",
        "outputId": "a3055369-b2a9-446b-a25d-ca4afb4f810e"
      },
      "execution_count": null,
      "outputs": [
        {
          "output_type": "stream",
          "name": "stdout",
          "text": [
            "Looking in indexes: https://pypi.org/simple, https://us-python.pkg.dev/colab-wheels/public/simple/\n",
            "Requirement already satisfied: inltk in /usr/local/lib/python3.7/dist-packages (0.9)\n",
            "Requirement already satisfied: pandas in /usr/local/lib/python3.7/dist-packages (from inltk) (1.3.5)\n",
            "Requirement already satisfied: aiohttp>=3.5.4 in /usr/local/lib/python3.7/dist-packages (from inltk) (3.8.1)\n",
            "Requirement already satisfied: scipy in /usr/local/lib/python3.7/dist-packages (from inltk) (1.7.3)\n",
            "Requirement already satisfied: pyyaml in /usr/local/lib/python3.7/dist-packages (from inltk) (6.0)\n",
            "Requirement already satisfied: requests in /usr/local/lib/python3.7/dist-packages (from inltk) (2.23.0)\n",
            "Requirement already satisfied: async-timeout>=3.0.1 in /usr/local/lib/python3.7/dist-packages (from inltk) (4.0.2)\n",
            "Requirement already satisfied: fastprogress>=0.1.19 in /usr/local/lib/python3.7/dist-packages (from inltk) (1.0.3)\n",
            "Requirement already satisfied: bottleneck in /usr/local/lib/python3.7/dist-packages (from inltk) (1.3.5)\n",
            "Requirement already satisfied: beautifulsoup4 in /usr/local/lib/python3.7/dist-packages (from inltk) (4.6.3)\n",
            "Requirement already satisfied: fastai==1.0.57 in /usr/local/lib/python3.7/dist-packages (from inltk) (1.0.57)\n",
            "Requirement already satisfied: matplotlib in /usr/local/lib/python3.7/dist-packages (from inltk) (3.2.2)\n",
            "Requirement already satisfied: spacy>=2.0.18 in /usr/local/lib/python3.7/dist-packages (from inltk) (3.4.1)\n",
            "Requirement already satisfied: numexpr in /usr/local/lib/python3.7/dist-packages (from inltk) (2.8.3)\n",
            "Requirement already satisfied: typing in /usr/local/lib/python3.7/dist-packages (from inltk) (3.7.4.3)\n",
            "Requirement already satisfied: packaging in /usr/local/lib/python3.7/dist-packages (from inltk) (21.3)\n",
            "Requirement already satisfied: sentencepiece in /usr/local/lib/python3.7/dist-packages (from inltk) (0.1.97)\n",
            "Requirement already satisfied: numpy>=1.15 in /usr/local/lib/python3.7/dist-packages (from inltk) (1.21.6)\n",
            "Requirement already satisfied: nvidia-ml-py3 in /usr/local/lib/python3.7/dist-packages (from inltk) (7.352.0)\n",
            "Requirement already satisfied: Pillow in /usr/local/lib/python3.7/dist-packages (from inltk) (7.1.2)\n",
            "Requirement already satisfied: torch>=1.0.0 in /usr/local/lib/python3.7/dist-packages (from fastai==1.0.57->inltk) (1.12.1)\n",
            "Requirement already satisfied: torchvision in /usr/local/lib/python3.7/dist-packages (from fastai==1.0.57->inltk) (0.13.1+cu113)\n",
            "Requirement already satisfied: frozenlist>=1.1.1 in /usr/local/lib/python3.7/dist-packages (from aiohttp>=3.5.4->inltk) (1.3.1)\n",
            "Requirement already satisfied: charset-normalizer<3.0,>=2.0 in /usr/local/lib/python3.7/dist-packages (from aiohttp>=3.5.4->inltk) (2.1.1)\n",
            "Requirement already satisfied: attrs>=17.3.0 in /usr/local/lib/python3.7/dist-packages (from aiohttp>=3.5.4->inltk) (22.1.0)\n",
            "Requirement already satisfied: typing-extensions>=3.7.4 in /usr/local/lib/python3.7/dist-packages (from aiohttp>=3.5.4->inltk) (4.1.1)\n",
            "Requirement already satisfied: multidict<7.0,>=4.5 in /usr/local/lib/python3.7/dist-packages (from aiohttp>=3.5.4->inltk) (6.0.2)\n",
            "Requirement already satisfied: aiosignal>=1.1.2 in /usr/local/lib/python3.7/dist-packages (from aiohttp>=3.5.4->inltk) (1.2.0)\n",
            "Requirement already satisfied: asynctest==0.13.0 in /usr/local/lib/python3.7/dist-packages (from aiohttp>=3.5.4->inltk) (0.13.0)\n",
            "Requirement already satisfied: yarl<2.0,>=1.0 in /usr/local/lib/python3.7/dist-packages (from aiohttp>=3.5.4->inltk) (1.8.1)\n",
            "Requirement already satisfied: typer<0.5.0,>=0.3.0 in /usr/local/lib/python3.7/dist-packages (from spacy>=2.0.18->inltk) (0.4.2)\n",
            "Requirement already satisfied: srsly<3.0.0,>=2.4.3 in /usr/local/lib/python3.7/dist-packages (from spacy>=2.0.18->inltk) (2.4.4)\n",
            "Requirement already satisfied: thinc<8.2.0,>=8.1.0 in /usr/local/lib/python3.7/dist-packages (from spacy>=2.0.18->inltk) (8.1.0)\n",
            "Requirement already satisfied: spacy-legacy<3.1.0,>=3.0.9 in /usr/local/lib/python3.7/dist-packages (from spacy>=2.0.18->inltk) (3.0.10)\n",
            "Requirement already satisfied: pydantic!=1.8,!=1.8.1,<1.10.0,>=1.7.4 in /usr/local/lib/python3.7/dist-packages (from spacy>=2.0.18->inltk) (1.9.2)\n",
            "Requirement already satisfied: catalogue<2.1.0,>=2.0.6 in /usr/local/lib/python3.7/dist-packages (from spacy>=2.0.18->inltk) (2.0.8)\n",
            "Requirement already satisfied: spacy-loggers<2.0.0,>=1.0.0 in /usr/local/lib/python3.7/dist-packages (from spacy>=2.0.18->inltk) (1.0.3)\n",
            "Requirement already satisfied: setuptools in /usr/local/lib/python3.7/dist-packages (from spacy>=2.0.18->inltk) (57.4.0)\n",
            "Requirement already satisfied: tqdm<5.0.0,>=4.38.0 in /usr/local/lib/python3.7/dist-packages (from spacy>=2.0.18->inltk) (4.64.1)\n",
            "Requirement already satisfied: wasabi<1.1.0,>=0.9.1 in /usr/local/lib/python3.7/dist-packages (from spacy>=2.0.18->inltk) (0.10.1)\n",
            "Requirement already satisfied: langcodes<4.0.0,>=3.2.0 in /usr/local/lib/python3.7/dist-packages (from spacy>=2.0.18->inltk) (3.3.0)\n",
            "Requirement already satisfied: murmurhash<1.1.0,>=0.28.0 in /usr/local/lib/python3.7/dist-packages (from spacy>=2.0.18->inltk) (1.0.8)\n",
            "Requirement already satisfied: jinja2 in /usr/local/lib/python3.7/dist-packages (from spacy>=2.0.18->inltk) (2.11.3)\n",
            "Requirement already satisfied: preshed<3.1.0,>=3.0.2 in /usr/local/lib/python3.7/dist-packages (from spacy>=2.0.18->inltk) (3.0.7)\n",
            "Requirement already satisfied: pathy>=0.3.5 in /usr/local/lib/python3.7/dist-packages (from spacy>=2.0.18->inltk) (0.6.2)\n",
            "Requirement already satisfied: cymem<2.1.0,>=2.0.2 in /usr/local/lib/python3.7/dist-packages (from spacy>=2.0.18->inltk) (2.0.6)\n",
            "Requirement already satisfied: zipp>=0.5 in /usr/local/lib/python3.7/dist-packages (from catalogue<2.1.0,>=2.0.6->spacy>=2.0.18->inltk) (3.8.1)\n",
            "Requirement already satisfied: pyparsing!=3.0.5,>=2.0.2 in /usr/local/lib/python3.7/dist-packages (from packaging->inltk) (3.0.9)\n",
            "Requirement already satisfied: smart-open<6.0.0,>=5.2.1 in /usr/local/lib/python3.7/dist-packages (from pathy>=0.3.5->spacy>=2.0.18->inltk) (5.2.1)\n",
            "Requirement already satisfied: certifi>=2017.4.17 in /usr/local/lib/python3.7/dist-packages (from requests->inltk) (2022.6.15)\n",
            "Requirement already satisfied: chardet<4,>=3.0.2 in /usr/local/lib/python3.7/dist-packages (from requests->inltk) (3.0.4)\n",
            "Requirement already satisfied: idna<3,>=2.5 in /usr/local/lib/python3.7/dist-packages (from requests->inltk) (2.10)\n",
            "Requirement already satisfied: urllib3!=1.25.0,!=1.25.1,<1.26,>=1.21.1 in /usr/local/lib/python3.7/dist-packages (from requests->inltk) (1.24.3)\n",
            "Requirement already satisfied: blis<0.8.0,>=0.7.8 in /usr/local/lib/python3.7/dist-packages (from thinc<8.2.0,>=8.1.0->spacy>=2.0.18->inltk) (0.7.8)\n",
            "Requirement already satisfied: click<9.0.0,>=7.1.1 in /usr/local/lib/python3.7/dist-packages (from typer<0.5.0,>=0.3.0->spacy>=2.0.18->inltk) (7.1.2)\n",
            "Requirement already satisfied: MarkupSafe>=0.23 in /usr/local/lib/python3.7/dist-packages (from jinja2->spacy>=2.0.18->inltk) (2.0.1)\n",
            "Requirement already satisfied: python-dateutil>=2.1 in /usr/local/lib/python3.7/dist-packages (from matplotlib->inltk) (2.8.2)\n",
            "Requirement already satisfied: cycler>=0.10 in /usr/local/lib/python3.7/dist-packages (from matplotlib->inltk) (0.11.0)\n",
            "Requirement already satisfied: kiwisolver>=1.0.1 in /usr/local/lib/python3.7/dist-packages (from matplotlib->inltk) (1.4.4)\n",
            "Requirement already satisfied: six>=1.5 in /usr/local/lib/python3.7/dist-packages (from python-dateutil>=2.1->matplotlib->inltk) (1.15.0)\n",
            "Requirement already satisfied: pytz>=2017.3 in /usr/local/lib/python3.7/dist-packages (from pandas->inltk) (2022.2.1)\n",
            "Looking in indexes: https://pypi.org/simple, https://us-python.pkg.dev/colab-wheels/public/simple/\n",
            "Looking in links: https://download.pytorch.org/whl/torch_stable.html\n",
            "Collecting torch==1.3.1+cpu\n",
            "  Using cached https://download.pytorch.org/whl/cpu/torch-1.3.1%2Bcpu-cp37-cp37m-linux_x86_64.whl (111.8 MB)\n",
            "Requirement already satisfied: numpy in /usr/local/lib/python3.7/dist-packages (from torch==1.3.1+cpu) (1.21.6)\n",
            "Installing collected packages: torch\n",
            "  Attempting uninstall: torch\n",
            "    Found existing installation: torch 1.12.1\n",
            "    Uninstalling torch-1.12.1:\n",
            "      Successfully uninstalled torch-1.12.1\n",
            "\u001b[31mERROR: pip's dependency resolver does not currently take into account all the packages that are installed. This behaviour is the source of the following dependency conflicts.\n",
            "torchvision 0.13.1+cu113 requires torch==1.12.1, but you have torch 1.3.1+cpu which is incompatible.\n",
            "torchtext 0.13.1 requires torch==1.12.1, but you have torch 1.3.1+cpu which is incompatible.\n",
            "torchaudio 0.12.1+cu113 requires torch==1.12.1, but you have torch 1.3.1+cpu which is incompatible.\u001b[0m\n",
            "Successfully installed torch-1.3.1+cpu\n"
          ]
        }
      ]
    },
    {
      "cell_type": "code",
      "source": [
        "from inltk.inltk import setup\n",
        "setup('hi')"
      ],
      "metadata": {
        "id": "8QeyuIv5TR_6"
      },
      "execution_count": null,
      "outputs": []
    },
    {
      "cell_type": "code",
      "source": [
        "from inltk.inltk import tokenize\n",
        "\n",
        "hindi_text = \"\"\"प्राचीन काल में विक्रमादित्य नाम के एक आदर्श राजा हुआ करते थे।\n",
        "अपने साहस, पराक्रम और शौर्य के लिए  राजा विक्रम मशहूर थे। \n",
        "ऐसा भी कहा जाता है कि राजा विक्रम अपनी प्राजा के जीवन के दुख दर्द जानने के लिए रात्री के पहर में भेष बदल कर नगर में घूमते थे।\"\"\"\n",
        "\n",
        "# tokenize(input text, language code)\n",
        "tokenize(hindi_text, \"hi\")"
      ],
      "metadata": {
        "colab": {
          "base_uri": "https://localhost:8080/",
          "height": 389
        },
        "id": "j89fn9xFSnVB",
        "outputId": "a662f4cb-7a01-4f47-a9cc-2105630165a5"
      },
      "execution_count": null,
      "outputs": [
        {
          "output_type": "error",
          "ename": "NameError",
          "evalue": "ignored",
          "traceback": [
            "\u001b[0;31m---------------------------------------------------------------------------\u001b[0m",
            "\u001b[0;31mNameError\u001b[0m                                 Traceback (most recent call last)",
            "\u001b[0;32m<ipython-input-12-bcd898f5b4a3>\u001b[0m in \u001b[0;36m<module>\u001b[0;34m\u001b[0m\n\u001b[0;32m----> 1\u001b[0;31m \u001b[0;32mfrom\u001b[0m \u001b[0minltk\u001b[0m\u001b[0;34m.\u001b[0m\u001b[0minltk\u001b[0m \u001b[0;32mimport\u001b[0m \u001b[0mtokenize\u001b[0m\u001b[0;34m\u001b[0m\u001b[0;34m\u001b[0m\u001b[0m\n\u001b[0m\u001b[1;32m      2\u001b[0m \u001b[0;34m\u001b[0m\u001b[0m\n\u001b[1;32m      3\u001b[0m hindi_text = \"\"\"प्राचीन काल में विक्रमादित्य नाम के एक आदर्श राजा हुआ करते थे।\n\u001b[1;32m      4\u001b[0m \u001b[0mअपन\u001b[0m\u001b[0;31mे\u001b[0m \u001b[0mस\u001b[0m\u001b[0;31mा\u001b[0m\u001b[0mहस\u001b[0m\u001b[0;34m,\u001b[0m \u001b[0mपर\u001b[0m\u001b[0;31mा\u001b[0m\u001b[0mक\u001b[0m\u001b[0;31m्\u001b[0m\u001b[0mरम\u001b[0m \u001b[0mऔर\u001b[0m \u001b[0mश\u001b[0m\u001b[0;31mौ\u001b[0m\u001b[0mर\u001b[0m\u001b[0;31m्\u001b[0m\u001b[0mय\u001b[0m \u001b[0mक\u001b[0m\u001b[0;31mे\u001b[0m \u001b[0mल\u001b[0m\u001b[0;31mि\u001b[0m\u001b[0mए\u001b[0m  \u001b[0mर\u001b[0m\u001b[0;31mा\u001b[0m\u001b[0mज\u001b[0m\u001b[0;31mा\u001b[0m \u001b[0mव\u001b[0m\u001b[0;31mि\u001b[0m\u001b[0mक\u001b[0m\u001b[0;31m्\u001b[0m\u001b[0mरम\u001b[0m \u001b[0mमशह\u001b[0m\u001b[0;31mू\u001b[0m\u001b[0mर\u001b[0m \u001b[0mथ\u001b[0m\u001b[0;31mे\u001b[0m\u001b[0;31m।\u001b[0m\u001b[0;34m\u001b[0m\u001b[0;34m\u001b[0m\u001b[0m\n\u001b[1;32m      5\u001b[0m ऐसा भी कहा जाता है कि राजा विक्रम अपनी प्राजा के जीवन के दुख दर्द जानने के लिए रात्री के पहर में भेष बदल कर नगर में घूमते थे।\"\"\"\n",
            "\u001b[0;32m/usr/local/lib/python3.7/dist-packages/inltk/inltk.py\u001b[0m in \u001b[0;36m<module>\u001b[0;34m\u001b[0m\n\u001b[1;32m      9\u001b[0m \u001b[0;32mfrom\u001b[0m \u001b[0minltk\u001b[0m\u001b[0;34m.\u001b[0m\u001b[0mconfig\u001b[0m \u001b[0;32mimport\u001b[0m \u001b[0mLanguageCodes\u001b[0m\u001b[0;34m\u001b[0m\u001b[0;34m\u001b[0m\u001b[0m\n\u001b[1;32m     10\u001b[0m \u001b[0;32mfrom\u001b[0m \u001b[0minltk\u001b[0m\u001b[0;34m.\u001b[0m\u001b[0mdownload_assets\u001b[0m \u001b[0;32mimport\u001b[0m \u001b[0msetup_language\u001b[0m\u001b[0;34m,\u001b[0m \u001b[0mverify_language\u001b[0m\u001b[0;34m,\u001b[0m \u001b[0mcheck_all_languages_identifying_model\u001b[0m\u001b[0;34m\u001b[0m\u001b[0;34m\u001b[0m\u001b[0m\n\u001b[0;32m---> 11\u001b[0;31m \u001b[0;32mfrom\u001b[0m \u001b[0minltk\u001b[0m\u001b[0;34m.\u001b[0m\u001b[0mtokenizer\u001b[0m \u001b[0;32mimport\u001b[0m \u001b[0mLanguageTokenizer\u001b[0m\u001b[0;34m\u001b[0m\u001b[0;34m\u001b[0m\u001b[0m\n\u001b[0m\u001b[1;32m     12\u001b[0m \u001b[0;32mfrom\u001b[0m \u001b[0minltk\u001b[0m\u001b[0;34m.\u001b[0m\u001b[0mconst\u001b[0m \u001b[0;32mimport\u001b[0m \u001b[0mtokenizer_special_cases\u001b[0m\u001b[0;34m\u001b[0m\u001b[0;34m\u001b[0m\u001b[0m\n\u001b[1;32m     13\u001b[0m \u001b[0;32mfrom\u001b[0m \u001b[0minltk\u001b[0m\u001b[0;34m.\u001b[0m\u001b[0mutils\u001b[0m \u001b[0;32mimport\u001b[0m \u001b[0mcos_sim\u001b[0m\u001b[0;34m,\u001b[0m \u001b[0mreset_models\u001b[0m\u001b[0;34m,\u001b[0m \u001b[0mis_english\u001b[0m\u001b[0;34m\u001b[0m\u001b[0;34m\u001b[0m\u001b[0m\n",
            "\u001b[0;32m/usr/local/lib/python3.7/dist-packages/inltk/tokenizer.py\u001b[0m in \u001b[0;36m<module>\u001b[0;34m\u001b[0m\n\u001b[1;32m      9\u001b[0m \u001b[0;34m\u001b[0m\u001b[0m\n\u001b[1;32m     10\u001b[0m \u001b[0;34m\u001b[0m\u001b[0m\n\u001b[0;32m---> 11\u001b[0;31m \u001b[0;32mclass\u001b[0m \u001b[0mLanguageTokenizer\u001b[0m\u001b[0;34m(\u001b[0m\u001b[0mBaseTokenizer\u001b[0m\u001b[0;34m)\u001b[0m\u001b[0;34m:\u001b[0m\u001b[0;34m\u001b[0m\u001b[0;34m\u001b[0m\u001b[0m\n\u001b[0m\u001b[1;32m     12\u001b[0m     \u001b[0;32mdef\u001b[0m \u001b[0m__init__\u001b[0m\u001b[0;34m(\u001b[0m\u001b[0mself\u001b[0m\u001b[0;34m,\u001b[0m \u001b[0mlang\u001b[0m\u001b[0;34m:\u001b[0m \u001b[0mstr\u001b[0m\u001b[0;34m)\u001b[0m\u001b[0;34m:\u001b[0m\u001b[0;34m\u001b[0m\u001b[0;34m\u001b[0m\u001b[0m\n\u001b[1;32m     13\u001b[0m         \u001b[0mself\u001b[0m\u001b[0;34m.\u001b[0m\u001b[0mlang\u001b[0m \u001b[0;34m=\u001b[0m \u001b[0mlang\u001b[0m\u001b[0;34m\u001b[0m\u001b[0;34m\u001b[0m\u001b[0m\n",
            "\u001b[0;31mNameError\u001b[0m: name 'BaseTokenizer' is not defined"
          ]
        }
      ]
    },
    {
      "cell_type": "code",
      "source": [
        "import sys\n",
        "import warnings\n",
        "import asyncio\n",
        "import random\n",
        "from math import ceil\n",
        "from sklearn.metrics.pairwise import cosine_similarity\n",
        "\n",
        "from fastai.text import *\n",
        "from inltk.config import LanguageCodes\n",
        "from inltk.download_assets import setup_language, verify_language, check_all_languages_identifying_model\n",
        "# from inltk.tokenizer import LanguageTokenizer\n",
        "from inltk.const import tokenizer_special_cases\n",
        "from inltk.utils import cos_sim, reset_models, is_english\n",
        "\n",
        "if not sys.warnoptions:\n",
        "    warnings.simplefilter(\"ignore\")\n",
        "\n",
        "lcodes = LanguageCodes()\n",
        "all_language_codes = lcodes.get_all_language_codes()\n",
        "\n",
        "\n",
        "async def download(language_code: str):\n",
        "    if language_code not in all_language_codes:\n",
        "        raise Exception(f'Language code should be one of {all_language_codes} and not {language_code}')\n",
        "    learn = await setup_language(language_code)\n",
        "    return learn\n",
        "\n",
        "\n",
        "def setup(language_code: str):\n",
        "    asyncio.set_event_loop(asyncio.new_event_loop())\n",
        "    loop = asyncio.get_event_loop()\n",
        "    tasks = [asyncio.ensure_future(download(language_code))]\n",
        "    learn = loop.run_until_complete(asyncio.gather(*tasks))[0]\n",
        "    loop.close()\n",
        "\n",
        "\n",
        "def check_input_language(language_code: str):\n",
        "    if language_code not in all_language_codes:\n",
        "        raise Exception(f'Language code should be one of {all_language_codes} and not {language_code}')\n",
        "    if not verify_language(language_code):\n",
        "        raise Exception(f'You need to do setup for the **first time** for language of your choice so that '\n",
        "                        f'we can download models. So, '\n",
        "                        f'Please run setup({language_code}) first!')\n",
        "\n",
        "\n",
        "def predict_next_words(input: str, n_words: int, language_code: str, randomness=0.8):\n",
        "    check_input_language(language_code)\n",
        "    defaults.device = torch.device('cpu')\n",
        "    path = Path(__file__).parent\n",
        "    learn = load_learner(path / 'models' / f'{language_code}')\n",
        "    output = learn.predict(input, n_words, randomness)\n",
        "    # UTF-8 encoding takes care of both LTR and RTL languages\n",
        "    if language_code != LanguageCodes.english:\n",
        "        output = input + (''.join(output.replace(input, '').split(' '))).replace('▁', ' ')\n",
        "    for special_str in tokenizer_special_cases:\n",
        "        output = output.replace(special_str, '\\n')\n",
        "    return output\n",
        "\n",
        "\n",
        "def tokenize(input: str, language_code: str):\n",
        "    check_input_language(language_code)\n",
        "    tok = LanguageTokenizer(language_code)\n",
        "    output = tok.tokenizer(input)\n",
        "    return output\n",
        "\n",
        "\n",
        "def identify_language(input: str):\n",
        "    if is_english(input):\n",
        "        return 'en'\n",
        "    asyncio.set_event_loop(asyncio.new_event_loop())\n",
        "    loop = asyncio.get_event_loop()\n",
        "    tasks = [asyncio.ensure_future(check_all_languages_identifying_model())]\n",
        "    done = loop.run_until_complete(asyncio.gather(*tasks))[0]\n",
        "    loop.close()\n",
        "    defaults.device = torch.device('cpu')\n",
        "    path = Path(__file__).parent\n",
        "    learn = load_learner(path / 'models' / 'all')\n",
        "    output = learn.predict(input)\n",
        "    return str(output[0])\n",
        "\n",
        "\n",
        "def remove_foreign_languages(input: str, host_language_code: str):\n",
        "    check_input_language(host_language_code)\n",
        "    tok = LanguageTokenizer(host_language_code)\n",
        "    output = tok.remove_foreign_tokens(input)\n",
        "    return output\n",
        "\n",
        "\n",
        "def reset_language_identifying_models():\n",
        "    reset_models('all')\n",
        "\n",
        "\n",
        "def get_embedding_vectors(input: str, language_code: str):\n",
        "    check_input_language(language_code)\n",
        "    tok = LanguageTokenizer(language_code)\n",
        "    token_ids = tok.numericalize(input)\n",
        "    # get learner\n",
        "    defaults.device = torch.device('cpu')\n",
        "    path = Path(__file__).parent\n",
        "    learn = load_learner(path / 'models' / f'{language_code}')\n",
        "    encoder = get_model(learn.model)[0]\n",
        "    encoder.reset()\n",
        "    embeddings = encoder.state_dict()['encoder.weight']\n",
        "    embeddings = np.array(embeddings)\n",
        "    embedding_vectors = []\n",
        "    for token in token_ids:\n",
        "        embedding_vectors.append(embeddings[token])\n",
        "    return embedding_vectors\n",
        "\n",
        "\n",
        "def get_sentence_encoding(input: str, language_code: str):\n",
        "    check_input_language(language_code)\n",
        "    tok = LanguageTokenizer(language_code)\n",
        "    token_ids = tok.numericalize(input)\n",
        "    # get learner\n",
        "    defaults.device = torch.device('cpu')\n",
        "    path = Path(__file__).parent\n",
        "    learn = load_learner(path / 'models' / f'{language_code}')\n",
        "    encoder = learn.model[0]\n",
        "    encoder.reset()\n",
        "    kk0 = encoder(Tensor([token_ids]).to(torch.int64))\n",
        "    return np.array(kk0[0][-1][0][-1])\n",
        "\n",
        "\n",
        "def get_sentence_similarity(sen1: str, sen2: str, language_code: str, cmp: Callable = cos_sim):\n",
        "    check_input_language(language_code)\n",
        "    enc1 = get_sentence_encoding(sen1, language_code)\n",
        "    enc2 = get_sentence_encoding(sen2, language_code)\n",
        "    return cmp(enc1, enc2)\n",
        "\n",
        "\n",
        "def get_similar_sentences(sen: str, no_of_variations: int, language_code: str, degree_of_aug: float = 0.1):\n",
        "    check_input_language(language_code)\n",
        "    # get embedding vectors for sen\n",
        "    tok = LanguageTokenizer(language_code)\n",
        "    token_ids = tok.numericalize(sen)\n",
        "    embedding_vectors = get_embedding_vectors(sen, language_code)\n",
        "    # get learner\n",
        "    defaults.device = torch.device('cpu')\n",
        "    path = Path(__file__).parent\n",
        "    learn = load_learner(path / 'models' / f'{language_code}')\n",
        "    encoder = get_model(learn.model)[0]\n",
        "    encoder.reset()\n",
        "    embeddings = encoder.state_dict()['encoder.weight']\n",
        "    embeddings = np.array(embeddings)\n",
        "    # cos similarity of vectors\n",
        "    scores = cosine_similarity(embedding_vectors,embeddings)\n",
        "    word_ids = [np.argpartition(-np.array(score), no_of_variations+1)[:no_of_variations+1] for score in scores]\n",
        "    word_ids = [ids.tolist() for ids in word_ids]\n",
        "    for i, ids in enumerate(word_ids):\n",
        "        word_ids[i] = [wid for wid in word_ids[i] if wid != token_ids[i]]\n",
        "    # generating more variations than required so that we can then filter out the best ones\n",
        "    buffer_multiplicity = 2\n",
        "    new_sen_tokens = []\n",
        "    for i in range(no_of_variations):\n",
        "        for k in range(buffer_multiplicity):\n",
        "            new_token_ids = []\n",
        "            ids = sorted(random.sample(range(len(token_ids)), max(1, int(degree_of_aug * len(token_ids)))))\n",
        "            for j in range(len(token_ids)):\n",
        "                if j in ids:\n",
        "                    new_token_ids.append(word_ids[j][(i + k) % len(word_ids[j])])\n",
        "                else:\n",
        "                    new_token_ids.append(token_ids[j])\n",
        "            new_token_ids = list(map(lambda x: int(x), new_token_ids))\n",
        "            new_sen_tokens.append(new_token_ids)\n",
        "    new_sens = [tok.textify(sen_tokens) for sen_tokens in new_sen_tokens]\n",
        "    while sen in new_sens:\n",
        "        new_sens.remove(sen)\n",
        "    sen_with_sim_score = [(new_sen, get_sentence_similarity(sen, new_sen, language_code)) for new_sen in new_sens]\n",
        "    sen_with_sim_score.sort(key=lambda x: x[1], reverse=True)\n",
        "    new_sens = [sen for sen, _ in sen_with_sim_score]\n",
        "    return new_sens[:no_of_variations]"
      ],
      "metadata": {
        "colab": {
          "base_uri": "https://localhost:8080/",
          "height": 240
        },
        "id": "AU6ZI-3JRjyl",
        "outputId": "87768997-960f-4b99-f49f-2d604fd91ee0"
      },
      "execution_count": null,
      "outputs": [
        {
          "output_type": "error",
          "ename": "NameError",
          "evalue": "ignored",
          "traceback": [
            "\u001b[0;31m---------------------------------------------------------------------------\u001b[0m",
            "\u001b[0;31mNameError\u001b[0m                                 Traceback (most recent call last)",
            "\u001b[0;32m<ipython-input-8-3910727f317c>\u001b[0m in \u001b[0;36m<module>\u001b[0;34m\u001b[0m\n\u001b[1;32m    123\u001b[0m \u001b[0;34m\u001b[0m\u001b[0m\n\u001b[1;32m    124\u001b[0m \u001b[0;34m\u001b[0m\u001b[0m\n\u001b[0;32m--> 125\u001b[0;31m \u001b[0;32mdef\u001b[0m \u001b[0mget_sentence_similarity\u001b[0m\u001b[0;34m(\u001b[0m\u001b[0msen1\u001b[0m\u001b[0;34m:\u001b[0m \u001b[0mstr\u001b[0m\u001b[0;34m,\u001b[0m \u001b[0msen2\u001b[0m\u001b[0;34m:\u001b[0m \u001b[0mstr\u001b[0m\u001b[0;34m,\u001b[0m \u001b[0mlanguage_code\u001b[0m\u001b[0;34m:\u001b[0m \u001b[0mstr\u001b[0m\u001b[0;34m,\u001b[0m \u001b[0mcmp\u001b[0m\u001b[0;34m:\u001b[0m \u001b[0mCallable\u001b[0m \u001b[0;34m=\u001b[0m \u001b[0mcos_sim\u001b[0m\u001b[0;34m)\u001b[0m\u001b[0;34m:\u001b[0m\u001b[0;34m\u001b[0m\u001b[0;34m\u001b[0m\u001b[0m\n\u001b[0m\u001b[1;32m    126\u001b[0m     \u001b[0mcheck_input_language\u001b[0m\u001b[0;34m(\u001b[0m\u001b[0mlanguage_code\u001b[0m\u001b[0;34m)\u001b[0m\u001b[0;34m\u001b[0m\u001b[0;34m\u001b[0m\u001b[0m\n\u001b[1;32m    127\u001b[0m     \u001b[0menc1\u001b[0m \u001b[0;34m=\u001b[0m \u001b[0mget_sentence_encoding\u001b[0m\u001b[0;34m(\u001b[0m\u001b[0msen1\u001b[0m\u001b[0;34m,\u001b[0m \u001b[0mlanguage_code\u001b[0m\u001b[0;34m)\u001b[0m\u001b[0;34m\u001b[0m\u001b[0;34m\u001b[0m\u001b[0m\n",
            "\u001b[0;31mNameError\u001b[0m: name 'Callable' is not defined"
          ]
        }
      ]
    }
  ],
  "metadata": {
    "accelerator": "GPU",
    "colab": {
      "collapsed_sections": [],
      "provenance": [],
      "include_colab_link": true
    },
    "kernelspec": {
      "display_name": "Python 3",
      "name": "python3"
    },
    "language_info": {
      "name": "python"
    },
    "widgets": {
      "application/vnd.jupyter.widget-state+json": {
        "431ed821ac5e480ba6e7bd9b80291d14": {
          "model_module": "@jupyter-widgets/controls",
          "model_name": "HBoxModel",
          "model_module_version": "1.5.0",
          "state": {
            "_dom_classes": [],
            "_model_module": "@jupyter-widgets/controls",
            "_model_module_version": "1.5.0",
            "_model_name": "HBoxModel",
            "_view_count": null,
            "_view_module": "@jupyter-widgets/controls",
            "_view_module_version": "1.5.0",
            "_view_name": "HBoxView",
            "box_style": "",
            "children": [
              "IPY_MODEL_36dec568def744c385b30a01fdfb4764",
              "IPY_MODEL_62f38540a60d4af19c0750580f9eb9cc",
              "IPY_MODEL_08462c9b9e8d4f6d95872d3f824d9c15"
            ],
            "layout": "IPY_MODEL_130403e0340944ec978b6006f62ab4dd"
          }
        },
        "36dec568def744c385b30a01fdfb4764": {
          "model_module": "@jupyter-widgets/controls",
          "model_name": "HTMLModel",
          "model_module_version": "1.5.0",
          "state": {
            "_dom_classes": [],
            "_model_module": "@jupyter-widgets/controls",
            "_model_module_version": "1.5.0",
            "_model_name": "HTMLModel",
            "_view_count": null,
            "_view_module": "@jupyter-widgets/controls",
            "_view_module_version": "1.5.0",
            "_view_name": "HTMLView",
            "description": "",
            "description_tooltip": null,
            "layout": "IPY_MODEL_1a20507af3ba451f88cddaa74805d7c6",
            "placeholder": "​",
            "style": "IPY_MODEL_9345c7cb06ff4f83a0090cbc5c332751",
            "value": ""
          }
        },
        "62f38540a60d4af19c0750580f9eb9cc": {
          "model_module": "@jupyter-widgets/controls",
          "model_name": "FloatProgressModel",
          "model_module_version": "1.5.0",
          "state": {
            "_dom_classes": [],
            "_model_module": "@jupyter-widgets/controls",
            "_model_module_version": "1.5.0",
            "_model_name": "FloatProgressModel",
            "_view_count": null,
            "_view_module": "@jupyter-widgets/controls",
            "_view_module_version": "1.5.0",
            "_view_name": "ProgressView",
            "bar_style": "success",
            "description": "",
            "description_tooltip": null,
            "layout": "IPY_MODEL_5198d6f17bd5460aa63758b222ebf8cc",
            "max": 1,
            "min": 0,
            "orientation": "horizontal",
            "style": "IPY_MODEL_8ae9c30d37df4a3b86860aac621e0086",
            "value": 0
          }
        },
        "08462c9b9e8d4f6d95872d3f824d9c15": {
          "model_module": "@jupyter-widgets/controls",
          "model_name": "HTMLModel",
          "model_module_version": "1.5.0",
          "state": {
            "_dom_classes": [],
            "_model_module": "@jupyter-widgets/controls",
            "_model_module_version": "1.5.0",
            "_model_name": "HTMLModel",
            "_view_count": null,
            "_view_module": "@jupyter-widgets/controls",
            "_view_module_version": "1.5.0",
            "_view_name": "HTMLView",
            "description": "",
            "description_tooltip": null,
            "layout": "IPY_MODEL_5f23471e7d4444a7bdfe55d02e746db5",
            "placeholder": "​",
            "style": "IPY_MODEL_cff8b5a2ab5d4022ad1b7c11552cb0fe",
            "value": " 0/0 [00:00&lt;?, ?it/s]"
          }
        },
        "130403e0340944ec978b6006f62ab4dd": {
          "model_module": "@jupyter-widgets/base",
          "model_name": "LayoutModel",
          "model_module_version": "1.2.0",
          "state": {
            "_model_module": "@jupyter-widgets/base",
            "_model_module_version": "1.2.0",
            "_model_name": "LayoutModel",
            "_view_count": null,
            "_view_module": "@jupyter-widgets/base",
            "_view_module_version": "1.2.0",
            "_view_name": "LayoutView",
            "align_content": null,
            "align_items": null,
            "align_self": null,
            "border": null,
            "bottom": null,
            "display": null,
            "flex": null,
            "flex_flow": null,
            "grid_area": null,
            "grid_auto_columns": null,
            "grid_auto_flow": null,
            "grid_auto_rows": null,
            "grid_column": null,
            "grid_gap": null,
            "grid_row": null,
            "grid_template_areas": null,
            "grid_template_columns": null,
            "grid_template_rows": null,
            "height": null,
            "justify_content": null,
            "justify_items": null,
            "left": null,
            "margin": null,
            "max_height": null,
            "max_width": null,
            "min_height": null,
            "min_width": null,
            "object_fit": null,
            "object_position": null,
            "order": null,
            "overflow": null,
            "overflow_x": null,
            "overflow_y": null,
            "padding": null,
            "right": null,
            "top": null,
            "visibility": null,
            "width": null
          }
        },
        "1a20507af3ba451f88cddaa74805d7c6": {
          "model_module": "@jupyter-widgets/base",
          "model_name": "LayoutModel",
          "model_module_version": "1.2.0",
          "state": {
            "_model_module": "@jupyter-widgets/base",
            "_model_module_version": "1.2.0",
            "_model_name": "LayoutModel",
            "_view_count": null,
            "_view_module": "@jupyter-widgets/base",
            "_view_module_version": "1.2.0",
            "_view_name": "LayoutView",
            "align_content": null,
            "align_items": null,
            "align_self": null,
            "border": null,
            "bottom": null,
            "display": null,
            "flex": null,
            "flex_flow": null,
            "grid_area": null,
            "grid_auto_columns": null,
            "grid_auto_flow": null,
            "grid_auto_rows": null,
            "grid_column": null,
            "grid_gap": null,
            "grid_row": null,
            "grid_template_areas": null,
            "grid_template_columns": null,
            "grid_template_rows": null,
            "height": null,
            "justify_content": null,
            "justify_items": null,
            "left": null,
            "margin": null,
            "max_height": null,
            "max_width": null,
            "min_height": null,
            "min_width": null,
            "object_fit": null,
            "object_position": null,
            "order": null,
            "overflow": null,
            "overflow_x": null,
            "overflow_y": null,
            "padding": null,
            "right": null,
            "top": null,
            "visibility": null,
            "width": null
          }
        },
        "9345c7cb06ff4f83a0090cbc5c332751": {
          "model_module": "@jupyter-widgets/controls",
          "model_name": "DescriptionStyleModel",
          "model_module_version": "1.5.0",
          "state": {
            "_model_module": "@jupyter-widgets/controls",
            "_model_module_version": "1.5.0",
            "_model_name": "DescriptionStyleModel",
            "_view_count": null,
            "_view_module": "@jupyter-widgets/base",
            "_view_module_version": "1.2.0",
            "_view_name": "StyleView",
            "description_width": ""
          }
        },
        "5198d6f17bd5460aa63758b222ebf8cc": {
          "model_module": "@jupyter-widgets/base",
          "model_name": "LayoutModel",
          "model_module_version": "1.2.0",
          "state": {
            "_model_module": "@jupyter-widgets/base",
            "_model_module_version": "1.2.0",
            "_model_name": "LayoutModel",
            "_view_count": null,
            "_view_module": "@jupyter-widgets/base",
            "_view_module_version": "1.2.0",
            "_view_name": "LayoutView",
            "align_content": null,
            "align_items": null,
            "align_self": null,
            "border": null,
            "bottom": null,
            "display": null,
            "flex": null,
            "flex_flow": null,
            "grid_area": null,
            "grid_auto_columns": null,
            "grid_auto_flow": null,
            "grid_auto_rows": null,
            "grid_column": null,
            "grid_gap": null,
            "grid_row": null,
            "grid_template_areas": null,
            "grid_template_columns": null,
            "grid_template_rows": null,
            "height": null,
            "justify_content": null,
            "justify_items": null,
            "left": null,
            "margin": null,
            "max_height": null,
            "max_width": null,
            "min_height": null,
            "min_width": null,
            "object_fit": null,
            "object_position": null,
            "order": null,
            "overflow": null,
            "overflow_x": null,
            "overflow_y": null,
            "padding": null,
            "right": null,
            "top": null,
            "visibility": null,
            "width": "20px"
          }
        },
        "8ae9c30d37df4a3b86860aac621e0086": {
          "model_module": "@jupyter-widgets/controls",
          "model_name": "ProgressStyleModel",
          "model_module_version": "1.5.0",
          "state": {
            "_model_module": "@jupyter-widgets/controls",
            "_model_module_version": "1.5.0",
            "_model_name": "ProgressStyleModel",
            "_view_count": null,
            "_view_module": "@jupyter-widgets/base",
            "_view_module_version": "1.2.0",
            "_view_name": "StyleView",
            "bar_color": null,
            "description_width": ""
          }
        },
        "5f23471e7d4444a7bdfe55d02e746db5": {
          "model_module": "@jupyter-widgets/base",
          "model_name": "LayoutModel",
          "model_module_version": "1.2.0",
          "state": {
            "_model_module": "@jupyter-widgets/base",
            "_model_module_version": "1.2.0",
            "_model_name": "LayoutModel",
            "_view_count": null,
            "_view_module": "@jupyter-widgets/base",
            "_view_module_version": "1.2.0",
            "_view_name": "LayoutView",
            "align_content": null,
            "align_items": null,
            "align_self": null,
            "border": null,
            "bottom": null,
            "display": null,
            "flex": null,
            "flex_flow": null,
            "grid_area": null,
            "grid_auto_columns": null,
            "grid_auto_flow": null,
            "grid_auto_rows": null,
            "grid_column": null,
            "grid_gap": null,
            "grid_row": null,
            "grid_template_areas": null,
            "grid_template_columns": null,
            "grid_template_rows": null,
            "height": null,
            "justify_content": null,
            "justify_items": null,
            "left": null,
            "margin": null,
            "max_height": null,
            "max_width": null,
            "min_height": null,
            "min_width": null,
            "object_fit": null,
            "object_position": null,
            "order": null,
            "overflow": null,
            "overflow_x": null,
            "overflow_y": null,
            "padding": null,
            "right": null,
            "top": null,
            "visibility": null,
            "width": null
          }
        },
        "cff8b5a2ab5d4022ad1b7c11552cb0fe": {
          "model_module": "@jupyter-widgets/controls",
          "model_name": "DescriptionStyleModel",
          "model_module_version": "1.5.0",
          "state": {
            "_model_module": "@jupyter-widgets/controls",
            "_model_module_version": "1.5.0",
            "_model_name": "DescriptionStyleModel",
            "_view_count": null,
            "_view_module": "@jupyter-widgets/base",
            "_view_module_version": "1.2.0",
            "_view_name": "StyleView",
            "description_width": ""
          }
        },
        "0fc4042b802a43fd96748a6e8d729293": {
          "model_module": "@jupyter-widgets/controls",
          "model_name": "HBoxModel",
          "model_module_version": "1.5.0",
          "state": {
            "_dom_classes": [],
            "_model_module": "@jupyter-widgets/controls",
            "_model_module_version": "1.5.0",
            "_model_name": "HBoxModel",
            "_view_count": null,
            "_view_module": "@jupyter-widgets/controls",
            "_view_module_version": "1.5.0",
            "_view_name": "HBoxView",
            "box_style": "",
            "children": [
              "IPY_MODEL_c34196fc88a54c4bb46c9434c0c5afd1",
              "IPY_MODEL_6eefc53749d14a19899b7d81002ad849",
              "IPY_MODEL_b812b7a8becf45bca66c6d673cb5f64c"
            ],
            "layout": "IPY_MODEL_0792edaa4a08494794e6a862faf7af9d"
          }
        },
        "c34196fc88a54c4bb46c9434c0c5afd1": {
          "model_module": "@jupyter-widgets/controls",
          "model_name": "HTMLModel",
          "model_module_version": "1.5.0",
          "state": {
            "_dom_classes": [],
            "_model_module": "@jupyter-widgets/controls",
            "_model_module_version": "1.5.0",
            "_model_name": "HTMLModel",
            "_view_count": null,
            "_view_module": "@jupyter-widgets/controls",
            "_view_module_version": "1.5.0",
            "_view_name": "HTMLView",
            "description": "",
            "description_tooltip": null,
            "layout": "IPY_MODEL_1e834040cd3c461fb2ebb570aa53031d",
            "placeholder": "​",
            "style": "IPY_MODEL_fd71ddbc1b65471292ae85505714fb7a",
            "value": "Downloading: 100%"
          }
        },
        "6eefc53749d14a19899b7d81002ad849": {
          "model_module": "@jupyter-widgets/controls",
          "model_name": "FloatProgressModel",
          "model_module_version": "1.5.0",
          "state": {
            "_dom_classes": [],
            "_model_module": "@jupyter-widgets/controls",
            "_model_module_version": "1.5.0",
            "_model_name": "FloatProgressModel",
            "_view_count": null,
            "_view_module": "@jupyter-widgets/controls",
            "_view_module_version": "1.5.0",
            "_view_name": "ProgressView",
            "bar_style": "success",
            "description": "",
            "description_tooltip": null,
            "layout": "IPY_MODEL_f57bcf528b404b75bbebe4c5711b026b",
            "max": 231508,
            "min": 0,
            "orientation": "horizontal",
            "style": "IPY_MODEL_6f7bfa77ed294cd38297ed65ef731343",
            "value": 231508
          }
        },
        "b812b7a8becf45bca66c6d673cb5f64c": {
          "model_module": "@jupyter-widgets/controls",
          "model_name": "HTMLModel",
          "model_module_version": "1.5.0",
          "state": {
            "_dom_classes": [],
            "_model_module": "@jupyter-widgets/controls",
            "_model_module_version": "1.5.0",
            "_model_name": "HTMLModel",
            "_view_count": null,
            "_view_module": "@jupyter-widgets/controls",
            "_view_module_version": "1.5.0",
            "_view_name": "HTMLView",
            "description": "",
            "description_tooltip": null,
            "layout": "IPY_MODEL_e3fcaf92f20443e2812494408fdcacb8",
            "placeholder": "​",
            "style": "IPY_MODEL_b06ddb1d7d81461989b3284c081a9ef4",
            "value": " 232k/232k [00:00&lt;00:00, 815kB/s]"
          }
        },
        "0792edaa4a08494794e6a862faf7af9d": {
          "model_module": "@jupyter-widgets/base",
          "model_name": "LayoutModel",
          "model_module_version": "1.2.0",
          "state": {
            "_model_module": "@jupyter-widgets/base",
            "_model_module_version": "1.2.0",
            "_model_name": "LayoutModel",
            "_view_count": null,
            "_view_module": "@jupyter-widgets/base",
            "_view_module_version": "1.2.0",
            "_view_name": "LayoutView",
            "align_content": null,
            "align_items": null,
            "align_self": null,
            "border": null,
            "bottom": null,
            "display": null,
            "flex": null,
            "flex_flow": null,
            "grid_area": null,
            "grid_auto_columns": null,
            "grid_auto_flow": null,
            "grid_auto_rows": null,
            "grid_column": null,
            "grid_gap": null,
            "grid_row": null,
            "grid_template_areas": null,
            "grid_template_columns": null,
            "grid_template_rows": null,
            "height": null,
            "justify_content": null,
            "justify_items": null,
            "left": null,
            "margin": null,
            "max_height": null,
            "max_width": null,
            "min_height": null,
            "min_width": null,
            "object_fit": null,
            "object_position": null,
            "order": null,
            "overflow": null,
            "overflow_x": null,
            "overflow_y": null,
            "padding": null,
            "right": null,
            "top": null,
            "visibility": null,
            "width": null
          }
        },
        "1e834040cd3c461fb2ebb570aa53031d": {
          "model_module": "@jupyter-widgets/base",
          "model_name": "LayoutModel",
          "model_module_version": "1.2.0",
          "state": {
            "_model_module": "@jupyter-widgets/base",
            "_model_module_version": "1.2.0",
            "_model_name": "LayoutModel",
            "_view_count": null,
            "_view_module": "@jupyter-widgets/base",
            "_view_module_version": "1.2.0",
            "_view_name": "LayoutView",
            "align_content": null,
            "align_items": null,
            "align_self": null,
            "border": null,
            "bottom": null,
            "display": null,
            "flex": null,
            "flex_flow": null,
            "grid_area": null,
            "grid_auto_columns": null,
            "grid_auto_flow": null,
            "grid_auto_rows": null,
            "grid_column": null,
            "grid_gap": null,
            "grid_row": null,
            "grid_template_areas": null,
            "grid_template_columns": null,
            "grid_template_rows": null,
            "height": null,
            "justify_content": null,
            "justify_items": null,
            "left": null,
            "margin": null,
            "max_height": null,
            "max_width": null,
            "min_height": null,
            "min_width": null,
            "object_fit": null,
            "object_position": null,
            "order": null,
            "overflow": null,
            "overflow_x": null,
            "overflow_y": null,
            "padding": null,
            "right": null,
            "top": null,
            "visibility": null,
            "width": null
          }
        },
        "fd71ddbc1b65471292ae85505714fb7a": {
          "model_module": "@jupyter-widgets/controls",
          "model_name": "DescriptionStyleModel",
          "model_module_version": "1.5.0",
          "state": {
            "_model_module": "@jupyter-widgets/controls",
            "_model_module_version": "1.5.0",
            "_model_name": "DescriptionStyleModel",
            "_view_count": null,
            "_view_module": "@jupyter-widgets/base",
            "_view_module_version": "1.2.0",
            "_view_name": "StyleView",
            "description_width": ""
          }
        },
        "f57bcf528b404b75bbebe4c5711b026b": {
          "model_module": "@jupyter-widgets/base",
          "model_name": "LayoutModel",
          "model_module_version": "1.2.0",
          "state": {
            "_model_module": "@jupyter-widgets/base",
            "_model_module_version": "1.2.0",
            "_model_name": "LayoutModel",
            "_view_count": null,
            "_view_module": "@jupyter-widgets/base",
            "_view_module_version": "1.2.0",
            "_view_name": "LayoutView",
            "align_content": null,
            "align_items": null,
            "align_self": null,
            "border": null,
            "bottom": null,
            "display": null,
            "flex": null,
            "flex_flow": null,
            "grid_area": null,
            "grid_auto_columns": null,
            "grid_auto_flow": null,
            "grid_auto_rows": null,
            "grid_column": null,
            "grid_gap": null,
            "grid_row": null,
            "grid_template_areas": null,
            "grid_template_columns": null,
            "grid_template_rows": null,
            "height": null,
            "justify_content": null,
            "justify_items": null,
            "left": null,
            "margin": null,
            "max_height": null,
            "max_width": null,
            "min_height": null,
            "min_width": null,
            "object_fit": null,
            "object_position": null,
            "order": null,
            "overflow": null,
            "overflow_x": null,
            "overflow_y": null,
            "padding": null,
            "right": null,
            "top": null,
            "visibility": null,
            "width": null
          }
        },
        "6f7bfa77ed294cd38297ed65ef731343": {
          "model_module": "@jupyter-widgets/controls",
          "model_name": "ProgressStyleModel",
          "model_module_version": "1.5.0",
          "state": {
            "_model_module": "@jupyter-widgets/controls",
            "_model_module_version": "1.5.0",
            "_model_name": "ProgressStyleModel",
            "_view_count": null,
            "_view_module": "@jupyter-widgets/base",
            "_view_module_version": "1.2.0",
            "_view_name": "StyleView",
            "bar_color": null,
            "description_width": ""
          }
        },
        "e3fcaf92f20443e2812494408fdcacb8": {
          "model_module": "@jupyter-widgets/base",
          "model_name": "LayoutModel",
          "model_module_version": "1.2.0",
          "state": {
            "_model_module": "@jupyter-widgets/base",
            "_model_module_version": "1.2.0",
            "_model_name": "LayoutModel",
            "_view_count": null,
            "_view_module": "@jupyter-widgets/base",
            "_view_module_version": "1.2.0",
            "_view_name": "LayoutView",
            "align_content": null,
            "align_items": null,
            "align_self": null,
            "border": null,
            "bottom": null,
            "display": null,
            "flex": null,
            "flex_flow": null,
            "grid_area": null,
            "grid_auto_columns": null,
            "grid_auto_flow": null,
            "grid_auto_rows": null,
            "grid_column": null,
            "grid_gap": null,
            "grid_row": null,
            "grid_template_areas": null,
            "grid_template_columns": null,
            "grid_template_rows": null,
            "height": null,
            "justify_content": null,
            "justify_items": null,
            "left": null,
            "margin": null,
            "max_height": null,
            "max_width": null,
            "min_height": null,
            "min_width": null,
            "object_fit": null,
            "object_position": null,
            "order": null,
            "overflow": null,
            "overflow_x": null,
            "overflow_y": null,
            "padding": null,
            "right": null,
            "top": null,
            "visibility": null,
            "width": null
          }
        },
        "b06ddb1d7d81461989b3284c081a9ef4": {
          "model_module": "@jupyter-widgets/controls",
          "model_name": "DescriptionStyleModel",
          "model_module_version": "1.5.0",
          "state": {
            "_model_module": "@jupyter-widgets/controls",
            "_model_module_version": "1.5.0",
            "_model_name": "DescriptionStyleModel",
            "_view_count": null,
            "_view_module": "@jupyter-widgets/base",
            "_view_module_version": "1.2.0",
            "_view_name": "StyleView",
            "description_width": ""
          }
        },
        "487078fedc4f4058bf1ded48cf2a91ed": {
          "model_module": "@jupyter-widgets/controls",
          "model_name": "HBoxModel",
          "model_module_version": "1.5.0",
          "state": {
            "_dom_classes": [],
            "_model_module": "@jupyter-widgets/controls",
            "_model_module_version": "1.5.0",
            "_model_name": "HBoxModel",
            "_view_count": null,
            "_view_module": "@jupyter-widgets/controls",
            "_view_module_version": "1.5.0",
            "_view_name": "HBoxView",
            "box_style": "",
            "children": [
              "IPY_MODEL_ce18b53ea34a425d8710e66a5052bbe5",
              "IPY_MODEL_a3510f834b2c4cbf9c3320f77c651e49",
              "IPY_MODEL_92dbe833bf0a45ad9a65b2ef22e070b0"
            ],
            "layout": "IPY_MODEL_8d2c1ecaaf644004bc86034ce47ad87f"
          }
        },
        "ce18b53ea34a425d8710e66a5052bbe5": {
          "model_module": "@jupyter-widgets/controls",
          "model_name": "HTMLModel",
          "model_module_version": "1.5.0",
          "state": {
            "_dom_classes": [],
            "_model_module": "@jupyter-widgets/controls",
            "_model_module_version": "1.5.0",
            "_model_name": "HTMLModel",
            "_view_count": null,
            "_view_module": "@jupyter-widgets/controls",
            "_view_module_version": "1.5.0",
            "_view_name": "HTMLView",
            "description": "",
            "description_tooltip": null,
            "layout": "IPY_MODEL_e5e624bda2a747259dd9e6f4b7c04fec",
            "placeholder": "​",
            "style": "IPY_MODEL_6a0dba7539e74289a8d41e1e1b50d56d",
            "value": "Downloading: 100%"
          }
        },
        "a3510f834b2c4cbf9c3320f77c651e49": {
          "model_module": "@jupyter-widgets/controls",
          "model_name": "FloatProgressModel",
          "model_module_version": "1.5.0",
          "state": {
            "_dom_classes": [],
            "_model_module": "@jupyter-widgets/controls",
            "_model_module_version": "1.5.0",
            "_model_name": "FloatProgressModel",
            "_view_count": null,
            "_view_module": "@jupyter-widgets/controls",
            "_view_module_version": "1.5.0",
            "_view_name": "ProgressView",
            "bar_style": "success",
            "description": "",
            "description_tooltip": null,
            "layout": "IPY_MODEL_e0aadd6d553146199ff9f224f39347c4",
            "max": 28,
            "min": 0,
            "orientation": "horizontal",
            "style": "IPY_MODEL_7291fa0ab4d442ddb7b78fc909fdecac",
            "value": 28
          }
        },
        "92dbe833bf0a45ad9a65b2ef22e070b0": {
          "model_module": "@jupyter-widgets/controls",
          "model_name": "HTMLModel",
          "model_module_version": "1.5.0",
          "state": {
            "_dom_classes": [],
            "_model_module": "@jupyter-widgets/controls",
            "_model_module_version": "1.5.0",
            "_model_name": "HTMLModel",
            "_view_count": null,
            "_view_module": "@jupyter-widgets/controls",
            "_view_module_version": "1.5.0",
            "_view_name": "HTMLView",
            "description": "",
            "description_tooltip": null,
            "layout": "IPY_MODEL_e8bc88cf61c4445daf7cb1b7cdd70832",
            "placeholder": "​",
            "style": "IPY_MODEL_b26f587928734f54b21fff39cbc68d41",
            "value": " 28.0/28.0 [00:00&lt;00:00, 959B/s]"
          }
        },
        "8d2c1ecaaf644004bc86034ce47ad87f": {
          "model_module": "@jupyter-widgets/base",
          "model_name": "LayoutModel",
          "model_module_version": "1.2.0",
          "state": {
            "_model_module": "@jupyter-widgets/base",
            "_model_module_version": "1.2.0",
            "_model_name": "LayoutModel",
            "_view_count": null,
            "_view_module": "@jupyter-widgets/base",
            "_view_module_version": "1.2.0",
            "_view_name": "LayoutView",
            "align_content": null,
            "align_items": null,
            "align_self": null,
            "border": null,
            "bottom": null,
            "display": null,
            "flex": null,
            "flex_flow": null,
            "grid_area": null,
            "grid_auto_columns": null,
            "grid_auto_flow": null,
            "grid_auto_rows": null,
            "grid_column": null,
            "grid_gap": null,
            "grid_row": null,
            "grid_template_areas": null,
            "grid_template_columns": null,
            "grid_template_rows": null,
            "height": null,
            "justify_content": null,
            "justify_items": null,
            "left": null,
            "margin": null,
            "max_height": null,
            "max_width": null,
            "min_height": null,
            "min_width": null,
            "object_fit": null,
            "object_position": null,
            "order": null,
            "overflow": null,
            "overflow_x": null,
            "overflow_y": null,
            "padding": null,
            "right": null,
            "top": null,
            "visibility": null,
            "width": null
          }
        },
        "e5e624bda2a747259dd9e6f4b7c04fec": {
          "model_module": "@jupyter-widgets/base",
          "model_name": "LayoutModel",
          "model_module_version": "1.2.0",
          "state": {
            "_model_module": "@jupyter-widgets/base",
            "_model_module_version": "1.2.0",
            "_model_name": "LayoutModel",
            "_view_count": null,
            "_view_module": "@jupyter-widgets/base",
            "_view_module_version": "1.2.0",
            "_view_name": "LayoutView",
            "align_content": null,
            "align_items": null,
            "align_self": null,
            "border": null,
            "bottom": null,
            "display": null,
            "flex": null,
            "flex_flow": null,
            "grid_area": null,
            "grid_auto_columns": null,
            "grid_auto_flow": null,
            "grid_auto_rows": null,
            "grid_column": null,
            "grid_gap": null,
            "grid_row": null,
            "grid_template_areas": null,
            "grid_template_columns": null,
            "grid_template_rows": null,
            "height": null,
            "justify_content": null,
            "justify_items": null,
            "left": null,
            "margin": null,
            "max_height": null,
            "max_width": null,
            "min_height": null,
            "min_width": null,
            "object_fit": null,
            "object_position": null,
            "order": null,
            "overflow": null,
            "overflow_x": null,
            "overflow_y": null,
            "padding": null,
            "right": null,
            "top": null,
            "visibility": null,
            "width": null
          }
        },
        "6a0dba7539e74289a8d41e1e1b50d56d": {
          "model_module": "@jupyter-widgets/controls",
          "model_name": "DescriptionStyleModel",
          "model_module_version": "1.5.0",
          "state": {
            "_model_module": "@jupyter-widgets/controls",
            "_model_module_version": "1.5.0",
            "_model_name": "DescriptionStyleModel",
            "_view_count": null,
            "_view_module": "@jupyter-widgets/base",
            "_view_module_version": "1.2.0",
            "_view_name": "StyleView",
            "description_width": ""
          }
        },
        "e0aadd6d553146199ff9f224f39347c4": {
          "model_module": "@jupyter-widgets/base",
          "model_name": "LayoutModel",
          "model_module_version": "1.2.0",
          "state": {
            "_model_module": "@jupyter-widgets/base",
            "_model_module_version": "1.2.0",
            "_model_name": "LayoutModel",
            "_view_count": null,
            "_view_module": "@jupyter-widgets/base",
            "_view_module_version": "1.2.0",
            "_view_name": "LayoutView",
            "align_content": null,
            "align_items": null,
            "align_self": null,
            "border": null,
            "bottom": null,
            "display": null,
            "flex": null,
            "flex_flow": null,
            "grid_area": null,
            "grid_auto_columns": null,
            "grid_auto_flow": null,
            "grid_auto_rows": null,
            "grid_column": null,
            "grid_gap": null,
            "grid_row": null,
            "grid_template_areas": null,
            "grid_template_columns": null,
            "grid_template_rows": null,
            "height": null,
            "justify_content": null,
            "justify_items": null,
            "left": null,
            "margin": null,
            "max_height": null,
            "max_width": null,
            "min_height": null,
            "min_width": null,
            "object_fit": null,
            "object_position": null,
            "order": null,
            "overflow": null,
            "overflow_x": null,
            "overflow_y": null,
            "padding": null,
            "right": null,
            "top": null,
            "visibility": null,
            "width": null
          }
        },
        "7291fa0ab4d442ddb7b78fc909fdecac": {
          "model_module": "@jupyter-widgets/controls",
          "model_name": "ProgressStyleModel",
          "model_module_version": "1.5.0",
          "state": {
            "_model_module": "@jupyter-widgets/controls",
            "_model_module_version": "1.5.0",
            "_model_name": "ProgressStyleModel",
            "_view_count": null,
            "_view_module": "@jupyter-widgets/base",
            "_view_module_version": "1.2.0",
            "_view_name": "StyleView",
            "bar_color": null,
            "description_width": ""
          }
        },
        "e8bc88cf61c4445daf7cb1b7cdd70832": {
          "model_module": "@jupyter-widgets/base",
          "model_name": "LayoutModel",
          "model_module_version": "1.2.0",
          "state": {
            "_model_module": "@jupyter-widgets/base",
            "_model_module_version": "1.2.0",
            "_model_name": "LayoutModel",
            "_view_count": null,
            "_view_module": "@jupyter-widgets/base",
            "_view_module_version": "1.2.0",
            "_view_name": "LayoutView",
            "align_content": null,
            "align_items": null,
            "align_self": null,
            "border": null,
            "bottom": null,
            "display": null,
            "flex": null,
            "flex_flow": null,
            "grid_area": null,
            "grid_auto_columns": null,
            "grid_auto_flow": null,
            "grid_auto_rows": null,
            "grid_column": null,
            "grid_gap": null,
            "grid_row": null,
            "grid_template_areas": null,
            "grid_template_columns": null,
            "grid_template_rows": null,
            "height": null,
            "justify_content": null,
            "justify_items": null,
            "left": null,
            "margin": null,
            "max_height": null,
            "max_width": null,
            "min_height": null,
            "min_width": null,
            "object_fit": null,
            "object_position": null,
            "order": null,
            "overflow": null,
            "overflow_x": null,
            "overflow_y": null,
            "padding": null,
            "right": null,
            "top": null,
            "visibility": null,
            "width": null
          }
        },
        "b26f587928734f54b21fff39cbc68d41": {
          "model_module": "@jupyter-widgets/controls",
          "model_name": "DescriptionStyleModel",
          "model_module_version": "1.5.0",
          "state": {
            "_model_module": "@jupyter-widgets/controls",
            "_model_module_version": "1.5.0",
            "_model_name": "DescriptionStyleModel",
            "_view_count": null,
            "_view_module": "@jupyter-widgets/base",
            "_view_module_version": "1.2.0",
            "_view_name": "StyleView",
            "description_width": ""
          }
        },
        "6e02052c7d0243a7919686072877e45f": {
          "model_module": "@jupyter-widgets/controls",
          "model_name": "HBoxModel",
          "model_module_version": "1.5.0",
          "state": {
            "_dom_classes": [],
            "_model_module": "@jupyter-widgets/controls",
            "_model_module_version": "1.5.0",
            "_model_name": "HBoxModel",
            "_view_count": null,
            "_view_module": "@jupyter-widgets/controls",
            "_view_module_version": "1.5.0",
            "_view_name": "HBoxView",
            "box_style": "",
            "children": [
              "IPY_MODEL_2c4ada6cc8c843d18c284690a4774763",
              "IPY_MODEL_e822a57ff1d4484c950bae3f5301dd5f",
              "IPY_MODEL_99d32e8ba3624820a6603986256db204"
            ],
            "layout": "IPY_MODEL_cf2330c6eca84a69ada37d38d7d3b746"
          }
        },
        "2c4ada6cc8c843d18c284690a4774763": {
          "model_module": "@jupyter-widgets/controls",
          "model_name": "HTMLModel",
          "model_module_version": "1.5.0",
          "state": {
            "_dom_classes": [],
            "_model_module": "@jupyter-widgets/controls",
            "_model_module_version": "1.5.0",
            "_model_name": "HTMLModel",
            "_view_count": null,
            "_view_module": "@jupyter-widgets/controls",
            "_view_module_version": "1.5.0",
            "_view_name": "HTMLView",
            "description": "",
            "description_tooltip": null,
            "layout": "IPY_MODEL_d0f87cdf03624f509dbe9b988d7668fb",
            "placeholder": "​",
            "style": "IPY_MODEL_78368e00646c4bc4ac95353472503916",
            "value": "Downloading: 100%"
          }
        },
        "e822a57ff1d4484c950bae3f5301dd5f": {
          "model_module": "@jupyter-widgets/controls",
          "model_name": "FloatProgressModel",
          "model_module_version": "1.5.0",
          "state": {
            "_dom_classes": [],
            "_model_module": "@jupyter-widgets/controls",
            "_model_module_version": "1.5.0",
            "_model_name": "FloatProgressModel",
            "_view_count": null,
            "_view_module": "@jupyter-widgets/controls",
            "_view_module_version": "1.5.0",
            "_view_name": "ProgressView",
            "bar_style": "success",
            "description": "",
            "description_tooltip": null,
            "layout": "IPY_MODEL_470c4e5af6cd452386cc1e10a7559d6c",
            "max": 483,
            "min": 0,
            "orientation": "horizontal",
            "style": "IPY_MODEL_47f608990d424c719e24d5d0c20fcc08",
            "value": 483
          }
        },
        "99d32e8ba3624820a6603986256db204": {
          "model_module": "@jupyter-widgets/controls",
          "model_name": "HTMLModel",
          "model_module_version": "1.5.0",
          "state": {
            "_dom_classes": [],
            "_model_module": "@jupyter-widgets/controls",
            "_model_module_version": "1.5.0",
            "_model_name": "HTMLModel",
            "_view_count": null,
            "_view_module": "@jupyter-widgets/controls",
            "_view_module_version": "1.5.0",
            "_view_name": "HTMLView",
            "description": "",
            "description_tooltip": null,
            "layout": "IPY_MODEL_fd8c7fe5a1404959b50fb8e1b4f8da44",
            "placeholder": "​",
            "style": "IPY_MODEL_1c6094cb84f145b3a243af6fc41c3189",
            "value": " 483/483 [00:00&lt;00:00, 14.8kB/s]"
          }
        },
        "cf2330c6eca84a69ada37d38d7d3b746": {
          "model_module": "@jupyter-widgets/base",
          "model_name": "LayoutModel",
          "model_module_version": "1.2.0",
          "state": {
            "_model_module": "@jupyter-widgets/base",
            "_model_module_version": "1.2.0",
            "_model_name": "LayoutModel",
            "_view_count": null,
            "_view_module": "@jupyter-widgets/base",
            "_view_module_version": "1.2.0",
            "_view_name": "LayoutView",
            "align_content": null,
            "align_items": null,
            "align_self": null,
            "border": null,
            "bottom": null,
            "display": null,
            "flex": null,
            "flex_flow": null,
            "grid_area": null,
            "grid_auto_columns": null,
            "grid_auto_flow": null,
            "grid_auto_rows": null,
            "grid_column": null,
            "grid_gap": null,
            "grid_row": null,
            "grid_template_areas": null,
            "grid_template_columns": null,
            "grid_template_rows": null,
            "height": null,
            "justify_content": null,
            "justify_items": null,
            "left": null,
            "margin": null,
            "max_height": null,
            "max_width": null,
            "min_height": null,
            "min_width": null,
            "object_fit": null,
            "object_position": null,
            "order": null,
            "overflow": null,
            "overflow_x": null,
            "overflow_y": null,
            "padding": null,
            "right": null,
            "top": null,
            "visibility": null,
            "width": null
          }
        },
        "d0f87cdf03624f509dbe9b988d7668fb": {
          "model_module": "@jupyter-widgets/base",
          "model_name": "LayoutModel",
          "model_module_version": "1.2.0",
          "state": {
            "_model_module": "@jupyter-widgets/base",
            "_model_module_version": "1.2.0",
            "_model_name": "LayoutModel",
            "_view_count": null,
            "_view_module": "@jupyter-widgets/base",
            "_view_module_version": "1.2.0",
            "_view_name": "LayoutView",
            "align_content": null,
            "align_items": null,
            "align_self": null,
            "border": null,
            "bottom": null,
            "display": null,
            "flex": null,
            "flex_flow": null,
            "grid_area": null,
            "grid_auto_columns": null,
            "grid_auto_flow": null,
            "grid_auto_rows": null,
            "grid_column": null,
            "grid_gap": null,
            "grid_row": null,
            "grid_template_areas": null,
            "grid_template_columns": null,
            "grid_template_rows": null,
            "height": null,
            "justify_content": null,
            "justify_items": null,
            "left": null,
            "margin": null,
            "max_height": null,
            "max_width": null,
            "min_height": null,
            "min_width": null,
            "object_fit": null,
            "object_position": null,
            "order": null,
            "overflow": null,
            "overflow_x": null,
            "overflow_y": null,
            "padding": null,
            "right": null,
            "top": null,
            "visibility": null,
            "width": null
          }
        },
        "78368e00646c4bc4ac95353472503916": {
          "model_module": "@jupyter-widgets/controls",
          "model_name": "DescriptionStyleModel",
          "model_module_version": "1.5.0",
          "state": {
            "_model_module": "@jupyter-widgets/controls",
            "_model_module_version": "1.5.0",
            "_model_name": "DescriptionStyleModel",
            "_view_count": null,
            "_view_module": "@jupyter-widgets/base",
            "_view_module_version": "1.2.0",
            "_view_name": "StyleView",
            "description_width": ""
          }
        },
        "470c4e5af6cd452386cc1e10a7559d6c": {
          "model_module": "@jupyter-widgets/base",
          "model_name": "LayoutModel",
          "model_module_version": "1.2.0",
          "state": {
            "_model_module": "@jupyter-widgets/base",
            "_model_module_version": "1.2.0",
            "_model_name": "LayoutModel",
            "_view_count": null,
            "_view_module": "@jupyter-widgets/base",
            "_view_module_version": "1.2.0",
            "_view_name": "LayoutView",
            "align_content": null,
            "align_items": null,
            "align_self": null,
            "border": null,
            "bottom": null,
            "display": null,
            "flex": null,
            "flex_flow": null,
            "grid_area": null,
            "grid_auto_columns": null,
            "grid_auto_flow": null,
            "grid_auto_rows": null,
            "grid_column": null,
            "grid_gap": null,
            "grid_row": null,
            "grid_template_areas": null,
            "grid_template_columns": null,
            "grid_template_rows": null,
            "height": null,
            "justify_content": null,
            "justify_items": null,
            "left": null,
            "margin": null,
            "max_height": null,
            "max_width": null,
            "min_height": null,
            "min_width": null,
            "object_fit": null,
            "object_position": null,
            "order": null,
            "overflow": null,
            "overflow_x": null,
            "overflow_y": null,
            "padding": null,
            "right": null,
            "top": null,
            "visibility": null,
            "width": null
          }
        },
        "47f608990d424c719e24d5d0c20fcc08": {
          "model_module": "@jupyter-widgets/controls",
          "model_name": "ProgressStyleModel",
          "model_module_version": "1.5.0",
          "state": {
            "_model_module": "@jupyter-widgets/controls",
            "_model_module_version": "1.5.0",
            "_model_name": "ProgressStyleModel",
            "_view_count": null,
            "_view_module": "@jupyter-widgets/base",
            "_view_module_version": "1.2.0",
            "_view_name": "StyleView",
            "bar_color": null,
            "description_width": ""
          }
        },
        "fd8c7fe5a1404959b50fb8e1b4f8da44": {
          "model_module": "@jupyter-widgets/base",
          "model_name": "LayoutModel",
          "model_module_version": "1.2.0",
          "state": {
            "_model_module": "@jupyter-widgets/base",
            "_model_module_version": "1.2.0",
            "_model_name": "LayoutModel",
            "_view_count": null,
            "_view_module": "@jupyter-widgets/base",
            "_view_module_version": "1.2.0",
            "_view_name": "LayoutView",
            "align_content": null,
            "align_items": null,
            "align_self": null,
            "border": null,
            "bottom": null,
            "display": null,
            "flex": null,
            "flex_flow": null,
            "grid_area": null,
            "grid_auto_columns": null,
            "grid_auto_flow": null,
            "grid_auto_rows": null,
            "grid_column": null,
            "grid_gap": null,
            "grid_row": null,
            "grid_template_areas": null,
            "grid_template_columns": null,
            "grid_template_rows": null,
            "height": null,
            "justify_content": null,
            "justify_items": null,
            "left": null,
            "margin": null,
            "max_height": null,
            "max_width": null,
            "min_height": null,
            "min_width": null,
            "object_fit": null,
            "object_position": null,
            "order": null,
            "overflow": null,
            "overflow_x": null,
            "overflow_y": null,
            "padding": null,
            "right": null,
            "top": null,
            "visibility": null,
            "width": null
          }
        },
        "1c6094cb84f145b3a243af6fc41c3189": {
          "model_module": "@jupyter-widgets/controls",
          "model_name": "DescriptionStyleModel",
          "model_module_version": "1.5.0",
          "state": {
            "_model_module": "@jupyter-widgets/controls",
            "_model_module_version": "1.5.0",
            "_model_name": "DescriptionStyleModel",
            "_view_count": null,
            "_view_module": "@jupyter-widgets/base",
            "_view_module_version": "1.2.0",
            "_view_name": "StyleView",
            "description_width": ""
          }
        },
        "bd85a45b166f47ddb44e7968a4b72bb8": {
          "model_module": "@jupyter-widgets/controls",
          "model_name": "HBoxModel",
          "model_module_version": "1.5.0",
          "state": {
            "_dom_classes": [],
            "_model_module": "@jupyter-widgets/controls",
            "_model_module_version": "1.5.0",
            "_model_name": "HBoxModel",
            "_view_count": null,
            "_view_module": "@jupyter-widgets/controls",
            "_view_module_version": "1.5.0",
            "_view_name": "HBoxView",
            "box_style": "",
            "children": [
              "IPY_MODEL_55dcb885f1394ef890ede5d5b28725dc",
              "IPY_MODEL_60be815b649f4626b740200596536a4b",
              "IPY_MODEL_fa53b4dee70b45668133bfce2262e3dd"
            ],
            "layout": "IPY_MODEL_86d5fa81c5d749adb8f47a41673a68d0"
          }
        },
        "55dcb885f1394ef890ede5d5b28725dc": {
          "model_module": "@jupyter-widgets/controls",
          "model_name": "HTMLModel",
          "model_module_version": "1.5.0",
          "state": {
            "_dom_classes": [],
            "_model_module": "@jupyter-widgets/controls",
            "_model_module_version": "1.5.0",
            "_model_name": "HTMLModel",
            "_view_count": null,
            "_view_module": "@jupyter-widgets/controls",
            "_view_module_version": "1.5.0",
            "_view_name": "HTMLView",
            "description": "",
            "description_tooltip": null,
            "layout": "IPY_MODEL_c58a6cf0c6454c07b26eb050623958b3",
            "placeholder": "​",
            "style": "IPY_MODEL_0d9f9d9a3aa740fd92c50298be529022",
            "value": "Downloading: 100%"
          }
        },
        "60be815b649f4626b740200596536a4b": {
          "model_module": "@jupyter-widgets/controls",
          "model_name": "FloatProgressModel",
          "model_module_version": "1.5.0",
          "state": {
            "_dom_classes": [],
            "_model_module": "@jupyter-widgets/controls",
            "_model_module_version": "1.5.0",
            "_model_name": "FloatProgressModel",
            "_view_count": null,
            "_view_module": "@jupyter-widgets/controls",
            "_view_module_version": "1.5.0",
            "_view_name": "ProgressView",
            "bar_style": "success",
            "description": "",
            "description_tooltip": null,
            "layout": "IPY_MODEL_bf90197b47f24c328dcff7f086ebe288",
            "max": 267967963,
            "min": 0,
            "orientation": "horizontal",
            "style": "IPY_MODEL_64a39d0762ab41ceb842cd7dd69e2165",
            "value": 267967963
          }
        },
        "fa53b4dee70b45668133bfce2262e3dd": {
          "model_module": "@jupyter-widgets/controls",
          "model_name": "HTMLModel",
          "model_module_version": "1.5.0",
          "state": {
            "_dom_classes": [],
            "_model_module": "@jupyter-widgets/controls",
            "_model_module_version": "1.5.0",
            "_model_name": "HTMLModel",
            "_view_count": null,
            "_view_module": "@jupyter-widgets/controls",
            "_view_module_version": "1.5.0",
            "_view_name": "HTMLView",
            "description": "",
            "description_tooltip": null,
            "layout": "IPY_MODEL_31a5715ff5e84c479b58c11f6b6ecd06",
            "placeholder": "​",
            "style": "IPY_MODEL_d3c6323627874a619ec8f92e9590a55d",
            "value": " 268M/268M [00:04&lt;00:00, 58.3MB/s]"
          }
        },
        "86d5fa81c5d749adb8f47a41673a68d0": {
          "model_module": "@jupyter-widgets/base",
          "model_name": "LayoutModel",
          "model_module_version": "1.2.0",
          "state": {
            "_model_module": "@jupyter-widgets/base",
            "_model_module_version": "1.2.0",
            "_model_name": "LayoutModel",
            "_view_count": null,
            "_view_module": "@jupyter-widgets/base",
            "_view_module_version": "1.2.0",
            "_view_name": "LayoutView",
            "align_content": null,
            "align_items": null,
            "align_self": null,
            "border": null,
            "bottom": null,
            "display": null,
            "flex": null,
            "flex_flow": null,
            "grid_area": null,
            "grid_auto_columns": null,
            "grid_auto_flow": null,
            "grid_auto_rows": null,
            "grid_column": null,
            "grid_gap": null,
            "grid_row": null,
            "grid_template_areas": null,
            "grid_template_columns": null,
            "grid_template_rows": null,
            "height": null,
            "justify_content": null,
            "justify_items": null,
            "left": null,
            "margin": null,
            "max_height": null,
            "max_width": null,
            "min_height": null,
            "min_width": null,
            "object_fit": null,
            "object_position": null,
            "order": null,
            "overflow": null,
            "overflow_x": null,
            "overflow_y": null,
            "padding": null,
            "right": null,
            "top": null,
            "visibility": null,
            "width": null
          }
        },
        "c58a6cf0c6454c07b26eb050623958b3": {
          "model_module": "@jupyter-widgets/base",
          "model_name": "LayoutModel",
          "model_module_version": "1.2.0",
          "state": {
            "_model_module": "@jupyter-widgets/base",
            "_model_module_version": "1.2.0",
            "_model_name": "LayoutModel",
            "_view_count": null,
            "_view_module": "@jupyter-widgets/base",
            "_view_module_version": "1.2.0",
            "_view_name": "LayoutView",
            "align_content": null,
            "align_items": null,
            "align_self": null,
            "border": null,
            "bottom": null,
            "display": null,
            "flex": null,
            "flex_flow": null,
            "grid_area": null,
            "grid_auto_columns": null,
            "grid_auto_flow": null,
            "grid_auto_rows": null,
            "grid_column": null,
            "grid_gap": null,
            "grid_row": null,
            "grid_template_areas": null,
            "grid_template_columns": null,
            "grid_template_rows": null,
            "height": null,
            "justify_content": null,
            "justify_items": null,
            "left": null,
            "margin": null,
            "max_height": null,
            "max_width": null,
            "min_height": null,
            "min_width": null,
            "object_fit": null,
            "object_position": null,
            "order": null,
            "overflow": null,
            "overflow_x": null,
            "overflow_y": null,
            "padding": null,
            "right": null,
            "top": null,
            "visibility": null,
            "width": null
          }
        },
        "0d9f9d9a3aa740fd92c50298be529022": {
          "model_module": "@jupyter-widgets/controls",
          "model_name": "DescriptionStyleModel",
          "model_module_version": "1.5.0",
          "state": {
            "_model_module": "@jupyter-widgets/controls",
            "_model_module_version": "1.5.0",
            "_model_name": "DescriptionStyleModel",
            "_view_count": null,
            "_view_module": "@jupyter-widgets/base",
            "_view_module_version": "1.2.0",
            "_view_name": "StyleView",
            "description_width": ""
          }
        },
        "bf90197b47f24c328dcff7f086ebe288": {
          "model_module": "@jupyter-widgets/base",
          "model_name": "LayoutModel",
          "model_module_version": "1.2.0",
          "state": {
            "_model_module": "@jupyter-widgets/base",
            "_model_module_version": "1.2.0",
            "_model_name": "LayoutModel",
            "_view_count": null,
            "_view_module": "@jupyter-widgets/base",
            "_view_module_version": "1.2.0",
            "_view_name": "LayoutView",
            "align_content": null,
            "align_items": null,
            "align_self": null,
            "border": null,
            "bottom": null,
            "display": null,
            "flex": null,
            "flex_flow": null,
            "grid_area": null,
            "grid_auto_columns": null,
            "grid_auto_flow": null,
            "grid_auto_rows": null,
            "grid_column": null,
            "grid_gap": null,
            "grid_row": null,
            "grid_template_areas": null,
            "grid_template_columns": null,
            "grid_template_rows": null,
            "height": null,
            "justify_content": null,
            "justify_items": null,
            "left": null,
            "margin": null,
            "max_height": null,
            "max_width": null,
            "min_height": null,
            "min_width": null,
            "object_fit": null,
            "object_position": null,
            "order": null,
            "overflow": null,
            "overflow_x": null,
            "overflow_y": null,
            "padding": null,
            "right": null,
            "top": null,
            "visibility": null,
            "width": null
          }
        },
        "64a39d0762ab41ceb842cd7dd69e2165": {
          "model_module": "@jupyter-widgets/controls",
          "model_name": "ProgressStyleModel",
          "model_module_version": "1.5.0",
          "state": {
            "_model_module": "@jupyter-widgets/controls",
            "_model_module_version": "1.5.0",
            "_model_name": "ProgressStyleModel",
            "_view_count": null,
            "_view_module": "@jupyter-widgets/base",
            "_view_module_version": "1.2.0",
            "_view_name": "StyleView",
            "bar_color": null,
            "description_width": ""
          }
        },
        "31a5715ff5e84c479b58c11f6b6ecd06": {
          "model_module": "@jupyter-widgets/base",
          "model_name": "LayoutModel",
          "model_module_version": "1.2.0",
          "state": {
            "_model_module": "@jupyter-widgets/base",
            "_model_module_version": "1.2.0",
            "_model_name": "LayoutModel",
            "_view_count": null,
            "_view_module": "@jupyter-widgets/base",
            "_view_module_version": "1.2.0",
            "_view_name": "LayoutView",
            "align_content": null,
            "align_items": null,
            "align_self": null,
            "border": null,
            "bottom": null,
            "display": null,
            "flex": null,
            "flex_flow": null,
            "grid_area": null,
            "grid_auto_columns": null,
            "grid_auto_flow": null,
            "grid_auto_rows": null,
            "grid_column": null,
            "grid_gap": null,
            "grid_row": null,
            "grid_template_areas": null,
            "grid_template_columns": null,
            "grid_template_rows": null,
            "height": null,
            "justify_content": null,
            "justify_items": null,
            "left": null,
            "margin": null,
            "max_height": null,
            "max_width": null,
            "min_height": null,
            "min_width": null,
            "object_fit": null,
            "object_position": null,
            "order": null,
            "overflow": null,
            "overflow_x": null,
            "overflow_y": null,
            "padding": null,
            "right": null,
            "top": null,
            "visibility": null,
            "width": null
          }
        },
        "d3c6323627874a619ec8f92e9590a55d": {
          "model_module": "@jupyter-widgets/controls",
          "model_name": "DescriptionStyleModel",
          "model_module_version": "1.5.0",
          "state": {
            "_model_module": "@jupyter-widgets/controls",
            "_model_module_version": "1.5.0",
            "_model_name": "DescriptionStyleModel",
            "_view_count": null,
            "_view_module": "@jupyter-widgets/base",
            "_view_module_version": "1.2.0",
            "_view_name": "StyleView",
            "description_width": ""
          }
        }
      }
    }
  },
  "nbformat": 4,
  "nbformat_minor": 0
}